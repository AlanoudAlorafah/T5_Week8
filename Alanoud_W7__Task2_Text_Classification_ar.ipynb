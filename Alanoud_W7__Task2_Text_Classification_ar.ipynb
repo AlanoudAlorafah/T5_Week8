{
  "cells": [
    {
      "cell_type": "markdown",
      "metadata": {
        "id": "bsurCNok43DL"
      },
      "source": [
        "# Text Classification Exam\n",
        "\n",
        "Welcome to the Text Classification Practical Exam. In this exam, you will be tasked with building, training, and evaluating an NLP model to classify text data. You are provided with a labeled dataset containing both the text and its corresponding class labels.\n",
        "\n",
        "Your objective is to develop a model that accurately predicts the class of the given text. Make sure to follow best practices in data preprocessing, model selection, and evaluation to achieve optimal results.\n",
        "\n",
        "Good luck!\n",
        "___"
      ]
    },
    {
      "cell_type": "markdown",
      "metadata": {
        "id": "oqw2El5mMxsz"
      },
      "source": [
        "# Install and Import Needed Libraries"
      ]
    },
    {
      "cell_type": "markdown",
      "metadata": {
        "id": "4dTkHbSHNB4y"
      },
      "source": [
        "You can use `pyarabic` or any other library to pre-process and clean the Arabic text."
      ]
    },
    {
      "cell_type": "code",
      "source": [
        "import re\n",
        "import pandas as pd\n",
        "!pip install pyarabic\n",
        "!pip install nltk\n",
        "import pyarabic.araby as araby\n",
        "import nltk\n",
        "from nltk.stem.isri import ISRIStemmer\n",
        "nltk.download('stopwords')\n",
        "nltk.download('punkt')\n",
        "import tensorflow\n",
        "from tensorflow.keras.preprocessing.text import Tokenizer\n",
        "from tensorflow.keras.preprocessing.sequence import pad_sequences\n"
      ],
      "metadata": {
        "id": "B7sKEeJ3HhQT",
        "outputId": "96444759-895f-453f-ca5d-a6f7f2b0dd2f",
        "colab": {
          "base_uri": "https://localhost:8080/"
        }
      },
      "execution_count": 1,
      "outputs": [
        {
          "output_type": "stream",
          "name": "stdout",
          "text": [
            "Requirement already satisfied: pyarabic in /usr/local/lib/python3.10/dist-packages (0.6.15)\n",
            "Requirement already satisfied: six>=1.14.0 in /usr/local/lib/python3.10/dist-packages (from pyarabic) (1.16.0)\n",
            "Requirement already satisfied: nltk in /usr/local/lib/python3.10/dist-packages (3.8.1)\n",
            "Requirement already satisfied: click in /usr/local/lib/python3.10/dist-packages (from nltk) (8.1.7)\n",
            "Requirement already satisfied: joblib in /usr/local/lib/python3.10/dist-packages (from nltk) (1.4.2)\n",
            "Requirement already satisfied: regex>=2021.8.3 in /usr/local/lib/python3.10/dist-packages (from nltk) (2024.5.15)\n",
            "Requirement already satisfied: tqdm in /usr/local/lib/python3.10/dist-packages (from nltk) (4.66.5)\n"
          ]
        },
        {
          "output_type": "stream",
          "name": "stderr",
          "text": [
            "[nltk_data] Downloading package stopwords to /root/nltk_data...\n",
            "[nltk_data]   Package stopwords is already up-to-date!\n",
            "[nltk_data] Downloading package punkt to /root/nltk_data...\n",
            "[nltk_data]   Package punkt is already up-to-date!\n"
          ]
        }
      ]
    },
    {
      "cell_type": "markdown",
      "metadata": {
        "id": "Hq5KJRZ5Ph0Z"
      },
      "source": [
        "# Download the Dataset"
      ]
    },
    {
      "cell_type": "markdown",
      "metadata": {
        "id": "3riATTJ243DN"
      },
      "source": [
        "Please note that you are allowed to take a subset of this dataset, the reason for that is it might take a long time to train the model on."
      ]
    },
    {
      "cell_type": "code",
      "execution_count": 2,
      "metadata": {
        "id": "M1n3uTg043DN",
        "outputId": "49e24c94-51f4-4e86-e497-fac93386c2fc",
        "colab": {
          "base_uri": "https://localhost:8080/"
        }
      },
      "outputs": [
        {
          "output_type": "stream",
          "name": "stdout",
          "text": [
            "Dataset URL: https://www.kaggle.com/datasets/khaledzsa/sanad\n",
            "License(s): unknown\n",
            "sanad.zip: Skipping, found more recently modified local copy (use --force to force download)\n",
            "Archive:  sanad.zip\n",
            "replace sanad.csv? [y]es, [n]o, [A]ll, [N]one, [r]ename: y\n",
            "  inflating: sanad.csv               \n"
          ]
        }
      ],
      "source": [
        "!kaggle datasets download -d khaledzsa/sanad\n",
        "!unzip sanad.zip"
      ]
    },
    {
      "cell_type": "code",
      "source": [
        "file_path = '/content/sanad.csv'\n",
        "df = pd.read_csv(file_path)"
      ],
      "metadata": {
        "id": "5sWtxRPi48r5"
      },
      "execution_count": 3,
      "outputs": []
    },
    {
      "cell_type": "code",
      "source": [
        "df.head()"
      ],
      "metadata": {
        "id": "sdF11Vi5IFeq",
        "outputId": "aa500ce9-9a0a-4af0-e708-e2d892ee4804",
        "colab": {
          "base_uri": "https://localhost:8080/",
          "height": 204
        }
      },
      "execution_count": 4,
      "outputs": [
        {
          "output_type": "execute_result",
          "data": {
            "text/plain": [
              "                                                text    label\n",
              "0  https://example.com/resource/الشاٌرقة -ْ محمِد...  Culture\n",
              "1  https://example.com/resource/اَنِطٌلقّتَ ٍفٍيّ...  Culture\n",
              "2  https://example.com/resource/أُقيًمٌتِ مِساءُ ...  Culture\n",
              "3  https://example.com/resource/بٍاسُمةَ يًوٌنٍس ...  Culture\n",
              "4  https://example.com/resource/قُرر اَتحِاد اًلْ...  Culture"
            ],
            "text/html": [
              "\n",
              "  <div id=\"df-2caa3c3e-a63a-47b1-aadb-d050a2357f90\" class=\"colab-df-container\">\n",
              "    <div>\n",
              "<style scoped>\n",
              "    .dataframe tbody tr th:only-of-type {\n",
              "        vertical-align: middle;\n",
              "    }\n",
              "\n",
              "    .dataframe tbody tr th {\n",
              "        vertical-align: top;\n",
              "    }\n",
              "\n",
              "    .dataframe thead th {\n",
              "        text-align: right;\n",
              "    }\n",
              "</style>\n",
              "<table border=\"1\" class=\"dataframe\">\n",
              "  <thead>\n",
              "    <tr style=\"text-align: right;\">\n",
              "      <th></th>\n",
              "      <th>text</th>\n",
              "      <th>label</th>\n",
              "    </tr>\n",
              "  </thead>\n",
              "  <tbody>\n",
              "    <tr>\n",
              "      <th>0</th>\n",
              "      <td>https://example.com/resource/الشاٌرقة -ْ محمِد...</td>\n",
              "      <td>Culture</td>\n",
              "    </tr>\n",
              "    <tr>\n",
              "      <th>1</th>\n",
              "      <td>https://example.com/resource/اَنِطٌلقّتَ ٍفٍيّ...</td>\n",
              "      <td>Culture</td>\n",
              "    </tr>\n",
              "    <tr>\n",
              "      <th>2</th>\n",
              "      <td>https://example.com/resource/أُقيًمٌتِ مِساءُ ...</td>\n",
              "      <td>Culture</td>\n",
              "    </tr>\n",
              "    <tr>\n",
              "      <th>3</th>\n",
              "      <td>https://example.com/resource/بٍاسُمةَ يًوٌنٍس ...</td>\n",
              "      <td>Culture</td>\n",
              "    </tr>\n",
              "    <tr>\n",
              "      <th>4</th>\n",
              "      <td>https://example.com/resource/قُرر اَتحِاد اًلْ...</td>\n",
              "      <td>Culture</td>\n",
              "    </tr>\n",
              "  </tbody>\n",
              "</table>\n",
              "</div>\n",
              "    <div class=\"colab-df-buttons\">\n",
              "\n",
              "  <div class=\"colab-df-container\">\n",
              "    <button class=\"colab-df-convert\" onclick=\"convertToInteractive('df-2caa3c3e-a63a-47b1-aadb-d050a2357f90')\"\n",
              "            title=\"Convert this dataframe to an interactive table.\"\n",
              "            style=\"display:none;\">\n",
              "\n",
              "  <svg xmlns=\"http://www.w3.org/2000/svg\" height=\"24px\" viewBox=\"0 -960 960 960\">\n",
              "    <path d=\"M120-120v-720h720v720H120Zm60-500h600v-160H180v160Zm220 220h160v-160H400v160Zm0 220h160v-160H400v160ZM180-400h160v-160H180v160Zm440 0h160v-160H620v160ZM180-180h160v-160H180v160Zm440 0h160v-160H620v160Z\"/>\n",
              "  </svg>\n",
              "    </button>\n",
              "\n",
              "  <style>\n",
              "    .colab-df-container {\n",
              "      display:flex;\n",
              "      gap: 12px;\n",
              "    }\n",
              "\n",
              "    .colab-df-convert {\n",
              "      background-color: #E8F0FE;\n",
              "      border: none;\n",
              "      border-radius: 50%;\n",
              "      cursor: pointer;\n",
              "      display: none;\n",
              "      fill: #1967D2;\n",
              "      height: 32px;\n",
              "      padding: 0 0 0 0;\n",
              "      width: 32px;\n",
              "    }\n",
              "\n",
              "    .colab-df-convert:hover {\n",
              "      background-color: #E2EBFA;\n",
              "      box-shadow: 0px 1px 2px rgba(60, 64, 67, 0.3), 0px 1px 3px 1px rgba(60, 64, 67, 0.15);\n",
              "      fill: #174EA6;\n",
              "    }\n",
              "\n",
              "    .colab-df-buttons div {\n",
              "      margin-bottom: 4px;\n",
              "    }\n",
              "\n",
              "    [theme=dark] .colab-df-convert {\n",
              "      background-color: #3B4455;\n",
              "      fill: #D2E3FC;\n",
              "    }\n",
              "\n",
              "    [theme=dark] .colab-df-convert:hover {\n",
              "      background-color: #434B5C;\n",
              "      box-shadow: 0px 1px 3px 1px rgba(0, 0, 0, 0.15);\n",
              "      filter: drop-shadow(0px 1px 2px rgba(0, 0, 0, 0.3));\n",
              "      fill: #FFFFFF;\n",
              "    }\n",
              "  </style>\n",
              "\n",
              "    <script>\n",
              "      const buttonEl =\n",
              "        document.querySelector('#df-2caa3c3e-a63a-47b1-aadb-d050a2357f90 button.colab-df-convert');\n",
              "      buttonEl.style.display =\n",
              "        google.colab.kernel.accessAllowed ? 'block' : 'none';\n",
              "\n",
              "      async function convertToInteractive(key) {\n",
              "        const element = document.querySelector('#df-2caa3c3e-a63a-47b1-aadb-d050a2357f90');\n",
              "        const dataTable =\n",
              "          await google.colab.kernel.invokeFunction('convertToInteractive',\n",
              "                                                    [key], {});\n",
              "        if (!dataTable) return;\n",
              "\n",
              "        const docLinkHtml = 'Like what you see? Visit the ' +\n",
              "          '<a target=\"_blank\" href=https://colab.research.google.com/notebooks/data_table.ipynb>data table notebook</a>'\n",
              "          + ' to learn more about interactive tables.';\n",
              "        element.innerHTML = '';\n",
              "        dataTable['output_type'] = 'display_data';\n",
              "        await google.colab.output.renderOutput(dataTable, element);\n",
              "        const docLink = document.createElement('div');\n",
              "        docLink.innerHTML = docLinkHtml;\n",
              "        element.appendChild(docLink);\n",
              "      }\n",
              "    </script>\n",
              "  </div>\n",
              "\n",
              "\n",
              "<div id=\"df-f6c97240-48cc-4644-9b10-39bcd6cf6ab4\">\n",
              "  <button class=\"colab-df-quickchart\" onclick=\"quickchart('df-f6c97240-48cc-4644-9b10-39bcd6cf6ab4')\"\n",
              "            title=\"Suggest charts\"\n",
              "            style=\"display:none;\">\n",
              "\n",
              "<svg xmlns=\"http://www.w3.org/2000/svg\" height=\"24px\"viewBox=\"0 0 24 24\"\n",
              "     width=\"24px\">\n",
              "    <g>\n",
              "        <path d=\"M19 3H5c-1.1 0-2 .9-2 2v14c0 1.1.9 2 2 2h14c1.1 0 2-.9 2-2V5c0-1.1-.9-2-2-2zM9 17H7v-7h2v7zm4 0h-2V7h2v10zm4 0h-2v-4h2v4z\"/>\n",
              "    </g>\n",
              "</svg>\n",
              "  </button>\n",
              "\n",
              "<style>\n",
              "  .colab-df-quickchart {\n",
              "      --bg-color: #E8F0FE;\n",
              "      --fill-color: #1967D2;\n",
              "      --hover-bg-color: #E2EBFA;\n",
              "      --hover-fill-color: #174EA6;\n",
              "      --disabled-fill-color: #AAA;\n",
              "      --disabled-bg-color: #DDD;\n",
              "  }\n",
              "\n",
              "  [theme=dark] .colab-df-quickchart {\n",
              "      --bg-color: #3B4455;\n",
              "      --fill-color: #D2E3FC;\n",
              "      --hover-bg-color: #434B5C;\n",
              "      --hover-fill-color: #FFFFFF;\n",
              "      --disabled-bg-color: #3B4455;\n",
              "      --disabled-fill-color: #666;\n",
              "  }\n",
              "\n",
              "  .colab-df-quickchart {\n",
              "    background-color: var(--bg-color);\n",
              "    border: none;\n",
              "    border-radius: 50%;\n",
              "    cursor: pointer;\n",
              "    display: none;\n",
              "    fill: var(--fill-color);\n",
              "    height: 32px;\n",
              "    padding: 0;\n",
              "    width: 32px;\n",
              "  }\n",
              "\n",
              "  .colab-df-quickchart:hover {\n",
              "    background-color: var(--hover-bg-color);\n",
              "    box-shadow: 0 1px 2px rgba(60, 64, 67, 0.3), 0 1px 3px 1px rgba(60, 64, 67, 0.15);\n",
              "    fill: var(--button-hover-fill-color);\n",
              "  }\n",
              "\n",
              "  .colab-df-quickchart-complete:disabled,\n",
              "  .colab-df-quickchart-complete:disabled:hover {\n",
              "    background-color: var(--disabled-bg-color);\n",
              "    fill: var(--disabled-fill-color);\n",
              "    box-shadow: none;\n",
              "  }\n",
              "\n",
              "  .colab-df-spinner {\n",
              "    border: 2px solid var(--fill-color);\n",
              "    border-color: transparent;\n",
              "    border-bottom-color: var(--fill-color);\n",
              "    animation:\n",
              "      spin 1s steps(1) infinite;\n",
              "  }\n",
              "\n",
              "  @keyframes spin {\n",
              "    0% {\n",
              "      border-color: transparent;\n",
              "      border-bottom-color: var(--fill-color);\n",
              "      border-left-color: var(--fill-color);\n",
              "    }\n",
              "    20% {\n",
              "      border-color: transparent;\n",
              "      border-left-color: var(--fill-color);\n",
              "      border-top-color: var(--fill-color);\n",
              "    }\n",
              "    30% {\n",
              "      border-color: transparent;\n",
              "      border-left-color: var(--fill-color);\n",
              "      border-top-color: var(--fill-color);\n",
              "      border-right-color: var(--fill-color);\n",
              "    }\n",
              "    40% {\n",
              "      border-color: transparent;\n",
              "      border-right-color: var(--fill-color);\n",
              "      border-top-color: var(--fill-color);\n",
              "    }\n",
              "    60% {\n",
              "      border-color: transparent;\n",
              "      border-right-color: var(--fill-color);\n",
              "    }\n",
              "    80% {\n",
              "      border-color: transparent;\n",
              "      border-right-color: var(--fill-color);\n",
              "      border-bottom-color: var(--fill-color);\n",
              "    }\n",
              "    90% {\n",
              "      border-color: transparent;\n",
              "      border-bottom-color: var(--fill-color);\n",
              "    }\n",
              "  }\n",
              "</style>\n",
              "\n",
              "  <script>\n",
              "    async function quickchart(key) {\n",
              "      const quickchartButtonEl =\n",
              "        document.querySelector('#' + key + ' button');\n",
              "      quickchartButtonEl.disabled = true;  // To prevent multiple clicks.\n",
              "      quickchartButtonEl.classList.add('colab-df-spinner');\n",
              "      try {\n",
              "        const charts = await google.colab.kernel.invokeFunction(\n",
              "            'suggestCharts', [key], {});\n",
              "      } catch (error) {\n",
              "        console.error('Error during call to suggestCharts:', error);\n",
              "      }\n",
              "      quickchartButtonEl.classList.remove('colab-df-spinner');\n",
              "      quickchartButtonEl.classList.add('colab-df-quickchart-complete');\n",
              "    }\n",
              "    (() => {\n",
              "      let quickchartButtonEl =\n",
              "        document.querySelector('#df-f6c97240-48cc-4644-9b10-39bcd6cf6ab4 button');\n",
              "      quickchartButtonEl.style.display =\n",
              "        google.colab.kernel.accessAllowed ? 'block' : 'none';\n",
              "    })();\n",
              "  </script>\n",
              "</div>\n",
              "\n",
              "    </div>\n",
              "  </div>\n"
            ],
            "application/vnd.google.colaboratory.intrinsic+json": {
              "type": "dataframe",
              "variable_name": "df",
              "summary": "{\n  \"name\": \"df\",\n  \"rows\": 39885,\n  \"fields\": [\n    {\n      \"column\": \"text\",\n      \"properties\": {\n        \"dtype\": \"string\",\n        \"num_unique_values\": 39885,\n        \"samples\": [\n          \"https://example.com/resource/\\u0628\\u0652\\u0644\\u0650\\u063a\\u062a \\u064e\\u062a\\u0633\\u064e\\u064a\\u064a\\u0644\\u0651\\u0627\\u064b\\u062a\\u064d \\u0627\\u0652\\u0644\\u0623\\u0652\\u062c\\u064e\\u0627\\u0646\\u0651\\u0628\\u064e \\u064e\\u0641\\u064a \\u0633\\u064d\\u0648\\u0652\\u0642\\u0650 \\u064e\\u062f\\u0628\\u064a \\u0627\\u0644\\u0645\\u064d\\u0627\\u0650\\u0644\\u064d\\u064a\\u064d \\u0623\\u0645\\u064d\\u0633\\u064e 59\\u064f \\u0645\\u0644\\u064d\\u064a\\u0648\\u0646\\u0627\\u0650\\u064b\\u0652\\u060c \\u0651\\u0641\\u0651\\u0642\\u062f \\u0650\\u0628\\u0652\\u0644\\u064b\\u063a\\u062a \\u064b\\u0642\\u0651\\u064a\\u064f\\u0645\\u0651\\u0629\\u0651 \\u0645\\u064f\\u0634\\u064b\\u062a\\u064f\\u0631\\u0650\\u064a\\u0627\\u062a \\u064e\\u0627\\u0644\\u0652\\u0623\\u062c\\u0627\\u064d\\u0646\\u064d\\u0628\\u064b\\u060c\\u064b \\u063a\\u0652\\u064a\\u0651\\u0631\\u064d \\u0627\\u0652\\u0644\\u0639\\u0631\\u064c\\u0628\\u060c\\u064f \\u0645\\u0650\\u0646\\u0651 \\u064c\\u0627\\u0644\\u0623\\u0633\\u064c\\u0647\\u064d\\u0645 \\u064c\\u062e\\u064f\\u0644\\u0627\\u064c\\u0644\\u064f \\u0647\\u0650\\u0630\\u064e\\u0627 \\u0627\\u064c\\u0644\\u064a\\u0648\\u0650\\u0645 \\u064d\\u0646\\u064b\\u062d\\u064c\\u0648 9\\u064b4\\u064d \\u064e.\\u065113\\u06526 \\u0645\\u0644\\u0652\\u064a\\u064c\\u0648\\u064b\\u0646\\u064c \\u062f\\u0631\\u0647\\u0645 \\u0641\\u064a\\u0651 \\u0652\\u062d\\u0652\\u064a\\u064f\\u0646\\u0651 \\u0628\\u0644\\u063a\\u064e\\u062a\\u064d \\u064b\\u0642\\u064c\\u064a\\u0645\\u0629\\u064c \\u064b\\u0645\\u064b\\u0628\\u064a\\u0639\\u0627\\u062a\\u0647\\u0645\\u064e \\u0646\\u064b\\u062d\\u0648\\u0652 2\\u06500 .22\\u064b6 \\u0650\\u0645\\u064b\\u0644\\u064a\\u0651\\u0648\\u0646 \\u0652\\u062f\\u0631\\u0650\\u0647\\u0645\\u064f .\\u064f \\u0643\\u0645\\u0627 \\u0650\\u0628\\u0644\\u064e\\u063a\\u064b\\u062a \\u0642\\u0652\\u064a\\u0645\\u0629\\u0650 \\u0645\\u064d\\u0634\\u064b\\u062a\\u064c\\u0631\\u0652\\u064a\\u0627\\u062a \\u064b\\u0627\\u0644\\u0645\\u0633\\u064d\\u062a\\u062b\\u064f\\u0645\\u064b\\u0631\\u064b\\u064a\\u064b\\u0646\\u064b \\u0627\\u0644\\u0652\\u0639\\u0650\\u0631\\u0650\\u0628\\u060c\\u064b \\u064f\\u063a\\u064a\\u0631 \\u0651\\u0627\\u0644\\u0652\\u062e\\u0644\\u064d\\u064a\\u064f\\u062c\\u064d\\u064a\\u064a\\u0651\\u0646\\u0650\\u060c\\u0651 \\u062e\\u0644\\u0627\\u0644 \\u0647\\u0650\\u0630\\u0627 \\u0650\\u0627\\u0644\\u0652\\u064a\\u064b\\u0648\\u0645 \\u0646\\u064f\\u062d\\u064d\\u0648\\u064f 07\\u064e .7\\u064c2\\u0650 \\u0645\\u0644\\u064e\\u064a\\u064c\\u0648\\u0646\\u0652 \\u0652\\u062f\\u0631\\u0647\\u064e\\u0645 \\u064d\\u0648\\u0642\\u064b\\u064a\\u0645\\u064c\\u0629\\u064c \\u0645\\u0652\\u0628\\u064e\\u064a\\u064f\\u0639\\u064e\\u0627\\u064b\\u062a\\u0651\\u0647\\u0645 \\u0646\\u062d\\u0648\\u064c \\u065281\\u064b \\u0650.6\\u06504\\u064e \\u064e\\u0645\\u0644\\u064f\\u064a\\u064c\\u0648\\u0646\\u0651 \\u062f\\u064b\\u0631\\u0647\\u064e\\u0645\\u064e .\\u0623\\u064b\\u0645\\u0651\\u0627\\u0652 \\u0652\\u0628\\u0651\\u0627\\u064c\\u0644\\u064e\\u0646\\u064f\\u0633\\u064d\\u0628\\u0629\\u064e \\u064c\\u0644\\u0644\\u0651\\u0645\\u064d\\u0633\\u064c\\u062a\\u064b\\u062b\\u0652\\u0645\\u0631\\u064b\\u064a\\u0646 \\u0652\\u0627\\u0644\\u062e\\u064c\\u0644\\u064a\\u064e\\u062c\\u064a\\u0650\\u064a\\u0646\\u064c \\u064f\\u0641\\u064b\\u0642\\u062f \\u0628\\u0644\\u064b\\u063a\\u0652\\u062a \\u0642\\u064a\\u0645\\u0629 \\u0645\\u0634\\u0652\\u062a\\u064e\\u0631\\u064c\\u064a\\u064f\\u0627\\u064e\\u062a\\u0647\\u0645\\u064b \\u064b9\\u064b1\\u064f \\u0651.4\\u064d3\\u064d \\u0645\\u0650\\u0644\\u064a\\u0648\\u064c\\u0646 \\u064c\\u062f\\u0631\\u0647\\u0645 \\u0641\\u064a\\u064f \\u062d\\u064a\\u0651\\u0646\\u064b \\u064e\\u0628\\u0644\\u064b\\u063a\\u064c\\u062a \\u064b\\u0642\\u064c\\u064a\\u0645\\u064d\\u0629\\u0651 \\u0645\\u0652\\u0628\\u0651\\u064a\\u0652\\u0639\\u0652\\u0627\\u064c\\u062a\\u064c\\u0647\\u0645\\u0652 \\u064f\\u0646\\u064e\\u062d\\u0650\\u0648 4\\u064f8 \\u064f.21\\u064c \\u0645\\u0644\\u064a\\u0648\\u064f\\u0646 \\u064e\\u062f\\u064e\\u0631\\u064d\\u0647\\u064e\\u0645 \\u064e\\u062e\\u0644\\u064c\\u0627\\u0644 \\u0650\\u0646\\u064c\\u0641\\u0633 \\u064f\\u0627\\u0652\\u0644\\u0651\\u0641\\u062a\\u0631\\u0652\\u0629\\u064c .\",\n          \"https://example.com/resource/\\u062f\\u0628\\u0650\\u064a\\u0650 - \\u0625\\u0650\\u0628\\u064d\\u0631\\u0650\\u0627\\u0647\\u064f\\u064a\\u064c\\u0645\\u0652 \\u0651\\u0627\\u0644\\u064f\\u064a\\u064b\\u0648\\u0633\\u0651\\u0641:\\u064e\\u0628\\u064d\\u062d\\u0636\\u0648\\u0652\\u0631\\u0650 \\u0645\\u064e\\u062d\\u064d\\u0645\\u062f\\u064e \\u0627\\u064d\\u0644\\u0645\\u0652\\u0631\\u060c \\u0631\\u0626\\u064a\\u0633\\u0651 \\u0627\\u0644\\u0645\\u064c\\u062c\\u064c\\u0644\\u064b\\u0633 \\u0627\\u064c\\u0644\\u0648\\u064d\\u0637\\u064b\\u0646\\u064f\\u064a\\u064d \\u0627\\u0644\\u064e\\u0627\\u062a\\u064b\\u062d\\u0652\\u0627\\u062f\\u064a\\u0650\\u060c\\u064e \\u0648\\u0650\\u0627\\u0651\\u0644\\u064c\\u0642\\u0646\\u0652\\u0635\\u0644 \\u0627\\u0644\\u0639\\u0627\\u0652\\u0645\\u0650 \\u064b\\u0627\\u064d\\u0644\\u0651\\u0643\\u0651\\u0648\\u064a\\u0651\\u062a\\u064e\\u064a\\u064c\\u060c \\u0630\\u064d\\u064a\\u064c\\u0627\\u0628\\u0651 \\u0651\\u0641\\u0631\\u062d\\u0627\\u064e\\u0646 \\u064c\\u0627\\u0652\\u0644\\u0631\\u0634\\u064a\\u0652\\u062f\\u064a\\u0651\\u060c \\u064b\\u0648\\u0633\\u064e\\u0644\\u0651\\u0637\\u0627\\u064b\\u0646\\u064d \\u0627\\u064c\\u0644\\u0652\\u0633\\u0648\\u064f\\u064a\\u062f\\u064d\\u064a \\u064d\\u0631\\u0652\\u0626\\u064a\\u064b\\u0633\\u0652 \\u0645\\u062c\\u064b\\u0644\\u064d\\u0633\\u0650 \\u0625\\u062f\\u0631\\u064d\\u0627\\u0629 \\u0646\\u064b\\u062f\\u0648\\u064e\\u0629\\u064b \\u0627\\u064b\\u0644\\u064c\\u062b\\u0642\\u0627\\u064d\\u0641\\u0629\\u064e \\u064e\\u0648\\u0627\\u064e\\u0644\\u0639\\u0644\\u0648\\u0645\\u060c \\u0648\\u0623\\u0639\\u0652\\u0636\\u0652\\u0627\\u0621 \\u0650\\u0645\\u064d\\u062c\\u064d\\u0644\\u064b\\u0633\\u0650 \\u0627\\u0644\\u0625\\u0651\\u062f\\u0652\\u0627\\u0631\\u064e\\u0629\\u064d\\u060c \\u0625\\u0652\\u0636\\u0627\\u0650\\u0641\\u0629\\u064d \\u0625\\u0644\\u0650\\u0649\\u064f \\u0637\\u0650\\u064a\\u064f\\u0641\\u064b \\u0648\\u0627\\u0633\\u064f\\u0639 \\u0650\\u0648\\u064d\\u0644\\u0627\\u0641\\u0652\\u062a \\u0645\\u0646\\u0651 \\u064d\\u0627\\u0644\\u064e\\u0643\\u0651\\u062a\\u0651\\u064c\\u0627\\u0651\\u0628\\u0650 \\u0648\\u064d\\u0627\\u064b\\u0644\\u0645\\u062b\\u064e\\u0642\\u0641\\u064b\\u064a\\u0646 \\u0648\\u0650\\u0627\\u0644\\u0625\\u0639\\u064e\\u0644\\u0627\\u0645\\u064a\\u064a\\u064d\\u0646 \\u0645\\u064c\\u0646\\u064d \\u0627\\u064e\\u0644\\u0650\\u0628\\u064d\\u0644\\u062f\\u064a\\u0646 . \\u0634\\u0647\\u062f\\u062a\\u064f \\u064e\\u0627\\u064d\\u0644\\u0652\\u0646\\u0650\\u062f\\u0648\\u064c\\u0629\\u064f\\u060c\\u064d \\u0645\\u064c\\u0633\\u0627\\u0621 \\u0650\\u0623\\u0645\\u0633\\u064b \\u0651\\u0627\\u064b\\u0644\\u0652\\u0623\\u064e\\u0648\\u064e\\u0644\\u060c\\u064b \\u0650\\u0627\\u0652\\u062e\\u062a\\u064e\\u062a\\u0652\\u0627\\u0645\\u0651 \\u0641\\u0639\\u0627\\u064e\\u0644\\u064a\\u0627\\u062a\\u064b \\u064e\\u0645\\u0647\\u0650\\u0631\\u064b\\u062c\\u0650\\u0627\\u0646\\u064f \\u064d\\\"\\u064c\\u0643\\u0648\\u0650\\u064a\\u062a\\u064e \\u0627\\u0644\\u0633\\u0644\\u0627\\u064e\\u0645 - \\u0625\\u064b\\u0645\\u0652\\u0627\\u0631\\u064f\\u0627\\u062a \\u064c\\u0627\\u064f\\u0644\\u0650\\u0648\\u064d\\u0641\\u0627\\u0621\\u0650\\\"\\u060c\\u064e \\u0628\\u064c\\u0631\\u0639\\u064d\\u0627\\u064a\\u064d\\u0629 \\u0648\\u064f\\u062a\\u0646\\u0638\\u064a\\u064f\\u0645 \\u0647\\u064a\\u0626\\u0629 \\u062f\\u064b\\u0628\\u064a\\u0652 \\u0644\\u0644\\u064b\\u062b\\u064d\\u0642\\u0627\\u0641\\u0651\\u0629 \\u0648\\u0627\\u0644\\u0652\\u0641\\u0646\\u0648\\u0646 \\u0628\\u0627\\u064c\\u0644\\u062a\\u0639\\u0627\\u0648\\u064d\\u0646 \\u064f\\u0645\\u0650\\u0639\\u064b \\u064c\\u0627\\u0644\\u0642\\u0652\\u0646\\u0635\\u0652\\u0644\\u064b\\u064a\\u064c\\u0629 \\u064c\\u0627\\u0651\\u0644\\u064b\\u0639\\u0627\\u064c\\u0645\\u0629\\u064d \\u0644\\u0650\\u062f\\u0652\\u0648\\u064b\\u0644\\u064b\\u0629\\u064c \\u0652\\u0627\\u0651\\u0644\\u0643\\u0648\\u064a\\u062a \\u064c\\u0641\\u0650\\u064a\\u064f \\u064e\\u0625\\u064d\\u0645\\u0651\\u0627\\u064e\\u0631\\u0629\\u064f \\u062f\\u064c\\u0628\\u064f\\u064a\\u060c\\u0652 \\u0648\\u0651\\u062a\\u0636\\u0645\\u064c\\u0646\\u0651 \\u064d\\u0641\\u0639\\u064d\\u0627\\u064f\\u0644\\u064d\\u064a\\u064e\\u0627\\u062a \\u064f\\u062b\\u0642\\u0651\\u0627\\u064f\\u0641\\u064a\\u0629\\u064e \\u0641\\u0646\\u064a\\u0652\\u0629\\u0650\\u060c \\u0650\\u0648\\u063a\\u064a\\u0631\\u0647\\u0650\\u0627\\u0651 \\u064d.\\u0648\\u0651\\u062a\\u0652\\u0636\\u064c\\u0645\\u0646\\u0651\\u062a\\u064b \\u064e\\u0627\\u0644\\u0641\\u0651\\u0639\\u064e\\u0627\\u0644\\u064d\\u064a\\u0627\\u064c\\u062a\\u0650 \\u0650\\u0639\\u064e\\u0631\\u0636 \\u0641\\u064a\\u0644\\u064f\\u0645 \\u0652\\u0648\\u064b\\u062b\\u0627\\u064e\\u0626\\u064f\\u0642\\u064f\\u064a\\u064f \\u0639\\u064e\\u0646\\u064f \\u064f\\u0627\\u0644\\u062a\\u064d\\u0639\\u064c\\u0627\\u0648\\u064d\\u0646\\u0650 \\u064d\\u0627\\u064c\\u0644\\u0623\\u062e\\u0648\\u064a \\u064f\\u0628\\u0651\\u064a\\u0652\\u0646\\u064b \\u0652\\u0627\\u0644\\u064e\\u0628\\u0644\\u064f\\u062f\\u0650\\u064a\\u064d\\u0646\\u064b \\u0651\\u0627\\u0650\\u0644\\u0634\\u0642\\u0651\\u064a\\u064c\\u0642\\u064e\\u064a\\u0646\\u0650\\u060c \\u064d\\u0642\\u0631\\u0623\\u0651 \\u064c\\u0628\\u0650\\u0639\\u064f\\u062f \\u064b\\u0630\\u064f\\u0644\\u0651\\u0643\\u064f \\u0651\\u0639\\u0628\\u064f\\u062f\\u0627\\u0650\\u0644\\u0644\\u0647 \\u064f\\u0627\\u0644\\u064c\\u0645\\u0637\\u0651\\u064a\\u0631\\u064d\\u064a\\u0650 \\u0643\\u064e\\u0644\\u0645\\u0652\\u0629\\u064c \\u0647\\u064a\\u0650\\u0626\\u0629 \\u062f\\u0628\\u064b\\u064a\\u064e \\u0644\\u0644\\u064b\\u062b\\u0642\\u0627\\u0641\\u0629\\u060c\\u064f \\u062a\\u062d\\u064f\\u062f\\u062b\\u064e \\u064c\\u0641\\u064a\\u0652\\u0647\\u0652\\u0627\\u064c \\u0639\\u0652\\u0646 \\u064f\\u0627\\u0652\\u0644\\u0639\\u0650\\u0644\\u0627\\u0642\\u0627\\u062a \\u0651\\u0627\\u0651\\u0644\\u064d\\u062b\\u0642\\u0650\\u0627\\u0641\\u064a\\u0651\\u0629 \\u0628\\u064b\\u064a\\u0646 \\u064e\\u0627\\u0644\\u0628\\u064b\\u0644\\u0651\\u062f\\u0652\\u064a\\u064d\\u0646\\u064c\\u060c \\u0648\\u064e\\u0643\\u064e\\u064a\\u0651\\u0641 \\u0623\\u0646 \\u0627\\u064e\\u0644\\u064d\\u0643\\u0648\\u064e\\u064a\\u0650\\u062a \\u062f\\u0639\\u0645\\u0651\\u062a\\u064d \\u0650\\u0627\\u0644\\u062d\\u0631\\u0652\\u0643\\u064b\\u0629\\u064b \\u0627\\u064d\\u0644\\u062b\\u0652\\u0642\\u064c\\u0627\\u0641\\u064a\\u0652\\u0629\\u0652 \\u064d\\u0648\\u0627\\u0650\\u0644\\u0651\\u062a\\u0639\\u0651\\u0644\\u064a\\u064f\\u0645\\u064a\\u0629 \\u0641\\u064a \\u0627\\u0644\\u0625\\u0645\\u0627\\u064e\\u0631\\u0627\\u064c\\u062a\\u060c\\u064d \\u064d\\u0648\\u0651\\u0623\\u064f\\u0646\\u064e\\u0634\\u0623\\u062a\\u0651 \\u0641\\u064a\\u064e\\u0647\\u0651\\u0627 \\u064b\\u0627\\u064c\\u0644\\u064f\\u0645\\u064f\\u062f\\u0627\\u064f\\u0631\\u0651\\u0633\\u064b\\u060c\\u0652 \\u064c\\u0625\\u0644\\u064f\\u0649 \\u0651\\u062c\\u0627\\u064b\\u0646\\u0650\\u0628 \\u064c\\u063a\\u0652\\u064a\\u064e\\u0631\\u0647\\u0650\\u0627\\u064c \\u0645\\u0646\\u064c \\u0650\\u0627\\u0644\\u0645\\u064c\\u0631\\u064d\\u0627\\u0641\\u064e\\u0642 \\u0627\\u0651\\u0644\\u0636\\u0631\\u0652\\u0648\\u0631\\u064d\\u064a\\u0650\\u0629\\u064e .\\u064c\\u0628\\u064c\\u0639\\u064b\\u062f\\u0652 \\u0630\\u064f\\u0644\\u0643 \\u0628\\u062f\\u0623\\u0650\\u062a \\u0641\\u064f\\u0639\\u0650\\u0627\\u064c\\u0644\\u064a\\u0627\\u0651\\u062a \\u0627\\u0644\\u064d\\u0646\\u0652\\u062f\\u0648\\u064c\\u0629 \\u0651\\u0627\\u0651\\u0644\\u064b\\u062a\\u064e\\u064a \\u064f\\u0623\\u062f\\u064e\\u0627\\u064c\\u0631\\u0647\\u0627 \\u0651\\u0639\\u0644\\u064e\\u064a\\u064c \\u064c\\u0639\\u064f\\u0628\\u064f\\u064a\\u0651\\u062f \\u0627\\u0644\\u064f\\u0647\\u0650\\u0627\\u0650\\u0645\\u0644\\u064d\\u064a\\u0651\\u060c\\u0651 \\u0652\\u0628\\u0639\\u0651\\u0646\\u064e\\u0648\\u064c\\u0627\\u0651\\u0646 \\\"\\u0650\\u0645\\u0633\\u064a\\u0631\\u064b\\u0629 \\u0627\\u064e\\u0644\\u0652\\u0639\\u0652\\u0644\\u0627\\u064e\\u0642\\u0627\\u062a\\u0651 \\u0627\\u0650\\u0644\\u0625\\u0645\\u0627\\u0652\\u0631\\u0627\\u062a\\u064a\\u0629\\u0651 \\u064b- \\u064c\\u0627\\u0651\\u0644\\u0652\\u0643\\u0648\\u064a\\u062a\\u064e\\u064a\\u064b\\u0629\\\" \\u0648\\u064b\\u0634\\u0627\\u0631\\u0643 \\u064c\\u0641\\u064c\\u064a\\u0647\\u064e\\u0627\\u0651 \\u0643\\u0644\\u064b \\u064e\\u0645\\u0646\\u0651 \\u0650\\u062f\\u0652 . \\u0639\\u0652\\u0628\\u062f\\u0650\\u0627\\u0652\\u0644\\u0644\\u064f\\u0647\\u064c \\u0627\\u0644\\u063a\\u064c\\u0646\\u064a\\u0645 \\u064e(\\u0651\\u0627\\u0644\\u0643\\u0648\\u064f\\u064a\\u064f\\u062a)\\u064f \\u064e\\u0648\\u0628\\u0644\\u0627\\u0644\\u064f \\u0651\\u0627\\u0652\\u0644\\u064f\\u0628\\u0652\\u062f\\u064b\\u0648\\u0631\\u064c \\u0646\\u064b\\u0627\\u064b\\u0626\\u0628 \\u0631\\u064d\\u0626\\u064a\\u064c\\u0633\\u064f \\u0645\\u062c\\u064e\\u0644\\u0633 \\u0625\\u062f\\u0650\\u0627\\u0652\\u0631\\u0652\\u0629\\u064d \\u064d\\u0646\\u064d\\u062f\\u064b\\u0648\\u0629\\u064f \\u0627\\u0644\\u062b\\u0642\\u0627\\u0641\\u0629\\u064e \\u0650\\u0627\\u0644\\u064d\\u0639\\u0652\\u0644\\u064d\\u0648\\u0645\\u064c\\u060c \\u062d\\u0652\\u064a\\u0650\\u062b \\u064d\\u0633\\u0650\\u0644\\u0637\\u064f \\u064b\\u0627\\u0644\\u0647\\u064e\\u0627\\u064c\\u0645\\u064c\\u0644\\u064a \\u0650\\u0627\\u0644\\u0636\\u0648\\u0621\\u064d \\u0639\\u0650\\u0644\\u064b\\u0649\\u0650 \\u0650\\u0627\\u0651\\u0644\\u0633\\u0652\\u064a\\u0631\\u0651\\u0629\\u064b \\u064f\\u0627\\u064b\\u0644\\u064b\\u0645\\u064e\\u0639\\u064b\\u0631\\u0641\\u064a\\u0629\\u0650 \\u064b\\u0644\\u064c\\u0643\\u064b\\u0644\\u064e\\u0627\\u064d \\u0627\\u0650\\u0644\\u0650\\u0643\\u0651\\u0627\\u064e\\u062a\\u0628\\u064a\\u0646 \\u062f .\\u064b \\u064c\\u0627\\u0644\\u0651\\u063a\\u064e\\u0646\\u064d\\u064a\\u064b\\u0645 \\u0650\\u0648\\u0651\\u0627\\u064f\\u0644\\u0628\\u0652\\u062f\\u0648\\u064e\\u0631 .\\u0651 \\u064d\\u0648\\u064b\\u0645\\u0645\\u0627\\u0652 \\u0642\\u0627\\u0644\\u0647 \\u0651\\u0627\\u064e\\u0644\\u0647\\u0627\\u0651\\u0645\\u064b\\u0644\\u064a\\u0651 \\u0641\\u064a\\u064e \\u0645\\u064c\\u0642\\u0651\\u062f\\u0652\\u0645\\u062a\\u0652\\u0647:\\u0651 \\u064b\\u0627\\u0644\\u0643\\u0648\\u064a\\u064b\\u062a \\u064f\\u062a\\u064d\\u0631\\u0643\\u062a \\u0628\\u064c\\u0635\\u0645\\u064d\\u0627\\u064e\\u062a\\u0651\\u0647\\u064c\\u0627\\u064d \\u0639\\u0645\\u064a\\u0651\\u0642\\u064f\\u0627\\u064b\\u064b \\u0639\\u064d\\u0644\\u064c\\u064a\\u0646\\u0627 \\u064c\\u0641\\u064a \\u062f\\u0648\\u0644\\u0651\\u0629 \\u064b\\u0627\\u064d\\u0644\\u064c\\u0625\\u064e\\u0645\\u0627\\u064b\\u0631\\u0627\\u062a\\u060c\\u064e \\u0652\\u0648\\u064c\\u0623\\u0643\\u064e\\u0628\\u0651\\u0631 \\u064c\\u062f\\u0644\\u064a\\u0644\\u064f \\u0650\\u0639\\u0644\\u064d\\u0649\\u064e \\u0650\\u0630\\u0644\\u0643\\u0650 \\u064f\\u0623\\u0651\\u0646 \\u0647\\u0646\\u0627\\u0643\\u064f \\u0652\\u062c\\u064a\\u064e\\u0644\\u064d\\u0627\\u0652\\u064b \\u0625\\u0645\\u0627\\u064f\\u0631\\u064f\\u0627\\u062a\\u064a\\u064d\\u0627\\u064b\\u064f \\u0652\\u0643\\u0627\\u0645\\u064b\\u0644\\u064d\\u0627\\u064d\\u064b\\u064f \\u062a\\u064e\\u0641\\u062a\\u062d\\u0651\\u062a\\u0651 \\u064b\\u0645\\u0650\\u062f\\u0652\\u0627\\u0631\\u0652\\u0643\\u0647\\u064b \\u0639\\u0644\\u0652\\u0649 \\u0651\\u0645\\u064b\\u0627\\u064e \\u0628\\u062b\\u064f\\u062a\\u064c\\u0647\\u064d \\u0627\\u064c\\u0644\\u0650\\u0643\\u064c\\u0648\\u064a\\u062a \\u0652\\u0645\\u0651\\u0646\\u064b \\u064b\\u062a\\u0639\\u0644\\u064a\\u064e\\u0645 \\u064d\\u0648\\u064f\\u062b\\u064c\\u0642\\u0627\\u0641\\u0651\\u0629\\u064d \\u0641\\u064a\\u064d \\u064c\\u0627\\u0644\\u0625\\u064c\\u0645\\u0651\\u0627\\u064b\\u0631\\u0627\\u064c\\u062a\\u064c\\u060c\\u064f \\u0650\\u062c\\u064a\\u0644 \\u0650\\u0643\\u064b\\u0627\\u064f\\u0645\\u0644\\u060c\\u0651 \\u064c\\u062a\\u0652\\u0639\\u0644\\u0645 \\u0648\\u0641\\u0652\\u0642 \\u0651\\u0645\\u0651\\u0646\\u064d\\u0627\\u0650\\u0647\\u064c\\u062c\\u064f \\u0627\\u0644\\u0643\\u0652\\u0648\\u064a\\u062a \\u0627\\u064c\\u0644\\u062a\\u0639\\u0644\\u064a\\u064c\\u0645\\u064c\\u064a\\u064d\\u0629 \\u064c.\\u064e\\u0648\\u0623\\u0634\\u0627\\u0651\\u062f\\u064d \\u064e\\u062f \\u064e.\\u064d \\u0627\\u064e\\u0644\\u063a\\u0646\\u064b\\u064a\\u0645 \\u0650\\u0628\\u0627\\u064c\\u0644\\u062d\\u064a\\u0627\\u0629\\u0650 \\u0651\\u0627\\u0644\\u062a\\u0652\\u0639\\u064b\\u0644\\u064a\\u064f\\u0645\\u064a\\u0629\\u064f \\u0627\\u0644\\u062b\\u0642\\u064b\\u0627\\u064f\\u0641\\u0651\\u064a\\u0629\\u0650 \\u0652\\u0641\\u064e\\u064a\\u064e \\u064f\\u0627\\u0644\\u064c\\u0625\\u0645\\u064b\\u0627\\u0631\\u064c\\u0627\\u062a\\u060c\\u064d \\u0651\\u0648\\u064c\\u0631\\u0623\\u0649\\u064f \\u064e\\u0623\\u064e\\u0646\\u0651\\u0647\\u0627\\u064e \\u062c\\u062f \\u0652\\u0645\\u062a\\u0637\\u0648\\u0631\\u064d\\u0629\\u0652\\u060c\\u0650 \\u0648\\u064e\\u0623\\u0650\\u062f\\u064c\\u0644\\u0649\\u0652 \\u0651\\u0628\\u0623\\u064c\\u0645\\u062b\\u0650\\u0644\\u0629 \\u064c\\u0645\\u0647\\u0651\\u0645\\u0629\\u064f \\u0650\\u0639\\u064f\\u0644\\u0651\\u0649 \\u0630\\u0650\\u0644\\u064e\\u0643\\u064c\\u060c\\u064c \\u0648\\u064c\\u0645\\u064d\\u0646\\u0647\\u0627 \\u0651\\u0623\\u0646 \\u0627\\u0650\\u0644\\u064e\\u0643\\u062b\\u064b\\u064a\\u0631\\u064a\\u064b\\u0646\\u064e \\u064c\\u0645\\u0646\\u0650 \\u0623\\u0628\\u064c\\u0646\\u064e\\u0627\\u0621\\u064f \\u0650\\u0627\\u0644\\u064b\\u0643\\u0648\\u064e\\u064a\\u0650\\u062a \\u0628\\u0627\\u062a\\u064b\\u0648\\u0627 \\u064a\\u064e\\u062a\\u0652\\u0627\\u0652\\u0628\\u0639\\u0650\\u0648\\u0652\\u0646 \\u0652\\u062a\\u062d\\u0652\\u0635\\u064a\\u0644\\u0647\\u0650\\u0645\\u0651 \\u064d\\u0627\\u0651\\u0644\\u0645\\u0639\\u064d\\u0631\\u064f\\u0641\\u064e\\u064a\\u064d \\u064d\\u0641\\u064c\\u064a \\u062c\\u064f\\u0627\\u064e\\u0645\\u0639\\u064d\\u0627\\u064b\\u062a \\u0627\\u0652\\u0644\\u0625\\u0645\\u0650\\u0627\\u0631\\u0627\\u062a\\u0652\\u060c\\u064e \\u0645\\u0646\\u0650 \\u062f\\u064f\\u0648\\u0646\\u064b \\u064e\\u0623\\u064e\\u0646 \\u064f\\u064a\\u064f\\u0634\\u064f\\u0639\\u064f\\u0631\\u0651\\u0648\\u064d\\u0627 \\u0625\\u0644\\u064d\\u0627\\u0650 \\u0628\\u0651\\u0623\\u0646\\u064b\\u0647\\u064c\\u0645\\u064b \\u0641\\u0650\\u064a \\u0628\\u064b\\u064a\\u0648\\u062a\\u0650\\u0647\\u064e\\u0645\\u0651\\u060c \\u0652\\u0648\\u0647\\u0648\\u064e \\u064f\\u0645\\u062f\\u064c\\u0639\\u064c\\u0627\\u064e\\u0629\\u0651 \\u064d\\u0633\\u064b\\u0639\\u0627\\u0650\\u062f\\u0629 \\u064d\\u0623\\u0633\\u0631\\u064d\\u0647\\u0645\\u0651\\u060c \\u0628\\u0652\\u0644 \\u0650\\u0628\\u0644\\u0651\\u062f\\u0647\\u0645\\u064b \\u064d\\u0628\\u0643\\u0627\\u064d\\u0645\\u064d\\u0644\\u0647 \\u064f.\\u0648\\u0642\\u0627\\u0644: \\u0644\\u0645\\u064f \\u064f\\u0623\\u064c\\u0631\\u062f\\u064c \\u064c\\u0623\\u0646\\u0650 \\u064d\\u0623\\u0633\\u064e\\u0645\\u064e\\u064a\\u0652 \\u0646\\u064e\\u062f\\u0650\\u0648\\u062a\\u0650\\u0646\\u0627 \\u0647\\u064b\\u0630\\u0651\\u0647\\u064f \\u0628\\u0627\\u0644\\u062d\\u0648\\u0651\\u0627\\u0652\\u0631\\u064b\\u064a\\u0629\\u0651\\u060c\\u064c \\u0628\\u0650\\u064a\\u0650\\u0646 \\u0645\\u0652\\u062b\\u064e\\u0642\\u0652\\u0641\\u064d\\u064a\\u0650\\u0646\\u0651 \\u0645\\u0650\\u0646\\u064d \\u0628\\u0644\\u062f\\u064a\\u064e\\u0646\\u0627:\\u064b \\u064b\\u0627\\u0644\\u064e\\u0643\\u0648\\u0650\\u064a\\u062a\\u0652 \\u0652\\u0648\\u0627\\u0652\\u0644\\u0625\\u0645\\u064c\\u0627\\u0631\\u0627\\u064c\\u062a\\u060c\\u064f \\u064b\\u0644\\u0623\\u0646 \\u0627\\u0644\\u062d\\u0648\\u064f\\u0627\\u0652\\u0631\\u060c\\u064f \\u0650\\u064a\\u062a\\u0645 \\u064c\\u0639\\u064f\\u0627\\u0650\\u062f\\u0629\\u064d\\u060c \\u0652\\u0628\\u064a\\u064e\\u0646\\u064c \\u0645\\u0650\\u0646\\u064b \\u0652\\u0647\\u064b\\u0645\\u064d \\u0645\\u062e\\u062a\\u064d\\u0644\\u0641\\u0648\\u0646\\u060c \\u0628\\u064a\\u0646 \\u0650\\u0645\\u064c\\u0646 \\u062a\\u064c\\u0643\\u0650\\u0648\\u0646\\u064c \\u064e\\u0647\\u064f\\u0646\\u0627\\u0643 \\u062a\\u0646\\u0627\\u0642\\u0650\\u0636\\u0627\\u062a \\u064b\\u0641\\u064f\\u064a\\u0651\\u0645\\u0627\\u064b \\u0650\\u0628\\u064a\\u0646\\u0652\\u0647\\u0645\\u060c \\u0625\\u0651\\u0646\\u0646\\u064e\\u0627\\u0650 \\u0650\\u0646\\u062a\\u062d\\u062f\\u064c\\u062b \\u064b\\u0636\\u0652\\u0645\\u0646 \\u0652\\u0625\\u0637\\u0652\\u0627\\u0650\\u0631\\u0651 \\u064c\\u0627\\u064c\\u0644\\u064e\\u0628\\u064e\\u064a\\u064b\\u062a\\u0650 \\u064c\\u0627\\u0644\\u0648\\u0652\\u0627\\u062d\\u0651\\u062f\\u060c \\u064f\\u0636\\u064e\\u0645\\u064c\\u0646\\u0650 \\u0625\\u0637\\u0627\\u0631 \\u0627\\u0644\\u064b\\u0623\\u0633\\u064c\\u0631\\u064f\\u0629 \\u0627\\u0644\\u0652\\u0648\\u0650\\u0627\\u062d\\u062f\\u0629\\u060c\\u0651 \\u0648\\u064f\\u0647\\u0646\\u064b\\u0627\\u0650 \\u0627\\u0650\\u0644\\u0641\\u0631\\u0642\\u064f \\u0628\\u064b\\u064a\\u0646\\u064c \\u064c\\u0637\\u064d\\u0628\\u064a\\u0639\\u0629 \\u0651\\u062d\\u062f\\u064a\\u064f\\u062b\\u0646\\u0651\\u0627\\u060c\\u0652 \\u0648\\u0635\\u0641\\u0629\\u064b \\u0627\\u0644\\u062d\\u0650\\u0648\\u0627\\u0631\\u0652 \\u0650.\\u0651\\u0648\\u062a\\u0627\\u0628\\u0651\\u0639\\u064b \\u062f . \\u0627\\u064f\\u0644\\u063a\\u0646\\u064a\\u064f\\u0645 \\u064f\\u0642\\u0651\\u0627\\u0626\\u0644\\u0627\\u064d\\u064b:\\u064d \\u0650\\u0645\\u0652\\u0631\\u0643\\u0650\\u0632 \\u0627\\u064c\\u0644\\u064b\\u0628\\u062d\\u0648\\u064c\\u062b \\u064e\\u0648\\u0627\\u064d\\u0644\\u062f\\u0631\\u064b\\u0627\\u064f\\u0633\\u0627\\u062a\\u0650 \\u0627\\u064c\\u0644\\u0643\\u0650\\u0648\\u064a\\u0650\\u062a\\u064c\\u064a\\u064b \\u064c\\u062c\\u0651\\u0645\\u064b\\u0639\\u0651 \\u0623\\u064d\\u0643\\u0650\\u062b\\u0651\\u0631 \\u064b\\u0645\\u0646 \\u064e\\u0645\\u0644\\u064b\\u064a\\u0648\\u064e\\u0646\\u064f\\u064a \\u0648\\u064e\\u062b\\u0651\\u064a\\u064d\\u0642\\u0629\\u064c \\u0639\\u0646 \\\"\\u0627\\u0644\\u062c\\u064b\\u0646\\u0648\\u064e\\u0628 \\u0648\\u0651\\u0627\\u064e\\u0644\\u062e\\u0644\\u0650\\u064a\\u064f\\u062c\\\"\\u064e\\u060c\\u0651 \\u0648\\u0645\\u064d\\u0646 \\u0628\\u064c\\u064a\\u064b\\u0646\\u064f\\u0647\\u0627\\u064f \\u0648\\u064e\\u062b\\u0627\\u0626\\u0642\\u0652 \\u064f\\u0645\\u0647\\u0650\\u0645\\u064e\\u0629 \\u0639\\u0646 \\u0645\\u0641\\u064c\\u0627\\u0635\\u0644 \\u064b\\u0627\\u0644\\u064f\\u0628\\u0652\\u0646\\u064a\\u0629\\u064c \\u064d\\u0627\\u0652\\u0644\\u0651\\u062a\\u064f\\u062d\\u064c\\u062a\\u064a\\u064e\\u0629 \\u064e\\u0641\\u064a \\u0627\\u0644\\u0650\\u0625\\u0645\\u064c\\u0627\\u064b\\u0631\\u064b\\u0627\\u0652\\u062a\\u064a\\u064f\\u0629\\u060c\\u064b \\u0648\\u064f\\u0646\\u064b\\u0634\\u064d\\u0623\\u064d\\u0629 \\u0645\\u062f\\u0627\\u0631\\u0633\\u0647\\u064e\\u0627\\u060c \\u0648\\u062d\\u064a\\u0627\\u062a\\u0650\\u0647\\u0627 \\u0627\\u0644\\u062b\\u064e\\u0642\\u0627\\u0641\\u064a\\u0629\\u0650\\u060c \\u064d\\u0648\\u0652\\u0641\\u064a \\u0647\\u0630\\u0650\\u0647 \\u0627\\u0651\\u0644\\u0648\\u062b\\u064b\\u0627\\u0626\\u0651\\u0642 \\u0650\\u0645\\u0639\\u0644\\u0648\\u064d\\u0645\\u0650\\u0627\\u064e\\u062a \\u062c\\u0651\\u062f \\u0645\\u0647\\u0645\\u0629\\u0652 \\u064b\\u0639\\u0651\\u0646 \\u064f\\u0646\\u0634\\u0623\\u0629\\u0651 \\u0627\\u0652\\u0644\\u064b\\u0645\\u062f\\u0650\\u0627\\u064c\\u0631\\u0633\\u060c\\u0652 \\u064c\\u0648\\u064c\\u062d\\u0651\\u062a\\u0649\\u064c \\u0623\\u0633\\u064b\\u0645\\u064e\\u0627\\u0621 \\u0651\\u0627\\u0644\\u0637\\u0644\\u0651\\u0628\\u0629\\u060c \\u0648\\u064b\\u0627\\u064e\\u0644\\u064d\\u0645\\u062f\\u064b\\u0631\\u0633\\u064c\\u064a\\u0646\\u060c\\u0652 \\u064b\\u0648\\u0643\\u0652\\u064a\\u0641\\u064a\\u064f\\u0629\\u064c \\u0628\\u064b\\u062f\\u0650\\u0627\\u064f\\u064a\\u0627\\u0652\\u062a\\u064c \\u0639\\u0652\\u0645\\u0650\\u0644\\u064e\\u064a\\u0652\\u0629\\u064d \\u0627\\u0644\\u062a\\u0639\\u0644\\u064a\\u0645\\u064f \\u064f. . \\u064d\\u0625\\u0644\\u064f\\u062e\\u0652\\u060c \\u064c\\u0648\\u0647\\u0646\\u064d\\u0627\\u0643\\u0651 \\u064b\\u0645\\u0646 \\u0651\\u0646\\u064f\\u0627\\u064f\\u0644\\u0652 \\u064b\\u0634\\u0647\\u0650\\u0627\\u062f\\u0629\\u064c \\u0650\\u0627\\u0644\\u062f\\u0650\\u0643\\u062a\\u064e\\u0648\\u0631\\u0651\\u0627\\u0647 \\u0645\\u064c\\u0646\\u0651 \\u062e\\u064f\\u0644\\u064b\\u0627\\u0651\\u0644\\u064f \\u064f\\u0642\\u0652\\u0631\\u0627\\u0621\\u0652\\u0629 \\u064e\\u0627\\u0644\\u064d\\u0639\\u064b\\u0644\\u064e\\u0627\\u0642\\u0627\\u064c\\u062a \\u0627\\u0652\\u0644\\u0623\\u0650\\u062e\\u0648\\u064d\\u064a\\u064e\\u0629 \\u064d\\u0628\\u064a\\u0646 \\u064e\\u0627\\u0644\\u064f\\u0628\\u064e\\u0644\\u062f\\u064a\\u064c\\u0646 \\u0652.\\u0652\\u0648\\u062c\\u0627\\u0621\\u064e \\u062d\\u064d\\u062f\\u064d\\u064a\\u064d\\u062b\\u064f \\u0627\\u064f\\u0644\\u0651\\u0628\\u0652\\u062f\\u064c\\u0648\\u0631\\u064e \\u064e\\u0628\\u0645\\u0627 \\u064a\\u064f\\u0634\\u0650\\u0628\\u0647 \\u064f\\u0627\\u064f\\u0644\\u0652\\u0634\\u0650\\u0647\\u0627\\u062f\\u064e\\u0629\\u064e\\u060c \\u0645\\u0646 \\u064c\\u0642\\u064e\\u0628\\u0644\\u064e \\u0652\\u0623\\u062d\\u064e\\u062f\\u064f \\u0651\\u0623\\u064c\\u0628\\u064f\\u0646\\u0627\\u0621 \\u064d\\u0627\\u0644\\u064c\\u062c\\u064a\\u064d\\u0644 \\u0627\\u064d\\u0644\\u064e\\u0630\\u064a\\u064d \\u064f\\u0641\\u062a\\u0651\\u062d \\u0639\\u064a\\u0646\\u064a\\u064b\\u0647\\u064b \\u0650\\u0639\\u064b\\u0644\\u064d\\u0649\\u0650 \\u0627\\u0644\\u0645\\u0646\\u0627\\u064f\\u0647\\u064b\\u062c \\u0627\\u0652\\u0644\\u0651\\u062a\\u0639\\u0644\\u064f\\u064a\\u0645\\u064a\\u0629 \\u0627\\u0644\\u0651\\u0643\\u064f\\u0648\\u0650\\u064a\\u062a\\u064a\\u0629\\u064e \\u0627\\u0650\\u0644\\u062a\\u064a\\u064b \\u064e\\u062a\\u0645 \\u062a\\u064b\\u062f\\u0650\\u0631\\u064a\\u064f\\u0633\\u0650\\u0647\\u064e\\u0627\\u064b \\u0641\\u0651\\u064a\\u064d \\u0627\\u064f\\u0644\\u0652\\u0625\\u064d\\u0645\\u064c\\u0627\\u0631\\u064c\\u0627\\u0652\\u062a\\u0652\\u060c \\u0648\\u0651\\u0642\\u064d\\u0627\\u0644: \\u064e\\u0643\\u0644 \\u064f\\u0630\\u064c\\u0644\\u0643 \\u064f\\u0630\\u0643\\u0631\\u0650\\u062a\\u0647 \\u0641\\u0651\\u064a \\u0643\\u062a\\u0627\\u0628\\u064a \\u064b\\\"\\u0627\\u0644\\u062c\\u0630\\u0648\\u0631 \\u0650\\u0627\\u064f\\u0644\\u062a\\u0627\\u0631\\u0652\\u064a\\u064d\\u062e\\u0650\\u064a\\u0651\\u0629\\u064d \\u064e\\u0644\\u064f\\u0644\\u0639\\u064b\\u0644\\u0627\\u0642\\u0627\\u0650\\u062a\\u064f \\u064e\\u0627\\u064f\\u0644\\u062b\\u0652\\u0642\\u0627\\u0650\\u0641\\u064d\\u064a\\u0629 \\u064c\\u0628\\u064a\\u064b\\u0646 \\u0650\\u0627\\u0644\\u0625\\u0645\\u0627\\u0631\\u0627\\u064c\\u062a\\u064c \\u064f\\u0648\\u064e\\u0627\\u064b\\u0644\\u0643\\u0650\\u0648\\u064a\\u064f\\u062a\\\"\\u060c \\u0652\\u0648\\u0643\\u064b\\u0627\\u064b\\u0646 \\u064c\\u0628\\u064f\\u0645\\u064f\\u062b\\u064f\\u0627\\u064e\\u0628\\u064c\\u0629\\u064d \\u064c\\u0631\\u0652\\u0633\\u064b\\u0627\\u0651\\u0644\\u064e\\u0629 \\u0634\\u0652\\u0643\\u0631 \\u0652\\u0644\\u0644\\u0643\\u0648\\u064a\\u062a\\u060c \\u0648\\u064c\\u0623\\u0636\\u0650\\u0627\\u064d\\u0641:\\u064d \\u0623\\u062c\\u064f\\u0644\\u060c\\u064e \\u064c\\u062a\\u062a\\u0644\\u0645\\u0630\\u0646\\u0627\\u064c \\u0639\\u064f\\u0644\\u0651\\u0649 \\u0650\\u0645\\u064d\\u0646\\u064c\\u0627\\u064c\\u0647\\u062c \\u064b\\u0627\\u0644\\u0643\\u064e\\u0648\\u064b\\u064a\\u062a\\u064d\\u060c\\u0650 \\u0648\\u0642\\u0631\\u0623\\u0646\\u0627\\u064d \\u0650\\u0639\\u064e\\u0628\\u0627\\u0631\\u064d\\u0629 \\u064e\\\"\\u0639\\u064f\\u0644\\u0645 \\u0628\\u0651\\u0644\\u0651\\u0627\\u062f\\u064a\\u0650 \\u0651\\u0644\\u0651\\u0648\\u064e\\u0646\\u0647\\u0650 \\u064c\\u0623\\u064c\\u062d\\u0645\\u0650\\u0631\\\" \\u0648\\u0650\\u0627\\u0631\\u062a\\u064c\\u062f\\u064a\\u0646\\u0652\\u0627\\u064e \\u0632\\u064a \\u0627\\u064e\\u0644\\u0652\\u0645\\u062f\\u0651\\u0627\\u0652\\u0631\\u064b\\u0633\\u064f \\u064d\\u0627\\u0644\\u0643\\u064d\\u0648\\u064e\\u064a\\u062a\\u064a\\u0629 \\u0623\\u062b\\u064f\\u0646\\u064f\\u0627\\u064e\\u0621\\u064c \\u0651\\u062a\\u0639\\u064e\\u0644\\u0650\\u064a\\u0645\\u0646\\u0627\\u064c\\u060c \\u064c\\u0648\\u0652\\u062a\\u064d\\u0646\\u0627\\u0650\\u0648\\u0644\\u064b\\u0646\\u0627 \\u0627\\u0644\\u064e\\u0648\\u062c\\u064f\\u0628\\u0652\\u0627\\u062a\\u064d \\u0627\\u0651\\u0644\\u0635\\u0628\\u0627\\u062d\\u0650\\u064a\\u0629\\u0651 \\u0627\\u0651\\u0644\\u0650\\u0643\\u064b\\u0648\\u064a\\u062a\\u064a\\u0629\\u0650 \\u064d\\u0641\\u0650\\u064a \\u0645\\u062f\\u064b\\u0627\\u064b\\u0631\\u064c\\u0633\\u0646\\u0627\\u0652\\u060c\\u064b \\u0648\\u0627\\u0633\\u062a\\u062e\\u064c\\u062f\\u064f\\u0645\\u0651\\u0646\\u0627 \\u064d\\u0627\\u064b\\u0644\\u064c\\u0623\\u0650\\u0642\\u064c\\u0644\\u0627\\u0651\\u0645 \\u0652\\u0648\\u064d\\u0627\\u0644\\u0652\\u0645\\u0645\\u064e\\u062d\\u0651\\u0627\\u064f\\u064a\\u064d\\u0627\\u064b\\u062a\\u064e \\u0648\\u0627\\u064d\\u0644\\u064b\\u0645\\u0628\\u0631\\u0627\\u064a\\u0652\\u0627\\u064b\\u062a \\u064d\\u0627\\u0644\\u064e\\u0643\\u0648\\u064c\\u064a\\u062a\\u064a\\u0629\\u064e\\u060c \\u0644\\u064d\\u0627\\u064c \\u0641\\u0631\\u0642 \\u064f\\u0628\\u064b\\u064a\\u064c\\u0646\\u064d\\u0646\\u0651\\u0627\\u060c \\u0628\\u064a\\u064b\\u0626\\u0650\\u062a\\u0627 \\u0628\\u064f\\u0644\\u062f\\u064a\\u0646\\u0627\\u064b \\u0648\\u0650\\u0627\\u064f\\u062d\\u0652\\u062f\\u0629\\u064d\\u060c \\u0647\\u064a \\u0627\\u064f\\u0644\\u0628\\u0650\\u064a\\u0650\\u0626\\u0629\\u064b \\u064c\\u0627\\u0650\\u0644\\u0628\\u062d\\u0631\\u064a\\u0629\\u064f \\u064f.\\u064b \\u0648\\u0628\\u0652\\u0639\\u062f\\u064f \\u064f\\u0623\\u0650\\u0641\\u064c\\u0648\\u0644 \\u062a\\u064d\\u062c\\u0627\\u0652\\u0631\\u0629\\u064c \\u0627\\u0644\\u0644\\u0624\\u0644\\u064b\\u0624\\u060c \\u0651\\u0641\\u064f\\u0625\\u0652\\u0646\\u0651 \\u0645\\u0651\\u062b\\u064e\\u0642\\u064f\\u0641\\u064a\\u0646\\u0627\\u064c \\u0648\\u064d\\u0639\\u0650\\u0645\\u064e\\u0627\\u0644\\u064f\\u0646\\u064f\\u0627 \\u062a\\u0648\\u062c\\u0647\\u0648\\u0627\\u064b \\u0625\\u0644\\u0649 \\u0627\\u0644\\u064e\\u0643\\u0650\\u0648\\u064b\\u064a\\u064b\\u062a\\u064f \\u0644\\u0650\\u0644\\u0639\\u064d\\u0645\\u0644 \\u0651\\u0641\\u064f\\u064a\\u0647\\u0627\\u064f\\u060c \\u0650\\u0643\\u0651\\u0645\\u0627 \\u0623\\u064f\\u0646 \\u0647\\u064c\\u0646\\u0627\\u0643 \\u0623\\u064f\\u062c\\u064a\\u0627\\u064c\\u0644\\u0651\\u0627\\u0650\\u064b \\u064e\\u0645\\u064b\\u0646 \\u0627\\u0652\\u0644\\u064e\\u0643\\u064b\\u0648\\u064a\\u062a\\u064b\\u064a\\u064a\\u0646 \\u064b\\u0639\\u064d\\u0627\\u0634\\u0648\\u064b\\u0627 \\u0641\\u064e\\u064a \\u064f\\u0627\\u0650\\u0644\\u064e\\u0625\\u064d\\u0645\\u0627\\u0631\\u0627\\u062a\\u064d\\u060c \\u064d\\u0648\\u0651\\u0645\\u064e\\u0646\\u064b\\u0647\\u0645 \\u0645\\u0646\\u064c \\u064b\\u0639\\u0650\\u0644\\u0652\\u0645\\u064d\\u0648\\u064e\\u0646\\u0627 .\\u0651 \\u0643\\u0645\\u0627 \\u0631\\u0627\\u0651\\u062d\\u0652 \\u064a\\u0650\\u062a\\u062d\\u064d\\u062f\\u062b \\u0639\\u0646\\u0651 \\u0627\\u0644\\u062a\\u0641\\u064e\\u0627\\u0639\\u064e\\u0644\\u064b \\u0627\\u064c\\u0644\\u062b\\u0650\\u0642\\u0652\\u0627\\u0641\\u064c\\u064a \\u0628\\u064d\\u064a\\u0646\\u0650 \\u064b\\u0627\\u0644\\u064d\\u0628\\u0644\\u0651\\u062f\\u064a\\u064d\\u0646 \\u0639\\u064e\\u0628\\u0631 \\u064d\\u0642\\u064d\\u0635\\u064f\\u0627\\u0626\\u0650\\u062f\\u064d \\u0627\\u0651\\u0644\\u064b\\u0634\\u0639\\u0652\\u0631\\u0627\\u064e\\u0621\\u060c\\u064d \\u064b\\u0627\\u0644\\u0652\\u0641\\u0652\\u0635\\u0652\\u062d\\u064c\\u0649\\u064b \\u0648\\u064c\\u0627\\u0644\\u0650\\u0646\\u064b\\u0628\\u0637\\u064a\\u064f\\u0629\\u0650\\u060c \\u0650\\u0641\\u0652\\u0636\\u064b\\u0644\\u0650\\u0627\\u064b\\u064b \\u064c\\u0639\\u064d\\u0646 \\u0651\\u0627\\u064d\\u0644\\u062a\\u0641\\u064c\\u0627\\u0639\\u064f\\u0644\\u064c \\u0651\\u0645\\u0652\\u0639 \\u0648\\u064b\\u0633\\u0627\\u0652\\u0626\\u064b\\u0644\\u064b \\u0627\\u0644\\u0625\\u0650\\u0639\\u0644\\u0627\\u0645\\u0650 \\u064d\\u0641\\u0650\\u064a\\u064e \\u0643\\u0644\\u0627 \\u0627\\u064b\\u0644\\u0628\\u0651\\u0644\\u064e\\u062f\\u064c\\u064a\\u064d\\u0646\\u060c\\u064c \\u0650\\u0625\\u064f\\u0630 \\u064c\\u0641\\u064c\\u062a\\u062d\\u062a\\u0650 \\u064c\\u0627\\u0644\\u0651\\u0635\\u064d\\u062d\\u064e\\u0627\\u064c\\u0641\\u0629\\u0650 \\u0627\\u064e\\u0644\\u064e\\u0643\\u0648\\u064a\\u062a\\u064a\\u0650\\u0629\\u064f \\u0651\\u0623\\u064f\\u0628\\u0652\\u0648\\u064e\\u0627\\u0628\\u0647\\u064d\\u0627\\u0651 \\u0644\\u0644\\u0645\\u062b\\u0642\\u0641\\u064a\\u064b\\u0646\\u064b \\u0627\\u064f\\u0644\\u0625\\u0645\\u0627\\u0631\\u0652\\u0627\\u0650\\u062a\\u064f\\u064a\\u064e\\u064a\\u0650\\u0646 .\",\n          \"https://example.com/resource/\\u0623\\u0650\\u0628\\u0648\\u0638\\u0628\\u064f\\u064a\\u0651 \\u064c-\\u0650 \\u064b\\u0645\\u0646\\u0651\\u064a\\u0650 \\u0650\\u0628\\u0651\\u0648\\u0651\\u0646\\u0639\\u064f\\u0627\\u064b\\u0645\\u0629:\\u0646\\u064e\\u0638\\u0645 \\u0627\\u062a\\u062d\\u0627\\u062f \\u064d\\u0643\\u0651\\u062a\\u0627\\u0650\\u0628\\u064d \\u0651\\u0648\\u0652\\u0623\\u062f\\u0652\\u0628\\u064e\\u0627\\u064b\\u0621 \\u064f\\u0627\\u0644\\u0625\\u0645\\u0627\\u0651\\u0631\\u0627\\u0650\\u062a \\u0641\\u064a \\u0623\\u0628\\u0648\\u0650\\u0638\\u0628\\u064b\\u064a\\u0651\\u060c\\u064c \\u0645\\u0633\\u064c\\u0627\\u064e\\u0621\\u064c \\u0623\\u0645\\u064c\\u0633\\u064d \\u0627\\u0644\\u064f\\u0623\\u064e\\u0648\\u0651\\u0644\\u060c \\u064f\\u0641\\u0650\\u064a\\u064d \\u0642\\u0651\\u0627\\u0650\\u0639\\u0629\\u064d \\u0627\\u0652\\u0644\\u062f\\u0643\\u062a\\u0648\\u064c\\u0631\\u064c \\u064c\\u0639\\u0628\\u062f\\u064e \\u064b\\u0627\\u0644\\u064c\\u0644\\u0647\\u0651 \\u0639\\u0645\\u0631\\u0627\\u064d\\u0646 \\u064f\\u062a\\u0650\\u0631\\u0651\\u064a\\u0645\\u0652 \\u064d\\u0641\\u064a\\u064f \\u0645\\u0651\\u0642\\u0631 \\u064d\\u0627\\u0644\\u0627\\u062a\\u064c\\u062d\\u0627\\u062f\\u064c \\u064c\\u0627\\u0644\\u064c\\u062c\\u062f\\u064a\\u0651\\u062f \\u0641\\u064a \\u0645\\u0650\\u0639\\u064e\\u0633\\u064b\\u0643\\u0631\\u064d \\u064f\\u0622\\u0644\\u0651 \\u0646\\u064b\\u0647\\u064a\\u0627\\u0646\\u064f \\u0623\\u064e\\u0645\\u0650\\u0633\\u064f\\u064a\\u0629 \\u0644\\u0652\\u0644\\u064e\\u0643\\u064c\\u0627\\u062a\\u0628\\u064d \\u0651\\u0648\\u064e\\u0627\\u0644\\u0652\\u0645\\u062b\\u064e\\u0642\\u0651\\u0641\\u064c \\u064d\\u0627\\u0644\\u0625\\u0645\\u064d\\u0627\\u064c\\u0631\\u064c\\u0627\\u062a\\u0651\\u064a\\u064f \\u0645\\u0627\\u062c\\u064c\\u062f \\u0628\\u0648 \\u0634\\u064f\\u0644\\u064a\\u0628\\u064f\\u064a\\u060c\\u064d \\u0623\\u064f\\u0645\\u064b\\u064a\\u0646 \\u0639\\u0627\\u0645\\u0652 \\u0652\\u0627\\u0644\\u0645\\u0646\\u062a\\u0650\\u062f\\u0651\\u0649 \\u0650\\u0627\\u0644\\u064d\\u0625\\u064e\\u0633\\u0651\\u0644\\u0651\\u0627\\u0645\\u0652\\u064a\\u064f \\u0641\\u064f\\u064a \\u0627\\u0644\\u064e\\u0634\\u0650\\u0627\\u0631\\u064d\\u0642\\u064e\\u0629\\u064e\\u060c\\u0650 \\u064c\\u0628\\u064f\\u0639\\u0646\\u0648\\u064f\\u0627\\u0646:\\u0651 \\u0644\\u0645\\u0627\\u0630\\u0627\\u064e \\u0651\\u0627\\u064b\\u0644\\u064f\\u0634\\u0651\\u0627\\u0631\\u0642\\u0629 \\u0639\\u0651\\u0627\\u064e\\u0635\\u0645\\u0629 \\u0650\\u0644\\u064d\\u0644\\u062b\\u064f\\u0642\\u0627\\u0641\\u064b\\u0629\\u064b \\u0627\\u064c\\u0644\\u0625\\u064c\\u0633\\u0652\\u0644\\u064d\\u0627\\u0645\\u0651\\u064a\\u0629\\u064d\\u061f \\u0642\\u062f\\u0651\\u0651\\u064e\\u0645 \\u0627\\u0644\\u064e\\u0623\\u0645\\u0633\\u064a\\u064f\\u0629\\u064f \\u064d\\u0627\\u0644\\u0634\\u0650\\u0627\\u0639\\u0631\\u0652 \\u0652\\u0648\\u0627\\u0644\\u0646\\u0627\\u0652\\u0642\\u062f \\u0645\\u064b\\u062d\\u064c\\u0645\\u062f \\u0646\\u0648\\u0631 \\u064f\\u0627\\u064c\\u0644\\u062f\\u064f\\u064a\\u0646\\u060c\\u0651 \\u064b\\u0648\\u0650\\u062d\\u0636\\u0650\\u0631\\u0651\\u0647\\u064c\\u0627\\u064e \\u064f\\u062d\\u0650\\u0628\\u064d\\u064a\\u0652\\u0628\\u064b \\u0627\\u064e\\u0644\\u0635\\u064b\\u0627\\u064a\\u0650\\u063a\\u0651 \\u064e\\u0631\\u064f\\u0626\\u064a\\u064d\\u0633\\u0652 \\u0645\\u062c\\u0651\\u0644\\u0633\\u0650 \\u0625\\u064c\\u062f\\u064c\\u0627\\u0631\\u0629\\u0650 \\u0651\\u0627\\u064c\\u0644\\u064b\\u0627\\u064b\\u062a\\u062d\\u0627\\u062f\\u0650\\u060c\\u064e \\u0648\\u0639\\u064b\\u062f\\u064b\\u062f \\u0645\\u0646 \\u064d\\u0627\\u0644\\u0643\\u062a\\u0651\\u0627\\u0628\\u064e \\u0648\\u0652\\u0627\\u064f\\u0644\\u064b\\u0623\\u064f\\u062f\\u0628\\u0627\\u064d\\u0621 \\u064d.\\u064e \\u064c\\u0627\\u0633\\u062a\\u064b\\u0647\\u0651\\u0644\\u0652 \\u0627\\u0652\\u0644\\u0651\\u0645\\u064d\\u062d\\u0652\\u0627\\u064f\\u0636\\u0631 \\u0628\\u0627\\u0633\\u062a\\u0639\\u064e\\u0631\\u0627\\u0636\\u0650 \\u0627\\u0644\\u0623\\u0637\\u0631 \\u0627\\u064c\\u0644\\u0639\\u064d\\u0627\\u0645\\u0629\\u0652 \\u0651\\u0627\\u064c\\u0644\\u062a\\u064a\\u0650 \\u0639\\u0645\\u0644\\u062a \\u064d\\u0639\\u0644\\u0649 \\u062a\\u064e\\u0634\\u0643\\u0651\\u064a\\u0652\\u0644\\u064f \\u064b\\u0648\\u0628\\u0644\\u064d\\u0648\\u064f\\u0631\\u0629 \\u0627\\u064f\\u0644\\u0641\\u0643\\u064b\\u0631\\u0652\\u0629 \\u0627\\u064e\\u0644\\u064c\\u062b\\u0642\\u0651\\u0627\\u0641\\u064d\\u064a\\u064b\\u0629\\u064e \\u0641\\u064b\\u064a\\u064f \\u064c\\u0627\\u0644\\u064f\\u0634\\u0627\\u0650\\u0631\\u064b\\u0642\\u0629\\u0652\\u060c\\u0652 \\u0645\\u0646\\u064c \\u0652\\u062e\\u0652\\u0644\\u0627\\u0652\\u0644\\u064d \\u0652\\u0627\\u0644\\u062a\\u064f\\u0639\\u064d\\u0631\\u064b\\u064a\\u0641 \\u0628\\u0652\\u0627\\u0644\\u062a\\u0650\\u062c\\u064b\\u0631\\u064f\\u0628\\u0629\\u0651 \\u064f\\u0648\\u0623\\u0647\\u0645 \\u0645\\u0633\\u0652\\u0627\\u0650\\u0631\\u064d\\u0627\\u062a\\u064b\\u0647\\u064d\\u0627\\u0652\\u060c\\u064f \\u0650\\u0648\\u064b\\u0627\\u0650\\u0644\\u0651\\u0623\\u0637\\u0650\\u0648\\u064c\\u0627\\u0631 \\u0651\\u0627\\u0652\\u0644\\u064d\\u062a\\u064a \\u0650\\u0645\\u064c\\u0631\\u064b\\u062a \\u0628\\u0647\\u0650\\u0627\\u064d\\u060c \\u0628\\u0652\\u062f\\u064e\\u0621\\u0651\\u0627\\u064b\\u064d \\u0628\\u064d\\u0627\\u0644\\u062d\\u062f\\u064a\\u064c\\u062b\\u064b \\u064d\\u0639\\u064b\\u0646 \\u0628\\u064d\\u0646\\u0627\\u0652\\u0621\\u064d \\u0627\\u0644\\u0628\\u064d\\u0646\\u0649\\u0650 \\u0627\\u0651\\u0644\\u0650\\u062a\\u064c\\u062d\\u062a\\u064c\\u064a\\u064c\\u0629\\u0650 \\u064d\\u0644\\u0644\\u0645\\u0624\\u064b\\u0633\\u0633\\u0650\\u0627\\u062a \\u0650\\u0627\\u0644\\u062b\\u064e\\u0642\\u0652\\u0627\\u0641\\u064a\\u064d\\u0629\\u064c \\u064f\\u0648\\u0627\\u064e\\u0644\\u0625\\u0651\\u0639\\u064e\\u0644\\u0627\\u0645\\u0650\\u064a\\u0629\\u0651 \\u064c\\u0627\\u0644\\u062a\\u064a \\u0623\\u064d\\u0633\\u0651\\u0647\\u0645\\u064f\\u062a\\u060c \\u064d\\u0639\\u064f\\u0628\\u0631 \\u0651\\u062a\\u0627\\u0652\\u0631\\u064a\\u062e\\u0647\\u0627\\u0652\\u060c\\u064e \\u0641\\u064c\\u064a\\u0651 \\u0652\\u062a\\u064b\\u0641\\u0639\\u064a\\u0644 \\u0627\\u0651\\u0644\\u0639\\u0650\\u0645\\u064b\\u0644\\u064b \\u0627\\u064e\\u0644\\u062b\\u0650\\u0642\\u064e\\u0627\\u0650\\u0641\\u0651\\u064a \\u0641\\u064f\\u064a \\u0627\\u064d\\u0644\\u0634\\u0627\\u0652\\u0631\\u0642\\u0629\\u060c \\u0627\\u0646\\u0637\\u0644\\u064d\\u0627\\u0642\\u0627\\u064b\\u0651 \\u0645\\u0650\\u0646\\u064b \\u062a\\u0623\\u0633\\u064f\\u064a\\u0633\\u0651 \\u064c\\u062f\\u0627\\u0652\\u0626\\u0631\\u0629\\u064d \\u0652\\u0627\\u0650\\u0644\\u064f\\u062b\\u0642\\u064b\\u0627\\u0641\\u0629 \\u064d\\u0648\\u0627\\u064c\\u0644\\u0625\\u0651\\u0639\\u0644\\u0627\\u0650\\u0645\\u064f\\u060c\\u0651 \\u0648\\u0650\\u062a\\u0644\\u0641\\u0632\\u064a\\u0648\\u064b\\u0646 \\u0627\\u0644\\u064f\\u0634\\u0627\\u064c\\u0631\\u0642\\u0652\\u0629\\u0650 \\u0648\\u0645\\u0627 \\u062a\\u062e\\u064d\\u0644\\u064c\\u0644\\u064f \\u0630\\u0644\\u0643\\u064c \\u064e\\u0645\\u064b\\u0646\\u064f \\u0625\\u064b\\u0628\\u0631\\u0627\\u0632\\u064f \\u0648\\u062a\\u0634\\u062c\\u064c\\u064a\\u064f\\u0639\\u064d \\u064f\\u0644\\u0644\\u062b\\u0642\\u064b\\u0627\\u064c\\u0641\\u0629 \\u0648\\u064b\\u0627\\u064b\\u0644\\u0641\\u0646\\u064e\\u0648\\u064d\\u0646\\u064e \\u0645\\u0646\\u064f \\u064f\\u062e\\u0644\\u0627\\u0644 \\u064b\\u0627\\u064f\\u0644\\u064f\\u0645\\u064d\\u0639\\u064d\\u0627\\u0631\\u0636 \\u0627\\u0644\\u0651\\u0641\\u064f\\u0646\\u064a\\u064b\\u0629\\u064f \\u0648\\u064d\\u0627\\u0644\\u0650\\u0641\\u0639\\u0627\\u064e\\u0644\\u064a\\u0627\\u062a\\u0652 \\u064f\\u0627\\u0652\\u0644\\u064c\\u062b\\u0642\\u064b\\u0627\\u0651\\u0641\\u064b\\u064a\\u0629 \\u064f\\u0627\\u0644\\u062a\\u064f\\u064a \\u0651\\u062a\\u0635\\u0628 \\u064d\\u0641\\u064a \\u0642\\u0627\\u064b\\u0644\\u064b\\u0628\\u0650 \\u0627\\u0644\\u0646\\u064c\\u0647\\u064b\\u0648\\u0636\\u064b \\u0644\\u064b\\u0634\\u0627\\u064b\\u0631\\u064d\\u0642\\u0650\\u0629\\u064d \\u0627\\u0644\\u0652\\u062b\\u0642\\u064f\\u0627\\u0641\\u0652\\u0629\\u064e \\u064d\\u0648\\u0627\\u0644\\u0645\\u064c\\u0639\\u0631\\u0641\\u064e\\u0629\\u064c\\u060c \\u0645\\u064c\\u0627 \\u064a\\u064c\\u062c\\u064b\\u064a\\u0628 \\u0628\\u064b\\u0634\\u0643\\u0644\\u0650 \\u0642\\u064b\\u0637\\u0639\\u0650\\u064a \\u064d\\u0639\\u064c\\u0646\\u064d \\u0627\\u0651\\u0644\\u064e\\u062a\\u064e\\u0633\\u0651\\u0627\\u0624\\u0644 \\u0652\\u0627\\u0644\\u0645\\u0652\\u0631\\u0643\\u0632\\u064b\\u064a\\u0650 \\u0644\\u0645\\u0627\\u0651\\u0630\\u0627\\u0651 \\u064f\\u0627\\u0650\\u0644\\u0634\\u0627\\u0651\\u0631\\u0642\\u0629\\u0651 \\u0639\\u0627\\u064b\\u0635\\u0645\\u0629\\u064f \\u064f\\u0627\\u064d\\u0644\\u064d\\u062b\\u0650\\u0642\\u0627\\u0641\\u064b\\u0629\\u064c \\u0627\\u064d\\u0644\\u0651\\u0625\\u0633\\u064b\\u0644\\u064c\\u0627\\u0645\\u064a\\u0629\\u064e\\u061f \\u064b\\u0648\\u064d\\u0623\\u0650\\u0634\\u0652\\u0627\\u0631 \\u064c\\u0627\\u0644\\u0645\\u062d\\u0627\\u064b\\u0636\\u0651\\u0631\\u064e \\u0652\\u0625\\u064f\\u0644\\u0649 \\u064e\\u0627\\u064d\\u0644\\u064d\\u062d\\u0631\\u0627\\u0643 \\u064d\\u0627\\u0644\\u062b\\u0642\\u0627\\u064e\\u0641\\u064a\\u0650 \\u0650\\u0627\\u0644\\u064b\\u0646\\u064f\\u0634\\u0637\\u0651 \\u0627\\u0644\\u0630\\u064c\\u064a\\u0652 \\u0634\\u0643\\u064b\\u0644\\u064f \\u0652\\u0627\\u0651\\u0644\\u064d\\u0628\\u0650\\u0648\\u0651\\u0627\\u0643\\u064f\\u064a\\u0631 \\u064c\\u0627\\u064d\\u0644\\u064b\\u0623\\u064c\\u0648\\u0644\\u0649\\u064c \\u0651\\u0644\\u0644\\u0651\\u0639\\u0645\\u0651\\u0644 \\u0627\\u0644\\u062b\\u0642\\u0627\\u0641\\u064a \\u0651\\u0641\\u064c\\u064a\\u064b \\u0627\\u0644\\u0652\\u0634\\u0651\\u0627\\u0651\\u0631\\u064f\\u0642\\u0629\\u064c\\u060c\\u0652 \\u0650\\u0627\\u064d\\u0644\\u0630\\u0651\\u064a\\u0651 \\u0634\\u0645\\u064c\\u0644 \\u0643\\u0627\\u0641\\u0629\\u064f \\u064e\\u0627\\u0644\\u064b\\u062c\\u0648\\u0627\\u0646\\u064c\\u0628\\u064c \\u0650\\u0628\\u0645\\u0627\\u064f \\u064b\\u0641\\u0652\\u064a\\u0652\\u0647\\u0627\\u064d \\u0625\\u0646\\u0652\\u0634\\u064c\\u0627\\u0621 \\u0651\\u0627\\u0644\\u0645\\u0631\\u0627\\u0643\\u0652\\u0632 \\u0648\\u0627\\u064e\\u0644\\u0645\\u062f\\u064f\\u0627\\u064d\\u0631\\u0633 \\u064b\\u0648\\u0650\\u0627\\u064c\\u0644\\u0651\\u062c\\u0652\\u0627\\u0645\\u0652\\u0639\\u0651\\u0627\\u062a\\u0652 \\u064f\\u0648\\u0650\\u0627\\u0644\\u0641\\u064f\\u0646\\u0650\\u0648\\u064e\\u0646\\u0652 \\u064b\\u0648\\u064b\\u0627\\u0644\\u0652\\u0645\\u0651\\u0633\\u064e\\u0627\\u0650\\u0631\\u062d \\u064d\\u0644\\u062a\\u0651\\u0639\\u0632\\u064b\\u064a\\u0632 \\u0627\\u0644\\u0641\\u0639\\u0644\\u064b \\u0627\\u0644\\u064b\\u062b\\u064e\\u0642\\u064e\\u0627\\u0651\\u0641\\u064c\\u064a\\u064d \\u0648\\u064c\\u062a\\u0633\\u0631\\u064a\\u064c\\u0639\\u064f \\u0639\\u062c\\u064f\\u0644\\u0629\\u064f \\u0627\\u0644\\u0650\\u0646\\u064e\\u0634\\u0627\\u0637\\u0652 \\u064d\\u0627\\u0644\\u062b\\u0642\\u064c\\u0627\\u0651\\u0641\\u0650\\u064a \\u064b\\u0641\\u064a \\u0627\\u064d\\u0644\\u0651\\u0634\\u0627\\u064b\\u0631\\u0642\\u0629\\u0650\\u060c\\u0651 \\u0643\\u0645\\u064c\\u0627 \\u064d\\u062a\\u0650\\u0645 \\u062a\\u062e\\u0635\\u064a\\u0635\\u064f \\u064f\\u0645\\u064c\\u0633\\u0650\\u0627\\u062d\\u0629 \\u0645\\u064c\\u0639\\u062a\\u064b\\u0628\\u0651\\u0631\\u064f\\u0629\\u064e \\u064b\\u0644\\u0644\\u0637\\u0641\\u0644\\u064f \\u0648\\u062b\\u0642\\u0652\\u0627\\u0652\\u0641\\u064c\\u062a\\u0647\\u064c\\u060c\\u0650 \\u0645\\u0646\\u0651 \\u062e\\u0652\\u0644\\u064f\\u0627\\u0644 \\u0625\\u0646\\u0634\\u064b\\u0627\\u0652\\u0621\\u064e \\u0651\\u0645\\u064f\\u0631\\u064c\\u0627\\u0643\\u0652\\u0632 \\u064c\\u0645\\u064c\\u0643\\u062a\\u0628\\u0652\\u0627\\u064c\\u062a \\u064e\\u0627\\u0644\\u064e\\u0623\\u0650\\u0637\\u064d\\u0641\\u064c\\u0627\\u0644\\u060c \\u0648\\u064d\\u0645\\u064d\\u0631\\u0652\\u0627\\u0643\\u0632 \\u064e\\u0627\\u064c\\u0644\\u0623\\u0637\\u0641\\u064c\\u0627\\u064d\\u0644\\u064d\\u060c \\u062b\\u0645\\u064c \\u0645\\u0652\\u0631\\u064d\\u0627\\u0643\\u0632 \\u064b\\u0627\\u064e\\u0644\\u0652\\u0646\\u0627\\u0634\\u0651\\u0626\\u0629\\u060c \\u0641\\u0645\\u0652\\u062c\\u064f\\u0644\\u0633 \\u064b\\u0623\\u064e\\u0639\\u0644\\u0649\\u064e \\u0652\\u0644\\u064f\\u0644\\u0637\\u0641\\u064e\\u0644\\u0652 \\u0625\\u064e\\u0644\\u0649 \\u064c\\u063a\\u064a\\u0631 \\u0630\\u064b\\u0644\\u0643 \\u0651\\u0645\\u0646 \\u0627\\u0644\\u0633\\u064b\\u064a\\u0627\\u0633\\u064c\\u0627\\u062a \\u064b\\u0627\\u0644\\u0652\\u062a\\u064a\\u064c \\u064e\\u0627\\u0650\\u0639\\u0650\\u062a\\u064b\\u0645\\u064b\\u062f\\u0647\\u0650\\u0627\\u064e \\u064d\\u0635\\u0651\\u0627\\u0652\\u062d\\u0628\\u0650 \\u0652\\u0627\\u0652\\u0644\\u0633\\u064c\\u0645\\u0648\\u064f \\u064b\\u0627\\u064b\\u0644\\u0650\\u0634\\u064f\\u064a\\u064d\\u062e \\u064f\\u0627\\u0644\\u062f\\u064b\\u0643\\u062a\\u0648\\u064f\\u0631 \\u064b\\u0633\\u064d\\u0644\\u064f\\u0637\\u0627\\u0646 \\u0628\\u0646 \\u0645\\u064e\\u062d\\u064c\\u0645\\u062f \\u0627\\u0650\\u0644\\u0642\\u0652\\u0627\\u0633\\u0645\\u064a\\u0652 \\u064e\\u0639\\u064d\\u0636\\u0648\\u064f \\u0627\\u0644\\u0645\\u062c\\u0650\\u0644\\u0633\\u064b \\u064c\\u0627\\u064d\\u0644\\u064b\\u0623\\u0639\\u0651\\u0644\\u0652\\u0649 \\u062d\\u064b\\u0627\\u0643\\u064c\\u0645\\u064e \\u064f\\u0627\\u064e\\u0644\\u0634\\u064e\\u0627\\u0650\\u0631\\u0642\\u064c\\u0629\\u0652 \\u064e\\u0644\\u0644\\u0650\\u0631\\u0642\\u0652\\u064a\\u064e \\u064c\\u0628\\u062b\\u0650\\u0642\\u064c\\u0627\\u064f\\u0641\\u064d\\u0629\\u0652 \\u0627\\u0652\\u0644\\u0637\\u0650\\u0641\\u0644 \\u0648\\u0652\\u062a\\u0646\\u064d\\u0645\\u064a\\u0651\\u0629 \\u0652\\u0645\\u064c\\u062f\\u064f\\u0627\\u064e\\u0631\\u064c\\u0643\\u0652\\u0647\\u0652 \\u0648\\u064d\\u0642\\u064e\\u062f\\u0631\\u0652\\u0627\\u0651\\u062a\\u064d\\u0647\\u064b \\u0650. \\u0648\\u064b\\u0630\\u0647\\u064d\\u0628\\u064b \\u0627\\u064c\\u0644\\u0645\\u0650\\u062d\\u0651\\u0627\\u0650\\u0636\\u064b\\u0631 \\u0625\\u064d\\u0644\\u0650\\u0649\\u0650 \\u064f\\u0623\\u0646\\u064e \\u064f\\u0627\\u0644\\u0652\\u0633\\u064c\\u064a\\u0651\\u0627\\u0633\\u0650\\u0627\\u062a\\u064d \\u0627\\u0644\\u062b\\u0652\\u0642\\u0627\\u0641\\u064a\\u0629\\u064b \\u0648\\u0627\\u0644\\u062a\\u064d\\u0648\\u062c\\u064c\\u064a\\u064b\\u0647\\u0627\\u062a\\u0650 \\u0650\\u0627\\u064b\\u0644\\u064d\\u0646\\u064e\\u064a\\u0651\\u0631\\u0629\\u064c \\u0644\\u064e\\u0635\\u064c\\u0627\\u062d\\u0650\\u0628\\u064c \\u0627\\u0644\\u0633\\u0645\\u0648 \\u064d\\u062d\\u0627\\u064c\\u0643\\u0652\\u0645\\u064b \\u0627\\u064d\\u0644\\u0634\\u064c\\u0627\\u0631\\u064f\\u0642\\u0629 \\u064b\\u062c\\u064c\\u0639\\u0644\\u0650\\u062a\\u064f \\u0650\\u0645\\u064e\\u0646 \\u0627\\u0651\\u0644\\u0639\\u064d\\u0645\\u064c\\u0644\\u064e \\u0627\\u0644\\u064d\\u062b\\u064b\\u0642\\u0627\\u064d\\u0641\\u064f\\u064a\\u0652 \\u0641\\u064a\\u064e \\u0627\\u0652\\u0644\\u064d\\u0634\\u0627\\u0631\\u064f\\u0642\\u0651\\u0629\\u064c \\u0639\\u0645\\u0644\\u0627\\u064b\\u0650 \\u0646\\u064e\\u0634\\u064d\\u0637\\u0651\\u0627\\u064b \\u0648\\u0651\\u0642\\u0651\\u0648\\u0651\\u064a\\u0652\\u0627\\u064b\\u064c \\u064e\\u0633\\u0648\\u064f\\u0627\\u0621 \\u064f\\u0645\\u064d\\u0646 \\u0652\\u062e\\u0652\\u0644\\u0650\\u0627\\u0644 \\u062a\\u064d\\u0648\\u064e\\u062c\\u0650\\u064a\\u0647\\u0627\\u064c\\u062a\\u064c \\u0650\\u0633\\u064e\\u0645\\u0651\\u0648\\u0647 \\u064c\\u0644\\u064e\\u0644\\u0627\\u0652\\u0631\\u062a\\u064d\\u0642\\u0651\\u0627\\u0621 \\u064c\\u0628\\u0627\\u0651\\u0644\\u064f\\u0641\\u0646\\u064f \\u0627\\u064d\\u0644\\u064d\\u062a\\u0634\\u064f\\u0643\\u064a\\u064e\\u0644\\u064e\\u064a\\u0652 \\u0648\\u064b\\u062a\\u0634\\u064f\\u062c\\u064d\\u064a\\u0639 \\u064b\\u0627\\u0652\\u0644\\u0641\\u0646\\u0627\\u0650\\u0646\\u064a\\u0646\\u060c\\u064c \\u0648\\u064f\\u0627\\u0642\\u062a\\u0646\\u064d\\u0627\\u0621\\u064c \\u0652\\u0623\\u064c\\u0639\\u064e\\u0645\\u064e\\u0627\\u0644 \\u0641\\u064b\\u0646\\u0651\\u064a\\u064e\\u0629\\u064e \\u0644\\u0645\\u0635\\u0650\\u0644\\u0652\\u062d\\u064d\\u0629\\u064f \\u064f\\u0645\\u062a\\u064b\\u062d\\u064d\\u0641\\u0651 \\u0627\\u0644\\u064b\\u0634\\u0627\\u0631\\u0651\\u0642\\u0629\\u060c \\u0648\\u064f\\u0625\\u064c\\u0646\\u062c\\u0627\\u0632 \\u064e\\u0642\\u0652\\u0627\\u0639\\u0629 \\u064e\\u062e\\u064f\\u0627\\u0651\\u0635\\u0629\\u0652 \\u064f\\u0628\\u0627\\u064f\\u0644\\u0622\\u062b\\u0650\\u0627\\u0651\\u0631 \\u0627\\u064b\\u0644\\u0625\\u0633\\u064d\\u0644\\u064c\\u0627\\u064d\\u0645\\u0651\\u064a\\u0629\\u064b \\u064f\\u0641\\u064e\\u064a \\u0645\\u062a\\u062d\\u0641 \\u0627\\u0652\\u0644\\u064d\\u0634\\u0627\\u0651\\u0631\\u0642\\u064e\\u0629\\u060c\\u064c \\u064d\\u0623\\u064b\\u0645\\u064e \\u0645\\u064f\\u0646 \\u062e\\u064c\\u0644\\u0627\\u0651\\u0644 \\u0650\\u0627\\u0633\\u064b\\u062a\\u0643\\u0645\\u0651\\u0627\\u064d\\u0644 \\u0627\\u0652\\u0644\\u0645\\u0652\\u0634\\u0652\\u0631\\u0648\\u0639\\u0627\\u064d\\u062a\\u064c \\u0627\\u0644\\u062b\\u0652\\u0642\\u0651\\u0627\\u0652\\u0641\\u064a\\u0629\\u064c \\u0648\\u064e\\u062a\\u0631\\u0645\\u064a\\u0645 \\u0627\\u0651\\u0644\\u0645\\u0628\\u0627\\u0646\\u064c\\u064a\\u064f \\u0627\\u0644\\u064d\\u062a\\u0650\\u0631\\u0627\\u0650\\u062b\\u064a\\u0650\\u0629 \\u0652\\u0648\\u063a\\u064a\\u0631\\u0647\\u064b\\u0627\\u064f \\u0645\\u064f\\u0646 \\u0627\\u064e\\u0644\\u0651\\u0623\\u0639\\u0651\\u0645\\u0627\\u0644 \\u064c\\u0648\\u0650\\u0627\\u0644\\u0623\\u064f\\u0646\\u0634\\u064e\\u0637\\u0629 \\u0652\\u0627\\u0644\\u062a\\u064a \\u062a\\u0635\\u0628 \\u0641\\u064a\\u064d \\u064e\\u0635\\u0645\\u064e\\u064a\\u0651\\u0645\\u0651 \\u064b\\u0627\\u0644\\u0650\\u0641\\u0639\\u0651\\u0644\\u064d \\u0627\\u064f\\u0644\\u064e\\u062b\\u064c\\u0642\\u0627\\u064b\\u0641\\u0651\\u064a .\\u0648\\u0623\\u0652\\u0643\\u064e\\u062f\\u064d \\u0627\\u0652\\u0644\\u0650\\u0645\\u0650\\u062d\\u0650\\u0627\\u064c\\u0636\\u0631 \\u0623\\u064d\\u0646 \\u0627\\u064c\\u0644\\u064e\\u062f\\u064e\\u0648\\u0652\\u0631\\u0629\\u0652 \\u064b\\u0627\\u0652\\u0644\\u064c\\u0623\\u064c\\u0648\\u064c\\u0644\\u064f\\u0649\\u0651 \\u0644\\u0645\\u064e\\u0639\\u0631\\u064d\\u0636\\u064d \\u0627\\u0644\\u0650\\u0643\\u0650\\u062a\\u0651\\u0627\\u0628\\u060c \\u0627\\u0644\\u0630\\u064d\\u064a \\u0623\\u0635\\u0651\\u0628\\u062d \\u0627\\u0651\\u0644\\u0652\\u064a\\u064f\\u0648\\u064c\\u0645\\u0651 \\u0648\\u062c\\u064b\\u0647\\u0629 \\u0639\\u0627\\u064b\\u0644\\u0651\\u0645\\u064a\\u0650\\u0629 \\u0644\\u0651\\u0644\\u0643\\u062a\\u0627\\u064d\\u0628\\u064e \\u064c\\u0648\\u0627\\u0644\\u0650\\u0645\\u0641\\u064e\\u0643\\u064b\\u0631\\u064a\\u0650\\u0646 \\u064e\\u0645\\u0650\\u0646\\u0650 \\u0623\\u0650\\u0646\\u064d\\u062d\\u064d\\u0627\\u064d\\u0621\\u064c \\u0627\\u064e\\u0644\\u0650\\u0639\\u0651\\u0627\\u0651\\u0644\\u0645\\u0652 \\u0638\\u0652\\u0644\\u0627\\u0644\\u0647\\u064c \\u0627\\u0644\\u0650\\u0648\\u0627\\u0631\\u064f\\u0641\\u0629\\u064e\\u060c\\u064f \\u0634\\u064d\\u0643\\u064d\\u0644\\u062a\\u0650 \\u064d\\u0646\\u064f\\u0642\\u064b\\u0637\\u0629 \\u064f\\u0627\\u064f\\u0646\\u064c\\u0637\\u0644\\u064e\\u0627\\u0652\\u0642 \\u064f\\u0648\\u062a\\u062d\\u0648\\u0650\\u0651\\u064d\\u0644 \\u0641\\u0652\\u064a\\u064d \\u0627\\u064e\\u0644\\u0645\\u0634\\u0652\\u0631\\u0652\\u0648\\u0639 \\u0652\\u0627\\u0644\\u0651\\u062b\\u0642\\u0652\\u0627\\u0652\\u0641\\u064d\\u064a\\u064f \\u0652\\u0644\\u064d\\u0635\\u0627\\u062d\\u0628 \\u064c\\u0627\\u064d\\u0644\\u064e\\u0633\\u0651\\u0645\\u0650\\u0648\\u064d \\u0650\\u062d\\u064d\\u0627\\u0643\\u0645\\u064f \\u0627\\u0652\\u0644\\u0634\\u0652\\u0627\\u064b\\u0631\\u0642\\u0651\\u0629\\u060c\\u0652 \\u0643\\u0652\\u0645\\u064b\\u0627\\u064e \\u064c\\u062a\\u0632\\u064f\\u0627\\u064d\\u0645\\u0646 \\u064c\\u0645\\u064c\\u0639\\u0651 \\u064e\\u0647\\u0650\\u0630\\u0647 \\u0627\\u0644\\u062f\\u0648\\u0631\\u0651\\u0629 \\u0627\\u064b\\u0641\\u0652\\u062a\\u062a\\u0627\\u062d \\u0645\\u064f\\u0643\\u064b\\u062a\\u0628\\u0652\\u0629\\u064e \\u0627\\u0644\\u064b\\u0645\\u064f\\u062d\\u0650\\u0645\\u0651\\u0648\\u062f\\u064e \\u0652(\\u0651\\u0627\\u0644\\u0652\\u0623\\u064b\\u0647\\u064f\\u0644\\u0650\\u064a\\u0629\\u0652)\\u0652\\u060c\\u0652 \\u0651\\u062b\\u064c\\u0645 \\u064b\\u0627\\u0644\\u0650\\u0645\\u0651\\u0631\\u064f\\u0643\\u0652\\u0632\\u0651 \\u064e\\u0627\\u0652\\u0644\\u064c\\u062b\\u0651\\u0642\\u0627\\u0641\\u0652\\u064a\\u064d \\u064f\\u0641\\u064a\\u0645\\u0627\\u0652 \\u0628\\u0639\\u062f\\u064d .\\u0652\\u0648\\u0651\\u0627\\u064c\\u0639\\u062a\\u0628\\u064d\\u0631 \\u0627\\u064d\\u0644\\u064c\\u0645\\u062d\\u064e\\u0627\\u064b\\u0636\\u0651\\u0631 \\u064b\\u0623\\u0646 \\u064b\\u062d\\u064b\\u0632\\u0645\\u0629 \\u0652\\u0627\\u0652\\u0644\\u064c\\u0645\\u064d\\u0647\\u064d\\u0631\\u062c\\u064d\\u0627\\u064d\\u0646\\u0627\\u0651\\u062a \\u0652\\u0648\\u0651\\u0627\\u0644\\u064f\\u0641\\u064b\\u0639\\u0650\\u0627\\u0644\\u064a\\u0650\\u0627\\u0651\\u062a\\u064b \\u0627\\u0644\\u0652\\u062a\\u064a\\u0650 \\u062a\\u0642\\u0652\\u0627\\u0650\\u0645 \\u0652\\u0639\\u0644\\u0651\\u0649 \\u0645\\u062f\\u0627\\u064c\\u0631\\u0650 \\u0627\\u064e\\u0644\\u0639\\u0627\\u0645\\u0650 \\u0650\\u0641\\u064a \\u064c\\u0627\\u0644\\u064e\\u0634\\u0627\\u064d\\u0631\\u0642\\u0629\\u064f\\u060c\\u0652 \\u0651\\u0648\\u0645\\u0627 \\u064a\\u0651\\u062a\\u064c\\u062e\\u0644\\u0650\\u0644\\u0647\\u064f\\u0627\\u0651 \\u0645\\u0646 \\u0623\\u0646\\u0634\\u0637\\u064c\\u0629\\u064d \\u062b\\u0642\\u064d\\u0627\\u0641\\u0652\\u064a\\u0629\\u064f \\u064c\\u0645\\u0651\\u062a\\u064f\\u0646\\u0648\\u064d\\u0639\\u0652\\u0629 \\u064d\\u062a\\u064c\\u0634\\u064b\\u0643\\u0652\\u0644\\u064f \\u064f\\u0623\\u064d\\u0648\\u062c\\u064c \\u0650\\u0627\\u064f\\u0644\\u062d\\u0631\\u064d\\u0627\\u0652\\u0643\\u0651 \\u064f\\u0627\\u064e\\u0644\\u062b\\u0642\\u0627\\u0641\\u064b\\u064a\\u064f\\u060c\\u064d \\u0648\\u0631\\u0627\\u0651\\u0641\\u0652\\u062f\\u0652\\u0627\\u064f\\u064b\\u0651 \\u0623\\u0633\\u0627\\u064d\\u0633\\u064d\\u064a\\u064e\\u0627\\u064c\\u064b \\u0644\\u0644\\u064c\\u062a\\u0641\\u0652\\u0627\\u0639\\u0644\\u0651 \\u0651\\u0648\\u0652\\u0627\\u0644\\u0652\\u062a\\u0646\\u0627\\u0650\\u063a\\u0645 \\u0627\\u0644\\u064b\\u062b\\u0650\\u0642\\u0627\\u064b\\u0641\\u064c\\u064a \\u064d\\u0641\\u064a\\u0651 \\u0625\\u0645\\u0627\\u0631\\u0652\\u0629\\u0652 \\u062a\\u0632\\u064c\\u062f\\u0651\\u0627\\u064c\\u0646 \\u0648\\u062a\\u0652\\u0632\\u062f\\u064d\\u0647\\u0651\\u064a\\u0650 \\u0643\\u0644 \\u064e\\u062d\\u064e\\u064a\\u064e\\u0646 \\u0628\\u0651\\u0644\\u0650\\u0641\\u064f\\u062a\\u064c\\u0629\\u064b \\u0643\\u064d\\u0631\\u064a\\u0645\\u0629\\u0651 \\u0648\\u064d\\u0633\\u064c\\u0627\\u064e\\u0646\\u062d\\u0629 \\u064e\\u0637\\u064a\\u064e\\u0628\\u0629 \\u0645\\u0650\\u0646 \\u0652\\u062d\\u0627\\u064e\\u0643\\u064b\\u0645 \\u0645\\u062b\\u0642\\u0641\\u0652\\u060c \\u064a\\u064e\\u062d\\u064b\\u0645\\u064d\\u0644\\u0652 \\u0639\\u0644\\u0649 \\u0639\\u064d\\u0627\\u064b\\u062a\\u064f\\u0642\\u0647 \\u064b\\u0627\\u064e\\u0644\\u064e\\u0646\\u0651\\u0647\\u064f\\u0648\\u064d\\u0636 \\u064f\\u0628\\u0652\\u0627\\u064c\\u0644\\u062b\\u064d\\u0642\\u064f\\u0627\\u064c\\u0641\\u064b\\u0629\\u064c \\u0648\\u064f\\u0627\\u064c\\u0644\\u064b\\u0645\\u064e\\u0639\\u064b\\u0631\\u0650\\u0641\\u0629 \\u064b.\\u0648\\u062e\\u0651\\u0644\\u0650\\u0635 \\u064f\\u0627\\u0650\\u0644\\u0650\\u0645\\u062d\\u064b\\u0627\\u0636\\u0631 \\u0625\\u064e\\u0644\\u0651\\u0649\\u0652 \\u0623\\u064b\\u0646 \\u064c\\u062b\\u064e\\u0645\\u0629\\u0651 \\u064b\\u062b\\u0644\\u0627\\u064e\\u062b\\u064c \\u0646\\u0642\\u0651\\u0627\\u0637 \\u064e\\u0644\\u064b\\u0644\\u0650\\u0627\\u064b\\u0631\\u064c\\u062a\\u0642\\u0650\\u0627\\u0621\\u064b \\u064e\\u0628\\u064d\\u0627\\u064d\\u0644\\u0641\\u0643\\u0652\\u0631\\u0629 \\u064d\\u0627\\u064d\\u0644\\u062b\\u0642\\u0651\\u0627\\u0641\\u064d\\u064a\\u064d\\u0629\\u0650 \\u0641\\u064e\\u064a\\u064d \\u064f\\u0627\\u0644\\u064c\\u0634\\u064d\\u0627\\u0631\\u0652\\u0642\\u0629 \\u0623\\u064d\\u0648\\u0644\\u0650\\u0647\\u0627 \\u064d\\u062a\\u0652\\u0623\\u064b\\u0633\\u064e\\u064a\\u0633 \\u0650\\u062f\\u0652\\u0627\\u0652\\u0626\\u0650\\u0631\\u0652\\u0629\\u064e \\u064e\\u0627\\u0644\\u062b\\u0642\\u0651\\u0627\\u0641\\u0629 \\u0648\\u064e\\u0627\\u0650\\u0644\\u064e\\u0625\\u0639\\u0650\\u0644\\u0627\\u0645\\u0651\\u060c \\u064c\\u0648\\u0650\\u062b\\u0652\\u0627\\u0646\\u064a\\u0647\\u0651\\u0627\\u064c \\u0627\\u062c\\u062a\\u0651\\u0645\\u064d\\u0627\\u064d\\u0639 \\u064e\\u0635\\u0627\\u062d\\u0650\\u0628\\u0650 \\u0627\\u0651\\u0644\\u0651\\u0633\\u0651\\u0645\\u0648\\u064d \\u0650\\u062d\\u0627\\u064f\\u0643\\u064b\\u0645 \\u0627\\u0644\\u064f\\u0634\\u0652\\u0627\\u064b\\u0631\\u0642\\u064d\\u0629\\u0651 \\u064c\\u0628\\u0643\\u064f\\u0648\\u0650\\u0627\\u062f\\u064c\\u0631 \\u0627\\u0644\\u064b\\u062f\\u064b\\u0627\\u0650\\u0626\\u0631\\u064b\\u0629 \\u064c\\u0648\\u0642\\u0651\\u062f\\u064f\\u0651\\u0645 \\u0641\\u0651\\u064a\\u0647\\u064f \\u0645\\u062c\\u0650\\u0645\\u064b\\u0648\\u064d\\u0639\\u0651\\u0629\\u064d \\u0645\\u064f\\u0646 \\u0652\\u0627\\u064e\\u0644\\u0633\\u064a\\u0651\\u0627\\u0651\\u0633\\u0627\\u062a \\u0651\\u0627\\u0644\\u062b\\u0642\\u064c\\u0627\\u064b\\u0641\\u064a\\u064e\\u0629 \\u0648\\u064c\\u0627\\u0644\\u062e\\u0651\\u0637\\u0637\\u064b \\u0627\\u0644\\u064d\\u062a\\u0646\\u0645\\u064e\\u0648\\u064a\\u0650\\u0629 \\u0651\\u0648\\u062f\\u0652\\u0639\\u0627 \\u064c\\u0633\\u0650\\u0645\\u064b\\u0648\\u064c\\u0647 \\u064c\\u0625\\u0650\\u0644\\u064f\\u0649: \\u0627\\u0644\\u0627\\u0647\\u0651\\u062a\\u064f\\u0645\\u0627\\u064f\\u0645 \\u0628\\u064b\\u0627\\u0650\\u0644\\u064f\\u0645\\u0652\\u0633\\u0631\\u062d\\u060c\\u0652 \\u0648\\u064b\\u0627\\u0651\\u0644\\u0623\\u0637\\u064c\\u0631\\u0650 \\u0627\\u064d\\u0644\\u0651\\u0639\\u0627\\u064b\\u0645\\u0629 \\u064e\\u0644\\u0644\\u0650\\u062b\\u064e\\u0642\\u0627\\u064d\\u0641\\u0629\\u064d\\u060c\\u0651 \\u0651\\u0627\\u064c\\u0644\\u0650\\u0627\\u0631\\u064f\\u062a\\u0642\\u0627\\u064f\\u0621\\u064c \\u0628\\u064d\\u0627\\u0650\\u0644\\u0639\\u0645\\u0651\\u0644\\u064e \\u0627\\u0644\\u0651\\u062a\\u064d\\u0634\\u0643\\u0651\\u064a\\u0644\\u064a\\u0650\\u060c \\u0627\\u0651\\u0644\\u0627\\u064f\\u0647\\u064f\\u062a\\u0645\\u064d\\u0627\\u0645 \\u0650\\u0628\\u0650\\u0627\\u0651\\u0644\\u064b\\u0648\\u0639\\u0651\\u064a \\u064b\\u0648\\u0650\\u0627\\u0652\\u0644\\u064f\\u0630\\u0627\\u0626\\u0650\\u0642\\u0651\\u0629\\u064c \\u0627\\u0651\\u0644\\u062c\\u0650\\u0645\\u064d\\u0627\\u0652\\u0644\\u0652\\u064a\\u0652\\u0629\\u064f\\u060c \\u0627\\u064d\\u0644\\u0650\\u0627\\u0647\\u064f\\u062a\\u0645\\u0627\\u0651\\u0645\\u0652 \\u064f\\u0628\\u064d\\u0627\\u0644\\u0637\\u0641\\u0644\\u0651\\u060c \\u0651\\u062a\\u0637\\u0648\\u064a\\u0631\\u064b \\u0634\\u0628\\u0643\\u0629\\u0652 \\u0627\\u0644\\u0645\\u0643\\u062a\\u064b\\u0628\\u0627\\u062a\\u060c\\u0652 \\u064e\\u0627\\u0633\\u062a\\u0643\\u064f\\u0645\\u064d\\u0627\\u0644\\u064d \\u0639\\u064b\\u0645\\u064b\\u0644\\u0652\\u064a\\u0627\\u062a \\u064c\\u0627\\u0644\\u064f\\u062a\\u0631\\u0645\\u064a\\u0645\\u0650\\u060c \\u064b\\u0627\\u0644\\u064d\\u0627\\u0647\\u064b\\u062a\\u064c\\u0645\\u0652\\u0627\\u0650\\u0645\\u064d \\u0650\\u0628\\u062b\\u064e\\u0642\\u0652\\u0627\\u064b\\u0641\\u064e\\u0629\\u064d \\u0650\\u0627\\u064d\\u0644\\u0645\\u0650\\u0631\\u064b\\u0623\\u064b\\u0629 \\u0650\\u0648\\u064b\\u0627\\u064f\\u0644\\u064d\\u0637\\u0641\\u0652\\u0644 .\\u0652 \\u064c.\\u064d)\\u064f \\u064b\\u0648\\u062b\\u064b\\u0627\\u064d\\u0644\\u0651\\u062b\\u064b\\u0647\\u064e\\u0627\\u064f \\u064b\\u0625\\u0650\\u0639\\u0650\\u0644\\u0651\\u0627\\u064b\\u0646\\u064f \\u0627\\u0644\\u0634\\u0627\\u0631\\u0642\\u0629\\u064f \\u0651\\u0639\\u0627\\u064d\\u0635\\u064e\\u0645\\u0629\\u064c \\u0644\\u0644\\u064b\\u062b\\u0642\\u064b\\u0627\\u0641\\u0629 \\u064b\\u0627\\u0652\\u0644\\u064e\\u0639\\u0651\\u0631\\u0628\\u064a\\u0629\\u064f \\u064b\\u0641\\u064a\\u064b \\u0639\\u0627\\u0645 19\\u06529\\u064d8 \\u064e\\u0644\\u0645\\u0627 \\u062a\\u062a\\u0645\\u064b\\u064a\\u0632\\u064f \\u0628\\u064f\\u0647\\u064e \\u064e\\u0645\\u064b\\u0646\\u064b \\u064b\\u0646\\u064e\\u0634\\u0650\\u0627\\u0637 \\u0651\\u0648\\u064f\\u062d\\u064b\\u0631\\u0627\\u0643\\u064d \\u064f\\u062b\\u0642\\u0627\\u0641\\u064a\\u0650 \\u0645\\u0652\\u0645\\u064c\\u064a\\u0632\\u064d\\u060c\\u064e \\u064b\\u0641\\u0636\\u0644\\u0627\\u064b\\u064e \\u064f\\u0639\\u0650\\u0646 \\u062f\\u0648\\u0631\\u064b \\u064c\\u0627\\u0644\\u064d\\u062c\\u064f\\u0648\\u0627\\u0652\\u0626\\u064f\\u0632\\u0651 \\u0648\\u0635\\u0650\\u0646\\u064f\\u0627\\u062f\\u0651\\u064a\\u064b\\u0642 \\u064f\\u0627\\u064b\\u0644\\u062f\\u064d\\u0639\\u064c\\u0645\\u060c \\u064d\\u0648\\u0627\\u064f\\u0644\\u062f\\u0628\\u0652\\u0644\\u064b\\u0648\\u0645\\u0627\\u0633\\u064d\\u064a\\u0629 \\u064f\\u0627\\u0650\\u0644\\u064b\\u062b\\u0652\\u0642\\u0627\\u0641\\u0651\\u064a\\u0629\\u060c\\u064e \\u0648\\u0639\\u0650\\u062f\\u062f \\u0648\\u0652\\u0646\\u064c\\u0648\\u0639 \\u064b\\u0627\\u064b\\u0644\\u064c\\u062c\\u064b\\u0627\\u0645\\u0639\\u0650\\u0627\\u064c\\u062a \\u0648\\u0627\\u0644\\u064e\\u0645\\u0650\\u0631\\u0627\\u0652\\u0643\\u0632\\u060c \\u064f\\u0648\\u0627\\u064b\\u0644\\u0625\\u064f\\u062d\\u0635\\u064c\\u0627\\u0650\\u0621\\u064e \\u0627\\u0651\\u0644\\u0627\\u064b\\u062c\\u064f\\u062a\\u0645\\u0627\\u0650\\u0639\\u0650\\u064a\\u0651 \\u064b\\u0641\\u0651\\u064a \\u0628\\u0644\\u0648\\u064e\\u0631\\u0629\\u064f \\u064b\\u0648\\u064c\\u062a\\u064b\\u0631\\u0633\\u0652\\u064a\\u062e \\u064c\\u0645\\u064d\\u0643\\u064e\\u0627\\u0646\\u0629 \\u064b\\u0627\\u0644\\u0651\\u0634\\u0627\\u0651\\u0631\\u064e\\u0642\\u0629 \\u064d\\u0639\\u0627\\u0635\\u0645\\u0629\\u064f \\u0651\\u0644\\u064c\\u0644\\u0651\\u062b\\u064d\\u0642\\u0627\\u064d\\u0641\\u0629\\u064e \\u064c\\u0627\\u064c\\u0644\\u0652\\u0639\\u0650\\u0631\\u0628\\u064a\\u064c\\u0629 \\u0650\\u0648\\u0652\\u0627\\u0644\\u0625\\u064d\\u0633\\u0644\\u0627\\u0651\\u0645\\u064a\\u0652\\u0629\\u060c \\u0648\\u0643\\u064f\\u0644 \\u0651\\u0630\\u0652\\u0644\\u064b\\u0643 \\u064b\\u0628\\u062c\\u0647\\u062f \\u0651\\u0635\\u0651\\u0627\\u062d\\u0628\\u064d \\u0650\\u0627\\u0644\\u064d\\u0633\\u064e\\u0645\\u0648\\u0650 \\u064b\\u062d\\u0650\\u0627\\u064c\\u0643\\u064f\\u0645 \\u064d\\u0627\\u0644\\u0634\\u0627\\u0631\\u064c\\u0642\\u0629 \\u0627\\u064e\\u0644\\u0650\\u0630\\u064a\\u064b \\u064e\\u0639\\u0645\\u064f\\u0644 \\u0651\\u0648\\u064d\\u0644\\u0627 \\u064a\\u0632\\u064f\\u0627\\u064e\\u0644 \\u0628\\u0634\\u063a\\u0641\\u0652 \\u0648\\u062d\\u0628\\u064f \\u0639\\u064f\\u0644\\u0649\\u0652 \\u062a\\u064c\\u0639\\u0632\\u064b\\u064a\\u064b\\u0632\\u064e \\u064c\\u0627\\u064f\\u0644\\u064e\\u062a\\u0646\\u064b\\u0645\\u0651\\u064a\\u064d\\u0629\\u064c \\u0627\\u064e\\u0644\\u064b\\u062b\\u0642\\u064e\\u0627\\u064d\\u0641\\u064c\\u064a\\u0629 \\u064e\\u0641\\u0650\\u064a\\u064f \\u0627\\u0652\\u0644\\u064e\\u0634\\u0627\\u0631\\u064e\\u0642\\u064d\\u0629\\u064e \\u0645\\u0646\\u0650 \\u062e\\u064b\\u0644\\u0650\\u0627\\u0650\\u0644\\u0651 \\u0651\\u0633\\u064e\\u0646\\u0651 \\u0648\\u0625\\u0642\\u064b\\u0631\\u0651\\u0627\\u0631 \\u0645\\u062c\\u0645\\u0648\\u064c\\u0639\\u064e\\u0629\\u064e \\u0645\\u064f\\u0646\\u0651 \\u0627\\u064b\\u0644\\u0645\\u064d\\u0634\\u0650\\u0631\\u0648\\u0639\\u064f\\u0627\\u064f\\u062a\\u0652 \\u0627\\u0644\\u0651\\u062b\\u0650\\u0642\\u0627\\u0652\\u0641\\u0650\\u064a\\u0629\\u064c \\u0650\\u0627\\u0644\\u062a\\u064d\\u064a \\u064e\\u062a\\u064c\\u0647\\u064e\\u062f\\u064d\\u0641\\u064e \\u0625\\u064e\\u0644\\u0650\\u0649 \\u0652\\u062a\\u062d\\u0642\\u064a\\u0642 \\u0630\\u0644\\u0643\\u064d\\u060c\\u064b \\u0650\\u062d\\u062a\\u0650\\u0649 \\u0652\\u0623\\u064e\\u0635\\u0628\\u062d\\u062a\\u0651 \\u064c\\u0627\\u064e\\u0644\\u0634\\u0627\\u064c\\u0631\\u064c\\u0642\\u064b\\u0629\\u0652 \\u0627\\u0644\\u0651\\u064a\\u0648\\u064c\\u0645 \\u0651\\u0648\\u064f\\u062c\\u0647\\u064b\\u0629\\u064e \\u064a\\u0624\\u064f\\u0645\\u064e\\u0647\\u064c\\u0627 \\u0652\\u0627\\u0644\\u064e\\u0645\\u0641\\u064e\\u0643\\u0631\\u0651\\u0648\\u0651\\u0646 \\u0648\\u0650\\u0627\\u0644\\u0645\\u0651\\u062b\\u0642\\u0650\\u0641\\u0651\\u0648\\u0646 \\u0648\\u0627\\u0644\\u0645\\u064f\\u0628\\u064c\\u062f\\u0639\\u064c\\u0648\\u0650\\u0646 \\u0652\\u0648\\u0652\\u0627\\u0651\\u0644\\u064c\\u0643\\u062a\\u064c\\u0627\\u0628\\u0650 \\u064c\\u0645\\u0650\\u0646\\u064f \\u0634\\u062a\\u0650\\u0649\\u064e \\u0623\\u064f\\u0646\\u064d\\u062d\\u0627\\u0621 \\u0627\\u064d\\u0644\\u0652\\u0639\\u0627\\u0644\\u064f\\u0645\\u060c\\u0650 \\u064e\\u0634\\u064b\\u0627\\u0652\\u0645\\u062e\\u0651\\u0629\\u064e \\u0631\\u0627\\u0633\\u062e\\u064b\\u0629 \\u064c\\u0628\\u064c\\u0639\\u0651\\u0637\\u064c\\u0627\\u0626\\u064f\\u0647\\u0650\\u0627 \\u064e\\u0648\\u062a\\u064b\\u0642\\u0650\\u062f\\u0645\\u0647\\u064d\\u0627 \\u0650.\\u064f\"\n        ],\n        \"semantic_type\": \"\",\n        \"description\": \"\"\n      }\n    },\n    {\n      \"column\": \"label\",\n      \"properties\": {\n        \"dtype\": \"category\",\n        \"num_unique_values\": 7,\n        \"samples\": [\n          \"Culture\",\n          \"Finance\",\n          \"Sports\"\n        ],\n        \"semantic_type\": \"\",\n        \"description\": \"\"\n      }\n    }\n  ]\n}"
            }
          },
          "metadata": {},
          "execution_count": 4
        }
      ]
    },
    {
      "cell_type": "markdown",
      "metadata": {
        "id": "kVc0b_9fQGeH"
      },
      "source": [
        "# Data Exploration"
      ]
    },
    {
      "cell_type": "markdown",
      "metadata": {
        "id": "a98DaVUvQsi8"
      },
      "source": [
        "Before diving into preprocessing and model building, it’s important to first explore the dataset to understand its structure, distribution, and key characteristics. This step will help you gain insights into the data and guide your decisions in subsequent steps. Here’s what to consider:\n",
        "\n",
        "1. **Inspect the Data**:\n",
        "   Start by looking at the first few rows of the dataset to get a sense of its structure. Check the columns, data types, and a few sample entries. This helps to ensure that the data is loaded correctly and gives you an initial overview of the content.\n",
        "\n",
        "2. **Check for Missing Values**:\n",
        "   Identify if there are any missing values in the dataset.\n",
        "\n",
        "3. **Distribution of Labels**:\n",
        "   Examine the distribution of the target labels (classes).\n",
        "\n",
        "4. **Text Data Characteristics (Bonus)**:\n",
        "   Analyze the length of the text data. It is useful to calculate the number of words or characters in each text sample to understand how long the texts are. This will help you set a suitable `max_length` for tokenization and padding later. You can plot a histogram of text lengths to visualize the distribution.\n",
        "\n",
        "5. **Common Words and Vocabulary (Bonus)**:\n",
        "   Explore the most frequent words in the text data."
      ]
    },
    {
      "cell_type": "code",
      "execution_count": 5,
      "metadata": {
        "id": "aZgYQbZxWtAt",
        "outputId": "8ff228a5-59ea-4680-b4c0-5f00ce11cc9a",
        "colab": {
          "base_uri": "https://localhost:8080/",
          "height": 204
        }
      },
      "outputs": [
        {
          "output_type": "execute_result",
          "data": {
            "text/plain": [
              "                                                    text     label\n",
              "4889   https://example.com/resource/أْعلنٌ مٌسّؤٌوٌلو...   Culture\n",
              "39009  https://example.com/resource/تٌعرض دِو، ٍخًلال...      Tech\n",
              "315    https://example.com/resource/عٌُرضتُ مسِاِء ًأ...   Culture\n",
              "20307  https://example.com/resource/أظهِرَ ًاُستطِلْا...  Politics\n",
              "36106  https://example.com/resource/أّكٍمَلٍت ُمٌيناْ...      Tech"
            ],
            "text/html": [
              "\n",
              "  <div id=\"df-f1e7e027-6ca9-4e8a-a7dc-a3846b099fd5\" class=\"colab-df-container\">\n",
              "    <div>\n",
              "<style scoped>\n",
              "    .dataframe tbody tr th:only-of-type {\n",
              "        vertical-align: middle;\n",
              "    }\n",
              "\n",
              "    .dataframe tbody tr th {\n",
              "        vertical-align: top;\n",
              "    }\n",
              "\n",
              "    .dataframe thead th {\n",
              "        text-align: right;\n",
              "    }\n",
              "</style>\n",
              "<table border=\"1\" class=\"dataframe\">\n",
              "  <thead>\n",
              "    <tr style=\"text-align: right;\">\n",
              "      <th></th>\n",
              "      <th>text</th>\n",
              "      <th>label</th>\n",
              "    </tr>\n",
              "  </thead>\n",
              "  <tbody>\n",
              "    <tr>\n",
              "      <th>4889</th>\n",
              "      <td>https://example.com/resource/أْعلنٌ مٌسّؤٌوٌلو...</td>\n",
              "      <td>Culture</td>\n",
              "    </tr>\n",
              "    <tr>\n",
              "      <th>39009</th>\n",
              "      <td>https://example.com/resource/تٌعرض دِو، ٍخًلال...</td>\n",
              "      <td>Tech</td>\n",
              "    </tr>\n",
              "    <tr>\n",
              "      <th>315</th>\n",
              "      <td>https://example.com/resource/عٌُرضتُ مسِاِء ًأ...</td>\n",
              "      <td>Culture</td>\n",
              "    </tr>\n",
              "    <tr>\n",
              "      <th>20307</th>\n",
              "      <td>https://example.com/resource/أظهِرَ ًاُستطِلْا...</td>\n",
              "      <td>Politics</td>\n",
              "    </tr>\n",
              "    <tr>\n",
              "      <th>36106</th>\n",
              "      <td>https://example.com/resource/أّكٍمَلٍت ُمٌيناْ...</td>\n",
              "      <td>Tech</td>\n",
              "    </tr>\n",
              "  </tbody>\n",
              "</table>\n",
              "</div>\n",
              "    <div class=\"colab-df-buttons\">\n",
              "\n",
              "  <div class=\"colab-df-container\">\n",
              "    <button class=\"colab-df-convert\" onclick=\"convertToInteractive('df-f1e7e027-6ca9-4e8a-a7dc-a3846b099fd5')\"\n",
              "            title=\"Convert this dataframe to an interactive table.\"\n",
              "            style=\"display:none;\">\n",
              "\n",
              "  <svg xmlns=\"http://www.w3.org/2000/svg\" height=\"24px\" viewBox=\"0 -960 960 960\">\n",
              "    <path d=\"M120-120v-720h720v720H120Zm60-500h600v-160H180v160Zm220 220h160v-160H400v160Zm0 220h160v-160H400v160ZM180-400h160v-160H180v160Zm440 0h160v-160H620v160ZM180-180h160v-160H180v160Zm440 0h160v-160H620v160Z\"/>\n",
              "  </svg>\n",
              "    </button>\n",
              "\n",
              "  <style>\n",
              "    .colab-df-container {\n",
              "      display:flex;\n",
              "      gap: 12px;\n",
              "    }\n",
              "\n",
              "    .colab-df-convert {\n",
              "      background-color: #E8F0FE;\n",
              "      border: none;\n",
              "      border-radius: 50%;\n",
              "      cursor: pointer;\n",
              "      display: none;\n",
              "      fill: #1967D2;\n",
              "      height: 32px;\n",
              "      padding: 0 0 0 0;\n",
              "      width: 32px;\n",
              "    }\n",
              "\n",
              "    .colab-df-convert:hover {\n",
              "      background-color: #E2EBFA;\n",
              "      box-shadow: 0px 1px 2px rgba(60, 64, 67, 0.3), 0px 1px 3px 1px rgba(60, 64, 67, 0.15);\n",
              "      fill: #174EA6;\n",
              "    }\n",
              "\n",
              "    .colab-df-buttons div {\n",
              "      margin-bottom: 4px;\n",
              "    }\n",
              "\n",
              "    [theme=dark] .colab-df-convert {\n",
              "      background-color: #3B4455;\n",
              "      fill: #D2E3FC;\n",
              "    }\n",
              "\n",
              "    [theme=dark] .colab-df-convert:hover {\n",
              "      background-color: #434B5C;\n",
              "      box-shadow: 0px 1px 3px 1px rgba(0, 0, 0, 0.15);\n",
              "      filter: drop-shadow(0px 1px 2px rgba(0, 0, 0, 0.3));\n",
              "      fill: #FFFFFF;\n",
              "    }\n",
              "  </style>\n",
              "\n",
              "    <script>\n",
              "      const buttonEl =\n",
              "        document.querySelector('#df-f1e7e027-6ca9-4e8a-a7dc-a3846b099fd5 button.colab-df-convert');\n",
              "      buttonEl.style.display =\n",
              "        google.colab.kernel.accessAllowed ? 'block' : 'none';\n",
              "\n",
              "      async function convertToInteractive(key) {\n",
              "        const element = document.querySelector('#df-f1e7e027-6ca9-4e8a-a7dc-a3846b099fd5');\n",
              "        const dataTable =\n",
              "          await google.colab.kernel.invokeFunction('convertToInteractive',\n",
              "                                                    [key], {});\n",
              "        if (!dataTable) return;\n",
              "\n",
              "        const docLinkHtml = 'Like what you see? Visit the ' +\n",
              "          '<a target=\"_blank\" href=https://colab.research.google.com/notebooks/data_table.ipynb>data table notebook</a>'\n",
              "          + ' to learn more about interactive tables.';\n",
              "        element.innerHTML = '';\n",
              "        dataTable['output_type'] = 'display_data';\n",
              "        await google.colab.output.renderOutput(dataTable, element);\n",
              "        const docLink = document.createElement('div');\n",
              "        docLink.innerHTML = docLinkHtml;\n",
              "        element.appendChild(docLink);\n",
              "      }\n",
              "    </script>\n",
              "  </div>\n",
              "\n",
              "\n",
              "<div id=\"df-c8113708-ea39-49d2-b55c-0b04d32b22c1\">\n",
              "  <button class=\"colab-df-quickchart\" onclick=\"quickchart('df-c8113708-ea39-49d2-b55c-0b04d32b22c1')\"\n",
              "            title=\"Suggest charts\"\n",
              "            style=\"display:none;\">\n",
              "\n",
              "<svg xmlns=\"http://www.w3.org/2000/svg\" height=\"24px\"viewBox=\"0 0 24 24\"\n",
              "     width=\"24px\">\n",
              "    <g>\n",
              "        <path d=\"M19 3H5c-1.1 0-2 .9-2 2v14c0 1.1.9 2 2 2h14c1.1 0 2-.9 2-2V5c0-1.1-.9-2-2-2zM9 17H7v-7h2v7zm4 0h-2V7h2v10zm4 0h-2v-4h2v4z\"/>\n",
              "    </g>\n",
              "</svg>\n",
              "  </button>\n",
              "\n",
              "<style>\n",
              "  .colab-df-quickchart {\n",
              "      --bg-color: #E8F0FE;\n",
              "      --fill-color: #1967D2;\n",
              "      --hover-bg-color: #E2EBFA;\n",
              "      --hover-fill-color: #174EA6;\n",
              "      --disabled-fill-color: #AAA;\n",
              "      --disabled-bg-color: #DDD;\n",
              "  }\n",
              "\n",
              "  [theme=dark] .colab-df-quickchart {\n",
              "      --bg-color: #3B4455;\n",
              "      --fill-color: #D2E3FC;\n",
              "      --hover-bg-color: #434B5C;\n",
              "      --hover-fill-color: #FFFFFF;\n",
              "      --disabled-bg-color: #3B4455;\n",
              "      --disabled-fill-color: #666;\n",
              "  }\n",
              "\n",
              "  .colab-df-quickchart {\n",
              "    background-color: var(--bg-color);\n",
              "    border: none;\n",
              "    border-radius: 50%;\n",
              "    cursor: pointer;\n",
              "    display: none;\n",
              "    fill: var(--fill-color);\n",
              "    height: 32px;\n",
              "    padding: 0;\n",
              "    width: 32px;\n",
              "  }\n",
              "\n",
              "  .colab-df-quickchart:hover {\n",
              "    background-color: var(--hover-bg-color);\n",
              "    box-shadow: 0 1px 2px rgba(60, 64, 67, 0.3), 0 1px 3px 1px rgba(60, 64, 67, 0.15);\n",
              "    fill: var(--button-hover-fill-color);\n",
              "  }\n",
              "\n",
              "  .colab-df-quickchart-complete:disabled,\n",
              "  .colab-df-quickchart-complete:disabled:hover {\n",
              "    background-color: var(--disabled-bg-color);\n",
              "    fill: var(--disabled-fill-color);\n",
              "    box-shadow: none;\n",
              "  }\n",
              "\n",
              "  .colab-df-spinner {\n",
              "    border: 2px solid var(--fill-color);\n",
              "    border-color: transparent;\n",
              "    border-bottom-color: var(--fill-color);\n",
              "    animation:\n",
              "      spin 1s steps(1) infinite;\n",
              "  }\n",
              "\n",
              "  @keyframes spin {\n",
              "    0% {\n",
              "      border-color: transparent;\n",
              "      border-bottom-color: var(--fill-color);\n",
              "      border-left-color: var(--fill-color);\n",
              "    }\n",
              "    20% {\n",
              "      border-color: transparent;\n",
              "      border-left-color: var(--fill-color);\n",
              "      border-top-color: var(--fill-color);\n",
              "    }\n",
              "    30% {\n",
              "      border-color: transparent;\n",
              "      border-left-color: var(--fill-color);\n",
              "      border-top-color: var(--fill-color);\n",
              "      border-right-color: var(--fill-color);\n",
              "    }\n",
              "    40% {\n",
              "      border-color: transparent;\n",
              "      border-right-color: var(--fill-color);\n",
              "      border-top-color: var(--fill-color);\n",
              "    }\n",
              "    60% {\n",
              "      border-color: transparent;\n",
              "      border-right-color: var(--fill-color);\n",
              "    }\n",
              "    80% {\n",
              "      border-color: transparent;\n",
              "      border-right-color: var(--fill-color);\n",
              "      border-bottom-color: var(--fill-color);\n",
              "    }\n",
              "    90% {\n",
              "      border-color: transparent;\n",
              "      border-bottom-color: var(--fill-color);\n",
              "    }\n",
              "  }\n",
              "</style>\n",
              "\n",
              "  <script>\n",
              "    async function quickchart(key) {\n",
              "      const quickchartButtonEl =\n",
              "        document.querySelector('#' + key + ' button');\n",
              "      quickchartButtonEl.disabled = true;  // To prevent multiple clicks.\n",
              "      quickchartButtonEl.classList.add('colab-df-spinner');\n",
              "      try {\n",
              "        const charts = await google.colab.kernel.invokeFunction(\n",
              "            'suggestCharts', [key], {});\n",
              "      } catch (error) {\n",
              "        console.error('Error during call to suggestCharts:', error);\n",
              "      }\n",
              "      quickchartButtonEl.classList.remove('colab-df-spinner');\n",
              "      quickchartButtonEl.classList.add('colab-df-quickchart-complete');\n",
              "    }\n",
              "    (() => {\n",
              "      let quickchartButtonEl =\n",
              "        document.querySelector('#df-c8113708-ea39-49d2-b55c-0b04d32b22c1 button');\n",
              "      quickchartButtonEl.style.display =\n",
              "        google.colab.kernel.accessAllowed ? 'block' : 'none';\n",
              "    })();\n",
              "  </script>\n",
              "</div>\n",
              "\n",
              "    </div>\n",
              "  </div>\n"
            ],
            "application/vnd.google.colaboratory.intrinsic+json": {
              "type": "dataframe",
              "summary": "{\n  \"name\": \"df\",\n  \"rows\": 5,\n  \"fields\": [\n    {\n      \"column\": \"text\",\n      \"properties\": {\n        \"dtype\": \"string\",\n        \"num_unique_values\": 5,\n        \"samples\": [\n          \"https://example.com/resource/\\u062a\\u064c\\u0639\\u0631\\u0636 \\u062f\\u0650\\u0648\\u060c \\u064d\\u062e\\u064b\\u0644\\u0627\\u0644\\u064f \\u0650\\u0641\\u064f\\u0639\\u0627\\u064e\\u0644\\u064e\\u064a\\u064b\\u0627\\u062a\\u0650 \\u0652\\u062c\\u0650\\u064a\\u0652\\u062a\\u0643\\u0633\\u064c \\u064c\\u0627\\u0644\\u064d\\u062e\\u062f\\u0645\\u0652\\u0627\\u062a \\u0627\\u0644\\u0639\\u064b\\u0627\\u0644\\u0645\\u064a\\u0629 \\u064b\\u0627\\u0644\\u0645\\u062f\\u0627\\u064c\\u0631\\u0629 \\u064eG\\u064fl\\u064bo\\u0652ba\\u064bl \\u0650Ma\\u0650n\\u064bag\\u0652e\\u0652d\\u064c S\\u064fer\\u0650v\\u0652ic\\u064ees\\u064d \\u0627\\u0644\\u0623\\u064d\\u0643\\u064c\\u062b\\u0631 \\u0651\\u0627\\u064e\\u0642\\u062a\\u064e\\u0635\\u0627\\u062f\\u064d\\u064a\\u0629 \\u0641\\u064d\\u064a \\u0627\\u0644\\u064c\\u0625\\u0645\\u0627\\u0651\\u0631\\u0627\\u062a \\u0652\\u0648\\u064e\\u0627\\u0644\\u062a\\u064a\\u0652 \\u064f\\u062a\\u0631\\u0641\\u064b\\u0639\\u064b \\u0645\\u064e\\u0646 \\u064c\\u0645\\u0642\\u064b\\u062f\\u064d\\u0631\\u0629\\u064d \\u0639\\u0645\\u0644\\u0627\\u0650\\u0626\\u0647\\u0627\\u064c \\u0650\\u0639\\u0644\\u0649 \\u064c\\u0627\\u064d\\u0644\\u064e\\u0645\\u0646\\u064e\\u0627\\u0641\\u0633\\u064e\\u0629 \\u062f\\u0651\\u0648\\u0652\\u0644\\u064f\\u064a\\u0651\\u0627\\u0650\\u064b\\u0652 . \\u0648\\u0627\\u064e\\u0639\\u062a\\u0645\\u0627\\u064c\\u062f\\u0627\\u064b \\u064c\\u0639\\u0644\\u064f\\u0649 \\u064f\\u0623\\u0651\\u062d\\u064e\\u062f\\u062b\\u0650 \\u0652\\u0645\\u0627\\u0650 \\u062a\\u0651\\u0648\\u064e\\u0635\\u0644\\u062a \\u064f\\u0625\\u0650\\u0644\\u064a\\u0652\\u0647 \\u0627\\u0652\\u0644\\u062a\\u0642\\u0646\\u064a\\u0629 \\u064d\\u0641\\u064c\\u064a \\u0645\\u062c\\u064d\\u0627\\u0652\\u0644 \\u0628\\u064d\\u0631\\u0648\\u0650\\u062a\\u0650\\u0648\\u064d\\u0643\\u0648\\u0644 \\u0650\\u0627\\u0644\\u0625\\u0646\\u062a\\u0631\\u0646\\u062a\\u064d \\u0650IP \\u0641\\u0651\\u0625\\u0652\\u0646 \\u064f\\u062e\\u062f\\u0645\\u0627\\u062a\\u064e \\u064b\\u062f\\u064d\\u0648\\u064e \\u064e\\u0627\\u0651\\u0644\\u0639\\u0627\\u0652\\u0644\\u0645\\u064a\\u064c\\u0629 \\u0652\\u0627\\u0644\\u064e\\u0645\\u062f\\u064c\\u0627\\u064f\\u0631\\u0629\\u0650 \\u0633\\u064f\\u062a\\u064c\\u0648\\u0641\\u0631 \\u0644\\u064c\\u0639\\u064d\\u0645\\u064d\\u0644\\u0650\\u0627\\u064d\\u0621\\u0652 \\u062f\\u0648 \\u0645\\u064f\\u0646\\u064c \\u0652\\u0627\\u064c\\u0644\\u064f\\u0645\\u0624\\u0633\\u0633\\u0627\\u064b\\u062a \\u0645\\u064e\\u062c\\u064f\\u0627\\u0644\\u064f\\u0627\\u064b \\u0650\\u0648\\u064e\\u0627\\u0633\\u0639\\u0652\\u0627\\u064c\\u064b\\u064f \\u0645\\u0646 \\u0627\\u064f\\u0644\\u062e\\u0651\\u062f\\u064c\\u0645\\u064d\\u0627\\u062a\\u064d \\u0650\\u0627\\u064b\\u0644\\u0642\\u0627\\u0650\\u0628\\u0651\\u0644\\u0629\\u064f \\u0650\\u0644\\u0644\\u064f\\u062a\\u062e\\u0650\\u0635\\u064f\\u064a\\u0635\\u0652 \\u062a\\u064c\\u0645\\u062a\\u0652\\u062f\\u064c \\u0651\\u062d\\u0648\\u064f\\u0644\\u0651 \\u0627\\u064c\\u0644\\u0639\\u0627\\u064d\\u0644\\u0645\\u064d \\u064e\\u0648\\u062a\\u0648\\u0641\\u0631 \\u0644\\u0644\\u0634\\u0631\\u064e\\u0643\\u064e\\u0627\\u062a\\u064f \\u0639\\u0645\\u0652\\u0642\\u0627\\u064b \\u0623\\u0652\\u0643\\u0628\\u0651\\u0631\\u064d \\u064b\\u0641\\u064a \\u0651\\u0627\\u0644\\u062a\\u062f\\u0631\\u064e\\u062c\\u064a\\u064d\\u0629 \\u064e\\u0648\\u0627\\u0651\\u0644\\u0646\\u064d\\u0627\\u0650\\u0642\\u064c\\u0644\\u064a\\u0629\\u064e .\\u0650\\u0642\\u0627\\u0651\\u0644 \\u0641\\u064e\\u0631\\u0650\\u064a\\u0651\\u062f\\u064e \\u064b\\u0641\\u0651\\u0631\\u064d\\u064a\\u064e\\u062f\\u0648\\u064c\\u0646\\u064a \\u0627\\u0644\\u0646\\u0627\\u0626\\u0628\\u0651 \\u064e\\u0627\\u0644\\u064b\\u062a\\u0651\\u0646\\u0641\\u064e\\u064a\\u0630\\u064a \\u0652\\u0644\\u064d\\u0644\\u064d\\u0631\\u0626\\u064a\\u064b\\u0633 \\u0644\\u064c\\u0644\\u064b\\u0623\\u0650\\u0639\\u0652\\u0645\\u0627\\u064d\\u0644\\u064e \\u0652\\u0627\\u0644\\u062a\\u062c\\u0627\\u064b\\u0631\\u064e\\u064a\\u0629 \\u0641\\u064a\\u064b \\u062f\\u0648: \\u0650\\u0645\\u064d\\u0646\\u064b \\u064b\\u062e\\u0644\\u0627\\u064c\\u0644 \\u064b\\u062e\\u064f\\u062f\\u0645\\u064e\\u0627\\u062a\\u064c \\u064d\\u0643\\u064f\\u0647\\u0630\\u0652\\u0647\\u0650 \\u0651\\u0641\\u0625\\u0646\\u064e\\u0646\\u0627\\u064c \\u064d\\u0646\\u0645\\u0650\\u0643\\u0646\\u064d \\u064d\\u0639\\u0645\\u0644\\u064f\\u0627\\u064f\\u0621\\u0646\\u064c\\u0627 \\u0645\\u0646\\u064f \\u064d\\u0642\\u0651\\u0637\\u0627\\u0639 \\u0627\\u064b\\u0644\\u064f\\u0645\\u064b\\u0624\\u0650\\u0633\\u0633\\u064c\\u0627\\u062a\\u064c \\u0641\\u064b\\u064a\\u064d \\u0627\\u0650\\u0644\\u0625\\u0645\\u0627\\u0631\\u064f\\u0627\\u064c\\u062a\\u0650 \\u0645\\u064b\\u0646 \\u064d\\u062a\\u062d\\u0651\\u0633\\u064e\\u064a\\u064e\\u0646 \\u062a\\u0650\\u0648\\u0650\\u0627\\u0652\\u0635\\u064d\\u0644\\u0647\\u0645 \\u062f\\u0652\\u0648\\u0650\\u0644\\u064f\\u064a\\u0650\\u0627\\u060c\\u0651 \\u0648\\u0650\\u0633\\u062a\\u062c\\u064c\\u0639\\u0644\\u0651 \\u064c\\u0645\\u064e\\u0646\\u0651 \\u062f\\u0648 \\u0652\\u0634\\u0650\\u0631\\u064a\\u0651\\u0643\\u064e\\u0627\\u064f\\u064b\\u0651 \\u064b\\u0627\\u064c\\u0633\\u062a\\u064c\\u0631\\u0652\\u0627\\u0651\\u062a\\u064a\\u0652\\u062c\\u064a\\u0627\\u064b \\u064e\\u0644\\u0650\\u0644\\u0634\\u0631\\u0652\\u0643\\u064f\\u0627\\u064f\\u062a\\u064b \\u0652\\u0627\\u0644\\u0650\\u0639\\u0627\\u0644\\u0645\\u064a\\u0629\\u064c \\u0627\\u0644\\u062a\\u064a\\u064b \\u064e\\u062a\\u0628\\u0652\\u062d\\u064e\\u062b\\u0652 \\u064f\\u0639\\u064d\\u0646\\u0652 \\u0651\\u0645\\u0648\\u0637\\u0626 \\u0642\\u062f\\u064f\\u0645\\u064c \\u064c\\u0641\\u064e\\u064a \\u064d\\u0627\\u0644\\u064b\\u0625\\u0645\\u0627\\u0631\\u0627\\u0651\\u062a\\u064f . \\u064e\\u0635\\u064c\\u0645\\u0651\\u0645\\u062a\\u064e \\u0651\\u0627\\u0644\\u064b\\u062e\\u064f\\u062f\\u0651\\u0645\\u0651\\u0627\\u062a \\u0650\\u0627\\u0644\\u064b\\u0645\\u062f\\u0627\\u0631\\u064b\\u0629 \\u0644\\u064f\\u062a\\u064b\\u0624\\u0645\\u0646 \\u0644\\u0644\\u0634\\u0631\\u0651\\u0643\\u0627\\u062a \\u064c\\u0648\\u064d\\u0635\\u064d\\u0648\\u0644\\u064b\\u0627\\u064b \\u0639\\u064e\\u0627\\u064c\\u0644\\u0645\\u064c\\u064a\\u0627\\u064f\\u064b\\u064c \\u064c\\u0645\\u0639 \\u0651\\u0627\\u0644\\u0651\\u0645\\u062d\\u0627\\u0641\\u0638\\u0629\\u0650 \\u0651\\u0639\\u064d\\u0644\\u064e\\u0649\\u0651 \\u064c\\u0627\\u064d\\u0644\\u064d\\u0645\\u0631\\u0650\\u0648\\u0652\\u0646\\u0629\\u064d \\u0648\\u064b\\u0627\\u0652\\u0644\\u062a\\u062f\\u0631\\u062c\\u064c\\u064a\\u0651\\u0629\\u064b \\u0652\\u0648\\u064f\\u0627\\u0644\\u0650\\u062b\\u0628\\u0652\\u0627\\u0650\\u062a \\u0644\\u064b\\u0645\\u0648\\u0627\\u064c\\u062c\\u0651\\u0647\\u0629 \\u064e\\u0627\\u0644\\u0637\\u0644\\u0650\\u0628\\u0651 \\u064d\\u0627\\u0644\\u064f\\u0645\\u064c\\u062a\\u064f\\u0632\\u064d\\u0627\\u064e\\u064a\\u062f \\u064d\\u0645\\u064d\\u0646\\u064b \\u0639\\u0645\\u0652\\u0644\\u0627\\u0621\\u064e \\u064c\\u0627\\u0652\\u0644\\u0645\\u0624\\u0633\\u064b\\u0633\\u0627\\u062a\\u0652 \\u0644\\u062f\\u064a\\u064e\\u0646\\u064e\\u0627\\u064f\\u060c\\u064b \\u064f\\u0648\\u0647\\u064f\\u064a\\u064c \\u064d\\u0645\\u0646 \\u0650\\u062c\\u0650\\u0647\\u0651\\u0629 \\u064c\\u0623\\u064b\\u062e\\u0650\\u0631\\u0649 \\u0633\\u062a\\u064e\\u0645\\u064b\\u0643\\u064f\\u0646\\u064c \\u0652\\u0639\\u064f\\u0645\\u064e\\u0644\\u0627\\u0621\\u064d\\u0646\\u0627 \\u064e\\u0645\\u0651\\u0646\\u064b \\u0627\\u0650\\u0644\\u064c\\u0627\\u0633\\u062a\\u0641\\u064f\\u0627\\u062f\\u0629 \\u064d\\u0645\\u0650\\u0646\\u064b \\u064c\\u0627\\u0644\\u064f\\u0641\\u0631\\u064e\\u0635 \\u064d\\u0627\\u064f\\u0644\\u0639\\u0627\\u064e\\u0644\\u0652\\u0645\\u0651\\u064a\\u0652\\u0629\\u064c \\u0648\\u064f\\u062a\\u0642\\u064f\\u062f\\u0645\\u064b \\u064e\\u0644\\u0652\\u0647\\u0650\\u0627 \\u064b\\u0645\\u064b\\u064a\\u0632\\u064b\\u0629 \\u062a\\u0646\\u0627\\u0641\\u0652\\u0633\\u064a\\u0629\\u0652 \\u0650\\u0639\\u064c\\u0627\\u0644\\u064a\\u064d\\u0629\\u064f \\u0641\\u064a \\u064f\\u0645\\u062c\\u0627\\u0644\\u0651 \\u062a\\u064f\\u062e\\u064c\\u0641\\u064a\\u0636 \\u064d\\u0627\\u0644\\u062a\\u0651\\u0643\\u0644\\u0641\\u064e\\u0629 .\\u064b \\u0650\\u0648\\u062a\\u064e\\u0642\\u062f\\u0645\\u0651 \\u062f\\u064e\\u0648 \\u064d\\u0645\\u0646\\u0650 \\u064b\\u062e\\u0652\\u0644\\u064c\\u0627\\u064c\\u0644\\u0652 \\u0634\\u064d\\u0631\\u0643\\u0627\\u0651\\u0626\\u064e\\u0647\\u0652\\u0627\\u0652 \\u0650\\u0627\\u064d\\u0644\\u0650\\u0627\\u0633\\u064b\\u062a\\u064f\\u0631\\u0627\\u064c\\u062a\\u064e\\u064a\\u062c\\u064a\\u064a\\u064f\\u0646 \\u0652\\u0625\\u0651\\u0646\\u062a\\u0631\\u064e \\u0631\\u064d\\u0648\\u062a\\u060c\\u0652 \\u0650\\u0648 \\u064f\\u0628\\u064a\\u064f \\u0633\\u0650\\u064a\\u064e \\u0633\\u064a \\u062f\\u064e\\u0628\\u0644\\u064f\\u064a\\u064b\\u0648\\u064c\\u060c \\u0652\\u0648\\u064b\\u0641\\u0644\\u0627\\u063a\\u064e \\u062d\\u0644\\u0648\\u0644\\u0627\\u064b\\u064c \\u064c\\u0639\\u0650\\u0627\\u0652\\u0644\\u0645\\u064e\\u064a\\u064f\\u0629 \\u0645\\u0639\\u0632\\u0632\\u0629\\u064b \\u0644\\u064d\\u0643\\u0651\\u0644 \\u062d\\u0652\\u0627\\u062c\\u064d\\u0627\\u0651\\u062a\\u0651 \\u0627\\u064d\\u0644\\u064b\\u0627\\u062a\\u064c\\u0635\\u0627\\u064f\\u0644 \\u0652\\u0648\\u0646\\u0652\\u0642\\u0644 \\u064e\\u0627\\u064c\\u0644\\u0628\\u064a\\u0627\\u0646\\u0650\\u0627\\u0652\\u062a\\u064c .\\u064b \\u0652\\u0645\\u064c\\u0632\\u0651\\u0627\\u064c\\u064a\\u064c\\u0627\\u0650 \\u064f\\u0627\\u0644\\u0652\\u062e\\u064f\\u062f\\u0645\\u0627\\u062a\\u0650 \\u064c\\u0627\\u0644\\u0651\\u0645\\u062f\\u0627\\u0631\\u0651\\u0629\\u0650:* \\u0650\\u0627\\u0644\\u0651\\u0634\\u0651\\u0628\\u0643\\u0629 \\u0627\\u0644\\u0634\\u062e\\u0635\\u064a\\u0629\\u064f \\u0650\\u0627\\u064f\\u0644\\u064e\\u0627\\u0651\\u0641\\u0650\\u062a\\u0631\\u0650\\u0627\\u0636\\u064a\\u0629\\u064b \\u0627\\u0644\\u0651\\u062f\\u0648\\u0644\\u064d\\u064a\\u064e\\u0629 \\u0651\\u0639\\u064f\\u0628\\u0631 \\u0628\\u0631\\u0648\\u064b\\u062a\\u0648\\u064f\\u0643\\u0648\\u0652\\u0644\\u0650 \\u064d\\u0627\\u0644\\u0625\\u0651\\u0646\\u064d\\u062a\\u0651\\u0631\\u0650\\u0646\\u062a \\u064bI\\u064dPV\\u0650PN .\\u064f*\\u0651 \\u0637\\u064d\\u0628\\u0651\\u0642\\u0652\\u0629 \\u064f2\\u064c \\u064c\\u0648\\u064f3\\u0650 \\u064d\\u0645\\u0646\\u064d \\u0650\\u062a\\u064c\\u0642\\u0646\\u064e\\u064a\\u0629 \\u0627\\u0644\\u0646\\u0642\\u064d\\u0644\\u064e \\u0652\\u0639\\u064d\\u0628\\u064d\\u0631 \\u0628\\u0631\\u064e\\u0648\\u062a\\u0650\\u0648\\u064c\\u0643\\u0652\\u0648\\u0644 \\u0627\\u0646\\u0651\\u062a\\u0650\\u0631\\u064e\\u0646\\u064b\\u062a \\u0645\\u064c\\u062a\\u0639\\u064f\\u062f\\u0650\\u062f \\u0627\\u0644\\u064b\\u0637\\u0628\\u0651\\u0642\\u0627\\u064f\\u062a\\u0650 MPL\\u064bS .* \\u062e\\u064d\\u062f\\u0651\\u0645\\u064c\\u0627\\u062a\\u064d \\u0625\\u064a\\u062b\\u0651\\u0631\\u0646\\u0650\\u062a\\u064f \\u064f\\u0639\\u0652\\u0627\\u0644\\u0645\\u0651\\u064a\\u064e\\u0629 \\u0652.\\u0651*\\u064b \\u0646\\u0627\\u0642\\u0644\\u064a\\u064b\\u0629\\u064f \\u0651\\u0645\\u0646\\u0650 \\u0650\\u0646\\u064f\\u0642\\u0637\\u0629\\u064f \\u0644\\u064f\\u0639\\u064b\\u062f\\u064d\\u0629 \\u0646\\u0650\\u0642\\u0627\\u0637\\u064b .* \\u062e\\u062f\\u064e\\u0645\\u064c\\u0627\\u064d\\u062a \\u064d\\u0648\\u0635\\u0651\\u0648\\u0644\\u064e \\u0639\\u064c\\u0628\\u0631\\u0652 \\u0650\\u0628\\u0650\\u0631\\u064b\\u0648\\u0651\\u062a\\u0648\\u064c\\u0643\\u0648\\u0651\\u0644\\u0651 \\u0650\\u0625\\u0646\\u0651\\u062a\\u0652\\u0631\\u0650\\u0646\\u062a .* \\u064f\\u062e\\u0652\\u062f\\u064f\\u0645\\u0627\\u064c\\u062a \\u0645\\u064f\\u062f\\u0627\\u0631\\u064e\\u0629 \\u064d\\u0644\\u064e\\u0647\\u0627\\u064c\\u062a\\u0641\\u0651 \\u064c\\u0627\\u0644\\u0652\\u0645\\u0624\\u064d\\u0633\\u0633\\u0651\\u0627\\u062a\\u064b \\u0652CP\\u064bE .* \\u064e\\u062e\\u0652\\u062f\\u0645\\u0627\\u064b\\u062a \\u0647\\u064e\\u0631\\u0650\\u0645\\u064a\\u0629\\u0651 \\u0631\\u0642\\u0650\\u0645\\u0652\\u064a\\u064f\\u0629\\u064f \\u0645\\u064b\\u062a\\u0632\\u0627\\u0651\\u0645\\u0646\\u0629\\u064c \\u0652\\u0645\\u064f\\u062f\\u064d\\u0627\\u064e\\u0631\\u0650\\u0629\\u064e*\\u064c \\u0627\\u0644\\u0648\\u0635\\u064d\\u0648\\u0644\\u064c \\u0639\\u064e\\u0627\\u0644\\u064b\\u0645\\u064e\\u064a\\u064b\\u0627\\u064d\\u064b\\u0652 .*\\u064d \\u064d\\u0646\\u064f\\u0637\\u0651\\u0627\\u0650\\u0642 \\u0639\\u0631\\u064a\\u0636 \\u0648\\u0627\\u0633\\u064e\\u0639 \\u0650\\u0627\\u064e\\u0644\\u064d\\u062a\\u0652\\u062f\\u0631\\u062c\\u064f .\\u064e*\\u0652 \\u0652\\u0627\\u062a\\u0651\\u0641\\u0627\\u0642\\u0650\\u064a\\u0629\\u0650 \\u0645\\u064d\\u0633\\u0651\\u062a\\u064f\\u0648\\u064f\\u0649 \\u064d\\u0627\\u0652\\u0644\\u064d\\u062e\\u0652\\u062f\\u0645\\u0629 \\u0651SLA \\u0639\\u064c\\u0627\\u064d\\u0644\\u064b\\u064a\\u0651\\u0629\\u064c \\u0627\\u064b\\u0644\\u0645\\u064c\\u0633\\u062a\\u0648\\u0649 \\u0645\\u064c\\u0639 \\u0627\\u0644\\u064d\\u062a\\u064c\\u0642\\u0627\\u0651\\u0631\\u064a\\u064b\\u0631\\u064f \\u064f\\u0627\\u0650\\u0644\\u0652\\u0639\\u0627\\u064b\\u0626\\u064e\\u062f\\u0629\\u064f \\u064e\\u0644\\u0647\\u0651\\u0627\\u064d \\u064d.\\u0650*\\u0650 \\u064e\\u062f\\u064f\\u0627\\u064f\\u0631\\u064e\\u0627\\u062a \\u0651\\u0645\\u064c\\u0624\\u062c\\u064f\\u0631\\u0629 \\u0630\\u0652\\u0627\\u0652\\u062a\\u0652 \\u064d\\u0627\\u064e\\u0642\\u062a\\u064e\\u0635\\u064c\\u0627\\u0652\\u062f\\u064c\\u064a\\u0650\\u0629 \\u064d\\u0639\\u064b\\u0627\\u0644\\u064a\\u064d\\u0629 .* \\u064d\\u0646\\u0642\\u0637\\u0629\\u064d \\u062a\\u0633\\u0648\\u064d\\u0642 \\u0652\\u0648\\u0627\\u062d\\u064e\\u062f\\u0629\\u064e \\u064e\\u0644\\u0650\\u0645\\u062a\\u0650\\u0637\\u064d\\u0644\\u0628\\u0627\\u064b\\u062a\\u064b \\u0627\\u064b\\u0644\\u0627\\u0651\\u062a\\u0652\\u0635\\u0627\\u064d\\u0644 \\u064e\\u0627\\u064b\\u0644\\u064e\\u0645\\u062d\\u0644\\u064a\\u0629\\u064b \\u0648\\u064f\\u0627\\u0650\\u0644\\u0650\\u062f\\u064c\\u0648\\u0644\\u064a\\u064e\\u0629 .\\u064c \\u0651\\u0641\\u064b\\u064a\\u0644\\u0650\\u0645\\u064e \\u064e\\u062c\\u0652\\u064a\\u0645\\u0633 \\u0628\\u0648\\u0651\\u0646\\u062f\\u0651 \\u0639\\u0644\\u0650\\u0649 \\u0651\\u0627\\u0651\\u0644\\u0645\\u0650\\u062d\\u0645\\u0648\\u0644\\u0623\\u0639\\u064c\\u0644\\u0646\\u064b\\u062a\\u064d \\u062f\\u064c\\u0648\\u0651 \\u064e\\u0623\\u0646\\u064d\\u0647\\u0627 \\u0650\\u0633\\u062a\\u0642\\u062f\\u064b\\u0645 \\u064e\\u0644\\u0652\\u0639\\u0650\\u064f\\u0652\\u0645\\u064e\\u0644\\u0650\\u0627\\u0650\\u0626\\u0651\\u0647\\u0651\\u0627\\u064c \\u0645\\u064f\\u062d\\u064f\\u062a\\u0648\\u064e\\u0649 \\u062d\\u0635\\u0631\\u0650\\u064a\\u0627\\u064b\\u0650 \\u0644\\u0651\\u0644\\u0647\\u0652\\u0627\\u062a\\u0641\\u0650 \\u0627\\u0644\\u0650\\u0645\\u062a\\u064c\\u062d\\u0631\\u0643 \\u064e\\u0645\\u064c\\u0646 \\u0622\\u062e\\u0631 \\u0623\\u064d\\u0641\\u064d\\u0644\\u0627\\u0645\\u0652 \\u062c\\u0652\\u064a\\u064d\\u0645\\u0633\\u064b \\u064f\\u0628\\u0652\\u0648\\u064e\\u0646\\u062f\\u064e \\u064c(Qua\\u064fn\\u0652tu\\u0651m\\u0651 o\\u0650f\\u064c \\u064eSo\\u0650lac\\u0651e) \\u064f\\u0628\\u0627\\u0644\\u062a\\u0639\\u064e\\u0627\\u064f\\u0648\\u0646 \\u064e\\u0645\\u0639 \\u0633\\u0651\\u0648\\u0646\\u064b\\u064a \\u0628\\u0651\\u0643\\u062a\\u0634\\u0651\\u0631\\u064c\\u0632\\u064b\\u060c \\u0652\\u0628\\u064b\\u0645\\u064f\\u0648\\u064f\\u062c\\u0628\\u064d \\u0627\\u0644\\u0627\\u062a\\u0651\\u0641\\u0651\\u0627\\u064e\\u0642\\u064c\\u064a\\u064c\\u0629\\u064b \\u0627\\u064b\\u0644\\u062d\\u064d\\u0635\\u0631\\u064a\\u0629\\u064b \\u064b\\u0645\\u064f\\u0639 \\u064f\\u0633\\u064d\\u0648\\u0646\\u064f\\u064a \\u064e\\u0628\\u0650\\u0643\\u062a\\u0634\\u0650\\u0631\\u0632 \\u0645\\u0646 \\u062e\\u064b\\u0644\\u0651\\u0627\\u064f\\u0644\\u064e \\u0627\\u062a\\u0652\\u0641\\u0627\\u064c\\u0642\\u064a\\u0652\\u062a\\u0647\\u064b\\u0627\\u064f \\u064b\\u0645\\u064e\\u0639\\u0652 \\u0651\\u0647\\u0650\\u0627\\u064c\\u0646\\u063a\\u0627\\u0650\\u0645\\u0627\\u0651 \\u0652\\u0645\\u0650\\u0648\\u0628\\u0652\\u0627\\u064b\\u064a\\u0644 \\u0650. \\u0650\\u0643\\u0645\\u0627\\u064b \\u064d\\u0637\\u064f\\u0631\\u064b\\u062d\\u062a \\u062f\\u064b\\u0648 \\u064b\\u0625\\u0650\\u0635\\u062f\\u0627\\u064f\\u0631\\u0627\\u0650\\u064b \\u062e\\u064c\\u0627\\u064f\\u0635\\u0652\\u0627\\u0650\\u064b \\u0648\\u0652\\u0645\\u062d\\u064f\\u062f\\u0648\\u0650\\u062f\\u0627\\u064b \\u0645\\u0646\\u064c \\u062e\\u0637\\u064d \\u0627\\u0644\\u064f\\u062f\\u064f\\u0641\\u0639\\u0651 \\u0627\\u0650\\u0644\\u0641\\u0651\\u0648\\u064e\\u0631\\u064a\\u064c \\u0651\\u0628\\u0637\\u0627\\u0628\\u0639 \\u064c\\u062c\\u0650\\u064a\\u0645\\u0633\\u0650 \\u064f\\u0628\\u0648\\u0646\\u0651\\u062f\\u060c \\u0650\\u0648\\u062a\\u064f\\u0645\\u064c \\u064c\\u0627\\u0644\\u0625\\u0639\\u0651\\u0644\\u0627\\u0651\\u0646 \\u0639\\u064d\\u0646\\u0647\\u0627 \\u064e\\u0641\\u0651\\u064a\\u064c \\u064c\\u0645\\u0652\\u0639\\u064f\\u0631\\u0636\\u064f \\u062c\\u064a\\u0651\\u062a\\u0643\\u064c\\u0633 . \\u0633\\u064a\\u0651\\u062a\\u0645 \\u0627\\u0652\\u0644\\u064b\\u0639\\u0631\\u0636\\u0651 \\u0627\\u0651\\u0644\\u0623\\u064c\\u0648\\u0652\\u0644\\u0650 \\u0644\\u0641\\u064d\\u064a\\u0652\\u0644\\u0645 \\u0628\\u064f\\u062a\\u0627\\u064d\\u0631\\u064c\\u064a\\u0652\\u062e\\u064e \\u064e7 \\u064f\\u0646\\u0652\\u0648\\u064e\\u0641\\u0645\\u064f\\u0628\\u0631\\u064b/ \\u064d\\u062a\\u0651\\u0634\\u0631\\u064a\\u064b\\u0646 \\u0627\\u0644\\u0651\\u062b\\u064e\\u0627\\u0646\\u064a\\u0652 \\u064f\\u0627\\u0644\\u0645\\u064b\\u0642\\u064b\\u0628\\u0644\\u064c \\u0651\\u0641\\u064e\\u064a\\u0651 \\u0627\\u0644\\u064d\\u0625\\u0652\\u0645\\u0627\\u0631\\u0627\\u064b\\u062a\\u060c \\u0648\\u0647\\u0648 \\u0627\\u0644\\u064b\\u0641\\u064a\\u0644\\u064c\\u0645 \\u064e\\u0631\\u0642\\u0652\\u0645 22\\u0651 \\u0652\\u0645\\u064c\\u0646 \\u0633\\u064d\\u0644\\u064b\\u0633\\u064d\\u0644\\u0629 \\u0623\\u0641\\u0644\\u0627\\u0645\\u0651 \\u064d\\u062c\\u064a\\u0645\\u0633 \\u0628\\u0648\\u064b\\u0646\\u0651\\u062f\\u064e \\u064b.\\u0642\\u0651\\u0627\\u0652\\u0644 \\u0641\\u0631\\u064c\\u064a\\u062f\\u064d \\u0641\\u0631\\u0652\\u064a\\u062f\\u0648\\u0646\\u064a \\u0627\\u0644\\u0646\\u064f\\u0627\\u064d\\u0626\\u064d\\u0628\\u064d \\u064c\\u0627\\u0644\\u064c\\u062a\\u064e\\u0646\\u064d\\u0641\\u0650\\u064a\\u0630\\u0650\\u064a\\u064e \\u0644\\u0652\\u0644\\u0631\\u0626\\u064a\\u0652\\u0633 \\u0644\\u064e\\u0644\\u064e\\u0623\\u0639\\u0645\\u064b\\u0627\\u0644\\u064d \\u0652\\u0627\\u0652\\u0644\\u062a\\u064c\\u062c\\u0627\\u0631\\u064a\\u064c\\u0629\\u064c \\u0652\\u0641\\u064a\\u0650 \\u0651\\u062f\\u064d\\u0648\\u0652:\\u0652 \\u0625\\u064b\\u0646\\u0647\\u0651 \\u0627\\u0651\\u0644\\u0648\\u064d\\u0642\\u062a\\u0650 \\u0651\\u0627\\u0644\\u0645\\u0646\\u0627\\u064e\\u0633\\u064d\\u0628\\u064d \\u064c\\u0644\\u0651\\u0644\\u064b\\u062d\\u064f\\u0635\\u064d\\u0648\\u064f\\u0644\\u064c \\u064f\\u0639\\u064b\\u0644\\u0649\\u064b \\u0627\\u064c\\u0644\\u064b\\u0625\\u064b\\u062b\\u0627\\u064e\\u0631\\u064b\\u0629 \\u064b\\u0648\\u0627\\u0644\\u064d\\u062d\\u0631\\u064f\\u0643\\u0629 \\u064f\\u0645\\u0639 \\u064f\\u062c\\u0652\\u064a\\u0645\\u0633 \\u0628\\u064b\\u0648\\u0646\\u062f\\u064b \\u064e\\u0633\\u0648\\u064e\\u0627\\u0621\\u0650 \\u0639\\u064c\\u0644\\u064c\\u0649\\u0652 \\u0634\\u0651\\u0627\\u0634\\u064b\\u0629\\u064c \\u064d\\u0627\\u064b\\u0644\\u064f\\u0647\\u064e\\u0627\\u064d\\u062a\\u0651\\u0641\\u064f \\u064f\\u0627\\u0644\\u064e\\u0645\\u064c\\u062a\\u064e\\u062d\\u0631\\u0643\\u064e\\u0629\\u0650 \\u0652\\u0623\\u0648\\u064d \\u0650\\u0639\\u064c\\u0644\\u064e\\u0649\\u064d \\u0634\\u0627\\u0634\\u0629 \\u064f\\u0627\\u0644\\u0633\\u064a\\u0646\\u0652\\u0645\\u064f\\u0627\\u0650 \\u0627\\u064e\\u0644\\u064c\\u0643\\u0652\\u0628\\u064a\\u0631\\u0629\\u060c \\u0625\\u064e\\u0646\\u064f\\u0646\\u064e\\u0627 \\u0651\\u0646\\u0650\\u0639\\u0645\\u064e\\u0644\\u064f \\u062f\\u0627\\u064f\\u0626\\u0645\\u0627\\u064b\\u0651 \\u064c\\u0639\\u0644\\u0650\\u0649\\u064e \\u062c\\u0644\\u0651\\u0628\\u0651 \\u0623\\u064b\\u062d\\u064b\\u062f\\u064c\\u062b\\u064d \\u0645\\u062d\\u064c\\u062a\\u064d\\u0648\\u064a\\u064e\\u0627\\u0650\\u062a\\u064b \\u064c\\u0627\\u0644\\u0647\\u064c\\u0627\\u062a\\u0641 \\u0627\\u064f\\u0644\\u064f\\u0645\\u062a\\u062d\\u0631\\u064e\\u0643\\u060c \\u064f\\u0648\\u0650\\u0646\\u064c\\u062d\\u0646\\u064d \\u0633\\u064d\\u0639\\u0650\\u062f\\u064e\\u0627\\u0621\\u064b \\u0652\\u0628\\u064b\\u0627\\u0644\\u064e\\u0634\\u0631\\u064f\\u0627\\u0643\\u0629\\u064c \\u064e\\u0645\\u064d\\u0639 \\u0633\\u0648\\u0646\\u064f\\u064a\\u064f \\u064c\\u0628\\u064e\\u0643\\u062a\\u0634\\u0631\\u064e\\u0632 \\u064d\\u0644\\u064b\\u062a\\u0642\\u064d\\u062f\\u064a\\u0645\\u064d \\u064c\\u0639\\u0631\\u0651\\u0648\\u0636\\u0652 \\u0652\\u0648\\u0645\\u064c\\u062d\\u062a\\u0650\\u0648\\u064e\\u064a\\u0627\\u062a \\u064b\\u062d\\u0635\\u0631\\u0651\\u064a\\u0629\\u064b \\u0652\\u0645\\u0651\\u0646\\u064d \\u064d\\u062c\\u064c\\u064a\\u0645\\u0633\\u0652 \\u0628\\u0648\\u0646\\u062f \\u0644\\u064d\\u0639\\u0645\\u0644\\u0627\\u064b\\u0626\\u0650\\u0646\\u0627\\u0652 .\",\n          \"https://example.com/resource/\\u0623\\u0651\\u0643\\u064d\\u0645\\u064e\\u0644\\u064d\\u062a \\u064f\\u0645\\u064c\\u064a\\u0646\\u0627\\u0652 \\u064c\\u062a\\u064f\\u0644\\u0650\\u064a\\u0643\\u064d\\u0648\\u0645\\u064c\\u060c\\u064c \\u0648\\u064b\\u0647\\u064a \\u064b\\u0634\\u064f\\u0631\\u064f\\u0643\\u064d\\u0629 \\u064f\\u0627\\u064f\\u0633\\u062a\\u064d\\u062b\\u0645\\u0627\\u064c\\u0631 \\u064e\\u062a\\u064e\\u0627\\u064b\\u0628\\u064e\\u0639\\u064c\\u0629 \\u0644\\u0652\\u0628\\u064a\\u064b\\u062a \\u0627\\u064f\\u0644\\u064e\\u062a\\u064f\\u0645\\u0648\\u064a\\u064e\\u0644\\u064b \\u064e\\u0627\\u064e\\u0644\\u0652\\u0643\\u0651\\u0648\\u064d\\u064a\\u062a\\u0651\\u064a \\u064e(\\u064f\\u0627\\u064b\\u0644\\u064e\\u0628\\u0650\\u062d\\u064d\\u0631\\u064a\\u0646)\\u0651\\u060c\\u064f \\u0625\\u0642\\u0652\\u0627\\u064c\\u0645\\u0629\\u064f \\u064f\\u0634\\u0628\\u0651\\u0643\\u0650\\u062a\\u0647\\u0652\\u0627 \\u064d\\u0627\\u064c\\u0644\\u0652\\u0648\\u064e\\u0637\\u0650\\u0646\\u064a\\u0629 \\u064e\\u0644\\u0644\\u064c\\u0627\\u064b\\u062a\\u0652\\u0635\\u0650\\u0627\\u0644\\u0627\\u064b\\u062a\\u060c \\u0648\\u064c\\u0642\\u062f\\u064b \\u0651\\u0623\\u064d\\u0639\\u064f\\u0644\\u064d\\u0646\\u062a\\u064b \\u0627\\u0644\\u064b\\u0634\\u0631\\u0651\\u0643\\u064e\\u0629\\u064c \\u0623\\u0645\\u0633 \\u064b\\u0642\\u064c\\u064a\\u0627\\u064d\\u0645\\u0650\\u0647\\u0627 \\u0651\\u0628\\u064d\\u062a\\u062f\\u0651\\u0634\\u064a\\u0650\\u0646 \\u064e\\u0634\\u0628\\u0643\\u064e\\u0629 \\u064f\\u0627\\u0652\\u0644\\u0648\\u064f\\u0627\\u064a\\u064c \\u0645\\u0627\\u0643\\u0651\\u0633\\u061b\\u0652 \\u0648\\u0647\\u064f\\u064a\\u0652 \\u0652\\u0627\\u064f\\u0644\\u064b\\u062c\\u064a\\u0644 \\u0652\\u0627\\u0644\\u0631\\u0650\\u0627\\u0628\\u0650\\u0639\\u0650 \\u064e\\u0645\\u0651\\u0646\\u064b \\u0627\\u064f\\u0644\\u062a\\u064b\\u0642\\u0646\\u064a\\u0629\\u0652 \\u064d\\u0627\\u0651\\u0644\\u064e\\u0644\\u064b\\u0627\\u064e\\u0633\\u0651\\u0644\\u0643\\u064a\\u0629 \\u064f\\u0627\\u0652\\u0644\\u062a\\u0651\\u064a \\u0633\\u064c\\u062a\\u0633\\u0650\\u062a\\u062e\\u062f\\u0652\\u0645\\u064f \\u064d\\u0644\\u064f\\u062a\\u0648\\u0641\\u064d\\u064a\\u0631 \\u0645\\u062c\\u0645\\u064c\\u0648\\u064f\\u0639\\u064b\\u0629\\u064b \\u0645\\u064b\\u0646 \\u064e\\u062e\\u0651\\u062f\\u0645\\u064d\\u0627\\u062a \\u0627\\u0644\\u0627\\u062a\\u064f\\u0635\\u0627\\u0652\\u0644\\u0627\\u062a\\u064e \\u0627\\u064d\\u0644\\u062b\\u0650\\u0627\\u0628\\u062a\\u0629 \\u064f\\u0648\\u0627\\u0644\\u0645\\u064e\\u062a\\u0646\\u064e\\u0642\\u0644\\u0629\\u060c \\u064f\\u062a\\u0634\\u0645\\u0644\\u0650 \\u0650\\u062e\\u062f\\u064b\\u0645\\u0650\\u0629 \\u0627\\u064f\\u0644\\u0625\\u0646\\u062a\\u0631\\u0650\\u0646\\u062a\\u064b \\u0639\\u0631\\u064f\\u064a\\u0636\\u064c \\u064e\\u0627\\u0644\\u064f\\u0646\\u064d\\u0637\\u064e\\u0627\\u064e\\u0642 \\u0651(\\u064c\\u0627\\u0644\\u0628\\u0631\\u0648\\u064b\\u062f\\u0628\\u0627\\u0646\\u064c\\u062f) \\u064e\\u0648\\u0627\\u0644\\u064b\\u0627\\u064d\\u062a\\u064d\\u0635\\u064d\\u0627\\u064b\\u0644\\u0627\\u062a \\u0652\\u0627\\u0652\\u0644\\u064c\\u0647\\u0627\\u0650\\u062a\\u0641\\u064a\\u064d\\u0629\\u0650 .\\u0648\\u0651\\u0642\\u0627\\u064c\\u0644 \\u0639\\u064b\\u0628\\u062f\\u0627\\u0644\\u064e\\u062d\\u0651\\u0643\\u0652\\u064a\\u064d\\u0645 \\u0627\\u0644\\u0652\\u062e\\u064f\\u064a\\u064d\\u0627\\u0650\\u0637\\u0650 \\u0652\\u0631\\u0652\\u0626\\u064a\\u064c\\u0633\\u0651 \\u064b\\u0645\\u062c\\u0651\\u0644\\u064d\\u0633 \\u064e\\u0625\\u062f\\u064e\\u0627\\u064d\\u0631\\u0629\\u064b \\u064e\\u0645\\u064d\\u064a\\u064f\\u0646\\u064f\\u0627 \\u062a\\u0651\\u0644\\u064a\\u064c\\u0643\\u0648\\u0645 \\u0652\\u0648\\u064f\\u0627\\u064e\\u0644\\u064e\\u0631\\u0626\\u0651\\u064a\\u064c\\u0633\\u0650 \\u0627\\u0651\\u0644\\u062a\\u064b\\u0646\\u0641\\u064f\\u064a\\u0630\\u064d\\u064a \\u0648\\u0627\\u0652\\u0644\\u0639\\u0650\\u0636\\u0648 \\u0651\\u0627\\u064e\\u0644\\u064d\\u0645\\u0651\\u0646\\u0651\\u062a\\u062f\\u064e\\u0628\\u064f \\u064c\\u0644\\u064b\\u0628\\u064d\\u064a\\u062a \\u0627\\u0644\\u064e\\u062a\\u0652\\u0645\\u0648\\u064f\\u064a\\u0644 \\u0627\\u0650\\u0644\\u0643\\u0651\\u0648\\u064a\\u062a\\u064a\\u064d \\u064f(\\u064e\\u0627\\u0644\\u064c\\u0628\\u062d\\u064f\\u0631\\u064e\\u064a\\u064b\\u0646): \\u064d\\u0646\\u062f\\u064d\\u0634\\u0650\\u0646 \\u0628\\u064f\\u0630\\u0651\\u0644\\u0651\\u0643\\u0652 \\u064f\\u0641\\u0635\\u064c\\u0644\\u0627\\u064f \\u064d\\u062c\\u064e\\u062f\\u0650\\u064a\\u062f\\u0627\\u064d \\u064f\\u0641\\u064a \\u062a\\u0627\\u064c\\u0631\\u064a\\u0652\\u062e\\u0651 \\u0652\\u0627\\u0644\\u064e\\u0627\\u062a\\u064b\\u0635\\u064b\\u0627\\u0644\\u064c\\u0627\\u064f\\u062a \\u0641\\u064a\\u064b \\u064e\\u0645\\u0645\\u064f\\u0644\\u0643\\u0629\\u064c \\u064d\\u0627\\u064d\\u0644\\u0628\\u062d\\u064b\\u0631\\u064e\\u064a\\u0651\\u0646 . \\u0648\\u064d\\u0633\\u064e\\u0648\\u0641\\u064b \\u0650\\u064a\\u062a\\u0645\\u064e\\u062a\\u064f\\u0639\\u0652 \\u0639\\u0645\\u064f\\u0644\\u064b\\u0627\\u0624\\u0646\\u0627 \\u0651\\u0628\\u0633\\u0647\\u0648\\u0651\\u0644\\u0629 \\u064e\\u0627\\u0644\\u0627\\u062a\\u064b\\u0635\\u064d\\u0627\\u0644\\u064f \\u0628\\u064f\\u0627\\u0644\\u0639\\u0627\\u064f\\u0644\\u0652\\u0645 \\u064f\\u0628\\u0635\\u064d\\u0648\\u0651\\u0631\\u064c\\u0629 \\u064b\\u062c\\u064f\\u062f\\u064a\\u0651\\u0631\\u0629 \\u0652\\u0628\\u064c\\u0627\\u064d\\u0644\\u064f\\u0627\\u064c\\u0639\\u064e\\u062a\\u0645\\u0627\\u062f \\u0651\\u0639\\u0644\\u064e\\u064a\\u0647\\u0627 \\u0652\\u0648\\u064b\\u0628\\u0623\\u0650\\u0633\\u0650\\u0639\\u064b\\u0627\\u0631 \\u0645\\u0646\\u064f\\u0627\\u064e\\u0633\\u064b\\u0628\\u0629 \\u064e\\u0628\\u0627\\u064e\\u0633\\u0651\\u062a\\u062e\\u062f\\u064e\\u0627\\u0645\\u064b \\u0651\\u0623\\u064d\\u062d\\u062f\\u062b\\u064b \\u062a\\u0642\\u0646\\u064b\\u064a\\u0627\\u062a\\u0651 \\u064f\\u0627\\u0644\\u064b\\u0627\\u064c\\u062a\\u0635\\u0627\\u064c\\u0644 \\u0627\\u064e\\u0644\\u0644\\u064e\\u0627\\u0633\\u0644\\u064f\\u0643\\u064e\\u064a\\u064c \\u0641\\u064a \\u0651\\u0627\\u0651\\u0644\\u0639\\u064c\\u0627\\u064e\\u0644\\u0645 .\\u0648\\u064a\\u0652\\u0636\\u0652\\u064a\\u064f\\u0641\\u0652 \\u0639\\u064b\\u0628\\u064d\\u062f\\u064f\\u0627\\u0644\\u0631\\u0652\\u0632\\u0627\\u0642\\u064d \\u0652\\u062c\\u0651\\u0648\\u0627\\u0647\\u0631\\u064e\\u064a\\u064e \\u064b\\u0646\\u064b\\u0627\\u0626\\u064f\\u0628\\u0650 \\u0631\\u064f\\u0626\\u064a\\u064c\\u0633 \\u0651\\u0645\\u062c\\u064b\\u0644\\u0633 \\u0627\\u0644\\u0625\\u064b\\u062f\\u064d\\u0627\\u0631\\u064d\\u0629 \\u064d\\u0648\\u0652\\u0627\\u0644\\u0639\\u0636\\u0648 \\u0627\\u0644\\u0645\\u0646\\u062a\\u062f\\u0628\\u064b \\u064c\\u0644\\u0650\\u0645\\u064a\\u0650\\u0646\\u064b\\u0627\\u064b \\u062a\\u0651\\u0644\\u064a\\u0650\\u0643\\u0648\\u0645 \\u064d\\u0648\\u0651\\u0645\\u0645\\u062b\\u0644\\u064e \\u0650\\u0628\\u064d\\u064a\\u064f\\u062a\\u064c \\u064d\\u0627\\u064d\\u0644\\u062a\\u0645\\u0648\\u064a\\u064e\\u0644 \\u0627\\u064e\\u0644\\u0643\\u0652\\u0648\\u0650\\u064a\\u062a\\u064a (\\u064d\\u0627\\u0644\\u064d\\u0628\\u062d\\u0631\\u064a\\u064b\\u0646)\\u064e:\\u064e \\u064a\\u064c\\u0633\\u062a\\u0637\\u064a\\u0639 \\u0627\\u0644\\u064f\\u0639\\u0651\\u0645\\u0644\\u0650\\u0627\\u0652\\u0621 \\u064d\\u0628\\u0641\\u0652\\u0636\\u064d\\u0644 \\u062a\\u064b\\u0642\\u064c\\u0646\\u064d\\u064a\\u064e\\u0629 \\u064e\\u0627\\u0644\\u0651\\u0648\\u0651\\u0627\\u064a \\u0652\\u0645\\u0627\\u064e\\u0643\\u0633\\u0650 \\u0645\\u0646 \\u0645\\u0652\\u064a\\u064f\\u0646\\u064b\\u0627\\u064f \\u064c\\u062a\\u0644\\u064a\\u064d\\u0643\\u064b\\u0648\\u0645 \\u064d\\u0627\\u064b\\u0644\\u0627\\u062a\\u064f\\u0635\\u0650\\u0627\\u0644 \\u0651\\u0628\\u0634\\u0652\\u0628\\u0650\\u0643\\u064f\\u0629 \\u0627\\u0644\\u064e\\u0625\\u0646\\u062a\\u0631\\u064b\\u0646\\u064b\\u062a\\u064d \\u062e\\u0650\\u0644\\u064c\\u0627\\u064d\\u0644 \\u064f\\u0644\\u062d\\u0650\\u0638\\u0650\\u0627\\u0650\\u062a\\u0651 \\u0628\\u0627\\u0633\\u0651\\u062a\\u062e\\u062f\\u0627\\u0645 \\u064d\\u062c\\u0647\\u0627\\u064f\\u0632 \\u0628\\u0633\\u064a\\u0650\\u0637 \\u064e\\u0644\\u064c\\u0627 \\u0650\\u064a\\u062d\\u062a\\u064d\\u0627\\u062c\\u064b \\u064c\\u0625\\u0644\\u0649 \\u0652\\u0639\\u0645\\u0644\\u0650\\u064a\\u0629\\u0651 \\u062a\\u0631\\u0643\\u064f\\u064a\\u0628 \\u064c\\u0623\\u0648\\u064f \\u0625\\u0639\\u0651\\u062f\\u0651\\u0627\\u062f\\u064d . \\u064f\\u0648\\u062a\\u064f\\u0648\\u0652\\u0641\\u0651\\u0631 \\u0627\\u0644\\u0634\\u0628\\u0643\\u0651\\u0629 \\u064d\\u0627\\u0644\\u0648\\u064d\\u0637\\u0652\\u0646\\u064f\\u064a\\u064c\\u0629 \\u0627\\u0644\\u064b\\u0639\\u064b\\u0627\\u064d\\u0644\\u0650\\u064a\\u064e\\u0629 \\u0627\\u0652\\u0644\\u064f\\u0633\\u064e\\u0631\\u0639\\u0629 \\u062e\\u062f\\u0645\\u064c\\u0627\\u0652\\u062a\\u0650 \\u064b\\u0645\\u0650\\u062a\\u064d\\u0637\\u064e\\u0648\\u0631\\u0650\\u0629 \\u0644\\u064e\\u0644\\u0623\\u0641\\u064f\\u0631\\u0627\\u062f\\u064b \\u064d\\u0648\\u064f\\u0627\\u0644\\u0634\\u064c\\u0631\\u0652\\u0643\\u0650\\u0627\\u0651\\u062a \\u0645\\u0646 \\u0645\\u064c\\u062e\\u062a\\u064f\\u0644\\u064c\\u0641\\u0652 \\u064e\\u0627\\u0644\\u064d\\u0623\\u062d\\u062c\\u064c\\u0627\\u0645\\u064d .\\u0652\",\n          \"https://example.com/resource/\\u0639\\u064c\\u064f\\u0631\\u0636\\u062a\\u064f \\u0645\\u0633\\u0650\\u0627\\u0650\\u0621 \\u064b\\u0623\\u064c\\u0645\\u0633\\u0651 \\u0627\\u0644\\u0623\\u0648\\u0650\\u0644 \\u0641\\u064f\\u064a\\u064d \\u0625\\u0637\\u0650\\u0627\\u0631 \\u064e\\u0645\\u064c\\u0647\\u0650\\u0631\\u062c\\u0627\\u0646 \\u064e\\u0627\\u0644\\u0645\\u0633\\u0631\\u064d\\u062d\\u064f\\u064a\\u0627\\u062a\\u064d \\u0627\\u064c\\u0644\\u0642\\u064c\\u0635\\u064a\\u0631\\u0629\\u0651 \\u0641\\u064e\\u064a\\u0652 \\u0643\\u0644\\u064e\\u0628\\u0627\\u0652\\u0621\\u064f \\u0645\\u0651\\u0633\\u0650\\u0631\\u0650\\u062d\\u064d\\u064a\\u0650\\u062a\\u064e\\u0627\\u0646\\u064c: \\u064e\\u0647\\u064e\\u0645\\u0627 \\u0645\\u064e\\u062c\\u0650\\u0644\\u0633\\u064f \\u064e\\u0627\\u0644\\u064d\\u0639\\u0651\\u062f\\u064b\\u0644 \\u0644\\u064c\\u0644\\u0643\\u0627\\u0651\\u062a\\u0628\\u0651 \\u0650\\u062a\\u0648\\u0650\\u0641\\u0651\\u064a\\u0651\\u0642 \\u0627\\u0644\\u062d\\u0643\\u064a\\u064c\\u0645\\u0651 \\u0645\\u064d\\u0624\\u064e\\u0633\\u0633 \\u0627\\u0651\\u0644\\u064f\\u0643\\u0651\\u062a\\u0627\\u064e\\u0628\\u064d\\u0629 \\u064b\\u0627\\u0644\\u0650\\u0645\\u0651\\u0633\\u0650\\u0631\\u064f\\u062d\\u064a\\u064d\\u0629 \\u0651\\u0627\\u0652\\u0644\\u0639\\u0631\\u064b\\u0628\\u064d\\u064a\\u0650\\u0629\\u064e \\u0648\\u064d\\u0623\\u064f\\u062d\\u062f \\u0623\\u0634\\u0650\\u0647\\u0631 \\u0651\\u0627\\u0644\\u064f\\u0643\\u062a\\u064e\\u0627\\u0628 \\u064e\\u0627\\u064e\\u0644\\u0645\\u0633\\u064b\\u0631\\u062d\\u064a\\u064f\\u064a\\u0650\\u0646\\u064e\\u060c \\u0648\\u0650\\u0625\\u0650\\u062e\\u0631\\u0627\\u062c\\u064f \\u064f\\u0633\\u0647\\u064a\\u0631\\u064f \\u064b\\u0645\\u0635\\u0651\\u0637\\u064b\\u0641\\u064e\\u0649\\u064b \\u064b\\u0648\\u064b\\u0627\\u0634\\u064c\\u062a\\u0631\\u0643\\u064d \\u064e\\u0641\\u064a\\u064c \\u064e\\u0627\\u0644\\u064e\\u062a\\u0645\\u062b\\u064a\\u0644 \\u062e\\u064d\\u0627\\u0644\\u064c\\u062f\\u0650 \\u064c\\u0627\\u064c\\u0644\\u064d\\u062d\\u0645\\u0652\\u0627\\u062f\\u064a\\u060c\\u064f \\u064d\\u0648\\u064f\\u0645\\u0652\\u062d\\u0645\\u0651\\u062f\\u064d \\u0645\\u0628\\u064e\\u0627\\u064c\\u0631\\u0643 \\u064b\\u0627\\u0644\\u0633\\u0648\\u064c\\u064a\\u062f\\u064a\\u060c\\u0652 \\u0648\\u0651\\u0645\\u064c\\u062d\\u064c\\u0645\\u062f \\u064f\\u0639\\u064e\\u0628\\u062f\\u0627\\u0644\\u0644\\u0647\\u064c \\u064d\\u0627\\u0644\\u0628\\u064f\\u0644\\u0652\\u0648\\u0634\\u064e\\u064a\\u064b\\u060c\\u064d \\u0650\\u0648\\u062c\\u064d\\u0627\\u064f\\u0633\\u0652\\u0645 \\u0650\\u0633\\u064c\\u0627\\u0645\\u064a\\u064d\\u060c \\u064c\\u0648\\u0637\\u0627\\u0631\\u0642\\u0652 \\u0623\\u062d\\u0650\\u0645\\u062f\\u060c \\u0648\\u0639\\u064b\\u0628\\u064f\\u062f\\u0651\\u0627\\u0644\\u0644\\u064f\\u0647 \\u0650\\u0635\\u064d\\u064a\\u0627\\u064f\\u062d\\u0650\\u060c\\u064c \\u0648\\u064a\\u0651\\u0648\\u0650\\u0646\\u0633 \\u064b\\u063a\\u0644\\u064d\\u0648\\u064b\\u0645\\u0652\\u060c \\u0648\\u0633\\u064e\\u0627\\u0652\\u0645\\u064b\\u064a \\u0652\\u0625\\u0633\\u064e\\u0645\\u064f\\u0627\\u064c\\u0639\\u064a\\u0644 \\u0651.\\u064e\\u0627\\u064e\\u062a\\u0633\\u0645\\u064b \\u064b\\u0627\\u064e\\u0644\\u0639\\u0631\\u0636\\u0652 \\u064e\\u0628\\u0627\\u064d\\u0644\\u0628\\u0633\\u0627\\u064e\\u0637\\u0652\\u0629 \\u0648\\u0650\\u0627\\u064e\\u0644\\u0650\\u0648\\u0650\\u0636\\u0648\\u062d\\u060c\\u0651 \\u0648\\u0650\\u0642\\u064e\\u062f\\u064e \\u064c\\u0627\\u062c\\u064c\\u062a\\u0650\\u0647\\u0652\\u062f\\u064c\\u062a \\u0627\\u0644\\u064b\\u0645\\u064b\\u062e\\u064d\\u0631\\u064c\\u062c\\u064f\\u0629 \\u0650\\u0641\\u064a\\u064d \\u0652\\u0625\\u064c\\u0636\\u0641\\u0650\\u0627\\u0621\\u0650 \\u062c\\u0651\\u0645\\u0627\\u064c\\u0644\\u064a\\u0629\\u0650 \\u064e\\u0631\\u0650\\u0645\\u0632\\u0650\\u064a\\u064f\\u0629\\u064b \\u064b\\u0639\\u064e\\u0644\\u064d\\u0649\\u064b \\u0623\\u0652\\u062c\\u0648\\u0627\\u0621 \\u064f\\u0627\\u0644\\u0652\\u062e\\u0634\\u064d\\u0628\\u064b\\u0629 \\u064e\\u0645\\u0646 \\u062e\\u0652\\u0644\\u0650\\u0627\\u064d\\u0644\\u064e \\u0627\\u0644\\u0651\\u0625\\u0636\\u0627\\u0621\\u064c\\u0629\\u0650 \\u064f\\u0648\\u0627\\u064c\\u0644\\u062f\\u064a\\u0643\\u064d\\u0648\\u0631\\u060c \\u0648\\u064c\\u0628\\u062f\\u064d\\u0644 \\u064b\\u0645\\u064a\\u0651\\u0632\\u0627\\u0650\\u0646\\u064d \\u064c\\u0627\\u0644\\u0651\\u0639\\u064e\\u062f\\u0644 \\u064c\\u0627\\u0651\\u0644\\u0645\\u0634\\u0647\\u0648\\u0650\\u0631 \\u0651\\u0628\\u064c\\u0643\\u0641\\u062a\\u064a\\u0647 \\u0627\\u0644\\u064e\\u0645\\u064c\\u062a\\u0643\\u0651\\u0627\\u0650\\u0641\\u0626\\u064e\\u062a\\u064a\\u0652\\u0646\\u0651 \\u0651\\u0627\\u0633\\u062a\\u0652\\u062e\\u064f\\u062f\\u0645\\u0651\\u062a\\u064c \\u0650\\u0643\\u064d\\u0641\\u0629\\u0650 \\u064b\\u0639\\u064d\\u0627\\u062f\\u064b\\u0644\\u062a\\u0647\\u0627 \\u0650\\u0628\\u0643\\u0631\\u064f\\u0633\\u064a \\u064f\\u0645\\u064c\\u0642\\u0644\\u0651\\u0648\\u0652\\u0628\\u064f\\u060c\\u064e \\u0650\\u0648\\u064f\\u0643\\u0644\\u0645\\u064d\\u0627 \\u0648\\u0636\\u064e\\u0639\\u064f\\u062a \\u0646\\u064f\\u0642\\u0648\\u064b\\u062f \\u0627\\u064f\\u0644\\u0652\\u063a\\u064f\\u0631\\u0627\\u0645\\u0629\\u0652 \\u0641\\u064d\\u064a\\u064b \\u0627\\u0644\\u0643\\u064d\\u0641\\u0629 \\u064e\\u062a\\u0631\\u0650\\u062c\\u062d \\u0628\\u0650\\u0627\\u064d\\u0644\\u0643\\u0631\\u0633\\u0652\\u064a\\u060c\\u064c \\u064e\\u0648\\u0652\\u0631\\u0651\\u0628\\u0645\\u0627 \\u0623\\u0631\\u0627\\u064f\\u062f\\u062a \\u064d\\u0628\\u064d\\u0630\\u0644\\u0643 \\u0651\\u0627\\u0651\\u0644\\u0625\\u064f\\u0634\\u0650\\u0627\\u0631\\u064b\\u0629\\u064c \\u064e\\u0625\\u0644\\u064d\\u0649\\u064d \\u0623\\u0646 \\u0631\\u0652\\u062c\\u062d\\u0651\\u0627\\u064d\\u0646\\u0652 \\u0627\\u064b\\u0644\\u0628\\u0627\\u0637\\u0644\\u064b \\u064f\\u0639\\u064f\\u0644\\u0649 \\u064f\\u0627\\u0644\\u064d\\u062d\\u0652\\u0642\\u0652 \\u064c\\u064a\\u0642\\u0644\\u064d\\u0628 \\u064b\\u062d\\u064d\\u0642\\u0627\\u0626\\u0642\\u064f \\u0627\\u0644\\u0623\\u0634\\u064a\\u0627\\u064f\\u0621 \\u064f\\u0648\\u0627\\u064e\\u0644\\u064e\\u062d\\u064b\\u064a\\u064c\\u0627\\u0629\\u064d \\u0631\\u0651\\u0623\\u0633\\u0627\\u0651 \\u0639\\u0644\\u0649\\u0650 \\u0639\\u0642\\u0652\\u0628\\u060c\\u0651 \\u064b\\u0648\\u064c\\u0642\\u062f\\u0650 \\u064c\\u0628\\u064b\\u0630\\u0644 \\u0627\\u0644\\u0645\\u0651\\u0645\\u062b\\u0644\\u0652\\u0648\\u064d\\u0646 \\u062c\\u0651\\u0647\\u0652\\u0648\\u064b\\u062f\\u0627\\u0651\\u064b \\u064f\\u0643\\u064d\\u0628\\u0652\\u064a\\u0631\\u0652\\u0629 \\u064b\\u0641\\u064d\\u064a\\u064f \\u0623\\u062f\\u0627\\u0621 \\u0623\\u062f\\u0650\\u0648\\u0627\\u064b\\u0631\\u064c\\u0647\\u064d\\u0645 \\u0628\\u064f\\u0634\\u0643\\u064e\\u0644 \\u062c\\u064d\\u064a\\u062f\\u0651\\u060c\\u0651 \\u0648\\u0650\\u062a\\u064e\\u0645\\u064a\\u0652\\u0632 \\u0623\\u062f\\u064d\\u0627\\u064f\\u0621\\u064f \\u064e\\u0628\\u0639\\u0636\\u064e\\u0647\\u0645 \\u0645\\u062b\\u0650\\u0644\\u0652 \\u064f\\u0645\\u062d\\u0645\\u062f\\u0650 \\u064f\\u0639\\u0628\\u064c\\u062f \\u064e\\u0627\\u064d\\u0644\\u064c\\u0628\\u0644\\u0648\\u0650\\u0634\\u064e\\u064a\\u060c\\u064c \\u064e\\u0648\\u064c\\u0637\\u0651\\u0627\\u0631\\u0642 \\u0623\\u064b\\u062d\\u0645\\u064d\\u062f\\u060c\\u0651 \\u064f\\u0628\\u064f\\u064a\\u064c\\u062f\\u064c \\u0623\\u0646 \\u0652\\u0627\\u0650\\u0644\\u064c\\u0645\\u064d\\u0644\\u064f\\u0627\\u064f\\u062d\\u0650\\u0638\\u0629 \\u0627\\u064d\\u0644\\u064f\\u0623\\u0633\\u0627\\u0633\\u064b\\u064a\\u0629 \\u062d\\u0648\\u064d\\u0644\\u064f \\u0647\\u0630\\u0627\\u0651 \\u064f\\u0627\\u064f\\u0644\\u0652\\u0639\\u0652\\u0631\\u0636\\u064e \\u064c\\u0647\\u0652\\u064a \\u064d\\u0623\\u0646 \\u064d\\u0647\\u0646\\u0627\\u0650\\u0644\\u0643\\u064f \\u064e\\u0646\\u064c\\u0642\\u0651\\u0635\\u064f\\u0627\\u0650\\u064b\\u0652 \\u0641\\u0651\\u064a\\u0651 \\u0651\\u0627\\u0644\\u0627\\u0650\\u0634\\u062a\\u0651\\u063a\\u0627\\u0644 \\u064e\\u0639\\u0644\\u064e\\u0649\\u064d \\u0627\\u0644\\u0645\\u0651\\u0645\\u0651\\u062b\\u0644\\u064b \\u0648\\u064b\\u062c\\u0639\\u0651\\u0644\\u0652\\u0647\\u064d \\u064a\\u062a\\u0642\\u064c\\u0645\\u064f\\u0635 \\u0651\\u0627\\u064f\\u0644\\u0652\\u062f\\u0648\\u0631\\u0651 \\u0651\\u0628\\u0650\\u0642\\u0648\\u0629\\u064b\\u060c \\u0648\\u064a\\u064b\\u062a\\u0650\\u0635\\u064e\\u0631\\u0641\\u0651 \\u0628\\u0634\\u064e\\u0643\\u0644\\u064c \\u0637\\u0628\\u064a\\u0652\\u0639\\u064a\\u0651\\u060c \\u064e\\u0648\\u0642\\u064e\\u062f\\u0651 \\u0628\\u0650\\u062f\\u0627\\u064b \\u0639\\u0644\\u0649 \\u064e\\u0628\\u0639\\u064f\\u0636 \\u064c\\u0627\\u064b\\u0644\\u064c\\u0623\\u064e\\u062f\\u0648\\u0627\\u0651\\u0631\\u0650 \\u062a\\u0643\\u064f\\u0644\\u064c\\u0641 \\u0648\\u0627\\u0651\\u0636\\u062d\\u060c\\u0651 \\u0650\\u0643\\u0645\\u0627 \\u064d\\u0623\\u064c\\u0646\\u0651 \\u064d\\u062a\\u0643\\u0631\\u0627\\u0652\\u0631 \\u0623\\u064f\\u0645\\u064d\\u062b\\u0652\\u0644\\u0629 \\u064d\\u0645\\u062a\\u0639\\u0650\\u062f\\u064d\\u062f\\u0650\\u0629\\u064c \\u064e\\u0644\\u0651\\u0644\\u064d\\u0639\\u0645\\u0644\\u064d\\u064a\\u0652\\u0629 \\u064d\\u0646\\u064c\\u0641\\u0650\\u0633\\u064d\\u0647\\u064c\\u0627\\u064f .\\u064c . \\u064a\\u0623\\u062a\\u0652\\u064a\\u0652 \\u064b\\u0631\\u0652\\u062c\\u064f\\u0644\\u0652 \\u0641\\u064a\\u062d\\u064d\\u0643\\u064e\\u0645 \\u0639\\u0644\\u064a\\u064e\\u0647 \\u0638\\u064b\\u0644\\u0645\\u0627\\u064b\\u064f \\u0652\\u0648\\u064d\\u064a\\u0651\\u063a\\u0631\\u0645 \\u062b\\u0645\\u0650 \\u0651\\u064a\\u064f\\u0623\\u064e\\u062a\\u064a \\u0622\\u062e\\u0652\\u0631 \\u064e\\u0644\\u064e\\u064a\\u0651\\u0644\\u0642\\u0649\\u0651 \\u0627\\u0644\\u0645\\u0635\\u0650\\u064a\\u064c\\u0631\\u0651 \\u0630\\u0627\\u062a\\u064f\\u0647\\u064e\\u060c \\u0648\\u064d\\u062b\\u064b\\u0627\\u064c\\u0644\\u064f\\u062b\\u064d \\u064e\\u0648\\u064f\\u0631\\u0627\\u064f\\u0628\\u0651\\u0639\\u064c\\u060c \\u0623\\u0636\\u064f\\u0641\\u064e\\u0649 \\u0639\\u0644\\u064c\\u0649 \\u0627\\u0644\\u064c\\u0645\\u0652\\u0633\\u0652\\u0631\\u0650\\u062d\\u0650\\u064a\\u064b\\u0629\\u064c \\u0631\\u0650\\u062a\\u0651\\u0627\\u0628\\u0629\\u060c \\u064d\\u0648\\u064c\\u0643\\u0627\\u064d\\u0646\\u0652 \\u064d\\u064a\\u0645\\u0652\\u0643\\u064c\\u0646 \\u062d\\u0630\\u0641\\u0652 \\u064b\\u0648\\u0627\\u0652\\u062d\\u062f \\u0623\\u0648\\u064c \\u0651\\u0627\\u064e\\u062b\\u0646\\u064c\\u064a\\u0651\\u0646\\u064b \\u0650\\u0645\\u0646 \\u062a\\u064b\\u0644\\u064d\\u0643\\u064c \\u0627\\u0651\\u0644\\u064d\\u062a\\u0643\\u064c\\u0631\\u0652\\u0627\\u0631\\u0627\\u062a\\u0652 \\u0651\\u0645\\u0646\\u064e \\u0627\\u064c\\u0644\\u0639\\u064b\\u0631\\u0636 \\u0643\\u064a \\u0644\\u0650\\u0627 \\u064d\\u062a\\u0628\\u0650\\u0642\\u064b\\u0649\\u064f \\u064d\\u0627\\u064e\\u0644\\u0645\\u062e\\u0650\\u0631\\u062c\\u0629\\u064b \\u0623\\u064c\\u0633\\u064a\\u0631\\u0652\\u0629 \\u064c\\u0644\\u062d\\u0631\\u064d\\u0641\\u064b\\u064a\\u0629 \\u064f\\u0627\\u0651\\u0644\\u0651\\u0646\\u0635 .\\u0627\\u064b\\u0644\\u064f\\u0639\\u0631\\u0636\\u0651 \\u0627\\u064d\\u0644\\u062b\\u064c\\u0627\\u0646\\u064a\\u064f \\u064d\\u0643\\u064f\\u0627\\u0646\\u064b \\u0628\\u0639\\u064e\\u0646\\u0651\\u0648\\u0651\\u0627\\u0646\\u064e \\u064d\\u0627\\u0652\\u0644\\u0651\\u0645\\u0634\\u064d\\u0647\\u0650\\u062f \\u0627\\u0650\\u0644\\u0623\\u064b\\u062e\\u064c\\u064a\\u0631 \\u0650\\u0645\\u064d\\u0646\\u064d \\u064e\\u0627\\u064b\\u0644\\u0645\\u0623\\u0633\\u0627\\u0629\\u0650 \\u064d\\u0644\\u064c\\u0644\\u0643\\u0652\\u0627\\u062a\\u064c\\u0628\\u0652 \\u064c\\u0627\\u0652\\u0644\\u064d\\u0625\\u064e\\u064a\\u0631\\u064b\\u0644\\u0646\\u062f\\u064a\\u064b \\u0635\\u0645\\u0648\\u0626\\u0651\\u064a\\u0644 \\u0628\\u0652\\u064a\\u0650\\u0643\\u0651\\u064a\\u062a\\u064e\\u060c \\u0648\\u0647\\u0648 \\u0645\\u064c\\u0646 \\u064b\\u0625\\u064e\\u062e\\u0650\\u0631\\u0627\\u062c\\u0651 \\u0652\\u0646\\u064e\\u0648\\u0631\\u064f \\u063a\\u0652\\u0627\\u0646\\u0645\\u064f \\u064e\\u0627\\u0644\\u062a\\u064a\\u064c \\u0627\\u0634\\u0651\\u062a\\u064e\\u0631\\u0643\\u062a \\u0623\\u064f\\u064a\\u0636\\u0627\\u0651\\u064b\\u0651 \\u0641\\u064a\\u0651 \\u0627\\u0650\\u0644\\u064e\\u062a\\u0651\\u0645\\u062b\\u0651\\u064a\\u064c\\u0644\\u0652 \\u064e\\u0641\\u064e\\u064a\\u0647\\u064e \\u064d\\u0645\\u0639 \\u064b\\u0628\\u064f\\u062b\\u0651\\u064a\\u064f\\u0646\\u064b\\u0629\\u0652 \\u0633\\u0644\\u0650\\u0648\\u0645 \\u064c\\u0648\\u0652\\u0639\\u0650\\u0645\\u0627\\u062f\\u0651 \\u0627\\u0644\\u064b\\u0628\\u064a\\u064f\\u062a\\u0645\\u0651\\u060c \\u0627\\u064f\\u0644\\u0650\\u0645\\u0633\\u0631\\u064d\\u062d\\u064a\\u064f\\u0629 \\u0647\\u064b\\u064a \\u0650\\u0645\\u0646 \\u0630\\u0650\\u0644\\u0643\\u064c \\u0627\\u0651\\u0644\\u064c\\u0646\\u0650\\u0648\\u064f\\u0639 \\u0627\\u064b\\u0644\\u064f\\u0630\\u064d\\u064a\\u064b \\u064a\\u064c\\u062a\\u0652\\u062e\\u0630\\u064e \\u064d\\u0645\\u0651\\u0646 \\u0627\\u064d\\u0644\\u0651\\u0645\\u0633\\u0631\\u064d\\u062d \\u0645\\u064c\\u0648\\u0636\\u0648\\u064b\\u0639\\u064d\\u0627\\u064e\\u064b \\u064b\\u0644\\u064e\\u0647\\u064f .\\u064c\\u0643\\u064f\\u0627\\u064b\\u0646\\u062a \\u0645\\u0652\\u063a\\u0627\\u064f\\u0645\\u0631\\u0629 \\u0643\\u064b\\u0628\\u0651\\u064a\\u0631\\u0629 \\u0652\\u0645\\u0646 \\u064d\\u0645\\u062e\\u0631\\u062c\\u0629 \\u0645\\u0628\\u064b\\u062a\\u064c\\u062f\\u064b\\u0626\\u0651\\u0629 \\u0623\\u0646\\u064f \\u062a\\u0642\\u062a\\u062d\\u0645\\u064b \\u064b\\u0646\\u064c\\u0635\\u0627\\u064e\\u064b\\u064b \\u0628\\u064e\\u0643\\u064f\\u062b\\u0650\\u0627\\u0652\\u0641\\u0651\\u0629\\u0650 \\u0646\\u0635\\u0648\\u064c\\u0635\\u0650 \\u0628\\u064a\\u064e\\u0643\\u064b\\u064a\\u064b\\u062a \\u0627\\u064d\\u0644\\u064c\\u0645\\u064f\\u0634\\u064e\\u0628\\u0639\\u0629\\u064b \\u0650\\u0628\\u0651\\u0627\\u0651\\u0644\\u0631\\u064d\\u0645\\u0632\\u064d\\u064a\\u0652\\u0629\\u064c \\u0648\\u0652\\u0627\\u0652\\u0644\\u0634\\u0639\\u0631\\u064a\\u0629\\u064c\\u060c \\u0648\\u0650\\u062a\\u0642\\u062f\\u064d\\u0645\\u0647\\u064d\\u0627 \\u064e\\u0641\\u064d\\u064a \\u064e\\u0639\\u0631\\u0636 \\u064f\\u0645\\u0633\\u0631\\u0652\\u062d\\u064e\\u064a\\u064c\\u060c\\u064e \\u0652\\u0641\\u0645\\u0651\\u062b\\u0644\\u064c \\u0651\\u0647\\u064d\\u0630\\u0652\\u0647 \\u0627\\u0644\\u0646\\u064b\\u0635\\u0648\\u0635 \\u064c\\u062a\\u064f\\u0642\\u0644\\u0642 \\u0627\\u0652\\u0644\\u064f\\u0645\\u064c\\u062e\\u064c\\u0631\\u064b\\u062c\\u064a\\u0646 \\u064c\\u0627\\u0644\\u0651\\u0645\\u0651\\u062d\\u062a\\u0631\\u0641\\u0651\\u064a\\u0650\\u0646\\u064f\\u060c\\u064e \\u064c\\u0644\\u0652\\u0643\\u0646 \\u0646\\u0648\\u064e\\u0631 \\u063a\\u0651\\u0627\\u064c\\u0646\\u064e\\u0645\\u0652 \\u0651\\u0646\\u062c\\u062d\\u064f\\u062a \\u064f\\u0625\\u0644\\u0652\\u0649 \\u062d\\u062f \\u0651\\u0643\\u064d\\u0628\\u0652\\u064a\\u0631\\u064f \\u0650\\u0641\\u064c\\u064a\\u0651 \\u064d\\u0645\\u064e\\u063a\\u0627\\u064f\\u0645\\u064e\\u0631\\u0652\\u062a\\u064b\\u0647\\u0627\\u060c\\u064e \\u0648\\u0623\\u064c\\u062b\\u0628\\u062a\\u064f\\u062a \\u0623\\u064e\\u0646\\u0647\\u0650\\u0627 \\u064d\\u0645\\u064c\\u0634\\u0650\\u0631\\u0648\\u0652\\u0639\\u064c \\u0652\\u0645\\u0652\\u062e\\u0631\\u062c\\u064f\\u0629 \\u0645\\u064f\\u062d\\u062a\\u0650\\u0631\\u064b\\u0641\\u0629\\u060c \\u064b\\u0648\\u0627\\u0633\\u062a\\u0652\\u0637\\u0650\\u0627\\u0639\\u064c\\u062a \\u064e\\u0623\\u064c\\u0646 \\u064e\\u062a\\u0642\\u062f\\u0645 \\u064d\\u0639\\u064e\\u0631\\u064f\\u0636\\u0651\\u0627\\u064e\\u064b\\u064c \\u064e\\u0645\\u064c\\u0633\\u0631\\u062d\\u064a\\u0627\\u064c\\u064b\\u064c \\u064b\\u0627\\u0652\\u0634\\u064f\\u062a\\u063a\\u0644\\u062a\\u0651 \\u0641\\u064a\\u0647\\u064f \\u0639\\u0644\\u064d\\u0649 \\u0652\\u0627\\u0644\\u064c\\u062d\\u0652\\u0631\\u064c\\u0643\\u064b\\u0629 \\u0627\\u0644\\u062c\\u0652\\u0633\\u062f\\u064a\\u064c\\u0629 \\u0650\\u0627\\u0650\\u0644\\u0645\\u0651\\u0639\\u0628\\u0652\\u0631\\u0629\\u064b\\u060c\\u064c \\u0650\\u0648\\u064f\\u0628\\u064d\\u062f\\u064f\\u062a\\u0650 \\u0641\\u064f\\u064a\\u0647\\u0650 \\u0627\\u0644\\u0651\\u0645\\u0645\\u062b\\u0644\\u062a\\u064d\\u0627\\u0646\\u0650 \\u0650\\u0645\\u0652\\u0646\\u0652\\u0633\\u064c\\u062c\\u0645\\u062a\\u064e\\u064a\\u064b\\u0646\\u064f \\u064f\\u0641\\u064a \\u064b\\u0623\\u062f\\u0650\\u0627\\u0626\\u0647\\u0645\\u0651\\u0627\\u064e \\u064d\\u062e\\u0635\\u064d\\u0648\\u0635\\u0627\\u064b \\u0641\\u064a \\u0650\\u0645\\u064d\\u0634\\u0627\\u0647\\u062f \\u0627\\u064c\\u0644\\u064e\\u062d\\u0652\\u0648\\u0627\\u0631 \\u0652\\u0627\\u0644\\u064b\\u062b\\u064f\\u0646\\u0651\\u0627\\u064c\\u0626\\u064a\\u064b\\u0629\\u0652\\u060c\\u064d \\u0652\\u0648\\u0642\\u062f\\u0650 \\u064b\\u062a\\u0646\\u0627\\u063a\\u064e\\u0645\\u062a \\u0651\\u0627\\u0651\\u0644\\u0625\\u0650\\u0636\\u0627\\u0621\\u0629 \\u0645\\u0639 \\u0650\\u062d\\u0631\\u0643\\u0629 \\u0650\\u0627\\u0644\\u064b\\u0645\\u0645\\u062b\\u0650\\u0644\\u062a\\u064a\\u0646\\u0651 \\u0648\\u0644\\u064c\\u0639\\u0628\\u062a\\u064c \\u062f\\u0648\\u064e\\u0631\\u064d\\u0627\\u064b \\u064e\\u0623\\u0633\\u064f\\u0627\\u0633\\u064a\\u0650\\u0627\\u064e\\u064b \\u064c\\u0641\\u064a \\u0651\\u062a\\u0639\\u0632\\u064a\\u0651\\u0632 \\u0631\\u064b\\u0645\\u064b\\u0632\\u064e\\u064a\\u0629\\u064f \\u0627\\u0651\\u0644\\u0645\\u0648\\u0627\\u0650\\u0642\\u0652\\u0641\\u064f\\u060c \\u0648\\u0651\\u0645\\u0652\\u0639\\u064d \\u064d\\u0630\\u064e\\u0644\\u0651\\u0643\\u064b \\u0641\\u0650\\u0642\\u062f\\u064e \\u064b\\u0634\\u0627\\u064f\\u0628 \\u064b\\u0628\\u0639\\u0650\\u0636 \\u0650\\u0627\\u0650\\u0644\\u064e\\u0645\\u0648\\u0627\\u0642\\u0650\\u0641\\u0651 \\u0652\\u062a\\u064d\\u0628\\u064f\\u0627\\u0651\\u0637\\u064c\\u0624 \\u0648\\u0641\\u064b\\u062a\\u0648\\u064d\\u0631\\u064e \\u0652\\u0643\\u0627\\u0646 \\u064a\\u0645\\u064b\\u0643\\u0651\\u0646\\u0652 \\u062a\\u0651\\u0641\\u064f\\u0627\\u062f\\u064e\\u064a\\u064d\\u0647\\u060c \\u064b\\u0648\\u064e\\u0641\\u0651\\u064a\\u064f \\u0650\\u0627\\u0644\\u0645\\u064d\\u0648\\u0646\\u064e\\u0648\\u0650\\u0644\\u0652\\u0648\\u062c\\u0627\\u062a\\u064c \\u064c\\u062e\\u0627\\u064e\\u0635\\u0629\\u0650 \\u0644\\u0645 \\u064a\\u0643\\u0646 \\u0627\\u0651\\u0644\\u0623\\u062f\\u064b\\u0627\\u064c\\u0621 \\u0627\\u064e\\u0644\\u062d\\u0631\\u0650\\u0643\\u064a\\u0652 \\u0628\\u0652\\u0627\\u0644\\u0650\\u0645\\u064f\\u0633\\u062a\\u0650\\u0648\\u0649\\u0651 \\u0650\\u0627\\u0644\\u0627\\u0646\\u0641\\u064b\\u0639\\u064e\\u0627\\u0644\\u064b\\u064a\\u064c \\u064e\\u0641\\u064a \\u064d\\u0627\\u0650\\u0644\\u0646\\u0650\\u0635\\u064c\\u060c\\u0652 \\u0652\\u0648\\u0643\\u0650\\u0627\\u0646\\u064f \\u0652\\u064a\\u0652\\u0645\\u0650\\u0643\\u064c\\u0646\\u064b \\u064e\\u062d\\u0630\\u0641 \\u0628\\u064f\\u0639\\u064e\\u0636\\u064f \\u062a\\u0644\\u0643 \\u0627\\u0652\\u0644\\u064f\\u0645\\u064f\\u0642\\u0627\\u064f\\u0637\\u0639\\u0652 \\u0645\\u064e\\u0646\\u064f \\u0627\\u064c\\u0644\\u0652\\u0646\\u064e\\u0635 \\u064b\\u0645\\u0650\\u0627\\u064d \\u0633\\u064c\\u064a\\u064f\\u062e\\u064c\\u062f\\u0645 \\u062d\\u0631\\u0643\\u064a\\u062a\\u064b\\u0647\\u0651 \\u064f\\u0648\\u0631\\u0634\\u0652\\u0627\\u064e\\u0642\\u0651\\u062a\\u064f\\u0647\\u064c \\u064e\\u0623\\u0643\\u0652\\u062b\\u064e\\u0631\\u064f \\u0652\\u0648\\u0651\\u0644\\u0627\\u0651 \\u064a\\u0624\\u062b\\u0631 \\u0641\\u064a \\u0652\\u0631\\u064c\\u0624\\u064a\\u0652\\u062a\\u0651\\u0647 . \\u0648\\u064f\\u062e\\u062a\\u0645\\u062a\\u064b \\u064e\\u0627\\u0651\\u0644\\u064e\\u0623\\u0645\\u0633\\u064a\\u0651\\u0629 \\u0628\\u0650\\u062a\\u0643\\u0652\\u0631\\u0651\\u064a\\u0645\\u064b \\u0627\\u0644\\u064d\\u0645\\u0634\\u0627\\u064b\\u0631\\u0643\\u064a\\u064c\\u0646 \\u0641\\u064d\\u064a \\u0627\\u0644\\u0650\\u0639\\u0631\\u0636\\u0651\\u064a\\u0646 \\u064f\\u0648\\u0641\\u0627\\u064d\\u0632\\u064b\\u062a\\u0651 \\u0646\\u0648\\u064c\\u0631 \\u063a\\u0627\\u064f\\u0646\\u0645\\u064e \\u064c\\u0628\\u062c\\u0627\\u064d\\u0626\\u0632\\u0629\\u064f \\u0627\\u064d\\u0644\\u0652\\u062c\\u0645\\u0650\\u0647\\u0648\\u0631 \\u064f\\u0644\\u0623\\u064f\\u0641\\u0636\\u0644 \\u0645\\u064b\\u0645\\u062b\\u0644 \\u0650.\\u064d\"\n        ],\n        \"semantic_type\": \"\",\n        \"description\": \"\"\n      }\n    },\n    {\n      \"column\": \"label\",\n      \"properties\": {\n        \"dtype\": \"string\",\n        \"num_unique_values\": 3,\n        \"samples\": [\n          \"Culture\",\n          \"Tech\",\n          \"Politics\"\n        ],\n        \"semantic_type\": \"\",\n        \"description\": \"\"\n      }\n    }\n  ]\n}"
            }
          },
          "metadata": {},
          "execution_count": 5
        }
      ],
      "source": [
        "df.sample(5)"
      ]
    },
    {
      "cell_type": "code",
      "source": [
        "df.info()"
      ],
      "metadata": {
        "id": "_n_ROo5uIVqT",
        "outputId": "acd982b9-8813-4acf-81ee-171b115fb359",
        "colab": {
          "base_uri": "https://localhost:8080/"
        }
      },
      "execution_count": 6,
      "outputs": [
        {
          "output_type": "stream",
          "name": "stdout",
          "text": [
            "<class 'pandas.core.frame.DataFrame'>\n",
            "RangeIndex: 39885 entries, 0 to 39884\n",
            "Data columns (total 2 columns):\n",
            " #   Column  Non-Null Count  Dtype \n",
            "---  ------  --------------  ----- \n",
            " 0   text    39885 non-null  object\n",
            " 1   label   39885 non-null  object\n",
            "dtypes: object(2)\n",
            "memory usage: 623.3+ KB\n"
          ]
        }
      ]
    },
    {
      "cell_type": "code",
      "source": [
        "df.describe()"
      ],
      "metadata": {
        "id": "97gZzTHLIY7n",
        "outputId": "fd5e1621-3cc2-4e82-f3f6-351d679c7600",
        "colab": {
          "base_uri": "https://localhost:8080/",
          "height": 173
        }
      },
      "execution_count": 7,
      "outputs": [
        {
          "output_type": "execute_result",
          "data": {
            "text/plain": [
              "                                                     text     label\n",
              "count                                               39885     39885\n",
              "unique                                              39885         7\n",
              "top     https://example.com/resource/تنطًلقٍ اٌليومّ َ...  Politics\n",
              "freq                                                    1      6334"
            ],
            "text/html": [
              "\n",
              "  <div id=\"df-5c211fc0-b1a9-4967-bd6a-3413e40eec77\" class=\"colab-df-container\">\n",
              "    <div>\n",
              "<style scoped>\n",
              "    .dataframe tbody tr th:only-of-type {\n",
              "        vertical-align: middle;\n",
              "    }\n",
              "\n",
              "    .dataframe tbody tr th {\n",
              "        vertical-align: top;\n",
              "    }\n",
              "\n",
              "    .dataframe thead th {\n",
              "        text-align: right;\n",
              "    }\n",
              "</style>\n",
              "<table border=\"1\" class=\"dataframe\">\n",
              "  <thead>\n",
              "    <tr style=\"text-align: right;\">\n",
              "      <th></th>\n",
              "      <th>text</th>\n",
              "      <th>label</th>\n",
              "    </tr>\n",
              "  </thead>\n",
              "  <tbody>\n",
              "    <tr>\n",
              "      <th>count</th>\n",
              "      <td>39885</td>\n",
              "      <td>39885</td>\n",
              "    </tr>\n",
              "    <tr>\n",
              "      <th>unique</th>\n",
              "      <td>39885</td>\n",
              "      <td>7</td>\n",
              "    </tr>\n",
              "    <tr>\n",
              "      <th>top</th>\n",
              "      <td>https://example.com/resource/تنطًلقٍ اٌليومّ َ...</td>\n",
              "      <td>Politics</td>\n",
              "    </tr>\n",
              "    <tr>\n",
              "      <th>freq</th>\n",
              "      <td>1</td>\n",
              "      <td>6334</td>\n",
              "    </tr>\n",
              "  </tbody>\n",
              "</table>\n",
              "</div>\n",
              "    <div class=\"colab-df-buttons\">\n",
              "\n",
              "  <div class=\"colab-df-container\">\n",
              "    <button class=\"colab-df-convert\" onclick=\"convertToInteractive('df-5c211fc0-b1a9-4967-bd6a-3413e40eec77')\"\n",
              "            title=\"Convert this dataframe to an interactive table.\"\n",
              "            style=\"display:none;\">\n",
              "\n",
              "  <svg xmlns=\"http://www.w3.org/2000/svg\" height=\"24px\" viewBox=\"0 -960 960 960\">\n",
              "    <path d=\"M120-120v-720h720v720H120Zm60-500h600v-160H180v160Zm220 220h160v-160H400v160Zm0 220h160v-160H400v160ZM180-400h160v-160H180v160Zm440 0h160v-160H620v160ZM180-180h160v-160H180v160Zm440 0h160v-160H620v160Z\"/>\n",
              "  </svg>\n",
              "    </button>\n",
              "\n",
              "  <style>\n",
              "    .colab-df-container {\n",
              "      display:flex;\n",
              "      gap: 12px;\n",
              "    }\n",
              "\n",
              "    .colab-df-convert {\n",
              "      background-color: #E8F0FE;\n",
              "      border: none;\n",
              "      border-radius: 50%;\n",
              "      cursor: pointer;\n",
              "      display: none;\n",
              "      fill: #1967D2;\n",
              "      height: 32px;\n",
              "      padding: 0 0 0 0;\n",
              "      width: 32px;\n",
              "    }\n",
              "\n",
              "    .colab-df-convert:hover {\n",
              "      background-color: #E2EBFA;\n",
              "      box-shadow: 0px 1px 2px rgba(60, 64, 67, 0.3), 0px 1px 3px 1px rgba(60, 64, 67, 0.15);\n",
              "      fill: #174EA6;\n",
              "    }\n",
              "\n",
              "    .colab-df-buttons div {\n",
              "      margin-bottom: 4px;\n",
              "    }\n",
              "\n",
              "    [theme=dark] .colab-df-convert {\n",
              "      background-color: #3B4455;\n",
              "      fill: #D2E3FC;\n",
              "    }\n",
              "\n",
              "    [theme=dark] .colab-df-convert:hover {\n",
              "      background-color: #434B5C;\n",
              "      box-shadow: 0px 1px 3px 1px rgba(0, 0, 0, 0.15);\n",
              "      filter: drop-shadow(0px 1px 2px rgba(0, 0, 0, 0.3));\n",
              "      fill: #FFFFFF;\n",
              "    }\n",
              "  </style>\n",
              "\n",
              "    <script>\n",
              "      const buttonEl =\n",
              "        document.querySelector('#df-5c211fc0-b1a9-4967-bd6a-3413e40eec77 button.colab-df-convert');\n",
              "      buttonEl.style.display =\n",
              "        google.colab.kernel.accessAllowed ? 'block' : 'none';\n",
              "\n",
              "      async function convertToInteractive(key) {\n",
              "        const element = document.querySelector('#df-5c211fc0-b1a9-4967-bd6a-3413e40eec77');\n",
              "        const dataTable =\n",
              "          await google.colab.kernel.invokeFunction('convertToInteractive',\n",
              "                                                    [key], {});\n",
              "        if (!dataTable) return;\n",
              "\n",
              "        const docLinkHtml = 'Like what you see? Visit the ' +\n",
              "          '<a target=\"_blank\" href=https://colab.research.google.com/notebooks/data_table.ipynb>data table notebook</a>'\n",
              "          + ' to learn more about interactive tables.';\n",
              "        element.innerHTML = '';\n",
              "        dataTable['output_type'] = 'display_data';\n",
              "        await google.colab.output.renderOutput(dataTable, element);\n",
              "        const docLink = document.createElement('div');\n",
              "        docLink.innerHTML = docLinkHtml;\n",
              "        element.appendChild(docLink);\n",
              "      }\n",
              "    </script>\n",
              "  </div>\n",
              "\n",
              "\n",
              "<div id=\"df-bc2fc4c9-0960-4638-a07a-b39d78c791cd\">\n",
              "  <button class=\"colab-df-quickchart\" onclick=\"quickchart('df-bc2fc4c9-0960-4638-a07a-b39d78c791cd')\"\n",
              "            title=\"Suggest charts\"\n",
              "            style=\"display:none;\">\n",
              "\n",
              "<svg xmlns=\"http://www.w3.org/2000/svg\" height=\"24px\"viewBox=\"0 0 24 24\"\n",
              "     width=\"24px\">\n",
              "    <g>\n",
              "        <path d=\"M19 3H5c-1.1 0-2 .9-2 2v14c0 1.1.9 2 2 2h14c1.1 0 2-.9 2-2V5c0-1.1-.9-2-2-2zM9 17H7v-7h2v7zm4 0h-2V7h2v10zm4 0h-2v-4h2v4z\"/>\n",
              "    </g>\n",
              "</svg>\n",
              "  </button>\n",
              "\n",
              "<style>\n",
              "  .colab-df-quickchart {\n",
              "      --bg-color: #E8F0FE;\n",
              "      --fill-color: #1967D2;\n",
              "      --hover-bg-color: #E2EBFA;\n",
              "      --hover-fill-color: #174EA6;\n",
              "      --disabled-fill-color: #AAA;\n",
              "      --disabled-bg-color: #DDD;\n",
              "  }\n",
              "\n",
              "  [theme=dark] .colab-df-quickchart {\n",
              "      --bg-color: #3B4455;\n",
              "      --fill-color: #D2E3FC;\n",
              "      --hover-bg-color: #434B5C;\n",
              "      --hover-fill-color: #FFFFFF;\n",
              "      --disabled-bg-color: #3B4455;\n",
              "      --disabled-fill-color: #666;\n",
              "  }\n",
              "\n",
              "  .colab-df-quickchart {\n",
              "    background-color: var(--bg-color);\n",
              "    border: none;\n",
              "    border-radius: 50%;\n",
              "    cursor: pointer;\n",
              "    display: none;\n",
              "    fill: var(--fill-color);\n",
              "    height: 32px;\n",
              "    padding: 0;\n",
              "    width: 32px;\n",
              "  }\n",
              "\n",
              "  .colab-df-quickchart:hover {\n",
              "    background-color: var(--hover-bg-color);\n",
              "    box-shadow: 0 1px 2px rgba(60, 64, 67, 0.3), 0 1px 3px 1px rgba(60, 64, 67, 0.15);\n",
              "    fill: var(--button-hover-fill-color);\n",
              "  }\n",
              "\n",
              "  .colab-df-quickchart-complete:disabled,\n",
              "  .colab-df-quickchart-complete:disabled:hover {\n",
              "    background-color: var(--disabled-bg-color);\n",
              "    fill: var(--disabled-fill-color);\n",
              "    box-shadow: none;\n",
              "  }\n",
              "\n",
              "  .colab-df-spinner {\n",
              "    border: 2px solid var(--fill-color);\n",
              "    border-color: transparent;\n",
              "    border-bottom-color: var(--fill-color);\n",
              "    animation:\n",
              "      spin 1s steps(1) infinite;\n",
              "  }\n",
              "\n",
              "  @keyframes spin {\n",
              "    0% {\n",
              "      border-color: transparent;\n",
              "      border-bottom-color: var(--fill-color);\n",
              "      border-left-color: var(--fill-color);\n",
              "    }\n",
              "    20% {\n",
              "      border-color: transparent;\n",
              "      border-left-color: var(--fill-color);\n",
              "      border-top-color: var(--fill-color);\n",
              "    }\n",
              "    30% {\n",
              "      border-color: transparent;\n",
              "      border-left-color: var(--fill-color);\n",
              "      border-top-color: var(--fill-color);\n",
              "      border-right-color: var(--fill-color);\n",
              "    }\n",
              "    40% {\n",
              "      border-color: transparent;\n",
              "      border-right-color: var(--fill-color);\n",
              "      border-top-color: var(--fill-color);\n",
              "    }\n",
              "    60% {\n",
              "      border-color: transparent;\n",
              "      border-right-color: var(--fill-color);\n",
              "    }\n",
              "    80% {\n",
              "      border-color: transparent;\n",
              "      border-right-color: var(--fill-color);\n",
              "      border-bottom-color: var(--fill-color);\n",
              "    }\n",
              "    90% {\n",
              "      border-color: transparent;\n",
              "      border-bottom-color: var(--fill-color);\n",
              "    }\n",
              "  }\n",
              "</style>\n",
              "\n",
              "  <script>\n",
              "    async function quickchart(key) {\n",
              "      const quickchartButtonEl =\n",
              "        document.querySelector('#' + key + ' button');\n",
              "      quickchartButtonEl.disabled = true;  // To prevent multiple clicks.\n",
              "      quickchartButtonEl.classList.add('colab-df-spinner');\n",
              "      try {\n",
              "        const charts = await google.colab.kernel.invokeFunction(\n",
              "            'suggestCharts', [key], {});\n",
              "      } catch (error) {\n",
              "        console.error('Error during call to suggestCharts:', error);\n",
              "      }\n",
              "      quickchartButtonEl.classList.remove('colab-df-spinner');\n",
              "      quickchartButtonEl.classList.add('colab-df-quickchart-complete');\n",
              "    }\n",
              "    (() => {\n",
              "      let quickchartButtonEl =\n",
              "        document.querySelector('#df-bc2fc4c9-0960-4638-a07a-b39d78c791cd button');\n",
              "      quickchartButtonEl.style.display =\n",
              "        google.colab.kernel.accessAllowed ? 'block' : 'none';\n",
              "    })();\n",
              "  </script>\n",
              "</div>\n",
              "\n",
              "    </div>\n",
              "  </div>\n"
            ],
            "application/vnd.google.colaboratory.intrinsic+json": {
              "type": "dataframe",
              "summary": "{\n  \"name\": \"df\",\n  \"rows\": 4,\n  \"fields\": [\n    {\n      \"column\": \"text\",\n      \"properties\": {\n        \"dtype\": \"string\",\n        \"num_unique_values\": 3,\n        \"samples\": [\n          \"39885\",\n          \"https://example.com/resource/\\u062a\\u0646\\u0637\\u064b\\u0644\\u0642\\u064d \\u0627\\u064c\\u0644\\u064a\\u0648\\u0645\\u0651 \\u064e\\u0641\\u0651\\u064a\\u064d \\u0645\\u0631\\u0643\\u064e\\u0632\\u064c \\u064d\\u0645\\u0639\\u0627\\u0631\\u0636\\u064f \\u064b\\u0645\\u064f\\u0637\\u0627\\u0631 \\u062f\\u0628\\u064b\\u064a \\u0627\\u064f\\u0644\\u062f\\u0648\\u064e\\u0631\\u0629 \\u0627\\u064d\\u0644\\u064e \\u065021\\u064c \\u0651\\u0644\\u0652\\u0645\\u064e\\u0639\\u0631\\u0636\\u0652 \\u064d\\u062c\\u064e\\u064a\\u062a\\u0650\\u0643\\u064d\\u0633\\u064c \\u0634\\u064d\\u0648\\u0628\\u0631 \\u060c\\u065120\\u064f1\\u064d1 \\u064e\\u0627\\u0644\\u0630\\u0651\\u064a\\u064f \\u064f\\u064a\\u064b\\u0648\\u0627\\u064b\\u0635\\u0650\\u0644\\u064e \\u0627\\u0633\\u064e\\u062a\\u064b\\u0642\\u0628\\u0627\\u0651\\u0644 \\u064f\\u0627\\u0652\\u0644\\u064f\\u0645\\u064d\\u062a\\u064e\\u0633\\u064d\\u0648\\u0642\\u064a\\u0646\\u0652 \\u0645\\u064d\\u0646\\u064b \\u064b\\u0627\\u064b\\u0644\\u062f\\u0648\\u0644\\u0629 \\u0648\\u0651\\u062f\\u064d\\u0648\\u064d\\u0644\\u064b \\u064f\\u0645\\u062c\\u0644\\u0633\\u064f \\u064e\\u0627\\u0644\\u064c\\u062a\\u064e\\u0639\\u0627\\u0648\\u064d\\u0646\\u0652 \\u064f\\u0648\\u0627\\u0644\\u0645\\u064d\\u0646\\u064c\\u0637\\u064e\\u0642\\u0629\\u064b \\u0650\\u062d\\u062a\\u0651\\u0649 \\u0627\\u0650\\u0644\\u0652\\u0633\\u0628\\u062a\\u0651 \\u064f\\u0627\\u0644\\u0645\\u0642\\u0628\\u0644\\u0652 \\u064b1\\u06525\\u0652 \\u0652\\u0623\\u064e\\u0643\\u062a\\u064b\\u0648\\u0628\\u064b\\u0631\\u0652 \\u064f\\u0627\\u0644\\u062c\\u0627\\u0631\\u064a\\u0651 \\u0652\\u0648\\u0633\\u0637 \\u0645\\u0650\\u0646\\u0651\\u0627\\u064b\\u0641\\u0633\\u0629\\u064d \\u0642\\u0650\\u0648\\u064a\\u0629 \\u0645\\u0646\\u064f \\u0646\\u064b\\u062d\\u0648 \\u0651100 \\u064f\\u0634\\u0631\\u064d\\u0643\\u064d\\u0629\\u0652 \\u0650\\u0645\\u062a\\u0650\\u062e\\u0651\\u0635\\u0635\\u0651\\u0629 \\u064b\\u0641\\u064a \\u0645\\u0628\\u064b\\u064a\\u0639\\u0627\\u062a \\u0625\\u064f\\u0644\\u0643\\u064c\\u062a\\u0631\\u0651\\u0648\\u064c\\u0646\\u0652\\u064a\\u0627\\u064f\\u062a \\u064d\\u0627\\u0650\\u0644\\u062a\\u062c\\u0632\\u0650\\u0626\\u064b\\u0629\\u064e \\u0648\\u064e\\u0627\\u0652\\u0644\\u0652\\u0630\\u064d\\u064a\\u064e\\u0646 \\u064a\\u0633\\u064c\\u062a\\u0647\\u062f\\u064e\\u0641\\u064c\\u0648\\u0646\\u064b \\u064b\\u062a\\u062d\\u0651\\u0642\\u064f\\u064a\\u0642 \\u0646\\u064f\\u0633\\u0651\\u0628 \\u064d\\u0646\\u0645\\u064b\\u0648\\u0652 \\u0644\\u0651\\u0645\\u0628\\u064f\\u064a\\u064b\\u0639\\u0627\\u062a\\u0647\\u0645\\u0652 \\u064e\\u062a\\u062a\\u0631\\u064d\\u0627\\u0648\\u064b\\u062d \\u0651\\u0628\\u064a\\u064e\\u0646\\u064d \\u06501\\u06525 \\u064d\\u0648\\u064b25\\u064d \\u064f%\\u0650\\u060c\\u064b \\u064f\\u062d\\u0633\\u0628 \\u0625\\u0641\\u0627\\u064c\\u062f\\u062a\\u0647\\u0645\\u064e \\u0644\\u064c\\u0627\\u064e\\u0644\\u062e\\u0650\\u0644\\u064c\\u064a\\u064e\\u062c .\\u0652\\u0648\\u062a\\u0652\\u062a\\u064f\\u0646\\u064e\\u0627\\u0651\\u0641\\u064e\\u0633 \\u064f\\u0627\\u0650\\u0644\\u0634\\u0651\\u0631\\u0643\\u064e\\u0627\\u062a \\u064e\\u0627\\u0644\\u064d\\u0639\\u064d\\u0627\\u064b\\u0631\\u064b\\u0636\\u0652\\u0629 \\u0650\\u0644\\u064c\\u0623\\u0650\\u0643\\u064f\\u062b\\u0650\\u0631\\u0652 \\u0645\\u0651\\u0646\\u0652 \\u064d25 \\u0652\\u0623\\u0644\\u064d\\u0641 \\u0645\\u064b\\u0646\\u062a\\u0650\\u062c \\u0628\\u0651\\u0627\\u0644\\u064d\\u0625\\u0636\\u064c\\u0627\\u0641\\u0629\\u064f \\u064d\\u0625\\u064f\\u0644\\u0649 \\u064e\\u0634\\u064d\\u0631\\u0651\\u0643\\u064e\\u0627\\u064d\\u062a \\u0623\\u062e\\u0631\\u064c\\u0649 \\u0652\\u0645\\u0652\\u062a\\u0650\\u062e\\u064e\\u0635\\u0635\\u064d\\u0629 \\u064f\\u0641\\u064b\\u064a\\u064e \\u0628\\u064a\\u0639 \\u064b\\u0627\\u0650\\u0644\\u0623\\u0633\\u0652\\u0637\\u0648\\u0627\\u064c\\u0646\\u0652\\u0627\\u0651\\u062a\\u064b \\u064c\\u0648\\u0650\\u0627\\u0644\\u064f\\u0628\\u0652\\u0631\\u0650\\u0627\\u064c\\u0645\\u0650\\u062c \\u0627\\u064e\\u0644\\u064e\\u062a\\u0639\\u0644\\u064a\\u0645\\u064c\\u064a\\u0629 \\u0628\\u0651\\u0627\\u0650\\u0644\\u064b\\u0625\\u0636\\u0627\\u0641\\u0629\\u064d \\u0625\\u0644\\u0651\\u0649\\u064e \\u0627\\u064b\\u0644\\u064b\\u0639\\u062f\\u064a\\u0650\\u062f\\u064c \\u0650\\u0645\\u0646 \\u0627\\u064f\\u0644\\u062e\\u064d\\u062f\\u064b\\u0645\\u0627\\u062a\\u064b \\u0627\\u064e\\u0644\\u0623\\u062e\\u0631\\u0649\\u064c\\u060c\\u0651 \\u0648\\u064c\\u062a\\u064b\\u0633\\u064b\\u062a\\u062d\\u0648\\u064f\\u0630\\u064b \\u064d\\u0639\\u0631\\u0648\\u0636 \\u0651\\u0634\\u0631\\u064e\\u0643\\u0650\\u0627\\u062a\\u0651 \\u0627\\u062a\\u0635\\u0651\\u0627\\u0644\\u0650\\u0627\\u064d\\u062a \\u064d\\u0648\\u062f\\u0648 \\u0644\\u064b\\u0628\\u064a\\u0639\\u064e \\u064f\\u0627\\u0644\\u064d\\u0647\\u0648\\u0627\\u062a\\u0650\\u0641\\u064d \\u064e\\u0627\\u064e\\u0644\\u064d\\u0645\\u062d\\u0645\\u0648\\u0644\\u0629\\u064d \\u064d\\u0648\\u064b\\u0641\\u0651\\u0642 \\u0652\\u0639\\u064e\\u0631\\u0650\\u0648\\u0636\\u064f\\u0647\\u0627 \\u0627\\u0652\\u0644\\u0651\\u062e\\u0627\\u0635\\u0652\\u0629 \\u064f\\u0628\\u0627\\u0652\\u0644\\u0625\\u0651\\u0636\\u0627\\u0652\\u0641\\u064b\\u0629 \\u0652\\u0625\\u064c\\u0644\\u064f\\u0649\\u064e \\u0623\\u0650\\u062c\\u0647\\u0632\\u0629\\u0650 \\u0627\\u0652\\u0644\\u0643\\u064e\\u0645\\u064d\\u0628\\u0651\\u064a\\u0648\\u062a\\u064f\\u0631\\u064d \\u0627\\u064f\\u0644\\u064b\\u0645\\u062d\\u0652\\u0645\\u064e\\u0648\\u064e\\u0644\\u064e \\u0648\\u064e\\u0627\\u064b\\u0644\\u064b\\u0623\\u064e\\u062c\\u0647\\u0632\\u0652\\u0629\\u064b \\u0627\\u0644\\u0644\\u0648\\u064f\\u062d\\u064a\\u064d\\u0629 \\u0648\\u064f\\u0627\\u064d\\u0644\\u064f\\u0647\\u064b\\u0648\\u0627\\u064f\\u062a\\u0641 \\u0651\\u0627\\u0644\\u0645\\u0650\\u062d\\u064e\\u0645\\u0648\\u0644\\u0629 \\u0651\\u0648\\u064c\\u0627\\u064b\\u0644\\u064c\\u0643\\u0627\\u0651\\u0645\\u064f\\u064a\\u0650\\u0631\\u0627\\u0651\\u062a\\u0652 \\u0628\\u064e\\u0623\\u064f\\u0646\\u0648\\u0627\\u0639\\u0647\\u064b\\u0627\\u0650 \\u064e\\u0639\\u0644\\u064d\\u0649 \\u064b\\u0627\\u0650\\u0647\\u062a\\u0652\\u0645\\u0627\\u064d\\u0645\\u064c \\u064b\\u0627\\u0652\\u0644\\u064d\\u063a\\u0651\\u0627\\u064e\\u0644\\u064b\\u0628\\u064a\\u0652\\u0629\\u0650 \\u0627\\u0644\\u064f\\u0639\\u0638\\u0650\\u0645\\u064d\\u0649 \\u0645\\u0646\\u0652 \\u064e\\u0632\\u0648\\u0627\\u0631\\u064c \\u0627\\u0652\\u0644\\u064c\\u0645\\u064f\\u0639\\u064e\\u0631\\u0636 \\u064d\\u0627\\u0644\\u0651\\u0630\\u0650\\u064a\\u0646\\u0651 \\u0650\\u064a\\u062a\\u064e\\u0648\\u064d\\u0642\\u064e\\u0639\\u064c \\u064b\\u0623\\u064c\\u0646 \\u064d\\u064a\\u0632\\u064a\\u064c\\u062f\\u064d \\u064f\\u0639\\u0651\\u062f\\u064f\\u062f\\u0651\\u0647\\u0645 \\u0650\\u0639\\u0651\\u0644\\u0650\\u0649 1\\u065260\\u0650 \\u0623\\u064f\\u0644\\u0652\\u0641\\u0651 \\u0632\\u064f\\u0627\\u0626\\u0631 \\u0650\\u0627\\u064e\\u0644\\u0639\\u0627\\u064c\\u0645 \\u064c\\u0627\\u064e\\u0644\\u0645\\u0652\\u0627\\u0651\\u0636\\u064a \\u064d.\\u0648\\u064c\\u064a\\u0642\\u0651\\u062f\\u064e\\u0645\\u0652 \\u0623\\u0651\\u0628\\u0652\\u0631\\u064c\\u0632\\u064e \\u0652\\u0627\\u0644\\u064f\\u0645\\u0648\\u064e\\u0632\\u0651\\u0639\\u064a\\u0650\\u0646 \\u064f\\u0627\\u0652\\u0644\\u0650\\u0625\\u064d\\u0642\\u0644\\u0650\\u064a\\u0645\\u0652\\u064a\\u0652\\u064a\\u0652\\u0646 \\u0648\\u0652\\u0634\\u0631\\u0643\\u0651\\u0627\\u064f\\u062a\\u064c \\u064e\\u0627\\u0650\\u0644\\u0628\\u064a\\u0639\\u0651 \\u064b\\u0628\\u0627\\u0644\\u062a\\u0651\\u062c\\u064e\\u0632\\u064b\\u0626\\u0629 \\u0648\\u0639\\u0644\\u0649 \\u0631\\u0623\\u0650\\u0633\\u0647\\u064e\\u0627\\u0650 \\u0634\\u0631\\u0641 \\u064e\\u062f\\u064a \\u064e\\u062c\\u064a\\u064c \\u064d\\u0648\\u064c\\u0628\\u064c\\u0644\\u0651\\u062c\\u064d-\\u064b \\u0652\\u0625\\u0646\\u0633 \\u064c\\u0648\\u062c\\u064f\\u0627\\u0643\\u0650\\u064a\\u0632 \\u064e\\u0625\\u064e\\u0644\\u064d\\u0643\\u0650\\u062a\\u0631\\u0648\\u064b\\u0646\\u064a\\u0652\\u0643\\u064c\\u0633\\u0651\\u060c \\u0648\\u062c\\u0645\\u064f\\u0628\\u0648 \\u0625\\u064e\\u0644\\u0643\\u062a\\u0631\\u064b\\u0648\\u0650\\u0646\\u0651\\u064a\\u064d\\u0643\\u0633\\u064b \\u0652\\u0648\\u064e\\u0622\\u0651\\u064a\\u0652 \\u064f\\u0633\\u062a\\u0650\\u0627\\u0652\\u064a\\u0644\\u060c\\u064b \\u064e\\u0648\\u064b\\u0625\\u0651\\u064a- \\u0633\\u064a\\u062a\\u064f\\u064a\\u060c \\u0648\\u064b\\u0643\\u0648\\u0645\\u0628\\u0650\\u064a\\u064d\\u0648 \\u0645\\u064d\\u064a\\u064e \\u0648\\u0651\\u0625\\u0650\\u064a \\u0641\\u0651\\u0648\\u0631\\u0650 \\u064a\\u0648\\u0651\\u060c\\u064c \\u0648\\u0625\\u064b\\u064a \\u0650\\u0645\\u064e\\u0627\\u0643\\u0651\\u0633\\u064c\\u060c \\u0648\\u062a\\u064f\\u062a\\u064d\\u0634 \\u0645\\u0650\\u0627\\u064a\\u0651\\u062a\\u0651\\u060c \\u062a\\u064d\\u062e\\u064f\\u0641\\u0652\\u064a\\u064d\\u0636\\u0652\\u0627\\u064f\\u062a \\u0641\\u064a\\u0651 \\u0623\\u0633\\u064c\\u0639\\u0652\\u0627\\u0631 \\u064c\\u0628\\u0639\\u064f\\u0636 \\u0627\\u0644\\u064b\\u0645\\u064f\\u0646\\u064e\\u062a\\u062c\\u0627\\u062a \\u0648\\u0645\\u0646\\u062a\\u062c\\u0650\\u0627\\u064e\\u062a \\u0645\\u0651\\u062c\\u0627\\u0646\\u064a\\u0629\\u064b \\u0639\\u0644\\u064d\\u0649\\u0650 \\u064f\\u0634\\u0651\\u0631\\u064c\\u0627\\u064e\\u0621\\u064e \\u064f\\u0628\\u0639\\u0636 \\u0627\\u0644\\u0645\\u0646\\u062a\\u064b\\u062c\\u0627\\u064e\\u062a\\u064f \\u064f\\u0627\\u064f\\u0644\\u0623\\u0651\\u062e\\u0631\\u0649 \\u0652.\\u0648\\u0650\\u0628\\u0627\\u064e\\u0644\\u0650\\u0625\\u0636\\u0627\\u0641\\u064d\\u0629\\u064d \\u064d\\u0625\\u0644\\u0649\\u0650 \\u0650\\u0627\\u064e\\u0644\\u064e\\u0645\\u0646\\u062a\\u064b\\u062c\\u064f\\u0627\\u0651\\u062a \\u0627\\u0644\\u0625\\u0650\\u0644\\u0643\\u064f\\u062a\\u0631\\u064f\\u0648\\u0646\\u0650\\u064a\\u064d\\u0629\\u0650 \\u0627\\u0644\\u062a\\u064a \\u0650\\u0633\\u064e\\u064a\\u064d\\u062a\\u0651\\u0645 \\u064f\\u0639\\u0651\\u0631\\u0652\\u0636\\u064f\\u0647\\u0627\\u064c \\u0651\\u0643\\u064f\\u0627\\u064d\\u0644\\u0623\\u062c\\u0647\\u0632\\u0629\\u0652 \\u0627\\u0652\\u0644\\u064d\\u0644\\u0650\\u0648\\u064c\\u062d\\u0652\\u064a\\u0629\\u0650 \\u0648\\u0627\\u0650\\u0644\\u062a\\u064e\\u0644\\u0641\\u0632\\u064d\\u064a\\u064c\\u0648\\u0652\\u0646\\u064c\\u0627\\u062a\\u0650 \\u0650\\u0648\\u0623\\u0651\\u062c\\u064f\\u0647\\u0652\\u0632\\u064c\\u0629 \\u064f\\u0627\\u0644\\u062d\\u0627\\u0651\\u0633\\u064f\\u0648\\u0628 \\u0627\\u064c\\u0644\\u0645\\u064b\\u062d\\u064b\\u0645\\u0648\\u064f\\u0644\\u0629\\u064f \\u064e\\u0648\\u064c\\u0627\\u0644\\u0650\\u0647\\u0648\\u064e\\u0627\\u0652\\u062a\\u0641\\u064c \\u0627\\u064f\\u0644\\u0630\\u0650\\u0643\\u064a\\u0629\\u064d \\u064e\\u0648\\u0650\\u063a\\u064a\\u0652\\u0631\\u0651\\u0647\\u064f\\u0627\\u064e\\u060c\\u064f \\u064b\\u0641\\u064b\\u0633\\u064d\\u064a\\u0650\\u062a\\u0645\\u064c \\u0639\\u0631\\u064d\\u0636\\u064b \\u064e\\u0645\\u062c\\u064e\\u0645\\u064c\\u0648\\u064d\\u0639\\u0629 \\u0645\\u0646\\u064d \\u0652\\u0627\\u064d\\u0644\\u0651\\u0645\\u0650\\u0646\\u062a\\u062c\\u0627\\u064d\\u062a \\u0650\\u063a\\u064e\\u064a\\u0652\\u0631\\u0652 \\u064f\\u0627\\u064b\\u0644\\u064b\\u062a\\u0650\\u0642\\u0644\\u064f\\u064a\\u0652\\u062f\\u0650\\u064a\\u0629\\u064d\\u060c\\u064f \\u0650\\u0625\\u0630\\u064b \\u0650\\u062a\\u064d\\u0637\\u064e\\u0644\\u0642 \\u0634\\u0650\\u0631\\u064c\\u0643\\u064f\\u0629\\u064d \\u0652\\u062c\\u0631\\u0651\\u064a\\u0646\\u064c\\u0633\\u0627\\u064e\\u0648\\u0646\\u062f\\u064b \\u062a\\u0650\\u064a\\u0643\\u0652\\u0646\\u0648\\u0651\\u0644\\u0648\\u062c\\u064c\\u064a \\u0650\\u0633\\u0645\\u064c\\u0627\\u0639\\u0627\\u064b\\u062a\\u0652 \\u0632\\u0651\\u062c\\u0627\\u0652\\u062c\\u064e\\u064a\\u0629\\u0652 \\u0644\\u064d\\u0627\\u064e\\u0633\\u0644\\u0643\\u064a\\u0629\\u064c \\u064e\\u062c\\u0651\\u0630\\u0627\\u0628\\u064f\\u0629\\u060c\\u064b \\u0650\\u0641\\u0651\\u064a \\u064c\\u062d\\u064a\\u0646 \\u064f\\u062a\\u064d\\u0642\\u0652\\u062f\\u0651\\u064e\\u0645 \\u0651\\u0645\\u0651\\u064a\\u0652\\u0631\\u0644\\u064a\\u064d\\u0646\\u0650 \\u062f\\u064a\\u062c\\u064a\\u0650\\u062a\\u0627\\u0644 \\u0651\\u0645\\u064c\\u0631\\u064d\\u0643\\u064e\\u0628\\u0629 \\u0651\\u0625\\u0644\\u0643\\u062a\\u064e\\u0631\\u064d\\u0648\\u0646\\u064a\\u0651\\u0629\\u064b \\u064e\\u0630\\u0627\\u062a\\u064a\\u0652\\u0629 \\u0651\\u0627\\u0644\\u062a\\u0648\\u064f\\u0627\\u064d\\u0632\\u0646\\u064d \\u0628\\u064c\\u0639\\u062c\\u0644\\u062a\\u0650\\u064a\\u064c\\u0646 \\u064c\\u0627\\u0650\\u0633\\u0645\\u0647\\u0627 \\u0631\\u0650\\u0648\\u064d\\u0628\\u0648\\u0633\\u064b\\u062a\\u0651\\u064a\\u0628\\u064f \\u0648\\u064e \\u0628\\u064c\\u0644\\u064a\\u064f\\u0648 \\u0648\\u0650\\u0647\\u0652\\u0648\\u0650 \\u0623\\u064e\\u0648\\u0651\\u0644 \\u064d\\u0631\\u0648\\u064f\\u0628\\u0648\\u062a \\u064c\\u0639\\u0644\\u0649\\u0651 \\u064f\\u0647\\u064a\\u0650\\u0626\\u0629 \\u0650\\u062f\\u064a\\u0646\\u0651\\u0627\\u064e\\u0635\\u0648\\u064c\\u0631 \\u064a\\u0645\\u0650\\u0643\\u0646\\u064f \\u0651\\u0627\\u0642\\u064f\\u062a\\u064c\\u0646\\u0627\\u0624\\u0647 \\u064d\\u0643\\u062d\\u064a\\u0651\\u0648\\u0627\\u0652\\u0646\\u064d \\u0652\\u0645\\u0646\\u064b\\u0632\\u0644\\u0652\\u064a\\u064e \\u0623\\u064d\\u0644\\u064a\\u0641 \\u064f.\\u0648\\u0652\\u064a\\u0634\\u064f\\u0627\\u064b\\u0631\\u0643\\u064d \\u0641\\u064a\\u0652 \\u0627\\u0652\\u0644\\u0651\\u0645\\u064e\\u0639\\u0631\\u0651\\u0636 \\u0644\\u0644\\u0645\\u0631\\u0651\\u0629\\u0650 \\u0627\\u064e\\u0644\\u0623\\u064e\\u0648\\u0644\\u064c\\u0649 \\u064b\\u0647\\u0630\\u064d\\u0627 \\u0627\\u0652\\u0644\\u0639\\u0627\\u0645 \\u0643\\u064f\\u0644 \\u0645\\u064b\\u0646 \\u064d\\u0628\\u0648\\u0632\\u0651 \\u0648\\u0641\\u064a\\u064b\\u0631\\u0652\\u062c\\u0646 \\u0651\\u0645\\u064a\\u064b\\u062c\\u0627\\u0633\\u0652\\u062a\\u064f\\u0648\\u064e\\u0631 \\u064e\\u0648\\u0646\\u064b\\u0648\\u064b\\u0643\\u064a\\u0627\\u060c \\u0652\\u0641\\u064c\\u064a\\u064d \\u0652\\u062d\\u064a\\u0646 \\u064d\\u062a\\u0651\\u0639\\u0648\\u0651\\u062f \\u0639\\u0651\\u0644\\u0627\\u0645\\u064e\\u0627\\u062a \\u064c\\u062a\\u062c\\u0627\\u0631\\u064a\\u0629\\u064c \\u0639\\u064c\\u0627\\u0651\\u0644\\u0645\\u0650\\u064a\\u0629\\u064b \\u064c\\u0639\\u0652\\u062f\\u0650\\u0651\\u064c\\u0629 \\u0644\\u0644\\u064f\\u0645\\u0650\\u0634\\u064f\\u0627\\u0631\\u064c\\u0643\\u0629 \\u0641\\u064c\\u064a \\u0627\\u0652\\u0644\\u0650\\u0645\\u0639\\u0631\\u0651\\u0636\\u064d\\u060c \\u0645\\u062b\\u0644\\u0651 \\u064e\\u0625\\u064e\\u062a\\u0634 \\u062a\\u0652\\u064a \\u0650\\u0633\\u064a\\u060c\\u0652 \\u064c\\u0648\\u0625\\u0646\\u0651\\u062a\\u0652\\u0644\\u060c\\u064d \\u0648\\u0628\\u0627\\u0646\\u064c\\u0627\\u0652\\u0633\\u064b\\u0648\\u064e\\u0646\\u064a\\u064c\\u0643\\u060c\\u064d \\u0651\\u0648\\u064f\\u062c\\u064a\\u0647 \\u0641\\u064a \\u0633\\u0651\\u064a\\u0651\\u060c \\u0652\\u0648\\u064f\\u062f\\u064e\\u064a\\u064b\\u0644\\u060c\\u064d \\u0651\\u0648\\u0631\\u0650\\u0645\\u064e \\u0628\\u0651\\u0644\\u064f\\u0627\\u0643 \\u064d\\u0628\\u064a\\u0631\\u064a\\u060c \\u0648\\u0633\\u0651\\u0627\\u0645\\u0633\\u064e\\u0648\\u064c\\u0646\\u062c\\u060c \\u0648\\u064b\\u0633\\u064e\\u0627\\u0646\\u062f\\u064a\\u064c\\u0633\\u0651\\u0643\\u064f\\u060c \\u0651\\u0648\\u064c\\u0643\\u064c\\u0627\\u064b\\u0646\\u0648\\u0646\\u060c \\u0651\\u0648\\u0650\\u0644\\u064a\\u0646\\u0648\\u0641\\u0648\\u060c \\u0648\\u0646\\u0627\\u0652\\u0643\\u064c\\u0627\\u0645\\u0652\\u064a\\u062a\\u064c\\u0634\\u0652\\u064a\\u064b\\u060c \\u0648\\u0647\\u064a\\u0652\\u0648\\u0644\\u064a\\u062a\\u064c \\u0628\\u0627\\u0643\\u0627\\u0631\\u062f\\u0651\\u060c \\u0648\\u0648\\u064e\\u064a\\u064c\\u0633\\u062a\\u064a\\u0631\\u0646\\u064e \\u064b\\u062f\\u0650\\u064a\\u062c\\u064a\\u062a\\u064c\\u0627\\u0650\\u0644 \\u064b.\",\n          \"1\"\n        ],\n        \"semantic_type\": \"\",\n        \"description\": \"\"\n      }\n    },\n    {\n      \"column\": \"label\",\n      \"properties\": {\n        \"dtype\": \"string\",\n        \"num_unique_values\": 4,\n        \"samples\": [\n          7,\n          \"6334\",\n          \"39885\"\n        ],\n        \"semantic_type\": \"\",\n        \"description\": \"\"\n      }\n    }\n  ]\n}"
            }
          },
          "metadata": {},
          "execution_count": 7
        }
      ]
    },
    {
      "cell_type": "code",
      "source": [
        "df.isnull().sum()"
      ],
      "metadata": {
        "id": "rE0gHxdpIdhB",
        "outputId": "ad8f2afb-9adb-4e32-9f9c-32b1004c13af",
        "colab": {
          "base_uri": "https://localhost:8080/",
          "height": 145
        }
      },
      "execution_count": 8,
      "outputs": [
        {
          "output_type": "execute_result",
          "data": {
            "text/plain": [
              "text     0\n",
              "label    0\n",
              "dtype: int64"
            ],
            "text/html": [
              "<div>\n",
              "<style scoped>\n",
              "    .dataframe tbody tr th:only-of-type {\n",
              "        vertical-align: middle;\n",
              "    }\n",
              "\n",
              "    .dataframe tbody tr th {\n",
              "        vertical-align: top;\n",
              "    }\n",
              "\n",
              "    .dataframe thead th {\n",
              "        text-align: right;\n",
              "    }\n",
              "</style>\n",
              "<table border=\"1\" class=\"dataframe\">\n",
              "  <thead>\n",
              "    <tr style=\"text-align: right;\">\n",
              "      <th></th>\n",
              "      <th>0</th>\n",
              "    </tr>\n",
              "  </thead>\n",
              "  <tbody>\n",
              "    <tr>\n",
              "      <th>text</th>\n",
              "      <td>0</td>\n",
              "    </tr>\n",
              "    <tr>\n",
              "      <th>label</th>\n",
              "      <td>0</td>\n",
              "    </tr>\n",
              "  </tbody>\n",
              "</table>\n",
              "</div><br><label><b>dtype:</b> int64</label>"
            ]
          },
          "metadata": {},
          "execution_count": 8
        }
      ]
    },
    {
      "cell_type": "code",
      "source": [
        "df.duplicated().sum()"
      ],
      "metadata": {
        "id": "VXwmTq0yIhPS",
        "outputId": "df58fbf2-4c8d-47cb-a726-898fac15f60f",
        "colab": {
          "base_uri": "https://localhost:8080/"
        }
      },
      "execution_count": 9,
      "outputs": [
        {
          "output_type": "execute_result",
          "data": {
            "text/plain": [
              "0"
            ]
          },
          "metadata": {},
          "execution_count": 9
        }
      ]
    },
    {
      "cell_type": "code",
      "source": [
        "df.columns"
      ],
      "metadata": {
        "id": "LR82zBNfJW_Z",
        "outputId": "e8dd0e11-256a-4d6e-c705-4808eba71777",
        "colab": {
          "base_uri": "https://localhost:8080/"
        }
      },
      "execution_count": 10,
      "outputs": [
        {
          "output_type": "execute_result",
          "data": {
            "text/plain": [
              "Index(['text', 'label'], dtype='object')"
            ]
          },
          "metadata": {},
          "execution_count": 10
        }
      ]
    },
    {
      "cell_type": "code",
      "source": [
        "df['label'].value_counts().plot(kind='bar')"
      ],
      "metadata": {
        "id": "Hy0Yal_FI8D2",
        "outputId": "6c597801-6615-40d7-d157-3e86fb89acc1",
        "colab": {
          "base_uri": "https://localhost:8080/",
          "height": 508
        }
      },
      "execution_count": 11,
      "outputs": [
        {
          "output_type": "execute_result",
          "data": {
            "text/plain": [
              "<Axes: xlabel='label'>"
            ]
          },
          "metadata": {},
          "execution_count": 11
        },
        {
          "output_type": "display_data",
          "data": {
            "text/plain": [
              "<Figure size 640x480 with 1 Axes>"
            ],
            "image/png": "[encoded data removed]"
          },
          "metadata": {}
        }
      ]
    },
    {
      "cell_type": "code",
      "source": [
        "df['word_count'] = df['text'].apply(lambda x: len(x.split()))\n",
        "df['word_count'].hist()"
      ],
      "metadata": {
        "id": "XL0XjLhEKBTd",
        "outputId": "f0f74a5b-a9d0-474b-aa63-e9e5d7ba7b9b",
        "colab": {
          "base_uri": "https://localhost:8080/",
          "height": 447
        }
      },
      "execution_count": 12,
      "outputs": [
        {
          "output_type": "execute_result",
          "data": {
            "text/plain": [
              "<Axes: >"
            ]
          },
          "metadata": {},
          "execution_count": 12
        },
        {
          "output_type": "display_data",
          "data": {
            "text/plain": [
              "<Figure size 640x480 with 1 Axes>"
            ],
            "image/png": "[encoded data removed]"
          },
          "metadata": {}
        }
      ]
    },
    {
      "cell_type": "code",
      "source": [
        "df['char_count'] = df['text'].apply(lambda x: len(x))\n",
        "df['char_count'].hist()\n"
      ],
      "metadata": {
        "id": "-U4FrVjkKu8_",
        "outputId": "9e88a4bc-c655-4f85-b7a6-d6e19438c64b",
        "colab": {
          "base_uri": "https://localhost:8080/",
          "height": 447
        }
      },
      "execution_count": 13,
      "outputs": [
        {
          "output_type": "execute_result",
          "data": {
            "text/plain": [
              "<Axes: >"
            ]
          },
          "metadata": {},
          "execution_count": 13
        },
        {
          "output_type": "display_data",
          "data": {
            "text/plain": [
              "<Figure size 640x480 with 1 Axes>"
            ],
            "image/png": "[encoded data removed]"
          },
          "metadata": {}
        }
      ]
    },
    {
      "cell_type": "code",
      "source": [
        "df['char_count'].max()\n"
      ],
      "metadata": {
        "id": "cMJW6rWnKzDd",
        "outputId": "b8d4a9a4-e9fa-45ce-a625-52e9814d7edc",
        "colab": {
          "base_uri": "https://localhost:8080/"
        }
      },
      "execution_count": 14,
      "outputs": [
        {
          "output_type": "execute_result",
          "data": {
            "text/plain": [
              "7624"
            ]
          },
          "metadata": {},
          "execution_count": 14
        }
      ]
    },
    {
      "cell_type": "code",
      "source": [
        "df['word_count'].max()"
      ],
      "metadata": {
        "id": "m50z7dymL0Jl",
        "outputId": "fd6ec763-50a2-4877-d056-6a894871e142",
        "colab": {
          "base_uri": "https://localhost:8080/"
        }
      },
      "execution_count": 15,
      "outputs": [
        {
          "output_type": "execute_result",
          "data": {
            "text/plain": [
              "700"
            ]
          },
          "metadata": {},
          "execution_count": 15
        }
      ]
    },
    {
      "cell_type": "markdown",
      "metadata": {
        "id": "X_oEu0TkSMEB"
      },
      "source": [
        "# Data Cleaning and Preprocessing"
      ]
    },
    {
      "cell_type": "markdown",
      "metadata": {
        "id": "wSAFiozlRQHt"
      },
      "source": [
        "In this section, we will focus on cleaning and filtering the dataset, preparing it for the text classification task. We will implement the following steps:\n",
        "\n",
        "1. **Remove missing values**:\n",
        "   First, we eliminate any rows with missing values to ensure the dataset is complete and consistent.\n",
        "\n",
        "2. **Filter by text length (Bonus)**:\n",
        "   To maintain a uniform dataset, we will filter the text samples by a specified word count range. This ensures that the texts are neither too short to lack context nor too long to introduce unnecessary complexity.\n",
        "\n",
        "3. **Arabic stopwords loading**:\n",
        "   We load a list of Arabic stopwords to filter out commonly used but contextually insignificant words. This is an important step for improving the performance of the model, as stopwords do not contribute valuable information.\n",
        "\n",
        "4. **Text cleaning**:\n",
        "   We apply a series of text cleaning steps to standardize and simplify the text data. This involves:\n",
        "   - **Removing links (URLs)**: Any URLs present in the text are removed as they are not meaningful for classification purposes.\n",
        "   - **Removing special characters and punctuation**: This step removes any non-alphabetical characters, ensuring the text only contains meaningful words.\n",
        "   - **Removing Arabic diacritics (Tashkeel) and elongated letters (Tatweel)**: Diacritical marks and elongated letters are stripped out to standardize the text.\n",
        "   - **Removing Arabic stopwords**: Words that are part of the stopwords list are removed, as they do not add value to the classification task.\n",
        "   - **Stemming or Lemmmatization**: Either stemming or lemmatization is applied to reduce words to their root or base form.\n",
        "   - **Normalizing Hamza**: Any variation of the Hamza character is normalized for consistency.\n",
        "\n",
        "   **Note:** Most of these you can do using the library [PyArabic](https://pyarabic.readthedocs.io/ar/latest/README.html#features)\n",
        "\n",
        "5. **Final cleanup**:\n",
        "   Apply the cleanup function to the feature column.\n",
        "\n",
        "By following these steps, the text will be cleaned, filtered, and ready for tokenization!"
      ]
    },
    {
      "cell_type": "code",
      "execution_count": 16,
      "metadata": {
        "id": "mHEObOY_fHhq"
      },
      "outputs": [],
      "source": [
        "# no missing"
      ]
    },
    {
      "cell_type": "code",
      "source": [
        "min_length = 10\n",
        "max_length = 600\n",
        "df = df[df['text'].str.split().str.len().between(min_length, max_length)]\n",
        "df.shape"
      ],
      "metadata": {
        "id": "90Fx9yehMqu4",
        "outputId": "21786156-408c-466e-826a-fc2ec68bb877",
        "colab": {
          "base_uri": "https://localhost:8080/"
        }
      },
      "execution_count": 17,
      "outputs": [
        {
          "output_type": "execute_result",
          "data": {
            "text/plain": [
              "(37748, 4)"
            ]
          },
          "metadata": {},
          "execution_count": 17
        }
      ]
    },
    {
      "cell_type": "code",
      "source": [
        "df = df[df['label'] != 'Mixed']\n",
        "df.shape"
      ],
      "metadata": {
        "id": "4QxZVkHVM0Ek",
        "outputId": "8035b658-d54a-4f42-9abf-ae27c8081953",
        "colab": {
          "base_uri": "https://localhost:8080/"
        }
      },
      "execution_count": 18,
      "outputs": [
        {
          "output_type": "execute_result",
          "data": {
            "text/plain": [
              "(37748, 4)"
            ]
          },
          "metadata": {},
          "execution_count": 18
        }
      ]
    },
    {
      "cell_type": "code",
      "source": [
        "#Arabic stopwords loading:\n",
        "import nltk\n",
        "nltk.download('stopwords')\n",
        "from nltk.corpus import stopwords\n",
        "\n",
        "stop_words = set(stopwords.words('arabic'))"
      ],
      "metadata": {
        "id": "xLk4hhMdM7zw",
        "outputId": "55169dcd-796f-4455-f0b9-4cb0d2187016",
        "colab": {
          "base_uri": "https://localhost:8080/"
        }
      },
      "execution_count": 19,
      "outputs": [
        {
          "output_type": "stream",
          "name": "stderr",
          "text": [
            "[nltk_data] Downloading package stopwords to /root/nltk_data...\n",
            "[nltk_data]   Package stopwords is already up-to-date!\n"
          ]
        }
      ]
    },
    {
      "cell_type": "code",
      "source": [
        "df.head(2)"
      ],
      "metadata": {
        "id": "omwwGINhNX_7",
        "outputId": "258defa6-eddd-43a0-b56e-d97cb8ddadf2",
        "colab": {
          "base_uri": "https://localhost:8080/",
          "height": 111
        }
      },
      "execution_count": 20,
      "outputs": [
        {
          "output_type": "execute_result",
          "data": {
            "text/plain": [
              "                                                text    label  word_count  \\\n",
              "1  https://example.com/resource/اَنِطٌلقّتَ ٍفٍيّ...  Culture         370   \n",
              "2  https://example.com/resource/أُقيًمٌتِ مِساءُ ...  Culture         237   \n",
              "\n",
              "   char_count  \n",
              "1        3557  \n",
              "2        2215  "
            ],
            "text/html": [
              "\n",
              "  <div id=\"df-80735a89-c1f6-4a47-b61c-c8dd56b3a3ef\" class=\"colab-df-container\">\n",
              "    <div>\n",
              "<style scoped>\n",
              "    .dataframe tbody tr th:only-of-type {\n",
              "        vertical-align: middle;\n",
              "    }\n",
              "\n",
              "    .dataframe tbody tr th {\n",
              "        vertical-align: top;\n",
              "    }\n",
              "\n",
              "    .dataframe thead th {\n",
              "        text-align: right;\n",
              "    }\n",
              "</style>\n",
              "<table border=\"1\" class=\"dataframe\">\n",
              "  <thead>\n",
              "    <tr style=\"text-align: right;\">\n",
              "      <th></th>\n",
              "      <th>text</th>\n",
              "      <th>label</th>\n",
              "      <th>word_count</th>\n",
              "      <th>char_count</th>\n",
              "    </tr>\n",
              "  </thead>\n",
              "  <tbody>\n",
              "    <tr>\n",
              "      <th>1</th>\n",
              "      <td>https://example.com/resource/اَنِطٌلقّتَ ٍفٍيّ...</td>\n",
              "      <td>Culture</td>\n",
              "      <td>370</td>\n",
              "      <td>3557</td>\n",
              "    </tr>\n",
              "    <tr>\n",
              "      <th>2</th>\n",
              "      <td>https://example.com/resource/أُقيًمٌتِ مِساءُ ...</td>\n",
              "      <td>Culture</td>\n",
              "      <td>237</td>\n",
              "      <td>2215</td>\n",
              "    </tr>\n",
              "  </tbody>\n",
              "</table>\n",
              "</div>\n",
              "    <div class=\"colab-df-buttons\">\n",
              "\n",
              "  <div class=\"colab-df-container\">\n",
              "    <button class=\"colab-df-convert\" onclick=\"convertToInteractive('df-80735a89-c1f6-4a47-b61c-c8dd56b3a3ef')\"\n",
              "            title=\"Convert this dataframe to an interactive table.\"\n",
              "            style=\"display:none;\">\n",
              "\n",
              "  <svg xmlns=\"http://www.w3.org/2000/svg\" height=\"24px\" viewBox=\"0 -960 960 960\">\n",
              "    <path d=\"M120-120v-720h720v720H120Zm60-500h600v-160H180v160Zm220 220h160v-160H400v160Zm0 220h160v-160H400v160ZM180-400h160v-160H180v160Zm440 0h160v-160H620v160ZM180-180h160v-160H180v160Zm440 0h160v-160H620v160Z\"/>\n",
              "  </svg>\n",
              "    </button>\n",
              "\n",
              "  <style>\n",
              "    .colab-df-container {\n",
              "      display:flex;\n",
              "      gap: 12px;\n",
              "    }\n",
              "\n",
              "    .colab-df-convert {\n",
              "      background-color: #E8F0FE;\n",
              "      border: none;\n",
              "      border-radius: 50%;\n",
              "      cursor: pointer;\n",
              "      display: none;\n",
              "      fill: #1967D2;\n",
              "      height: 32px;\n",
              "      padding: 0 0 0 0;\n",
              "      width: 32px;\n",
              "    }\n",
              "\n",
              "    .colab-df-convert:hover {\n",
              "      background-color: #E2EBFA;\n",
              "      box-shadow: 0px 1px 2px rgba(60, 64, 67, 0.3), 0px 1px 3px 1px rgba(60, 64, 67, 0.15);\n",
              "      fill: #174EA6;\n",
              "    }\n",
              "\n",
              "    .colab-df-buttons div {\n",
              "      margin-bottom: 4px;\n",
              "    }\n",
              "\n",
              "    [theme=dark] .colab-df-convert {\n",
              "      background-color: #3B4455;\n",
              "      fill: #D2E3FC;\n",
              "    }\n",
              "\n",
              "    [theme=dark] .colab-df-convert:hover {\n",
              "      background-color: #434B5C;\n",
              "      box-shadow: 0px 1px 3px 1px rgba(0, 0, 0, 0.15);\n",
              "      filter: drop-shadow(0px 1px 2px rgba(0, 0, 0, 0.3));\n",
              "      fill: #FFFFFF;\n",
              "    }\n",
              "  </style>\n",
              "\n",
              "    <script>\n",
              "      const buttonEl =\n",
              "        document.querySelector('#df-80735a89-c1f6-4a47-b61c-c8dd56b3a3ef button.colab-df-convert');\n",
              "      buttonEl.style.display =\n",
              "        google.colab.kernel.accessAllowed ? 'block' : 'none';\n",
              "\n",
              "      async function convertToInteractive(key) {\n",
              "        const element = document.querySelector('#df-80735a89-c1f6-4a47-b61c-c8dd56b3a3ef');\n",
              "        const dataTable =\n",
              "          await google.colab.kernel.invokeFunction('convertToInteractive',\n",
              "                                                    [key], {});\n",
              "        if (!dataTable) return;\n",
              "\n",
              "        const docLinkHtml = 'Like what you see? Visit the ' +\n",
              "          '<a target=\"_blank\" href=https://colab.research.google.com/notebooks/data_table.ipynb>data table notebook</a>'\n",
              "          + ' to learn more about interactive tables.';\n",
              "        element.innerHTML = '';\n",
              "        dataTable['output_type'] = 'display_data';\n",
              "        await google.colab.output.renderOutput(dataTable, element);\n",
              "        const docLink = document.createElement('div');\n",
              "        docLink.innerHTML = docLinkHtml;\n",
              "        element.appendChild(docLink);\n",
              "      }\n",
              "    </script>\n",
              "  </div>\n",
              "\n",
              "\n",
              "<div id=\"df-e75b7d7e-eda1-40ce-a296-3dfcb9412b6c\">\n",
              "  <button class=\"colab-df-quickchart\" onclick=\"quickchart('df-e75b7d7e-eda1-40ce-a296-3dfcb9412b6c')\"\n",
              "            title=\"Suggest charts\"\n",
              "            style=\"display:none;\">\n",
              "\n",
              "<svg xmlns=\"http://www.w3.org/2000/svg\" height=\"24px\"viewBox=\"0 0 24 24\"\n",
              "     width=\"24px\">\n",
              "    <g>\n",
              "        <path d=\"M19 3H5c-1.1 0-2 .9-2 2v14c0 1.1.9 2 2 2h14c1.1 0 2-.9 2-2V5c0-1.1-.9-2-2-2zM9 17H7v-7h2v7zm4 0h-2V7h2v10zm4 0h-2v-4h2v4z\"/>\n",
              "    </g>\n",
              "</svg>\n",
              "  </button>\n",
              "\n",
              "<style>\n",
              "  .colab-df-quickchart {\n",
              "      --bg-color: #E8F0FE;\n",
              "      --fill-color: #1967D2;\n",
              "      --hover-bg-color: #E2EBFA;\n",
              "      --hover-fill-color: #174EA6;\n",
              "      --disabled-fill-color: #AAA;\n",
              "      --disabled-bg-color: #DDD;\n",
              "  }\n",
              "\n",
              "  [theme=dark] .colab-df-quickchart {\n",
              "      --bg-color: #3B4455;\n",
              "      --fill-color: #D2E3FC;\n",
              "      --hover-bg-color: #434B5C;\n",
              "      --hover-fill-color: #FFFFFF;\n",
              "      --disabled-bg-color: #3B4455;\n",
              "      --disabled-fill-color: #666;\n",
              "  }\n",
              "\n",
              "  .colab-df-quickchart {\n",
              "    background-color: var(--bg-color);\n",
              "    border: none;\n",
              "    border-radius: 50%;\n",
              "    cursor: pointer;\n",
              "    display: none;\n",
              "    fill: var(--fill-color);\n",
              "    height: 32px;\n",
              "    padding: 0;\n",
              "    width: 32px;\n",
              "  }\n",
              "\n",
              "  .colab-df-quickchart:hover {\n",
              "    background-color: var(--hover-bg-color);\n",
              "    box-shadow: 0 1px 2px rgba(60, 64, 67, 0.3), 0 1px 3px 1px rgba(60, 64, 67, 0.15);\n",
              "    fill: var(--button-hover-fill-color);\n",
              "  }\n",
              "\n",
              "  .colab-df-quickchart-complete:disabled,\n",
              "  .colab-df-quickchart-complete:disabled:hover {\n",
              "    background-color: var(--disabled-bg-color);\n",
              "    fill: var(--disabled-fill-color);\n",
              "    box-shadow: none;\n",
              "  }\n",
              "\n",
              "  .colab-df-spinner {\n",
              "    border: 2px solid var(--fill-color);\n",
              "    border-color: transparent;\n",
              "    border-bottom-color: var(--fill-color);\n",
              "    animation:\n",
              "      spin 1s steps(1) infinite;\n",
              "  }\n",
              "\n",
              "  @keyframes spin {\n",
              "    0% {\n",
              "      border-color: transparent;\n",
              "      border-bottom-color: var(--fill-color);\n",
              "      border-left-color: var(--fill-color);\n",
              "    }\n",
              "    20% {\n",
              "      border-color: transparent;\n",
              "      border-left-color: var(--fill-color);\n",
              "      border-top-color: var(--fill-color);\n",
              "    }\n",
              "    30% {\n",
              "      border-color: transparent;\n",
              "      border-left-color: var(--fill-color);\n",
              "      border-top-color: var(--fill-color);\n",
              "      border-right-color: var(--fill-color);\n",
              "    }\n",
              "    40% {\n",
              "      border-color: transparent;\n",
              "      border-right-color: var(--fill-color);\n",
              "      border-top-color: var(--fill-color);\n",
              "    }\n",
              "    60% {\n",
              "      border-color: transparent;\n",
              "      border-right-color: var(--fill-color);\n",
              "    }\n",
              "    80% {\n",
              "      border-color: transparent;\n",
              "      border-right-color: var(--fill-color);\n",
              "      border-bottom-color: var(--fill-color);\n",
              "    }\n",
              "    90% {\n",
              "      border-color: transparent;\n",
              "      border-bottom-color: var(--fill-color);\n",
              "    }\n",
              "  }\n",
              "</style>\n",
              "\n",
              "  <script>\n",
              "    async function quickchart(key) {\n",
              "      const quickchartButtonEl =\n",
              "        document.querySelector('#' + key + ' button');\n",
              "      quickchartButtonEl.disabled = true;  // To prevent multiple clicks.\n",
              "      quickchartButtonEl.classList.add('colab-df-spinner');\n",
              "      try {\n",
              "        const charts = await google.colab.kernel.invokeFunction(\n",
              "            'suggestCharts', [key], {});\n",
              "      } catch (error) {\n",
              "        console.error('Error during call to suggestCharts:', error);\n",
              "      }\n",
              "      quickchartButtonEl.classList.remove('colab-df-spinner');\n",
              "      quickchartButtonEl.classList.add('colab-df-quickchart-complete');\n",
              "    }\n",
              "    (() => {\n",
              "      let quickchartButtonEl =\n",
              "        document.querySelector('#df-e75b7d7e-eda1-40ce-a296-3dfcb9412b6c button');\n",
              "      quickchartButtonEl.style.display =\n",
              "        google.colab.kernel.accessAllowed ? 'block' : 'none';\n",
              "    })();\n",
              "  </script>\n",
              "</div>\n",
              "\n",
              "    </div>\n",
              "  </div>\n"
            ],
            "application/vnd.google.colaboratory.intrinsic+json": {
              "type": "dataframe",
              "variable_name": "df",
              "summary": "{\n  \"name\": \"df\",\n  \"rows\": 37748,\n  \"fields\": [\n    {\n      \"column\": \"text\",\n      \"properties\": {\n        \"dtype\": \"string\",\n        \"num_unique_values\": 37748,\n        \"samples\": [\n          \"https://example.com/resource/\\u0627\\u0644\\u064e\\u0634\\u064d\\u0627\\u0631\\u0642\\u0629: \\u0651\\u0645\\u062d\\u0650\\u0645\\u064f\\u062f \\u0648\\u0644\\u064d\\u062f\\u0650 \\u064e\\u0645\\u064d\\u062d\\u0645\\u062f\\u064d \\u064d\\u0633\\u0627\\u0652\\u0644\\u0645\\u062a\\u062d\\u064d\\u0645\\u0650\\u0644 \\u064b\\u0645\\u0633\\u0650\\u0631\\u062d\\u064a\\u0629\\u0652 \\u00ab\\u062a\\u0634\\u0651\\u0627\\u064b\\u0628\\u0643\\u064c\\u00bb\\u064e \\u064b\\u0644\\u064f\\u0644\\u0643\\u0627\\u062a\\u064f\\u0628\\u064f \\u0641\\u064e\\u0647\\u062f\\u064b \\u0650\\u0631\\u062f\\u0647\\u0651 \\u0627\\u0644\\u064d\\u062d\\u064c\\u0627\\u064f\\u0631\\u062b\\u064e\\u064a \\u064e\\u0627\\u0644\\u062a\\u064d\\u064a \\u0623\\u062e\\u0631\\u062c\\u0647\\u0627 \\u0623\\u0651\\u062d\\u0645\\u0650\\u062f \\u0645\\u0651\\u062d\\u0650\\u0645\\u0652\\u062f\\u064d \\u064f\\u0627\\u0644\\u0623\\u062d\\u0645\\u064c\\u0631\\u064a \\u064d\\u0644\\u0652\\u0641\\u0631\\u064e\\u0642\\u064c\\u0629\\u064e \\u0645\\u0633\\u0631\\u064d\\u062d \\u0652\\u0627\\u0644\\u064f\\u0648\\u0637\\u064e\\u0646\\u0652 \\u0627\\u0651\\u0644\\u064e\\u0633\\u064d\\u0639\\u0648\\u064d\\u062f\\u064a\\u0629 \\u0651\\u0627\\u0644\\u062a\\u064a\\u064f \\u0639\\u0631\\u064e\\u0636\\u062a \\u0641\\u064a \\u064d\\u0627\\u0650\\u0644\\u0650\\u0644\\u064b\\u064a\\u0650\\u0644\\u0629 \\u0651\\u0627\\u064b\\u0644\\u064f\\u062b\\u0627\\u064d\\u0644\\u0650\\u062b\\u0651\\u0629 \\u0645\\u0650\\u0646 \\u0650\\u0644\\u064d\\u064a\\u064d\\u0627\\u0650\\u0644\\u064c\\u064a\\u064e \\u0645\\u0647\\u0631\\u064c\\u062c\\u064f\\u0627\\u0646 \\u064b\\u0627\\u064f\\u0644\\u0634\\u0651\\u0627\\u0631\\u064e\\u0642\\u064d\\u0629 \\u0651\\u0644\\u064e\\u0644\\u0650\\u0645\\u0633\\u0631\\u0652\\u062d\\u064d \\u0627\\u064c\\u0644\\u062e\\u064e\\u0644\\u064c\\u064a\\u062c\\u064a\\u060c \\u064c\\u0628\\u0639\\u064e\\u062f\\u0627\\u064b\\u064e \\u0631\\u064f\\u0645\\u064b\\u0632\\u0652\\u064a\\u064f\\u0627\\u064e\\u064b \\u0650\\u0648\\u064f\\u0627\\u0652\\u0636\\u062d\\u0627\\u064b\\u064c \\u0641\\u064a\\u0652 \\u064d\\u0627\\u0644\\u0650\\u062f\\u0644\\u0627\\u0644\\u0629\\u0651 \\u064c\\u0639\\u0652\\u0644\\u0649 \\u064e\\u062d\\u0650\\u0627\\u0652\\u0644\\u0629\\u0651 \\u0639\\u064e\\u0631\\u0628\\u064a\\u064f\\u0629\\u064e \\u064c\\u0623\\u064f\\u0648 \\u0650\\u0625\\u064b\\u0633\\u064f\\u0644\\u0650\\u0627\\u0645\\u064a\\u0629\\u0652 \\u0652\\u0631\\u0627\\u0647\\u064e\\u0646\\u0629\\u0650 \\u0652\\u064a\\u0633\\u0652\\u0648\\u0652\\u062f\\u064d\\u0647\\u0651\\u0627 \\u0652\\u0627\\u0644\\u064d\\u0635\\u0631\\u0651\\u0627\\u0639\\u064d \\u064f\\u0627\\u064b\\u0644\\u064f\\u062b\\u0651\\u0646\\u0650\\u0627\\u064b\\u0626\\u0652\\u064a \\u0628\\u064a\\u064d\\u0646\\u064e \\u064b\\u0625\\u064d\\u062e\\u0648\\u0629 \\u062a\\u062c\\u0645\\u064f\\u0639\\u0647\\u0645\\u0651 \\u0650\\u062d\\u0636\\u0627\\u0631\\u0629 \\u0648\\u064f\\u0627\\u062d\\u062f\\u0629\\u064f \\u064f\\u0648\\u0652\\u0645\\u0628\\u0627\\u062f\\u0626\\u064f \\u0648\\u0627\\u062d\\u062f\\u0651\\u0629 \\u064b\\u0648\\u064e\\u0645\\u0635\\u0650\\u064a\\u0631\\u064c \\u0648\\u064d\\u0627\\u064d\\u062d\\u064c\\u062f\\u060c\\u0651 \\u0652\\u0648\\u0650\\u0647\\u0645 \\u0645\\u064b\\u062c\\u064f\\u0628\\u0631\\u0651\\u0648\\u0646\\u0650 \\u0628\\u0633\\u0628\\u0652\\u0628 \\u0630\\u0644\\u064e\\u0643 \\u064f\\u0623\\u0646\\u0651 \\u064a\\u0650\\u0639\\u064a\\u064f\\u0634\\u064c\\u0648\\u0627\\u0652 \\u064c\\u0645\\u0639\\u064e\\u0627\\u0652\\u060c \\u064f\\u0648\\u0623\\u0646\\u064d \\u064a\\u064b\\u0634\\u0650\\u062a\\u0631\\u064b\\u0643\\u0648\\u064d\\u0627\\u0651 \\u0641\\u064d\\u064a\\u064b \\u0643\\u0644\\u0651 \\u0634\\u064a\\u0621\\u064f\\u060c\\u0650 \\u0644\\u064c\\u0627 \\u064f\\u062e\\u0651\\u064a\\u064e\\u0627\\u0631\\u064c \\u0644\\u0647\\u0652\\u0645 \\u0650\\u0641\\u064a\\u0651 \\u0630\\u0644\\u064f\\u0643\\u060c\\u064b \\u0644\\u0643\\u064f\\u0646\\u064e\\u0647\\u064f\\u0645 \\u064f\\u0631\\u063a\\u0645 \\u0630\\u0644\\u0651\\u0643 \\u064a\\u062a\\u0635\\u064e\\u0627\\u0631\\u0639\\u0651\\u0648\\u0651\\u0646 \\u064d\\u0648\\u064e\\u064a\\u0642\\u062a\\u0644 \\u0628\\u064b\\u0639\\u0636\\u0647\\u064d\\u0645 \\u064e\\u0628\\u064d\\u0639\\u0636\\u0650\\u0627\\u060c \\u0648\\u064a\\u0651\\u0623\\u064b\\u062e\\u0630 \\u0635\\u064e\\u0631\\u064f\\u0627\\u064e\\u0639\\u064c\\u0647\\u0645\\u064f \\u0652\\u0639\\u0650\\u062f\\u064b\\u0629 \\u064c\\u0623\\u0634\\u0643\\u064b\\u0627\\u0644\\u060c\\u0651 \\u064b\\u0645\\u0646\\u064b\\u0647\\u0627\\u064b \\u0650\\u0627\\u064f\\u0644\\u0650\\u0637\\u0627\\u0652\\u0626\\u064d\\u0641\\u064b\\u064a\\u064f \\u064f\\u0648\\u0627\\u0644\\u0645\\u064f\\u0630\\u0647\\u0628\\u064a \\u064c\\u0648\\u0627\\u0644\\u0639\\u064b\\u0631\\u0642\\u064a \\u0648\\u0627\\u0644\\u062c\\u064c\\u063a\\u0631\\u0627\\u064f\\u0641\\u064e\\u064a\\u060c \\u0625\\u0646\\u0650\\u0647\\u0650\\u0627 \\u0645\\u0623\\u0633\\u0627\\u0629\\u064b \\u062f\\u0650\\u0631\\u0627\\u0645\\u064a\\u0629\\u0652 \\u0639\\u0645\\u064a\\u0642\\u064d\\u0629\\u0652\\u060c\\u064d \\u0641\\u064e\\u0643\\u064a\\u064d\\u0641\\u064d \\u0639\\u0652\\u0627\\u064b\\u0644\\u062c\\u064e\\u062a\\u064d\\u0647\\u064b\\u0627 \\u064b\\u0627\\u0652\\u0644\\u064c\\u0645\\u064b\\u0633\\u0631\\u062d\\u064a\\u064b\\u0629\\u064b\\u061f\\u064e\\u062c\\u0650\\u0627\\u064c\\u0621 \\u0627\\u0644\\u0639\\u0631\\u064e\\u0636 \\u064c\\u0639\\u0651\\u0644\\u064b\\u0649\\u064c \\u0634\\u0643\\u0644 \\u064e\\u00ab\\u062f\\u0651\\u064a\\u0651\\u0648\\u062f\\u0651\\u0631\\u064d\\u0627\\u0645\\u0650\\u0627\\u0650\\u00bb\\u064b \\u0628\\u064a\\u064f\\u0646 \\u064e\\u0627\\u0650\\u0644\\u0645\\u0645\\u062b\\u0644\\u064f\\u064e\\u064e\\u064a\\u064b\\u0646\\u0650 \\u0639\\u0628\\u062f \\u0627\\u0644\\u064b\\u0631\\u0652\\u062d\\u0645\\u0646 \\u064b\\u0627\\u0644\\u0645\\u0632\\u064a\\u064c\\u0639\\u064b\\u0644\\u064c \\u064b\\u0648\\u0633\\u064e\\u0627\\u064f\\u0645\\u0650\\u064a\\u064d \\u0627\\u064c\\u0644\\u0652\\u0632\\u0647\\u064f\\u0631\\u0627\\u0646\\u0652\\u064a\\u064f\\u060c \\u064e\\u0648\\u0642\\u064b\\u062f\\u064e\\u0645\\u064d \\u0650\\u0645\\u064d\\u062c\\u0645\\u0648\\u0651\\u0639\\u0629 \\u0645\\u0650\\u0646 \\u0627\\u0644\\u064f\\u0644\\u064d\\u0648\\u062d\\u0652\\u0627\\u062a\\u060c \\u064d\\u062c\\u0645\\u0639\\u064e\\u062a \\u0628\\u064a\\u064e\\u0646\\u0652 \\u0627\\u064d\\u0644\\u062c\\u064e\\u062f \\u064e\\u0648\\u0627\\u064e\\u0644\\u0652\\u0647\\u0632\\u0644\\u064f\\u060c \\u0648\\u0641\\u0650\\u064a \\u0652\\u0627\\u0644\\u0652\\u0644\\u0648\\u062d\\u0629\\u064c \\u0627\\u0650\\u0644\\u0651\\u0623\\u0648\\u0644\\u064d\\u0649 \\u0646\\u0650\\u0643\\u0652\\u0648\\u0646 \\u0623\\u064e\\u0645\\u0650\\u0627\\u0645\\u0651 \\u0631\\u0652\\u062c\\u064d\\u0644\\u064a\\u0651\\u0646\\u0651\\u060c \\u0642\\u064b\\u062f\\u064f \\u062c\\u064c\\u0647\\u0632 \\u0643\\u0651\\u0644 \\u0645\\u0646\\u0652\\u0647\\u0645\\u0627\\u064c \\u064b\\u062d\\u0651\\u0642\\u0652\\u064a\\u0628\\u064e\\u062a\\u0647 \\u0644\\u0651\\u0644\\u0652\\u0633\\u0641\\u0631\\u0652\\u060c\\u064c \\u0648\\u0650\\u0643\\u0644 \\u0645\\u0646\\u0647\\u0645\\u0627 \\u0643\\u0651\\u0627\\u064c\\u0646\\u064f \\u064c\\u064a\\u064d\\u0631\\u064e\\u0627\\u0642\\u0628\\u064c \\u0627\\u0644\\u064e\\u0622\\u064b\\u062e\\u064f\\u0631 \\u062e\\u0644\\u0633\\u064c\\u0629\\u064e \\u064f\\u0644\\u064e\\u064a\\u0639\\u064b\\u0631\\u064e\\u0641\\u064c \\u064d\\u0645\\u064c\\u0627\\u064f \\u064a\\u0650\\u0642\\u064e\\u0648\\u064c\\u0645 \\u064b\\u0628\\u064b\\u0647\\u0650\\u060c \\u0648\\u064a\\u064d\\u0643\\u062a\\u0634\\u0651\\u0641\\u064e \\u0651\\u0643\\u0644\\u064d \\u064f\\u0645\\u0650\\u0646\\u0647\\u0645\\u064b\\u0627\\u064c \\u0650\\u0627\\u064d\\u0644\\u0650\\u0622\\u062e\\u0631\\u064d\\u060c \\u0641\\u064b\\u064a\\u062a\\u0648\\u0627\\u062c\\u0647\\u064e\\u0627\\u064b\\u0646\\u064f \\u0645\\u0650\\u0628\\u064e\\u0627\\u0634\\u064e\\u0631\\u0629\\u0650\\u060c \\u0648\\u064a\\u0628\\u062f\\u064e\\u0648 \\u0643\\u064e\\u0644 \\u0645\\u0650\\u0646\\u0647\\u064b\\u0645\\u0650\\u0627\\u064c \\u064d\\u062d\\u0652\\u0631\\u064a\\u0635\\u0627\\u064b\\u064d \\u0639\\u0644\\u064d\\u0649 \\u064d\\u062d\\u0642\\u064a\\u0628\\u0652\\u062a\\u0651\\u0647\\u064b \\u064e\\u0645\\u064e\\u0646 \\u064f\\u0623\\u0646\\u064c \\u0650\\u062a\\u064e\\u0645\\u064d\\u062a\\u062f\\u0650 \\u0625\\u0644\\u064d\\u064a\\u0647\\u0651\\u0627 \\u0650\\u064a\\u062f\\u064f \\u064d\\u0632\\u064c\\u0645\\u064a\\u0652\\u0644\\u0647\\u064f\\u060c\\u0651 \\u064c\\u0641\\u064a\\u0643\\u062a\\u0634\\u0641\\u064d \\u064c\\u0645\\u0627\\u064d \\u064d\\u0628\\u062f\\u064c\\u0627\\u064c\\u062e\\u064c\\u0644\\u064b\\u0647\\u0650\\u0627\\u060c\\u064c \\u0652\\u0648\\u0650\\u0645\\u0639\\u064f \\u064d\\u0630\\u0644\\u064e\\u0643 \\u064a\\u064f\\u0644\\u064d\\u0647\\u064f\\u0645\\u0647\\u0645\\u0652\\u0627\\u064e \\u064b\\u0630\\u0644\\u0651\\u0643 \\u064c\\u0627\\u0644\\u0652\\u062d\\u0650\\u0631\\u0650\\u0635\\u064c \\u064e\\u0627\\u064c\\u0644\\u0634\\u064d\\u062f\\u064e\\u064a\\u0650\\u062f\\u060c\\u064e \\u0623\\u064b\\u0646\\u0652 \\u064a\\u0652\\u0644\\u0639\\u0628\\u0652\\u0627 \\u0652\\u0644\\u064c\\u0639\\u064e\\u0628\\u064b\\u0629 \\u0627\\u064e\\u0644\\u064e\\u0645\\u062a\\u0647\\u0645\\u0650 \\u0648\\u0627\\u064b\\u0644\\u0645\\u062d\\u0642\\u0642\\u060c\\u0651 \\u0644\\u0643\\u0646\\u0647\\u064b\\u0645\\u0627\\u0652 \\u064c\\u064a\\u062e\\u062a\\u0644\\u0650\\u0641\\u064c\\u0627\\u0652\\u0646\\u0650 \\u064e\\u0637\\u0648\\u064c\\u064a\\u0652\\u0644\\u064b\\u0627\\u0652\\u060c\\u064d \\u0641\\u064c\\u0643\\u0644 \\u0645\\u0651\\u0646\\u064c\\u0647\\u0650\\u0645\\u0627 \\u064d\\u064a\\u0651\\u0631\\u064f\\u064a\\u062f \\u064d\\u0623\\u064e\\u0646\\u0651 \\u064a\\u064e\\u0643\\u0652\\u0648\\u0646 \\u064f\\u0647\\u064e\\u0648 \\u064c\\u0627\\u0644\\u0652\\u0645\\u064d\\u062d\\u0650\\u0642\\u0651\\u0651\\u0642\\u0650\\u060c\\u064e \\u0648\\u0643\\u064c\\u0644\\u064b \\u0645\\u0646\\u064e\\u0647\\u0645\\u0650\\u0627 \\u0652\\u062e\\u064b\\u0627\\u0626\\u0641 \\u0645\\u064e\\u0646\\u064f \\u064e\\u062f\\u0648\\u0631\\u0651 \\u0627\\u064c\\u0644\\u0645\\u0651\\u062a\\u0647\\u0652\\u0645\\u060c\\u064e \\u0644\\u064e\\u0623\\u0651\\u0646\\u064d \\u0644\\u062f\\u0651\\u064a\\u0652\\u0647\\u064f \\u0650\\u0645\\u0627\\u0650 \\u0650\\u064a\\u062e\\u0641\\u0652\\u064a\\u0647 \\u0648\\u064a\\u062e\\u064e\\u0627\\u0641\\u064f \\u0650\\u0623\\u064f\\u0646\\u064b \\u064c\\u064a\\u064b\\u0643\\u062a\\u0634\\u0641.\\u0652\\u064a\\u064c\\u062a\\u0651\\u062d\\u0648\\u064e\\u0644 \\u064d\\u0627\\u0652\\u0644\\u064e\\u0645\\u0634\\u0652\\u0647\\u064e\\u062f\\u064b \\u064c\\u0644\\u064c\\u0646\\u062c\\u0652\\u062f\\u064e \\u0650\\u0623\\u0646\\u0641\\u064d\\u0633\\u0646\\u064d\\u0627 \\u0623\\u0652\\u0645\\u0651\\u0627\\u064b\\u0645 \\u0650\\u0645\\u064f\\u062a\\u0651\\u0647\\u0645\\u064d \\u0641\\u064f\\u064a \\u0642\\u0641\\u0651\\u0635\\u064b \\u0651\\u0627\\u0651\\u0644\\u0627\\u0650\\u062a\\u0647\\u064f\\u0627\\u064b\\u0645\\u064f \\u0648\\u0645\\u062d\\u064b\\u0642\\u0651\\u064d\\u0642\\u064b \\u064f\\u064a\\u064b\\u0633\\u064c\\u0623\\u0644\\u0647\\u0650\\u060c\\u0650 \\u0641\\u064e\\u064a\\u064e\\u0637\\u064f\\u0644\\u0628 \\u0627\\u0651\\u0644\\u0645\\u062a\\u0647\\u064c\\u0645 \\u0645\\u0650\\u062d\\u0651\\u0627\\u0645\\u064a\\u064e\\u0627\\u0651\\u064b\\u064c \\u064a\\u0650\\u062f\\u0627\\u0641\\u0650\\u0639 \\u0639\\u0646\\u064b\\u0647\\u060c \\u064b\\u0648\\u0642\\u0627\\u0651\\u0636\\u064a\\u064e\\u0627\\u0650\\u064b\\u064d \\u0639\\u064f\\u0627\\u062f\\u0644\\u0627\\u064b\\u064f\\u060c\\u0650 \\u0648\\u064f\\u0634\\u0647\\u064e\\u0648\\u062f\\u0627\\u064e\\u064b \\u0639\\u062f\\u0648\\u064e\\u0644\\u0627\\u064e\\u064b\\u060c\\u0652 \\u062b\\u0650\\u0645\\u064b \\u064a\\u064d\\u0645\\u062a\\u0646\\u064e\\u0639 \\u0639\\u0646\\u0652 \\u0645\\u0648\\u064f\\u0627\\u0635\\u0644\\u064d\\u0629 \\u064f\\u062a\\u0650\\u0645\\u062b\\u064f\\u064a\\u0644 \\u0627\\u0651\\u0644\\u062f\\u0648\\u0631\\u064f\\u060c \\u064c\\u0641\\u064b\\u064a\\u064c\\u062a\\u0652\\u0646\\u0627\\u0632\\u0639\\u064d\\u0627\\u0646 \\u064b\\u0645\\u0646\\u0651 \\u062c\\u0651\\u062f\\u064a\\u064f\\u062f\\u064f\\u060c\\u0652 \\u0648\\u0652\\u064a\\u064b\\u062d\\u062f\\u062b\\u064c \\u0625\\u0651\\u0638\\u064f\\u0644\\u0627\\u0645\\u064f \\u064b\\u0648\\u0627\\u064e\\u0646\\u0641\\u0650\\u062c\\u064f\\u0627\\u0631\\u064d\\u0627\\u062a\\u064b \\u064b\\u0648\\u0650\\u062f\\u064f\\u062e\\u0627\\u064e\\u0646\\u060c\\u064b \\u0648\\u0646\\u064d\\u0634\\u0627\\u0647\\u064f\\u062f\\u064c\\u0647\\u0645\\u0627\\u064e \\u064e\\u062a\\u064b\\u062d\\u064c\\u062a \\u0627\\u064e\\u0644\\u0625\\u064b\\u0636\\u0650\\u0627\\u0621\\u064f\\u0629 \\u0650\\u0627\\u0644\\u062e\\u064c\\u0627\\u064f\\u0641\\u062a\\u0629 \\u0645\\u064b\\u0646\\u064d\\u0647\\u0643\\u064a\\u0650\\u0646\\u0650 \\u064c\\u0643\\u0651\\u0645\\u0646\\u0652 \\u062e\\u0631\\u062c\\u0652 \\u0650\\u0645\\u0646\\u064c \\u0652\\u0623\\u0650\\u062a\\u064b\\u0648\\u0646 \\u062d\\u064d\\u0631\\u0628\\u064c.\\u0652\\u062b\\u0651\\u0645 \\u0651\\u064a\\u062a\\u062d\\u0648\\u0652\\u0644\\u064b \\u064b\\u0627\\u0644\\u064f\\u0645\\u064c\\u0634\\u0647\\u062f\\u064c \\u064b\\u0625\\u0644\\u0649 \\u0635\\u0652\\u064a\\u0627\\u062f\\u064e\\u064a\\u064c\\u0646\\u064e \\u0650\\u0641\\u0650\\u064a \\u064f\\u0632\\u064c\\u0648\\u064e\\u0631\\u0642\\u064c\\u060c\\u0650 \\u064a\\u063a\\u0646\\u0651\\u064a\\u0627\\u064d\\u0646 \\u0648\\u0651\\u064a\\u062c\\u064f\\u062f\\u064c\\u0641\\u0627\\u0646\\u060c\\u0650 \\u0652\\u062b\\u0645 \\u0650\\u064a\\u064e\\u062c\\u0644\\u0651\\u0633\\u0627\\u0646 \\u0650\\u0641\\u064a \\u064d\\u0642\\u0650\\u0647\\u0650\\u0648\\u064f\\u0629\\u060c\\u064d \\u0652\\u0648\\u0650\\u064a\\u064d\\u0644\\u0651\\u0648\\u064c\\u0645\\u0651 \\u0627\\u0644\\u064f\\u0623\\u064f\\u0648\\u0650\\u0644 \\u0650\\u0645\\u064c\\u0646\\u064d\\u0647\\u0651\\u0645\\u064c\\u0627 \\u0639\\u064c\\u0644\\u064d\\u0649\\u0651 \\u0642\\u064e\\u0633\\u0651\\u0648\\u064d\\u062a\\u0647 \\u064b\\u0648\\u064f\\u062a\\u062c\\u064c\\u0647\\u0645\\u064c\\u0647\\u060c\\u0652 \\u0648\\u064a\\u064d\\u0644\\u0651\\u0648\\u0645\\u0650 \\u064e\\u0627\\u0644\\u0652\\u062b\\u064c\\u0627\\u064e\\u0646\\u064a\\u064b \\u0639\\u0644\\u064d\\u0649 \\u0636\\u0639\\u0651\\u0641\\u0650\\u0647\\u060c\\u064d \\u064f\\u0648\\u0650\\u0639\\u062f\\u064d\\u0645\\u0652 \\u064b\\u0642\\u064f\\u062f\\u064b\\u0631\\u062a\\u0652\\u0647 \\u0639\\u0644\\u0651\\u0649 \\u064d\\u0627\\u0651\\u0644\\u064e\\u0645\\u0648\\u0627\\u0652\\u062c\\u0647\\u0629\\u060c\\u064f \\u0648\\u0628\\u064b\\u0639\\u062f \\u0650\\u0644\\u0650\\u0648\\u062d\\u0651\\u0629 \\u064d\\u063a\\u0646\\u0627\\u0626\\u064a\\u064f\\u0629\\u060c\\u064c \\u064d\\u0648\\u0646\\u0632\\u064f\\u0647\\u064e\\u0629 \\u0641\\u064a \\u0633\\u064c\\u064a\\u064f\\u0627\\u064b\\u0631\\u064d\\u0629\\u064b\\u060c \\u064b\\u064a\\u064f\\u0645\\u062b\\u0644\\u0627\\u0646\\u064d \\u0645\\u064e\\u0642\\u062f\\u0645\\u064f\\u064a \\u0646\\u0651\\u0634\\u064c\\u0631\\u0629 \\u0623\\u062e\\u064e\\u0628\\u0627\\u0631\\u060c \\u064a\\u0651\\u0642\\u064b\\u062f\\u0645\\u0650 \\u064f\\u0623\\u064f\\u0648\\u064f\\u0644\\u064c\\u0647\\u0650\\u0645\\u064f\\u0627\\u0650 \\u064f\\u0623\\u062e\\u0628\\u064c\\u0627\\u064d\\u0631\\u0627 \\u0639\\u0651\\u0646\\u064b \\u0652\\u0627\\u0644\\u064b\\u062d\\u064c\\u0628 \\u0648\\u0652\\u0627\\u0644\\u0651\\u0644\\u064f\\u0642\\u0627\\u0652\\u0621\\u0627\\u0652\\u062a \\u0627\\u064c\\u0644\\u0631\\u0648\\u0651\\u0645\\u0650\\u0627\\u0646\\u0633\\u064a\\u064f\\u0629\\u064e\\u060c\\u064b \\u0651\\u0644\\u064d\\u0643\\u0651\\u0646 \\u0627\\u0644\\u064d\\u0622\\u064e\\u062e\\u0631\\u064d \\u064b\\u064a\\u064b\\u0639\\u064e\\u062a\\u0652\\u0631\\u0636\\u0652 \\u0639\\u064f\\u0644\\u064a\\u0647\\u060c\\u064f \\u0648\\u0652\\u064a\\u064d\\u0648\\u064d\\u0642\\u0641\\u0651\\u0647\\u060c \\u0644\\u064a\\u0628\\u064b\\u062f\\u0623 \\u0647\\u0648\\u064d \\u0641\\u064a \\u0642\\u0631\\u0627\\u0621\\u0629 \\u0646\\u0650\\u0634\\u064d\\u0631\\u0629 \\u064b\\u0623\\u062e\\u0628\\u0627\\u0631 \\u0645\\u0646 \\u064c\\u0627\\u0650\\u0644\\u0650\\u062a\\u064e\\u0641\\u062c\\u064e\\u064a\\u0631\\u064c \\u0648\\u0627\\u064d\\u0644\\u0642\\u0651\\u062a\\u0644\\u060c\\u064f \\u0641\\u0650\\u064a\\u0648\\u0642\\u064d\\u0641\\u0650\\u0647\\u064c \\u0627\\u0652\\u0644\\u0623\\u0650\\u0648\\u064b\\u0644\\u0652\\u060c \\u064f\\u0648\\u064b\\u064a\\u063a\\u0646\\u0652\\u064a\\u0627\\u064b\\u0646 \\u0623\\u064e\\u063a\\u0646\\u064a\\u0650\\u0629 \\u064b\\u0639\\u0627\\u0637\\u064b\\u0641\\u0650\\u064a\\u0629\\u060c\\u064c \\u0651\\u062b\\u064f\\u0645 \\u064e\\u064a\\u062e\\u0650\\u062a\\u064b\\u0644\\u0652\\u0641\\u0627\\u0646\\u0651\\u060c\\u0652 \\u0652\\u0648\\u0641\\u064a\\u064d \\u0644\\u0652\\u0648\\u0651\\u062d\\u0629\\u064b \\u064f\\u0646\\u0647\\u0652\\u0627\\u064e\\u0626\\u064f\\u064a\\u0652\\u0629\\u064c \\u064a\\u0628\\u0648\\u0652\\u062d \\u0643\\u064c\\u0644\\u064d \\u0645\\u0646\\u0647\\u0651\\u0645\\u0627\\u0652 \\u0628\\u064e\\u0645\\u064b\\u0627 \\u064a\\u064d\\u0631\\u0628\\u0637\\u064c\\u0647\\u064d \\u0628\\u0627\\u0651\\u0644\\u064d\\u062b\\u0652\\u0627\\u0651\\u0646\\u0650\\u064a\\u060c \\u0650\\u0648\\u0628\\u0645\\u0627\\u064f \\u064f\\u064a\\u062e\\u064d\\u062a\\u064e\\u0644\\u0641 \\u064b\\u0639\\u0652\\u0646\\u0652\\u0647 \\u0628\\u0647\\u0652\\u060c \\u0652\\u0648\\u064a\\u0639\\u064c\\u062a\\u0631\\u0641\\u064d\\u0627\\u0646\\u0652 \\u0628\\u0623\\u0646\\u0647\\u0645\\u064f\\u0627 \\u064b\\u0643\\u0627\\u0644\\u062c\\u0633\\u062f \\u0627\\u0644\\u0648\\u064c\\u0627\\u0652\\u062d\\u0651\\u062f \\u0627\\u064b\\u0644\\u0630\\u064d\\u064a\\u0650 \\u064f\\u0644\\u064b\\u0627 \\u0651\\u064a\\u064d\\u0646\\u0641\\u0651\\u0635\\u0644\\u064c\\u060c \\u0644\\u0643\\u064e\\u0646\\u0651\\u0651\\u064d \\u0643\\u064e\\u0644\\u064e\\u0627\\u0651\\u064b \\u064d\\u0645\\u064f\\u0646\\u064c\\u0647\\u0645\\u0627 \\u0652\\u064a\\u064b\\u0631\\u0641\\u0636\\u064b \\u0623\\u0646 \\u064b\\u064a\\u062a\\u0646\\u0627\\u064f\\u0632\\u064b\\u0644\\u064d \\u0650\\u0644\\u064b\\u0644\\u0622\\u062e\\u0631\\u0651\\u060c \\u0650\\u0648\\u064a\\u064f\\u0631\\u064f\\u0641\\u0651\\u0636 \\u064f\\u0623\\u0651\\u0646\\u0651 \\u064a\\u062e\\u064f\\u0637\\u0650\\u0648\\u064d \\u0651\\u062e\\u0637\\u064e\\u0648\\u0629 \\u064d\\u0641\\u064a \\u064b\\u0627\\u062a\\u064c\\u062c\\u064d\\u0627\\u0647\\u064c \\u0627\\u0644\\u0622\\u062e\\u0631\\u064b.\\u062a\\u0634\\u064b\\u0643\\u064c\\u0644\\u0651 \\u0627\\u0644\\u0651\\u0645\\u0650\\u0633\\u0631\\u064d\\u062d\\u064d\\u064a\\u064d\\u0629\\u064c \\u0652\\u0645\\u062d\\u0627\\u0650\\u0648\\u064d\\u0644\\u064b\\u0629\\u0651 \\u062c\\u064b\\u064a\\u064b\\u062f\\u064e\\u0629\\u064f \\u064d\\u0644\\u062a\\u064d\\u0645\\u064f\\u062b\\u064c\\u064a\\u0644\\u064d \\u064f\\u0630\\u0644\\u064b\\u0643 \\u064d\\u0627\\u064c\\u0644\\u0645\\u064b\\u0623\\u0652\\u0632\\u0650\\u0642 \\u064b\\u0627\\u064b\\u0644\\u064e\\u062f\\u0631\\u0627\\u0651\\u0645\\u064a\\u064e \\u0644\\u0644\\u0625\\u062e\\u0648\\u0651\\u0629\\u064f \\u064d\\u0627\\u0644\\u0623\\u064d\\u0639\\u062f\\u064b\\u0627\\u0621\\u064c\\u060c \\u064d\\u0627\\u064c\\u0644\\u0652\\u0630\\u0651\\u064a\\u0646\\u0650 \\u064d\\u062a\\u064b\\u062f\\u0641\\u0652\\u0639\\u0647\\u064d\\u0645\\u0652 \\u0651\\u0627\\u064b\\u0644\\u064f\\u062f\\u064a\\u0652\\u0645\\u0650\\u0627\\u063a\\u064d\\u0648\\u0652\\u062c\\u064a\\u0629\\u064f \\u0625\\u0650\\u0644\\u0650\\u0649\\u0652 \\u0650\\u0635\\u064d\\u0631\\u0627\\u0651\\u0639\\u064b \\u0651\\u0644\\u064e\\u0627\\u064d \\u064a\\u0646\\u062a\\u064d\\u0647\\u064e\\u064a\\u064b\\u060c\\u064c \\u064f\\u0648\\u0645\\u0623\\u0633\\u064c\\u0627\\u0650\\u0629 \\u064d\\u0644\\u0650\\u0627\\u064d \\u062d\\u0652\\u0644\\u064d \\u0644\\u064e\\u0647\\u064e\\u0627\\u060c \\u0644\\u0643\\u064b\\u0646\\u0647\\u064d\\u0627\\u064f \\u0651\\u0639\\u064f\\u0627\\u0646\\u062a \\u0645\\u0646 \\u0639\\u0650\\u062f\\u064f\\u0629 \\u064c\\u0645\\u0634\\u0643\\u0644\\u0627\\u064e\\u062a \\u064d\\u0628\\u0646\\u0652\\u064a\\u0648\\u064c\\u064a\\u064f\\u0629\\u0651\\u060c \\u064c\\u0623\\u0648\\u0644\\u0627\\u064c\\u0647\\u064b\\u0627\\u064f \\u0623\\u064f\\u0646\\u064e\\u0647\\u064d\\u0627 \\u0643\\u062a\\u064f\\u0628\\u062a\\u0652 \\u0628\\u064c\\u0623\\u0633\\u064d\\u0644\\u0648\\u0628\\u064d \\u0650\\u062a\\u064c\\u062c\\u064d\\u0631\\u064c\\u064a\\u062f\\u0651\\u064a\\u064e \\u062a\\u064b\\u062c\\u0631\\u064f\\u064a\\u0628\\u064a\\u064c \\u064f\\u0645\\u0648\\u0646\\u0648\\u062f\\u064d\\u0631\\u0652\\u0627\\u064d\\u0645\\u064a\\u0652\\u060c\\u064f \\u064a\\u064e\\u0635\\u0644\\u064f\\u062d \\u0644\\u0651\\u0634\\u062e\\u0635\\u0650\\u064a\\u064b\\u0629 \\u0650\\u0648\\u0650\\u0627\\u0651\\u062d\\u064c\\u062f\\u0629 \\u064e\\u0623\\u0643\\u0651\\u062b\\u0631 \\u0645\\u064e\\u0645\\u0627 \\u0652\\u064a\\u0635\\u0644\\u064b\\u062d \\u0644\\u0651\\u0634\\u062e\\u064f\\u0635\\u064a\\u0652\\u062a\\u064a\\u064b\\u0646\\u060c\\u064d \\u0648\\u0650\\u0647\\u064e\\u0630\\u0652\\u0627\\u0650 \\u0645\\u064c\\u0627 \\u0651\\u062c\\u0652\\u0639\\u064f\\u0644 \\u0650\\u0645\\u0633\\u0627\\u062d\\u0627\\u062a \\u0627\\u064d\\u0644\\u0628\\u0648\\u064b\\u062d \\u064f\\u0641\\u064a\\u064d\\u0647\\u064f\\u0627\\u064e \\u0650\\u0648\\u064f\\u0627\\u0644\\u062a\\u064d\\u064a\\u0650 \\u062a\\u0646\\u064f\\u0627\\u0648\\u064c\\u0628\\u062a\\u064d \\u0639\\u0644\\u064a\\u0652\\u0647\\u0627 \\u0627\\u0644\\u0634\\u0651\\u062e\\u064e\\u0635\\u064f\\u064a\\u064f\\u062a\\u0652\\u0627\\u0650\\u0646\\u060c\\u0652 \\u0643\\u0651\\u062b\\u0652\\u064a\\u0631\\u0629\\u060c\\u064d \\u0631\\u063a\\u0645\\u064f \\u064e\\u0642\\u0635\\u064e\\u0631 \\u064b\\u0627\\u064d\\u0644\\u064b\\u0639\\u0631\\u0636\\u0651 \\u064d\\u0627\\u0644\\u0630\\u064a \\u064e\\u0644\\u064e\\u0645 \\u064a\\u064f\\u062a\\u064d\\u062c\\u064b\\u0627\\u0648\\u064c\\u0632\\u064b 40 \\u062f\\u064b\\u0642\\u064e\\u064a\\u0642\\u0629\\u060c\\u0652 \\u0641\\u064e\\u0643\\u0652\\u0627\\u064c\\u0646 \\u0648\\u064f\\u062c\\u064b\\u0648\\u062f\\u064b \\u064e\\u0634\\u062e\\u0650\\u0635\\u064f\\u064a\\u062a\\u064a\\u064b\\u0646 \\u064c\\u0639\\u0650\\u0628\\u064c\\u0626\\u064b\\u0627\\u064f\\u064b\\u064d \\u0639\\u064e\\u0644\\u0650\\u0649 \\u0627\\u064b\\u0644\\u0639\\u064e\\u0631\\u064c\\u0636\\u060c\\u064f \\u064d\\u0648\\u0650\\u064a\\u062f\\u064f\\u0644 \\u0639\\u0644\\u0650\\u0649\\u064e \\u0652\\u0630\\u064f\\u0644\\u0643\\u064e \\u064f\\u0643\\u0648\\u0646 \\u0650\\u0627\\u0644\\u064c\\u0635\\u0650\\u0631\\u064d\\u0627\\u064b\\u0639 \\u0628\\u064b\\u064a\\u0650\\u0646\\u0647\\u0645\\u064e\\u0627\\u0652 \\u0643\\u064c\\u0627\\u064c\\u0646\\u064e \\u064d\\u0634\\u0643\\u0644\\u064f\\u064a\\u0627\\u060c\\u064d \\u0648\\u064e\\u0644\\u062d\\u0651\\u0638\\u0651\\u0627\\u062a\\u0651 \\u064d\\u0627\\u0644\\u064b\\u0635\\u0631\\u064f\\u0627\\u064b\\u0639 \\u064d\\u0627\\u0644\\u0651\\u062d\\u0652\\u0642\\u064a\\u0642\\u064f\\u064a\\u0651\\u0629 \\u064e\\u062a\\u062c\\u064f\\u0633\\u062f\\u064c\\u062a \\u064e\\u0641\\u0651\\u064a\\u0651 \\u064f\\u0644\\u0652\\u062d\\u0650\\u0638\\u064e\\u0627\\u062a\\u064f \\u064d\\u0627\\u064b\\u0644\\u0628\\u064e\\u0648\\u0650\\u062d\\u060c\\u0650 \\u0639\\u0646\\u062f\\u0645\\u0627\\u064b \\u062a\\u062a\\u062d\\u0652\\u062f\\u062b\\u0651 \\u0643\\u0644 \\u0634\\u0652\\u062e\\u0635\\u064b\\u064a\\u0651\\u0629\\u064d \\u064f\\u0645\\u0646\\u0641\\u064b\\u0631\\u062f\\u064e\\u0629\\u064b \\u0639\\u064f\\u0646 \\u0645\\u0639\\u0652\\u0627\\u064e\\u0646\\u064c\\u0627\\u062a\\u0647\\u0627\\u064b \\u0623\\u064b\\u0648\\u0651 \\u0645\\u0652\\u0639\\u0627\\u064e\\u0646\\u0627\\u064e\\u062a\\u00ab\\u0646\\u0627\\u064c\\u00bb (\\u064b\\u0628\\u0636\\u0645\\u064a\\u064e\\u0631\\u064f \\u0650\\u0627\\u0644\\u0627\\u064d\\u062b\\u0646\\u064a\\u0646\\u0652)\\u064d\\u060c\\u064f \\u0635\\u0651\\u062d\\u064a\\u064f\\u062d \\u0652\\u0623\\u0652\\u0646\\u064d \\u0648\\u062c\\u064b\\u0648\\u064e\\u062f\\u064c\\u0647\\u064e\\u0645\\u064b\\u0627 \\u0645\\u0639\\u064d\\u0627 \\u0643\\u0627\\u0650\\u0646\\u0651 \\u064c\\u0645\\u0641\\u064c\\u064a\\u064f\\u062f\\u0651\\u0627\\u064b \\u0641\\u064a\\u064e \\u064d\\u0627\\u0644\\u0650\\u0644\\u064d\\u0648\\u064f\\u062d\\u0627\\u0650\\u062a \\u0627\\u064c\\u0644\\u062a\\u064e\\u064a\\u0652 \\u064b\\u0642\\u064f\\u062f\\u064b\\u0645\\u0651\\u062a\\u064b \\u0645\\u0634\\u064c\\u0627\\u0647\\u062f\\u064b \\u0641\\u064c\\u0643\\u0627\\u0647\\u064a\\u0629\\u064b \\u064b\\u062a\\u0641\\u0652\\u0627\\u0639\\u0644\\u064b \\u0645\\u0639\\u0647\\u0627\\u0651 \\u0627\\u0644\\u062c\\u0645\\u064f\\u0647\\u0648\\u0631\\u060c \\u0644\\u0643\\u0646\\u060c \\u064e\\u062d\\u064b\\u062a\\u0649 \\u062a\\u0644\\u0643\\u064c \\u0627\\u0652\\u0644\\u0650\\u0645\\u064e\\u0634\\u0627\\u0647\\u062f\\u0652 \\u0652\\u0643\\u0627\\u0646\\u064b\\u062a \\u0632\\u0627\\u064e\\u0626\\u064d\\u062f\\u0629\\u0651\\u060c\\u064c \\u064b\\u0648\\u0644\\u0645\\u064f \\u062a\\u064e\\u0633\\u0650\\u0627\\u0647\\u0645\\u064d \\u064d\\u0641\\u0651\\u064a\\u064e \\u064f\\u062a\\u064e\\u0637\\u064e\\u0648\\u0651\\u064a\\u0652\\u0631\\u0651 \\u064c\\u0627\\u0644\\u0637\\u0631\\u062d\\u0652 \\u0627\\u0650\\u0644\\u062f\\u064f\\u0631\\u064c\\u0627\\u0645\\u064d\\u064a.\\u0627\\u0644\\u0645\\u064b\\u0634\\u0643\\u064f\\u0644\\u0629 \\u0627\\u064b\\u0644\\u0623\\u064e\\u062e\\u064f\\u064a\\u0631\\u0651\\u0629 \\u064e\\u0648\\u0647\\u064a\\u0651 \\u0651\\u0627\\u064b\\u0636\\u064d\\u0637\\u064b\\u0631\\u0627\\u0628 \\u064d\\u0646\\u0633\\u0642 \\u0627\\u064c\\u0644\\u0652\\u062a\\u064b\\u0631\\u064b\\u0645\\u064d\\u064a\\u0632\\u0652 \\u064e\\u0641\\u064a \\u0627\\u064f\\u0644\\u0639\\u0631\\u0636\\u064c\\u060c \\u064c\\u0641\\u0645\\u062b\\u064f\\u0644 \\u064e\\u0647\\u0650\\u0630\\u0651\\u0627\\u064b \\u0651\\u0627\\u0644\\u064f\\u0646\\u0648\\u064d\\u0639\\u0651 \\u0645\\u0646\\u0650 \\u064c\\u0627\\u064f\\u0644\\u064e\\u0639\\u0631\\u064b\\u0648\\u064e\\u0636\\u064c \\u0627\\u064c\\u0644\\u0642\\u064c\\u0627\\u0626\\u0645\\u0650 \\u064b\\u0639\\u0644\\u064e\\u0649 \\u0645\\u064e\\u0633\\u064b\\u0631\\u062d\\u064d \\u0650\\u0627\\u0644\\u062d\\u0650\\u0627\\u0644\\u0629\\u060c \\u064e\\u064a\\u064b\\u0641\\u062a\\u064f\\u0631\\u0636 \\u0623\\u0652\\u0646\\u064d \\u064a\\u064e\\u0642\\u062f\\u064d\\u0645 \\u064e\\u0641\\u064f\\u064a \\u0650\\u0643\\u0644\\u0651 \\u0644\\u0652\\u0648\\u0652\\u062d\\u0651\\u0629\\u064e \\u064f\\u0645\\u0646\\u064b \\u064c\\u0644\\u064e\\u0648\\u064d\\u062d\\u064c\\u0627\\u064c\\u062a\\u064b \\u0644\\u0627 \\u0650\\u062a\\u064e\\u062a\\u064f\\u0631\\u064b\\u0627\\u064c\\u0628\\u0651\\u0637 \\u0650\\u062f\\u0631\\u0650\\u0627\\u0645\\u0651\\u064a\\u0627\\u0651\\u064b\\u060c \\u0644\\u0643\\u064d\\u0646\\u0647\\u0627\\u064f \\u064c\\u062a\\u062a\\u0631\\u0652\\u0627\\u064e\\u0628\\u064d\\u0637\\u064e \\u0646\\u0652\\u0633\\u0642\\u064a\\u0651\\u0627\\u064b\\u064d \\u064f\\u0648\\u0651\\u062f\\u0644\\u0627\\u0651\\u0644\\u064a\\u0627\\u064b\\u064b\\u064c\\u060c \\u0650\\u062d\\u064d\\u064a\\u062b \\u064b\\u062a\\u0642\\u0652\\u062f\\u0645 \\u064d\\u0643\\u064c\\u0644 \\u0652\\u0644\\u0648\\u064d\\u062d\\u064d\\u0629 \\u064d\\u0639\\u064f\\u0646\\u064c\\u0627\\u0635\\u0631\\u064b \\u064b\\u0645\\u0650\\u0646\\u0651 \\u0652\\u0627\\u0650\\u0644\\u0623\\u062d\\u062f\\u0627\\u0651\\u062b \\u0630\\u064d\\u0627\\u062a\\u064d \\u062f\\u0651\\u0644\\u0627\\u0644\\u0629\\u064d \\u064d\\u0631\\u0650\\u0645\\u0632\\u064a\\u0629\\u064f \\u062a\\u0651\\u0624\\u064a\\u0652\\u062f \\u064c\\u0627\\u064f\\u0644\\u0644\\u0648\\u062d\\u064e\\u0627\\u062a\\u064c \\u0627\\u0644\\u0650\\u0623\\u064d\\u062e\\u064e\\u0631\\u064f\\u0649\\u0651\\u060c \\u0648\\u062a\\u064c\\u062a\\u064f\\u0646\\u0627\\u0633\\u064c\\u0642\\u0650 \\u0652\\u0645\\u0639\\u0647\\u0627\\u060c \\u0644\\u064e\\u062a\\u064c\\u0623\\u0643\\u064c\\u064a\\u062f \\u064e\\u0627\\u0644\\u064c\\u0645\\u064c\\u0639\\u064d\\u0646\\u0649\\u0652 \\u064c\\u0648\\u0627\\u064f\\u0644\\u064b\\u062f\\u064c\\u0644\\u0652\\u0627\\u064f\\u0644\\u0629\\u064b \\u0651\\u0627\\u0644\\u0643\\u064b\\u0644\\u064a\\u064b\\u0629 \\u064f\\u0627\\u064d\\u0644\\u064d\\u0645\\u0631\\u064b\\u0627\\u064c\\u062f\\u064e\\u0629\\u064d\\u060c\\u064f \\u0648\\u0651\\u0641\\u064a \\u064c\\u00ab\\u062a\\u0634\\u064f\\u0627\\u0628\\u0643\\u00bb \\u0644\\u0651\\u0646 \\u0646\\u0639\\u064b\\u0631\\u064c\\u0641\\u064d \\u0643\\u064a\\u064e\\u0641 \\u0650\\u0646\\u0624\\u0648\\u0652\\u0644\\u0650 \\u064c\\u0628\\u064d\\u0639\\u0636\\u064c \\u064f\\u062a\\u064c\\u0644\\u0643 \\u0627\\u0644\\u064e\\u0645\\u0650\\u0634\\u064d\\u0627\\u0651\\u0647\\u064b\\u062f\\u064b \\u0641\\u0650\\u064a\\u064d \\u0652\\u0633\\u064c\\u064a\\u064c\\u0627\\u0642 \\u0651\\u0645\\u0642\\u064f\\u0648\\u064c\\u0644\\u0629\\u064b \\u00ab\\u064e\\u0627\\u0644\\u0625\\u062e\\u064b\\u0648\\u064c\\u0629\\u0651 \\u0651\\u0627\\u0644\\u0651\\u0623\\u0651\\u0639\\u062f\\u0627\\u0621\\u064d\\u00bb\\u0652.\\u0652\",\n          \"https://example.com/resource/\\u0642\\u064e\\u0627\\u0644\\u064e\\u062a \\u064d\\u0634\\u064b\\u0628\\u0643\\u0629\\u064d \\u062a\\u064d\\u0644\\u064b\\u0641\\u0632\\u064e\\u064a\\u0648\\u0646\\u0652 \\u0651\\\"\\u064f\\u0625\\u064b\\u064a\\u0650\\u0647\\u0652 .\\u064c\\u0628\\u064b\\u064a\\u064f .\\u0633\\u064e\\u064a\\u0651 \\u0646\\u0652\\u064a\\u064c\\u0648\\u0632\\u064e\\\" \\u0627\\u0652\\u0644\\u0623\\u0651\\u0645\\u064e\\u0631\\u064a\\u0643\\u064a\\u0629\\u064f \\u0644\\u0650\\u064a\\u0644\\u064c \\u0627\\u064c\\u0644\\u0627\\u064b\\u062b\\u0646\\u064a\\u064c\\u0646\\u064c/\\u0650\\u0627\\u0644\\u0652\\u062b\\u064c\\u0644\\u064d\\u0627\\u062b\\u0627\\u064c\\u0621\\u060c \\u0652\\u0625\\u0646 \\u0645\\u064b\\u0633\\u064c\\u0624\\u0651\\u0648\\u064b\\u0644\\u0651\\u064a\\u064f\\u0646 \\u0623\\u064b\\u0645\\u064e\\u0631\\u064a\\u0650\\u0643\\u064f\\u064a\\u064a\\u0646 \\u062d\\u0630\\u064f\\u0631\\u064f\\u0648\\u0627\\u0650 \\u0623\\u0641\\u064c\\u0631\\u0627\\u062f\\u0651 \\u0627\\u0651\\u0644\\u064c\\u062c\\u064d\\u064a\\u0634\\u064f \\u0651\\u0645\\u0650\\u0646\\u064b \\u0623\\u064e\\u0646\\u064e \\u062a\\u0651\\u0646\\u0638\\u064c\\u064a\\u0651\\u0645 \\\"\\u062f\\u0627\\u0639\\u0634\\u0650\\\" \\u064f\\u0642\\u062f\\u064d \\u064a\\u064e\\u062e\\u0637\\u0637\\u064f \\u0644\\u0651\\u0647\\u062c\\u0645\\u0651\\u0627\\u062a\\u064f \\u0639\\u064f\\u0644\\u064b\\u064a\\u0651\\u0647\\u0650\\u0645 \\u0641\\u064c\\u064a\\u064b \\u0650\\u0627\\u0644\\u064e\\u0648\\u064c\\u0644\\u0627\\u064b\\u064a\\u064b\\u0627\\u0651\\u062a\\u0652 \\u0627\\u0644\\u0645\\u0650\\u062a\\u062d\\u062f\\u064b\\u0629 \\u0652.\\u0651\\u0648\\u0650\\u0642\\u0650\\u0627\\u064d\\u0644\\u0650\\u062a \\u064c\\u0627\\u064c\\u0644\\u0634\\u0650\\u0628\\u0643\\u0629 \\u0627\\u0644\\u064c\\u0625\\u064f\\u062e\\u0651\\u0628\\u0627\\u064c\\u0631\\u064a\\u0652\\u0629\\u064b \\u0625\\u0650\\u0646 \\u0646\\u0634\\u064d\\u0631\\u064b\\u0629 \\u0645\\u0652\\u062e\\u0651\\u0627\\u0628\\u0650\\u0631\\u064e\\u0627\\u062a \\u064e\\u0645\\u0634\\u0651\\u062a\\u0631\\u0651\\u0643\\u0652\\u0629 \\u0623\\u0650\\u0631\\u064d\\u0633\\u0644\\u064c\\u062a \\u064f\\u0625\\u0652\\u0644\\u0649\\u064e \\u0623\\u064b\\u062c\\u0647\\u0632\\u0650\\u0629 \\u0625\\u0646\\u0641\\u0627\\u064b\\u0630 \\u0652\\u0627\\u0644\\u0642\\u064b\\u0627\\u0646\\u0648\\u0646\\u0652 \\u064b\\u0645\\u0652\\u0646\\u064b \\u0645\\u064e\\u0643\\u0651\\u062a\\u064d\\u0628\\u0651 \\u0627\\u0644\\u064e\\u062a\\u062d\\u0642\\u064f\\u064a\\u064d\\u0642\\u0627\\u0650\\u062a\\u0651 \\u0651\\u0627\\u0650\\u0644\\u0627\\u064b\\u062a\\u064f\\u062d\\u0627\\u062f\\u064a \\u0652(\\u0625\\u0641 \\u0651.\\u0650\\u0628\\u064a\\u064d .\\u0622\\u064a\\u064d)\\u064d \\u0648\\u064b\\u0648\\u0652\\u0632\\u064d\\u0627\\u0631\\u0629\\u0651 \\u0627\\u0644\\u0623\\u064c\\u0645\\u0646 \\u064e\\u0627\\u0650\\u0644\\u0651\\u062f\\u064f\\u0627\\u064c\\u062e\\u0651\\u0644\\u064a\\u060c \\u0652\\u062d\\u062b\\u064c\\u062a \\u0623\\u0641\\u0631\\u0652\\u0627\\u064b\\u062f\\u0651 \\u064c\\u0627\\u0644\\u064f\\u062c\\u064a\\u0634\\u0652 \\u064e\\u0627\\u0644\\u0623\\u0645\\u0631\\u064a\\u0643\\u064e\\u064a \\u064f\\u0639\\u064f\\u0644\\u0649\\u064b \\u0623\\u064c\\u0646 \\u0651\\u064a\\u062d\\u0630\\u064f\\u0641\\u0648\\u0650\\u0627 \\u0645\\u064b\\u0646 \\u062d\\u0633\\u0627\\u064b\\u0628\\u0627\\u062a\\u0647\\u0645 \\u064d\\u0639\\u0650\\u0644\\u0649 \\u0650\\u0645\\u0648\\u0627\\u0642\\u064d\\u0639\\u0650 \\u064e\\u0627\\u064d\\u0644\\u062a\\u0652\\u0648\\u064e\\u0627\\u0635\\u0644\\u0652 \\u0651\\u0627\\u0644\\u064d\\u0627\\u064e\\u062c\\u062a\\u0645\\u064e\\u0627\\u064e\\u0639\\u064a \\u0639\\u064c\\u0644\\u0649\\u064b \\u0627\\u0644\\u064c\\u0625\\u064e\\u0646\\u062a\\u0631\\u0646\\u064c\\u062a \\u0623\\u064b\\u064a\\u064b \\u0651\\u0634\\u064a\\u064c\\u0621\\u0652 \\u0650\\u064a\\u064e\\u0645\\u0643\\u0651\\u0646 \\u064f\\u0623\\u0646 \\u0651\\u064a\\u062c\\u0630\\u0628\\u064e \\u064c\\u0627\\u0646\\u062a\\u064c\\u0628\\u064e\\u0627\\u0647\\u0652 \\u0650\\\"\\u064d\\u0645\\u064b\\u062a\\u064e\\u0637\\u064e\\u0631\\u0641\\u064d\\u064a\\u0651\\u0646 \\u064a\\u064f\\u062a\\u064f\\u0633\\u064d\\u0645\\u064c\\u0648\\u0646 \\u0628\\u0627\\u0644\\u064d\\u0639\\u0651\\u0646\\u0652\\u0641\\u064e\\\" \\u0623\\u0648 \\u064f\\u064a\\u064f\\u0643\\u0650\\u0634\\u0641\\u064e \\u064b\\u0647\\u064b\\u0648\\u064a\\u0650\\u0629\\u0650 \\u0627\\u0644\\u062c\\u0651\\u0646\\u0648\\u062f\\u064e\\u060c \\u0648\\u0625\\u0651\\u0646 \\u064d\\u0627\\u064f\\u0644\\u062d\\u0643\\u064b\\u0648\\u0645\\u0650\\u0629\\u064d \\u0623\\u0634\\u064d\\u0627\\u064d\\u0631\\u064c\\u062a \\u064c\\u0625\\u064c\\u0644\\u0649 \\u064d\\u0623\\u0646\\u064f\\u0647\\u0650\\u0627\\u0650 \\u062d\\u064b\\u0635\\u0652\\u0644\\u062a \\u064d\\u0639\\u0644\\u0649\\u064e \\u0650\\u0645\\u064f\\u0639\\u064f\\u0644\\u064b\\u0648\\u064d\\u0645\\u0627\\u064b\\u062a \\u0645\\u0651\\u062e\\u0627\\u064b\\u0628\\u0631\\u064b\\u0627\\u0652\\u062a\\u0651 \\u0650\\u0628\\u064c\\u0623\\u0650\\u0646\\u064f \\u064f\\u0645\\u0642\\u0627\\u062a\\u0651\\u0644\\u0650\\u064a\\u064f \\u064e\\\"\\u062f\\u0627\\u064b\\u0639\\u0634\\\" \\u064f\\u064a\\u0633\\u064d\\u062a\\u0647\\u062f\\u064b\\u0641\\u0648\\u0646\\u064c \\u0627\\u064b\\u0644\\u0650\\u0648\\u0650\\u0644\\u0627\\u0650\\u064a\\u064b\\u0627\\u062a\\u064f \\u0627\\u0644\\u064b\\u0645\\u062a\\u062d\\u064f\\u062f\\u064c\\u0629 \\u064b\\u062f\\u064f\\u0627\\u064d\\u062e\\u064b\\u0644 \\u064b\\u062d\\u062f\\u0648\\u062f\\u0647\\u0627\\u064b \\u064c.\\u0651\\u0648\\u0642\\u0627\\u064d\\u0644\\u064b \\u064f\\u0645\\u0635\\u064c\\u062f\\u064d\\u0631\\u064f \\u0625\\u064b\\u0646\\u0647\\u064f \\u064b\\u062c\\u0627\\u064b\\u0621 \\u0650\\u0641\\u0651\\u064a \\u0650\\u0627\\u0644\\u0651\\u0646\\u0634\\u0651\\u0631\\u064b\\u0629 \\\"\\u064b\\u062a\\u064e\\u0644\\u0642\\u064d\\u0649\\u064e \\u064d\\u0645\\u0643\\u062a\\u0628\\u064c \\u064c\\u0627\\u0644\\u064e\\u062a\\u064f\\u062d\\u0642\\u064a\\u064e\\u0642\\u064e\\u0627\\u062a \\u0650\\u0627\\u0644\\u0627\\u064f\\u062a\\u062d\\u0652\\u0627\\u062f\\u064e\\u064a \\u0641\\u064b\\u064a \\u0651\\u0627\\u0644\\u0622\\u0650\\u0648\\u0651\\u0646\\u0629\\u0651 \\u0627\\u064c\\u0644\\u0623\\u062e\\u064e\\u064a\\u0631\\u064e\\u0629\\u0651 \\u0651\\u062a\\u0651\\u0642\\u0627\\u0650\\u0631\\u0652\\u064a\\u064e\\u0631\\u0651 \\u062a\\u0651\\u0641\\u0652\\u064a\\u064e\\u062f\\u064d \\u064f\\u0623\\u064c\\u0646\\u064d \\u0623\\u064e\\u0641\\u064e\\u0631\\u0627\\u062f\\u064b\\u0627\\u064e \\u064d\\u0641\\u064a \\u064c\\u0627\\u0644\\u062e\\u064c\\u0627\\u0651\\u0631\\u0652\\u062c\\u0652 \\u064a\\u064d\\u0642\\u0648\\u0652\\u0645\\u0651\\u0648\\u0650\\u0646 \\u0628\\u0631\\u0651\\u0635\\u0650\\u062f\\u064f \\u0652\\u0648\\u064b\\u062a\\u0650\\u0642\\u064a\\u064f\\u064a\\u064f\\u0645\\u064b \\u064f\\u0623\\u064d\\u0641\\u0650\\u0631\\u064d\\u0627\\u062f \\u0630\\u0648\\u0650\\u064a \\u0639\\u0650\\u0642\\u0644\\u064a\\u064d\\u0629 \\u0650\\u0645\\u064d\\u062a\\u0645\\u0651\\u0627\\u062b\\u0644\\u0650\\u0629 \\u0645\\u0652\\u0633\\u064c\\u062a\\u0639\\u062f\\u0651\\u064a\\u0646\\u0652 \\u0650\\u0648\\u064c\\u0642\\u064d\\u0627\\u062f\\u064e\\u0631\\u0652\\u064a\\u0650\\u0646\\u064e \\u064f\\u0639\\u064b\\u0644\\u0649\\u064d \\u064b\\u062a\\u0646\\u0650\\u0641\\u064a\\u064d\\u0630 \\u064d\\u0647\\u064c\\u062c\\u0645\\u0627\\u064c\\u062a \\u0651\\u0639\\u0650\\u0644\\u0649\\u064b \\u0627\\u0644\\u0623\\u0641\\u064e\\u0631\\u0627\\u062f \\u0627\\u0644\\u0651\\u062d\\u0627\\u0644\\u064d\\u064a\\u064f\\u064a\\u0646\\u0650 \\u0648\\u064c\\u0627\\u0644\\u0633\\u064b\\u0627\\u0628\\u0642\\u064a\\u064b\\u0646\\u064f \\u0644\\u0644\\u064e\\u062c\\u064a\\u0634\\u0650 \\u0627\\u064d\\u0644\\u0623\\u064c\\u0645\\u064c\\u0631\\u064e\\u064a\\u064b\\u0643\\u064a \\u064d\\u0641\\u064a \\u0627\\u0650\\u0644\\u0648\\u0651\\u0644\\u0650\\u0627\\u064b\\u064a\\u0627\\u064c\\u062a \\u064b\\u0627\\u064f\\u0644\\u0652\\u0645\\u062a\\u062d\\u0652\\u062f\\u0629\\\"\\u064f .\\u064d \\u0648\\u0623\\u0643\\u0650\\u062f\\u064d \\u064e\\u0645\\u062a\\u062d\\u064e\\u062f\\u062b\\u064f \\u0628\\u0627\\u0633\\u064f\\u0645\\u064e \\u0645\\u0643\\u064c\\u062a\\u0628\\u0651 \\u064e\\u0627\\u0644\\u0651\\u062a\\u062d\\u0642\\u064a\\u064f\\u0642\\u0627\\u064d\\u062a \\u0627\\u064b\\u0644\\u0627\\u064d\\u062a\\u062d\\u0627\\u062f\\u0651\\u064a\\u064e \\u062f\\u064d\\u0642\\u064d\\u0629\\u064c \\u062a\\u0651\\u0642\\u064b\\u0631\\u064f\\u064a\\u0631 \\u0652\\u0634\\u0650\\u0628\\u0643\\u0629\\u064f \\u0651\\\"\\u064e\\u0625\\u064f\\u064a\\u0647 \\u064c.\\u064b\\u0628\\u064a\\u0652 \\u0652.\\u0633\\u0650\\u064a \\u064b.\\u064f \\u0646\\u064a\\u0648\\u0632\\\" \\u064f\\u0644\\u0643\\u0652\\u0646\\u0650\\u0647\\u064d \\u064f\\u0631\\u0641\\u0652\\u0636 \\u062a\\u0642\\u062f\\u064e\\u064a\\u0645\\u0650 \\u064d\\u0623\\u064a \\u0651\\u0646\\u0633\\u062e\\u0651\\u0629\\u064e \\u0645\\u0650\\u0646\\u064f \\u064e\\u0627\\u0644\\u0645\\u0630\\u0643\\u064c\\u0631\\u0650\\u0629\\u060c\\u0650 \\u064b\\u0648\\u064f\\u0642\\u0627\\u064f\\u0644\\u064d \\u0651\\u0627\\u0650\\u0644\\u0652\\u0643\\u0648\\u064d\\u0644\\u0648\\u0651\\u0646\\u0651\\u064a\\u0644 \\u064f\\u0633\\u062a\\u064e\\u064a\\u0641\\u0652 \\u0652\\u0648\\u0652\\u0627\\u064f\\u0631\\u064b\\u064a\\u0651\\u0646 \\u0627\\u064f\\u0644\\u0645\\u062a\\u062d\\u0651\\u062f\\u062b\\u064c \\u0628\\u0652\\u0627\\u0633\\u0645 \\u0627\\u0644\\u0628\\u064d\\u0646\\u0651\\u062a\\u064e\\u0627\\u063a\\u064c\\u0648\\u0646\\u064c \\u064e\\u0625\\u0652\\u0646\\u0650 \\u064e\\u0627\\u0651\\u0644\\u064b\\u0645\\u0630\\u064c\\u0643\\u0651\\u0631\\u0629\\u0652 \\u064e\\u062a\\u064b\\u0639\\u0652\\u0632\\u064b\\u0632\\u0652 \\u064d\\\"\\u0627\\u0644\\u064f\\u0625\\u064c\\u0631\\u0651\\u0634\\u064c\\u0627\\u064f\\u062f\\u064c\\u0627\\u064d\\u062a \\u0651\\u0627\\u064c\\u0644\\u064b\\u062a\\u064f\\u064a\\u064c \\u0623\\u0651\\u0635\\u064f\\u062f\\u064f\\u0631\\u0647\\u0627 \\u0642\\u0627\\u062f\\u0629 \\u0642\\u0648\\u0627\\u062a\\u0646\\u0627\\u064f \\u0642\\u064f\\u0628\\u064f\\u0644 \\u064e\\u0628\\u0636\\u0639\\u064c\\u0629\\u0651 \\u064b\\u0623\\u0651\\u0633\\u064b\\u0627\\u0651\\u0628\\u064f\\u064a\\u0639\\\"\\u060c \\u064d\\u0648\\u064b\\u0623\\u064b\\u0636\\u0627\\u0641 \\\"\\u064b\\u0627\\u064c\\u0644\\u0648\\u0652\\u0632\\u0627\\u0631\\u0629\\u064e \\u064f\\u0639\\u0644\\u064e\\u0649\\u064b \\u064d\\u0639\\u064f\\u0644\\u0651\\u0645 \\u0651\\u0648\\u062f\\u064f\\u0631\\u0627\\u064c\\u064a\\u0629 \\u0645\\u064b\\u0646\\u064c\\u0630 \\u0648\\u0650\\u0642\\u0651\\u062a \\u0637\\u064d\\u0648\\u0650\\u064a\\u0644 \\u0628\\u0651\\u0627\\u064b\\u0644\\u0652\\u0625\\u0631\\u064c\\u0647\\u064b\\u0627\\u064e\\u0628\\u0651 \\u064c\\u0627\\u0644\\u064e\\u0645\\u064e\\u062d\\u0644\\u064e\\u064a\\u0650 \\u0627\\u0644\\u064d\\u0646\\u0634\\u064b\\u0623\\u064c\\u0629\\u064f \\u0648\\u0646\\u062d\\u0646 \\u0645\\u0633\\u062a\\u064c\\u0645\\u0631\\u0648\\u0646 \\u0641\\u064c\\u064a\\u0652 \\u0652\\u062a\\u0652\\u0634\\u062c\\u064a\\u0639\\u064c \\u0643\\u0644\\u064d \\u0652\\u0623\\u0641\\u0631\\u064d\\u0627\\u064f\\u062f\\u0646\\u0627 \\u0650\\u0648\\u064b\\u0646\\u064d\\u0635\\u064f\\u062d\\u0647\\u064b\\u0645 \\u064f\\u0628\\u062a\\u0648\\u062e\\u064a \\u0623\\u0642\\u064b\\u0635\\u0652\\u0649\\u064d \\u0642\\u0652\\u062f\\u0651\\u0631\\u064b \\u0645\\u0652\\u0646\\u064e \\u064f\\u0627\\u0644\\u064e\\u064a\\u0642\\u0652\\u0638\\u064d\\u0629\\u064f\\\"\\u0650 .\\u0650 \\u0651(\\u0631\\u064f\\u0648\\u064a\\u064d\\u062a\\u0631\\u0650\\u0632)\",\n          \"https://example.com/resource/\\u064a\\u064f\\u0639\\u064b\\u0645\\u0650\\u0644\\u0650 \\u0627\\u064b\\u0644\\u0651\\u0628\\u064c\\u0631\\u064e\\u062a\\u063a\\u0627\\u0644\\u064c\\u064a \\u064e\\u062e\\u0648\\u0652\\u0631\\u062e\\u064a \\u0645\\u064a\\u064c\\u0646\\u062f\\u064c\\u064a\\u064f\\u0632\\u064e \\u0627\\u064d\\u0644\\u0652\\u0634\\u0647\\u064a\\u064b\\u0631\\u064f \\u0648\\u064e\\u0643\\u064a\\u0644 \\u0650\\u0623\\u0639\\u0645\\u0627\\u0644 \\u0644\\u0645\\u0652\\u0627 \\u064a\\u0642\\u0650\\u0631\\u0650\\u0628 \\u064f\\u0645\\u0651\\u0646\\u064f 1\\u064b0\\u064d0\\u0651 \\u0644\\u064e\\u0627\\u0639\\u0651\\u0628 \\u0645\\u062d\\u062a\\u064d\\u0631\\u064e\\u0641 \\u062d\\u064b\\u0648\\u064c\\u0644\\u064b \\u0627\\u064c\\u0644\\u0639\\u0627\\u064c\\u0644\\u064f\\u0645\\u064f\\u060c\\u064b \\u064e\\u0628\\u0642\\u064a\\u0645\\u064e\\u0629 \\u062a\\u0642\\u062f\\u0631\\u0651 \\u0628\\u0645\\u064b\\u0644\\u064a\\u0627\\u064d\\u0631\\u0651 \\u0651\\u062c\\u064b\\u0646\\u064a\\u0647\\u0651 \\u064e\\u0625\\u064f\\u0633\\u062a\\u0651\\u0631\\u0644\\u064a\\u0646\\u064d\\u064a\\u064d\\u060c\\u064f \\u064b\\u0648\\u064a\\u0644\\u0642\\u0652\\u0628 \\u0628\\u064f\\u00ab\\u0627\\u0644\\u0651\\u0648\\u0643\\u064a\\u064b\\u0644\\u064b \\u0627\\u0644\\u0633\\u0648\\u0628\\u0631\\u00bb\\u064b \\u0648\\u064f\\u0622\\u064c\\u062e\\u0651\\u0631 \\u0635\\u0641\\u0642\\u0652\\u0627\\u0652\\u062a\\u0647 \\u064e\\u0627\\u0644\\u064e\\u0643\\u0651\\u0628\\u064b\\u064a\\u0631\\u064d\\u0629\\u0652 \\u064b\\u0643\\u0627\\u0650\\u0646\\u0651 \\u0627\\u0644\\u064c\\u0645\\u0651\\u0647\\u0652\\u0627\\u0652\\u062c\\u064e\\u0645\\u064e \\u064c\\u0627\\u0651\\u0644\\u0641\\u0631\\u0646\\u0633\\u0652\\u064a\\u064d \\u0623\\u0651\\u0646\\u062a\\u0650\\u0648\\u0646\\u064a\\u064b \\u0645\\u0652\\u0627\\u0631\\u0633\\u064f\\u064a\\u064d\\u0627\\u0644 \\u064b\\u0645\\u0646\\u0652 \\u0645\\u0648\\u064e\\u0646\\u0650\\u0627\\u064f\\u0643\\u0650\\u0648 \\u0627\\u064e\\u0644\\u064d\\u0649 \\u0645\\u064d\\u0627\\u064b\\u0646\\u064c\\u0634\\u0650\\u0633\\u064e\\u062a\\u0631\\u0652 \\u064a\\u0648\\u0646\\u0627\\u064a\\u0650\\u062a\\u0651\\u062f \\u0627\\u064d\\u0644\\u0652\\u0625\\u0650\\u0646\\u062c\\u0644\\u064d\\u064a\\u0632\\u064c\\u064a\\u0650 \\u064e\\u0645\\u064d\\u0642\\u064f\\u0627\\u064f\\u0628\\u064e\\u0644\\u064d \\u064d5\\u06518\\u064f \\u0651\\u0645\\u064e\\u0644\\u064a\\u0648\\u064b\\u0646\\u064b \\u0652\\u062c\\u064f\\u0646\\u064a\\u064e\\u0647\\u0652 \\u064d\\u0625\\u0633\\u062a\\u0631\\u0644\\u064a\\u064c\\u0646\\u064a\\u064b.\\u0650\\u0648\\u0651\\u064a\\u0652\\u0639\\u062a\\u064e\\u0631\\u064c\\u0641\\u0651 \\u0645\\u064a\\u0646\\u062f\\u064a\\u0632 \\u064d\\u0628\\u064c\\u0627\\u064b\\u0632\\u062f\\u0652\\u062d\\u0627\\u0652\\u0645 \\u064d\\u062c\\u062f\\u0650\\u0648\\u0650\\u0644\\u0647 \\u0627\\u064d\\u0644\\u064a\\u0648\\u0645\\u0652\\u064a\\u064b \\u062d\\u0651\\u062a\\u0649 \\u0623\\u0646\\u064d\\u0647\\u0650 \\u064d\\u064a\\u062a\\u0650\\u0635\\u0652\\u0644 \\u064c\\u0628\\u064e\\u0631\\u064e\\u0626\\u064a\\u0651\\u0633 \\u0631\\u064d\\u064a\\u064f\\u0627\\u0644 \\u064c\\u0645\\u062f\\u064d\\u0631\\u064d\\u064a\\u064b\\u062f \\u0652\\u0641\\u0644\\u0648\\u0652\\u0631\\u0646\\u062a\\u064a\\u0646\\u064e\\u0648\\u0650 \\u0628\\u0650\\u064a\\u064e\\u0631\\u064a\\u0632\\u064d 2\\u06520 \\u0645\\u064c\\u0631\\u0629\\u064d \\u0641\\u064a \\u0650\\u0627\\u0644\\u064f\\u064a\\u0648\\u064d\\u0645.\\u0648\\u0650\\u0643\\u064d\\u0634\\u0641\\u064e\\u062a\\u064b \\u062a\\u0642\\u0652\\u0627\\u0650\\u0631\\u0652\\u064a\\u0631 \\u0623\\u064b\\u0646\\u064b \\u0639\\u064c\\u0631\\u0636 \\u0627\\u064b\\u0644\\u064a\\u064f\\u0648\\u0646\\u064f\\u0627\\u064a\\u064d\\u062a\\u062f \\u0627\\u0652\\u0644\\u064d\\u0623\\u0648\\u0644 \\u064e\\u0644\\u064e\\u0645\\u064d\\u0627\\u064f\\u0631\\u0633\\u0651\\u064a\\u0650\\u0627\\u0644\\u064f \\u064e\\u0643\\u064c\\u0627\\u0646\\u0652 \\u06523\\u064b6\\u064f.\\u064c3\\u0651 \\u064b\\u0645\\u064e\\u0644\\u064c\\u064a\\u064d\\u0648\\u0646 \\u064d\\u062c\\u0652\\u0646\\u064f\\u064a\\u0650\\u0647 \\u0625\\u0633\\u062a\\u064b\\u0631\\u0644\\u064b\\u064a\\u0646\\u064a\\u060c \\u0644\\u064b\\u0643\\u064f\\u0646\\u0647\\u064e \\u064d\\u062a\\u064c\\u0636\\u0627\\u064d\\u0639\\u0641 \\u064c3 \\u064f\\u0645\\u0651\\u0631\\u0627\\u062a\\u064f \\u0652\\u0641\\u064a\\u064b \\u063a\\u064e\\u0636\\u064c\\u0648\\u0646 2\\u064f4 \\u0633\\u0627\\u0639\\u064e\\u0629 \\u0650\\u0644\\u064a\\u064d\\u062a\\u0650\\u0631\\u064b\\u0643 \\u0645\\u0648\\u0652\\u0646\\u0627\\u0643\\u064c\\u0648\\u064c \\u064d\\u0628\\u064d\\u0644\\u064f\\u0627\\u064e \\u062e\\u064a\\u0650\\u0627\\u064e\\u0631 \\u0633\\u064f\\u0648\\u0649 \\u064b\\u0627\\u0652\\u0644\\u064e\\u0628\\u0651\\u064a\\u0639.\\u064c\\u0648\\u0633\\u064b\\u064a\\u064b\\u0643\\u064e\\u0648\\u064f\\u0646\\u0652 \\u0627\\u0644\\u064f\\u064a\\u0648\\u0646\\u0651\\u0627\\u064a\\u0651\\u062a\\u064b\\u062f\\u064d \\u0652\\u0645\\u062c\\u064b\\u0628\\u0631\\u0627\\u064b\\u064b \\u0651\\u0639\\u0644\\u0649\\u064c \\u062f\\u0652\\u0641\\u0639 \\u06507.\\u06512 \\u0650\\u0645\\u0652\\u0644\\u064a\\u0648\\u0646 \\u062c\\u064e\\u0646\\u064a\\u064c\\u0647\\u0650 \\u0625\\u0650\\u0633\\u0652\\u062a\\u0631\\u0644\\u0652\\u064a\\u0646\\u064a\\u064c \\u0644\\u0645\\u064d\\u0648\\u0646\\u064e\\u0627\\u0643\\u0650\\u0648\\u064e\\u060c \\u064f\\u0641\\u064a \\u064d\\u062d\\u0650\\u0627\\u064f\\u0644 \\u0646\\u064b\\u062c\\u064d\\u062d \\u064b\\u0627\\u0644\\u064e\\u0645\\u064c\\u0647\\u0627\\u062c\\u0645\\u064e \\u0641\\u0650\\u064a \\u064e\\u062a\\u064f\\u0633\\u062c\\u064a\\u0644\\u064b \\u065225\\u064c \\u0647\\u062f\\u0650\\u0641\\u0627\\u0651\\u064b\\u064d \\u064b\\u0641\\u064e\\u064a \\u0645\\u062f\\u064d\\u0629\\u0652 \\u0639\\u0650\\u0642\\u062f\\u0647\\u0651 \\u0644\\u0623\\u0631\\u0651\\u0628\\u0639 \\u0633\\u0646\\u064d\\u0648\\u0652\\u0627\\u064c\\u062a \\u064f\\u0648\\u064f7.2 \\u064f\\u0645\\u0644\\u064d\\u064a\\u0648\\u064f\\u0646\\u064d \\u062c\\u0646\\u064a\\u0652\\u0647\\u0652 \\u0650\\u0625\\u0651\\u0633\\u062a\\u064c\\u0631\\u0651\\u0644\\u064d\\u064a\\u0646\\u0650\\u064a\\u0650 \\u064e\\u0623\\u062e\\u0631\\u0649\\u0650 \\u0625\\u064c\\u0630\\u0627 \\u064d\\u0645\\u0627\\u064b \\u0644\\u0639\\u0652\\u0628 \\u064e2\\u06515 \\u0652\\u0645\\u0628\\u064c\\u0627\\u064e\\u0631\\u064e\\u0627\\u0629\\u0650 \\u064e\\u062f\\u064f\\u0648\\u0650\\u0644\\u064a\\u0629 \\u0641\\u064a\\u064b \\u064c\\u0646\\u064b\\u0641\\u0633 \\u064f\\u0627\\u064f\\u0644\\u0652\\u0641\\u0650\\u062a\\u0631\\u0629\\u060c \\u06487.\\u064b2\\u0651 \\u0651\\u0645\\u0644\\u064f\\u064a\\u0648\\u0646 \\u062c\\u0646\\u064a\\u064c\\u0647 \\u0625\\u0633\\u064e\\u062a\\u0631\\u064c\\u0644\\u064f\\u064a\\u0646\\u064c\\u064a \\u064b\\u0623\\u062e\\u0631\\u0649 \\u064f\\u0625\\u0630\\u0652\\u0627 \\u064e\\u0641\\u0650\\u0627\\u064e\\u0632 \\u064e\\u0645\\u0652\\u0627\\u064d\\u0631\\u064c\\u0633\\u0651\\u064a\\u0627\\u064c\\u0644\\u064d \\u0628\\u064d\\u062c\\u0650\\u0627\\u064f\\u0626\\u0632\\u0652\\u0629 \\u064c\\u0627\\u0644\\u0643\\u0631\\u0652\\u0629\\u064b \\u0627\\u0650\\u0644\\u064e\\u0630\\u0651\\u0647\\u064b\\u0628\\u064a\\u0652\\u0629\\u0652 \\u0628\\u062d\\u0644\\u0648\\u064f\\u0644\\u064e \\u064d\\u064a\\u0648\\u0646\\u064b\\u064a\\u0648\\u064e/\\u062d\\u0632\\u0652\\u064a\\u064d\\u0631\\u0627\\u0646 2\\u06500\\u064f1\\u064d9\\u0651 \\u0648\\u0643\\u0644 \\u064b\\u0647\\u0650\\u0630\\u064c\\u0627 \\u0628\\u0641\\u0636\\u0644\\u0650 \\u0648\\u0643\\u064a\\u0644 \\u0651\\u0623\\u064d\\u0639\\u0645\\u0627\\u0644\\u0647\\u064e \\u0645\\u0652\\u064a\\u0646\\u0652\\u062f\\u064a\\u064d\\u0632\\u0652.\\u0643\\u0644 \\u0627\\u0644\\u064b\\u0644\\u0627\\u064f\\u0639\\u0628\\u064a\\u064b\\u0646\\u064e \\u064f\\u0627\\u064d\\u0644\\u064b\\u0630\\u064a\\u0646 \\u064f\\u064a\\u0652\\u0645\\u064b\\u062b\\u064d\\u0644\\u0652\\u0647\\u0645 \\u0651\\u0645\\u064f\\u064a\\u0652\\u0646\\u064d\\u062f\\u064d\\u064a\\u0632 \\u064e\\u0643\\u0627\\u064d\\u0646\\u064f\\u0648\\u064e\\u0627 \\u0633\\u0639\\u064e\\u062f\\u0627\\u0621 \\u0641\\u064a\\u064f \\u0627\\u0644\\u0635\\u064a\\u0641\\u064e\\u060c\\u064f \\u0644\\u0643\\u064c\\u0646 \\u064c\\u0627\\u0644\\u0648\\u0650\\u062d\\u0650\\u064a\\u064b\\u062f \\u0627\\u0650\\u0644\\u064b\\u0630\\u064a \\u064e\\u0644\\u0651\\u0645 \\u064a\\u0652\\u062d\\u0642\\u0642\\u0652 \\u064c\\u0623\\u064d\\u0645\\u0646\\u064a\\u062a\\u0647\\u064f \\u0641\\u064b\\u064a \\u064e\\u0627\\u064c\\u0644\\u064d\\u0627\\u0646\\u062a\\u0650\\u0642\\u0627\\u0650\\u0644 \\u0643\\u0651\\u0627\\u064e\\u0646\\u064e \\u062f\\u064e\\u064a \\u064d\\u062e\\u0651\\u064a\\u0627 \\u062d\\u064e\\u0627\\u064d\\u0631\\u0652\\u0633\\u064b \\u064b\\u0627\\u0652\\u0644\\u064d\\u064a\\u064b\\u0648\\u0646\\u064c\\u0627\\u064a\\u062a\\u062f\\u064c\\u060c\\u064f \\u0648\\u064b\\u0642\\u0627\\u0644 \\u0645\\u064f\\u064a\\u0646\\u064f\\u062f\\u064a\\u0632\\u0652 \\u0651\\u0627\\u0646\\u064b \\u062a\\u0639\\u064b\\u062b\\u0631 \\u064e\\u0627\\u064d\\u0646\\u064b\\u062a\\u0642\\u0652\\u0627\\u0644\\u0647 \\u0651\\u0644\\u064b\\u0644\\u0631\\u064a\\u064c\\u0627\\u064e\\u0644\\u064e \\u0643\\u0627\\u0652\\u0646 \\u064b\\u0644\\u064c\\u0623\\u0633\\u064c\\u0628\\u0651\\u0627\\u0628\\u0650 \\u064f\\u062e\\u064d\\u0627\\u0631\\u064b\\u062c\\u0651\\u0629 \\u064e\\u0639\\u0650\\u0646\\u0650 \\u064d\\u0625\\u0652\\u0631\\u064d\\u0627\\u0652\\u062f\\u062a\\u0647.\\u064b\\u0627\\u0639\\u064d\\u062a\\u0650\\u0627\\u062f\\u064d \\u0651\\u0645\\u064a\\u0646\\u062f\\u064c\\u064a\\u0632 \\u0651\\u0627\\u0644\\u064d\\u0631\\u0628\\u062d \\u0645\\u064b\\u0646\\u0650\\u0630\\u064d \\u064f\\u0627\\u0651\\u0644\\u064c\\u0635\\u063a\\u064d\\u0631 \\u064b\\u0641\\u0642\\u0652\\u062f \\u0652\\u0643\\u064e\\u0627\\u064d\\u0646 \\u064a\\u064f\\u0628\\u064a\\u0651\\u0639\\u064d \\u0627\\u0644\\u0650\\u062f\\u0651\\u0631\\u0650\\u0627\\u062c\\u0627\\u064e\\u062a \\u0627\\u0644\\u064e\\u0647\\u064d\\u0648\\u0627\\u064f\\u0626\\u064a\\u064d\\u0629 \\u0651\\u0641\\u064f\\u064a\\u064e \\u0644\\u0634\\u0628\\u0652\\u0648\\u0646\\u0652\\u0629 \\u064c\\u0648\\u064a\\u062a\\u064b\\u062c\\u0652\\u0648\\u064c\\u0644 \\u0647\\u0651\\u0646\\u0627 \\u0648\\u064c\\u0647\\u0646\\u0627\\u0643\\u0651 \\u0644\\u064a\\u062d\\u064d\\u0635\\u0644 \\u0639\\u064e\\u0644\\u064e\\u0649 \\u0623\\u064c\\u0641\\u064e\\u0636\\u0650\\u0644\\u064b \\u064e\\u0633\\u064f\\u0639\\u064e\\u0631 \\u0652\\u0648\\u064e\\u064a\\u0650\\u0635\\u064f\\u0641\\u064b\\u0647 \\u0628\\u0650\\u064a\\u0652\\u0628\\u064a\\u064c \\u0646\\u064c\\u062c\\u064f\\u0645\\u064c \\u0627\\u0644\\u064c\\u0631\\u064a\\u0627\\u0644\\u064c \\u064d\\u0628\\u0627\\u0650\\u0644\\u064f\\u0642\\u0648\\u0644\\u064d: \\u00ab\\u064b\\u064a\\u064b\\u0645\\u064d\\u0643\\u0646\\u064f\\u0647\\u064c \\u0625\\u064e\\u0646\\u062c\\u0627\\u0632 \\u0623\\u0634\\u064d\\u064a\\u0651\\u0627\\u0621\\u064d \\u0651\\u0644\\u064d\\u0627 \\u064b\\u062a\\u062a\\u062e\\u064a\\u064b\\u0644 \\u0623\\u0646\\u064f\\u0647\\u0627\\u0651 \\u064d\\u064a\\u0645\\u0643\\u0646 \\u0623\\u0646\\u0651 \\u0650\\u062a\\u062d\\u062f\\u062b\\u064d\\u060c\\u064f \\u0650\\u0645\\u064f\\u062b\\u0644 \\u0627\\u0646\\u062a\\u0650\\u0642\\u0627\\u0644\\u064a\\u064f \\u0644\\u064b\\u0631\\u064b\\u064a\\u0652\\u0627\\u064c\\u0644 \\u0645\\u062f\\u0631\\u064a\\u062f\\u0650\\u00bb. \\u0623\\u064a\\u064d\\u0627\\u0645 \\u064c\\u0645\\u0650\\u0648\\u0651\\u0631\\u064a\\u064d\\u0646\\u064a\\u064e\\u0648 \\u064e\\u0641\\u0650\\u064a\\u0650 \\u064e\\u0627\\u0644\\u0652\\u0631\\u0651\\u064a\\u064e\\u0627\\u0652\\u0644\\u0650 \\u0652\\u0643\\u0650\\u0627\\u0651\\u0646\\u062a \\u0627\\u0650\\u0644\\u064c\\u0641\\u062a\\u064c\\u0631\\u064e\\u0629\\u064e \\u0650\\u0627\\u0644\\u0623\\u0650\\u0643\\u062b\\u0650\\u0631 \\u0650\\u0646\\u0634\\u0652\\u0627\\u0637\\u064b\\u0627\\u064b\\u0652 \\u0644\\u064c\\u0645\\u064f\\u064a\\u0646\\u064b\\u062f\\u064a\\u064b\\u0632\\u064f\\u060c \\u0641\\u0652\\u0648\\u064c\\u0643\\u064a\\u0650\\u0644 \\u0627\\u0644\\u0623\\u0639\\u0645\\u0627\\u064e\\u0644 \\u064d\\u0627\\u064e\\u0644\\u0650\\u0630\\u064a\\u064c \\u064d\\u064a\\u064f\\u0645\\u064e\\u062b\\u064d\\u0644\\u064e \\u0627\\u0644\\u0645\\u064c\\u062f\\u0652\\u0631\\u0650\\u0628\\u0651 \\u0627\\u0644\\u0628\\u0631\\u064f\\u062a\\u0650\\u063a\\u0627\\u064b\\u0644\\u064a \\u0648\\u0650\\u0631\\u0648\\u0646\\u064f\\u0627\\u0644\\u062f\\u0648\\u064d \\u0648\\u0643\\u0648\\u064a\\u064f\\u0646\\u064b\\u062a\\u0651\\u0631\\u0627\\u0652\\u0648 \\u0648\\u0628\\u064a\\u0628\\u064a\\u064d\\u060c \\u064e\\u0643\\u064f\\u0627\\u064c\\u0646 \\u0650\\u0639\\u0646\\u062f\\u0647 \\u0645\\u064e\\u0643\\u062a\\u064e\\u0628\\u064f \\u0650\\u0641\\u064a\\u064b \\u0645\\u0650\\u0644\\u0639\\u0628\\u064e \\u0627\\u0644\\u064e\\u062a\\u0645\\u064e\\u0631\\u064e\\u064a\\u064c\\u0646\\u064e\\u0627\\u0650\\u062a \\u0641\\u064a \\u064e\\u0641\\u0627\\u064e\\u0644\\u064c\\u062f\\u064f\\u064a\\u0628\\u064a\\u0628\\u0651\\u0627\\u0633\\u0652\\u060c \\u0644\\u0651\\u0630\\u0627\\u0650 \\u064e\\u062a\\u064f\\u0648\\u0650\\u062a\\u0631\\u064e\\u062a \\u0651\\u0639\\u064f\\u0644\\u0650\\u0627\\u0652\\u0642\\u0651\\u0629\\u0651 \\u0628\\u0650\\u064a\\u064b\\u0631\\u064a\\u064d\\u0632 \\u064c\\u0628\\u0652\\u0647\\u060c\\u0651 \\u064b\\u0644\\u0651\\u0643\\u0646\\u064b\\u0647\\u064f \\u0643\\u0650\\u0627\\u064e\\u0646 \\u062f\\u0628\\u064c\\u0644\\u0651\\u0648\\u0645\\u064f\\u0627\\u0651\\u0633\\u064a\\u064b\\u0627\\u064b\\u064b \\u0648\\u064a\\u064b\\u0635\\u0652\\u0641\\u064b\\u0647 \\u0650\\u0645\\u0648\\u0650\\u0631\\u0650\\u064a\\u0652\\u0646\\u064c\\u064a\\u0648\\u0652 \\u064c\\u0628\\u0650\\u0627\\u0644\\u0642\\u064d\\u0648\\u0644\\u064f:\\u064f \\u064f\\u00ab\\u064d\\u0639\\u0646\\u062f\\u0645\\u0627\\u064e \\u062a\\u0652\\u062d\\u0628\\u064c\\u0647 \\u062a\\u064b\\u062d\\u0651\\u062a\\u0631\\u0645\\u0652\\u0647\\u060c \\u0623\\u062d\\u064a\\u064c\\u0627\\u0646\\u0627\\u064e\\u064b \\u064d\\u064a\\u0636\\u0644\\u064c \\u064d\\u0627\\u064e\\u0644\\u064d\\u0644\\u0650\\u0627\\u0639\\u064e\\u0628\\u064a\\u0652\\u0646\\u0652 \\u0637\\u0651\\u0631\\u0650\\u064a\\u064b\\u0642\\u064c\\u0647\\u064c\\u0645 \\u064f\\u0648\\u0647\\u0651\\u0648 \\u064a\\u064d\\u062d\\u0645\\u0650\\u0644\\u0647\\u0645 \\u064f\\u0644\\u0628\\u0652\\u0631\\u0652 \\u0627\\u064c\\u0644\\u0623\\u064b\\u0645\\u0627\\u0646\\u00bb. \\u0639\\u0646\\u062f\\u0645\\u064c\\u0627 \\u0644\\u0639\\u0628\\u064e \\u0651\\u0641\\u0627\\u0644\\u0652\\u0646\\u064f\\u0633\\u064d\\u064a\\u0627\\u0652 \\u0652\\u0648\\u0645\\u064c\\u0648\\u064e\\u0646\\u0627\\u064d\\u0643\\u0648\\u0652 \\u0650\\u0641\\u0651\\u064a \\u062a\\u064b\\u0635\\u0641\\u064a\\u0627\\u064e\\u062a\\u064d \\u062f\\u064b\\u0648\\u064d\\u0631\\u064a\\u0650 \\u0623\\u0628\\u0637\\u0652\\u0627\\u064d\\u0644\\u064d \\u0627\\u0651\\u0648\\u0631\\u0648\\u0628\\u0652\\u0627\\u0650 \\u0652\\u0645\\u0650\\u0624\\u0651\\u062e\\u0631\\u064e\\u0627\\u0650\\u064b\\u064b \\u064b\\u062c\\u0644\\u064b\\u0633\\u064e \\u0645\\u064a\\u0646\\u064d\\u062f\\u064a\\u0652\\u0632\\u0651 \\u064c\\u0641\\u064a \\u0627\\u0644\\u0645\\u0650\\u062f\\u064c\\u0631\\u062c\\u0627\\u0651\\u062a \\u064d\\u0644\\u064a\\u0651\\u0631\\u0651\\u0627\\u0642\\u0628\\u0652 \\u0623\\u062f\\u064f\\u0627\\u0621\\u0652 8\\u064b \\u0652\\u0645\\u0646\\u064e \\u0644\\u0627\\u0639\\u064c\\u0628\\u064a\\u0650\\u0647 \\u0627\\u064f\\u0644\\u064b\\u0630\\u064e\\u064a\\u064d\\u0646 \\u064f\\u064a\\u0645\\u062b\\u0644\\u0652\\u0647\\u064c\\u0645 \\u0650\\u0641\\u0652\\u064a \\u064e\\u0627\\u0644\\u0641\\u064d\\u0631\\u064a\\u0642\\u064a\\u064f\\u0646. \\u064f\\u0645\\u0652\\u0644\\u0643 \\u00ab\\u0651\\u0645\\u064e\\u064a\\u0631\\u0652\\u0643\\u0652\\u0627\\u062a\\u064d\\u0648 \\u0627\\u0650\\u0644\\u0635\\u064a\\u064f\\u0641\\u064f\\u00bb\\u0628\\u0651\\u064a\\u0646\\u0650\\u0645\\u0627\\u0650 \\u062e\\u064c\\u0644\\u062f\\u0652 \\u064c\\u0622\\u062e\\u0652\\u0631\\u0648\\u0646 \\u064c\\u0625\\u0651\\u0644\\u064c\\u0649\\u064c \\u0652\\u0627\\u0651\\u0644\\u0652\\u0631\\u0627\\u064f\\u062d\\u0629\\u064f \\u0648\\u064e\\u0627\\u0644\\u064b\\u0627\\u0633\\u0650\\u062a\\u062c\\u064e\\u0645\\u064e\\u0627\\u0645 \\u062e\\u0644\\u064d\\u0627\\u0644\\u0652 \\u0652\\u0645\\u062f\\u0629 \\u064c\\u0627\\u0644\\u0639\\u0637\\u064f\\u0644\\u0629 \\u064e\\u0627\\u064c\\u0644\\u0651\\u0635\\u064a\\u0641\\u0650\\u064a\\u064b\\u0629\\u064b \\u0628\\u064f\\u064a\\u0646 \\u0650\\u0627\\u064c\\u0644\\u0645\\u0648\\u0633\\u0645\\u064b\\u064a\\u0646\\u064d \\u064f\\u0627\\u064f\\u0644\\u0645\\u064c\\u0627\\u064b\\u0636\\u064a\\u064e \\u0648\\u0627\\u0650\\u0644\\u064e\\u062d\\u064d\\u0627\\u0644\\u064a\\u064e\\u060c\\u064e \\u064f\\u0643\\u0627\\u064f\\u0646 \\u0627\\u0644\\u0639\\u0645\\u0644\\u0651 \\u0645\\u0643\\u062b\\u064e\\u0641\\u064b\\u0627\\u064c\\u064b \\u0648\\u064b\\u0636\\u062e\\u064f\\u0645\\u064c\\u0627\\u064d\\u064b \\u064b\\u0639\\u0650\\u0644\\u0649\\u0651 \\u0651\\u0648\\u064d\\u0643\\u064a\\u0644\\u064b \\u0627\\u0644\\u064c\\u0644\\u0627\\u0639\\u0650\\u0628\\u0651\\u064a\\u0646\\u0651 \\u064c\\u0627\\u0644\\u064e\\u0628\\u0651\\u0631\\u0651\\u062a\\u063a\\u0627\\u0651\\u0644\\u064a \\u064d\\u0627\\u0644\\u064e\\u0634\\u064d\\u0647\\u0652\\u064a\\u064d\\u0631 \\u062e\\u0648\\u064e\\u0631\\u062e\\u064d\\u064a \\u0645\\u064a\\u0650\\u0646\\u062f\\u064a\\u0651\\u0632 \\u0641\\u0652\\u064a\\u064c \\u0633\\u0648\\u0642 \\u0627\\u0644\\u0627\\u0646\\u0650\\u062a\\u0642\\u0627\\u0644\\u0627\\u064b\\u062a\\u064e \\u064b\\u0647\\u0630\\u064d\\u0627 \\u064c\\u0627\\u064d\\u0644\\u0635\\u064a\\u0641\\u060c \\u0628\\u064b\\u0635\\u0641\\u064d\\u062a\\u0650\\u0647\\u0650 \\u0651\\u0623\\u062d\\u062f \\u0623\\u064c\\u0643\\u0650\\u062b\\u064c\\u0631 \\u0651\\u0627\\u064e\\u0644\\u064c\\u0645\\u0624\\u064f\\u062b\\u064b\\u0631\\u064f\\u064a\\u0646 \\u0641\\u064b\\u064a\\u0650 \\u0645\\u0633\\u064a\\u064f\\u0631\\u064d\\u0629 \\u064d\\u0643\\u064c\\u0631\\u064b\\u0629\\u064e \\u0650\\u0627\\u064c\\u0644\\u0651\\u0642\\u0652\\u062f\\u0645 \\u064f\\u0627\\u0644\\u0627\\u062d\\u062a\\u064f\\u0631\\u0627\\u064b\\u0641\\u064a\\u064b\\u0629\\u064e.\\u0648\\u0651\\u0645\\u064f\\u0646 \\u064f\\u0628\\u064a\\u0646 \\u0645\\u0626\\u0627\\u0650\\u062a\\u064f \\u064f\\u0627\\u0650\\u0644\\u0645\\u064b\\u0644\\u064c\\u0627\\u064a\\u0651\\u064a\\u0650\\u0646\\u064c \\u0651\\u0627\\u064d\\u0644\\u062a\\u064a \\u0634\\u064b\\u0647\\u062f\\u062a\\u0651\\u0647\\u0627\\u0650 \\u0633\\u0650\\u0648\\u0642\\u0652 \\u0627\\u0646\\u062a\\u0642\\u0627\\u0644\\u064b\\u0627\\u062a \\u0627\\u0651\\u0644\\u064c\\u0644\\u0627\\u064f\\u0639\\u064c\\u0628\\u064d\\u064a\\u064d\\u0646 \\u0641\\u0652\\u064a\\u064f \\u0623\\u0648\\u064b\\u0631\\u0648\\u0628\\u0627 \\u0652\\u0641\\u0650\\u064a \\u064f\\u00ab\\u064e\\u0627\\u0650\\u0644\\u0645\\u064f\\u064a\\u064e\\u0631\\u0643\\u0652\\u0627\\u0652\\u062a\\u064f\\u0648 \\u0627\\u064f\\u0644\\u0635\\u064c\\u064a\\u0641\\u0651\\u064a\\u00bb\\u064d\\u060c \\u0643\\u064e\\u0627\\u0646 \\u0644\\u064c\\u0645\\u064a\\u0646\\u062f\\u064a\\u0632 \\u064e\\u0646\\u0635\\u064a\\u0651\\u0628\\u0652 \\u0627\\u064b\\u0644\\u0623\\u0633\\u064c\\u062f\\u064e \\u0645\\u0650\\u062c\\u0652\\u062f\\u064f\\u062f\\u0627\\u064e\\u064b\\u064f\\u060c \\u064e\\u062d\\u064e\\u064a\\u064d\\u062b\\u0652 \\u064f\\u0628\\u064e\\u0644\\u064e\\u063a \\u0625\\u0652\\u062c\\u0645\\u0627\\u0644\\u064a \\u0651\\u0627\\u0644\\u064b\\u0635\\u064e\\u0641\\u064c\\u0642\\u0627\\u064f\\u062a \\u0627\\u064d\\u0644\\u064c\\u062a\\u064a\\u0652 \\u064b\\u0634\\u0652\\u0645\\u0644\\u0652\\u062a \\u0652\\u0627\\u0644\\u0651\\u0644\\u064d\\u0627\\u0651\\u0639\\u0628\\u064f\\u064a\\u0646\\u0650 \\u0627\\u0650\\u0644\\u0645\\u0652\\u062a\\u0639\\u0651\\u0627\\u064b\\u0642\\u064f\\u062f\\u064a\\u064d\\u0646 \\u064c\\u0645\\u0639\\u0647\\u064d \\u0646\\u064d\\u062d\\u0648 \\u064c4\\u064d0\\u064e0 \\u0645\\u0644\\u064a\\u064f\\u0648\\u0652\\u0646\\u0650 \\u064a\\u0648\\u0631\\u0648 \\u0652(\\u065044\\u064d5\\u0651 \\u0645\\u0644\\u064c\\u064a\\u0648\\u064b\\u0646\\u0651 \\u062f\\u0648\\u0644\\u0651\\u0627\\u0651\\u0631)\\u0651.\\u0648\\u064b\\u0628\\u0651\\u0647\\u0630\\u0627 \\u064d\\u064a\\u064e\\u0635\\u0652\\u0628\\u0652\\u062d \\u0650\\u0645\\u064c\\u064a\\u0652\\u0646\\u0651\\u062f\\u064a\\u0632\\u0652(\\u064d 49\\u064e \\u064e\\u0639\\u0627\\u064b\\u0645\\u0651\\u0627\\u064b\\u064b)\\u064e \\u0647\\u064c\\u0648\\u0650 \\u0650\\u0627\\u0644\\u0631\\u0650\\u0627\\u064e\\u0628\\u062d \\u0650\\u0627\\u0644\\u0623\\u0643\\u0651\\u0628\\u064c\\u0631 \\u0641\\u064a\\u0652 \\u0650\\u0633\\u064f\\u0648\\u0642 \\u0627\\u064f\\u0646\\u064b\\u062a\\u0642\\u0650\\u0627\\u064e\\u0644\\u0650\\u0627\\u0651\\u062a \\u0627\\u064e\\u0644\\u0650\\u0644\\u0627\\u0639\\u0628\\u0652\\u064a\\u064c\\u0646 \\u0650\\u0647\\u0630\\u064d\\u0627\\u064d \\u0651\\u0627\\u0651\\u0644\\u064f\\u0635\\u064a\\u0641\\u064c \\u0648\\u064b\\u0627\\u0650\\u0644\\u0650\\u0630\\u064d\\u064a \\u0623\\u0650\\u063a\\u064d\\u0644\\u064b\\u0642\\u064c \\u064b\\u064a\\u0652\\u0648\\u064b\\u0645 \\u064f\\u0627\\u064c\\u0644\\u064c\\u0627\\u064b\\u062b\\u0646\\u064a\\u0650\\u0646\\u064e \\u0627\\u0644\\u064f\\u0645\\u064e\\u0627\\u0636\\u064c\\u064a\\u0652.\\u0648\\u0652\\u0623\\u0646\\u0651\\u0641\\u0642\\u0652\\u062a\\u064b \\u0627\\u0644\\u0623\\u0646\\u062f\\u064e\\u064a\\u064f\\u0629\\u064f \\u064b\\u0627\\u0644\\u0625\\u0646\\u0652\\u062c\\u0651\\u0644\\u064a\\u064f\\u0632\\u064a\\u0652\\u0629 \\u0646\\u064f\\u062d\\u0648\\u064d \\u0651\\u0645\\u0644\\u064f\\u064a\\u0627\\u0631 \\u0648\\u064c200\\u0651 \\u0645\\u0651\\u0644\\u064d\\u064a\\u0648\\u0646 \\u064b\\u064a\\u0650\\u0648\\u0631\\u0648\\u064b (\\u0631\\u0642\\u0645\\u0650 \\u0642\\u0651\\u064a\\u064b\\u0627\\u0651\\u0633\\u064a\\u064d \\u064e\\u062c\\u0651\\u062f\\u064f\\u064a\\u062f)\\u0651 \\u064f\\u0644\\u064b\\u0636\\u0645 \\u064f\\u0644\\u064c\\u0627\\u0639\\u0652\\u0628\\u064a\\u064e\\u0646\\u064d \\u062c\\u062f\\u062f \\u0651\\u0645\\u0651\\u0646 \\u0623\\u064f\\u062c\\u0644\\u0652 \\u0651\\u062a\\u0652\\u062f\\u064d\\u0639\\u064e\\u064a\\u0652\\u0645 \\u0647\\u064f\\u0630\\u0652\\u0627 \\u0627\\u0651\\u0644\\u0635\\u064a\\u0641\\u064b\\u060c \\u0648\\u0643\\u0652\\u0627\\u064d\\u0646\\u0652 \\u0645\\u064c\\u064a\\u064f\\u0646\\u064c\\u062f\\u0652\\u064a\\u0652\\u0632\\u064b \\u0651\\u0637\\u0631\\u0652\\u0641\\u0650\\u0627\\u064b \\u0641\\u064a \\u0651\\u062b\\u064c\\u0644\\u064c\\u0627\\u062b\\u064d \\u0645\\u0646 \\u0623\\u064b\\u0643\\u0652\\u0628\\u0631\\u064b \\u0627\\u0650\\u0644\\u0635\\u0641\\u0642\\u0627\\u062a \\u0627\\u0644\\u064e\\u062a\\u064a \\u0623\\u0628\\u0631\\u0650\\u0645\\u0651\\u062a\\u0647\\u0627 \\u0627\\u0644\\u0623\\u064b\\u0646\\u064b\\u062f\\u064a\\u064f\\u0629 \\u0627\\u064c\\u0644\\u0625\\u0646\\u062c\\u064e\\u0644\\u064a\\u0632\\u0651\\u064a\\u0629\\u0652 \\u0633\\u064d\\u0648\\u0652\\u0627\\u0652\\u0621 \\u064b\\u0625\\u064f\\u0644\\u0651\\u0649 \\u0623\\u0648 \\u0651\\u0645\\u0646\\u064b \\u0635\\u0641\\u0651\\u0648\\u0641\\u0647\\u0627.\"\n        ],\n        \"semantic_type\": \"\",\n        \"description\": \"\"\n      }\n    },\n    {\n      \"column\": \"label\",\n      \"properties\": {\n        \"dtype\": \"category\",\n        \"num_unique_values\": 7,\n        \"samples\": [\n          \"Culture\",\n          \"Finance\",\n          \"Sports\"\n        ],\n        \"semantic_type\": \"\",\n        \"description\": \"\"\n      }\n    },\n    {\n      \"column\": \"word_count\",\n      \"properties\": {\n        \"dtype\": \"number\",\n        \"std\": 145,\n        \"min\": 20,\n        \"max\": 600,\n        \"num_unique_values\": 581,\n        \"samples\": [\n          68,\n          324,\n          75\n        ],\n        \"semantic_type\": \"\",\n        \"description\": \"\"\n      }\n    },\n    {\n      \"column\": \"char_count\",\n      \"properties\": {\n        \"dtype\": \"number\",\n        \"std\": 1301,\n        \"min\": 176,\n        \"max\": 6082,\n        \"num_unique_values\": 5297,\n        \"samples\": [\n          2337,\n          4048,\n          1870\n        ],\n        \"semantic_type\": \"\",\n        \"description\": \"\"\n      }\n    }\n  ]\n}"
            }
          },
          "metadata": {},
          "execution_count": 20
        }
      ]
    },
    {
      "cell_type": "code",
      "source": [
        "def clean_text(text):\n",
        "  cleaned_text = re.sub(r'http\\S+|www\\S+|https\\S+', '', text, flags=re.MULTILINE)\n",
        "  #Removing special characters\n",
        "  cleaned_text = re.sub(r'[^\\w\\s]', '', cleaned_text)\n",
        "  cleaned_text = araby.strip_tashkeel(cleaned_text)\n",
        "  cleaned_text = araby.strip_tatweel(cleaned_text)\n",
        "# tokenize\n",
        "  words = nltk.word_tokenize(cleaned_text)\n",
        "\n",
        "  filtered_words = [word for word in words if word not in stop_words]\n",
        "#Stemming\n",
        "  stemmer = ISRIStemmer()\n",
        "  stemmed_words = [stemmer.stem(word) for word in filtered_words]\n",
        "\n",
        "  cleaned_text = araby.normalize_hamza(cleaned_text)\n",
        "#Join\n",
        "  cleaned_text = ' '.join(stemmed_words)\n",
        "  return cleaned_text\n",
        "\n",
        "df['clean_text'] = df['text'].apply(clean_text)"
      ],
      "metadata": {
        "id": "LxKHkrd1NcGG"
      },
      "execution_count": 21,
      "outputs": []
    },
    {
      "cell_type": "code",
      "source": [
        "df.sample(5)"
      ],
      "metadata": {
        "id": "Gi2dcf8pNqjs",
        "outputId": "66c91d0d-c042-45d2-e240-4f76f55d77d4",
        "colab": {
          "base_uri": "https://localhost:8080/",
          "height": 204
        }
      },
      "execution_count": 22,
      "outputs": [
        {
          "output_type": "execute_result",
          "data": {
            "text/plain": [
              "                                                    text     label  \\\n",
              "21498  https://example.com/resource/رْحْبَ ٍرًئْيس ُا...  Politics   \n",
              "15734  https://example.com/resource/متِاِبعٌةْ: ِإٌيٌ...   Medical   \n",
              "29849  https://example.com/resource/حًسًمٍت ايّطٍاَلّ...    Sports   \n",
              "17309  https://example.com/resource/أّبٍوظبي: «الًخلٌ...   Medical   \n",
              "32625  https://example.com/resource/قال ًروبّرَتوٍ مٍ...    Sports   \n",
              "\n",
              "       word_count  char_count  \\\n",
              "21498         145        1378   \n",
              "15734         322        2818   \n",
              "29849         175        1656   \n",
              "17309          77         799   \n",
              "32625         100         941   \n",
              "\n",
              "                                              clean_text  \n",
              "21498  رئس رلم عرب شعل سلم قرر جلس امن مبي قرر خطة هم...  \n",
              "15734  ايم عبد الل علج حمل وطن خلص لهب كبد وبي سي 360...  \n",
              "29849  يطل وجه يون بفز عليها 31 أهل تلي الى نصف نهي س...  \n",
              "17309  خلج اجر قفل امر طبة تطع فحص طبة يزد 40 ريض خلف...  \n",
              "32625  روبرتو مارتينيز درب يفر نفس دور جلز متز لكر قد...  "
            ],
            "text/html": [
              "\n",
              "  <div id=\"df-9ca3769d-6b54-4314-a305-bce0cd524b8e\" class=\"colab-df-container\">\n",
              "    <div>\n",
              "<style scoped>\n",
              "    .dataframe tbody tr th:only-of-type {\n",
              "        vertical-align: middle;\n",
              "    }\n",
              "\n",
              "    .dataframe tbody tr th {\n",
              "        vertical-align: top;\n",
              "    }\n",
              "\n",
              "    .dataframe thead th {\n",
              "        text-align: right;\n",
              "    }\n",
              "</style>\n",
              "<table border=\"1\" class=\"dataframe\">\n",
              "  <thead>\n",
              "    <tr style=\"text-align: right;\">\n",
              "      <th></th>\n",
              "      <th>text</th>\n",
              "      <th>label</th>\n",
              "      <th>word_count</th>\n",
              "      <th>char_count</th>\n",
              "      <th>clean_text</th>\n",
              "    </tr>\n",
              "  </thead>\n",
              "  <tbody>\n",
              "    <tr>\n",
              "      <th>21498</th>\n",
              "      <td>https://example.com/resource/رْحْبَ ٍرًئْيس ُا...</td>\n",
              "      <td>Politics</td>\n",
              "      <td>145</td>\n",
              "      <td>1378</td>\n",
              "      <td>رئس رلم عرب شعل سلم قرر جلس امن مبي قرر خطة هم...</td>\n",
              "    </tr>\n",
              "    <tr>\n",
              "      <th>15734</th>\n",
              "      <td>https://example.com/resource/متِاِبعٌةْ: ِإٌيٌ...</td>\n",
              "      <td>Medical</td>\n",
              "      <td>322</td>\n",
              "      <td>2818</td>\n",
              "      <td>ايم عبد الل علج حمل وطن خلص لهب كبد وبي سي 360...</td>\n",
              "    </tr>\n",
              "    <tr>\n",
              "      <th>29849</th>\n",
              "      <td>https://example.com/resource/حًسًمٍت ايّطٍاَلّ...</td>\n",
              "      <td>Sports</td>\n",
              "      <td>175</td>\n",
              "      <td>1656</td>\n",
              "      <td>يطل وجه يون بفز عليها 31 أهل تلي الى نصف نهي س...</td>\n",
              "    </tr>\n",
              "    <tr>\n",
              "      <th>17309</th>\n",
              "      <td>https://example.com/resource/أّبٍوظبي: «الًخلٌ...</td>\n",
              "      <td>Medical</td>\n",
              "      <td>77</td>\n",
              "      <td>799</td>\n",
              "      <td>خلج اجر قفل امر طبة تطع فحص طبة يزد 40 ريض خلف...</td>\n",
              "    </tr>\n",
              "    <tr>\n",
              "      <th>32625</th>\n",
              "      <td>https://example.com/resource/قال ًروبّرَتوٍ مٍ...</td>\n",
              "      <td>Sports</td>\n",
              "      <td>100</td>\n",
              "      <td>941</td>\n",
              "      <td>روبرتو مارتينيز درب يفر نفس دور جلز متز لكر قد...</td>\n",
              "    </tr>\n",
              "  </tbody>\n",
              "</table>\n",
              "</div>\n",
              "    <div class=\"colab-df-buttons\">\n",
              "\n",
              "  <div class=\"colab-df-container\">\n",
              "    <button class=\"colab-df-convert\" onclick=\"convertToInteractive('df-9ca3769d-6b54-4314-a305-bce0cd524b8e')\"\n",
              "            title=\"Convert this dataframe to an interactive table.\"\n",
              "            style=\"display:none;\">\n",
              "\n",
              "  <svg xmlns=\"http://www.w3.org/2000/svg\" height=\"24px\" viewBox=\"0 -960 960 960\">\n",
              "    <path d=\"M120-120v-720h720v720H120Zm60-500h600v-160H180v160Zm220 220h160v-160H400v160Zm0 220h160v-160H400v160ZM180-400h160v-160H180v160Zm440 0h160v-160H620v160ZM180-180h160v-160H180v160Zm440 0h160v-160H620v160Z\"/>\n",
              "  </svg>\n",
              "    </button>\n",
              "\n",
              "  <style>\n",
              "    .colab-df-container {\n",
              "      display:flex;\n",
              "      gap: 12px;\n",
              "    }\n",
              "\n",
              "    .colab-df-convert {\n",
              "      background-color: #E8F0FE;\n",
              "      border: none;\n",
              "      border-radius: 50%;\n",
              "      cursor: pointer;\n",
              "      display: none;\n",
              "      fill: #1967D2;\n",
              "      height: 32px;\n",
              "      padding: 0 0 0 0;\n",
              "      width: 32px;\n",
              "    }\n",
              "\n",
              "    .colab-df-convert:hover {\n",
              "      background-color: #E2EBFA;\n",
              "      box-shadow: 0px 1px 2px rgba(60, 64, 67, 0.3), 0px 1px 3px 1px rgba(60, 64, 67, 0.15);\n",
              "      fill: #174EA6;\n",
              "    }\n",
              "\n",
              "    .colab-df-buttons div {\n",
              "      margin-bottom: 4px;\n",
              "    }\n",
              "\n",
              "    [theme=dark] .colab-df-convert {\n",
              "      background-color: #3B4455;\n",
              "      fill: #D2E3FC;\n",
              "    }\n",
              "\n",
              "    [theme=dark] .colab-df-convert:hover {\n",
              "      background-color: #434B5C;\n",
              "      box-shadow: 0px 1px 3px 1px rgba(0, 0, 0, 0.15);\n",
              "      filter: drop-shadow(0px 1px 2px rgba(0, 0, 0, 0.3));\n",
              "      fill: #FFFFFF;\n",
              "    }\n",
              "  </style>\n",
              "\n",
              "    <script>\n",
              "      const buttonEl =\n",
              "        document.querySelector('#df-9ca3769d-6b54-4314-a305-bce0cd524b8e button.colab-df-convert');\n",
              "      buttonEl.style.display =\n",
              "        google.colab.kernel.accessAllowed ? 'block' : 'none';\n",
              "\n",
              "      async function convertToInteractive(key) {\n",
              "        const element = document.querySelector('#df-9ca3769d-6b54-4314-a305-bce0cd524b8e');\n",
              "        const dataTable =\n",
              "          await google.colab.kernel.invokeFunction('convertToInteractive',\n",
              "                                                    [key], {});\n",
              "        if (!dataTable) return;\n",
              "\n",
              "        const docLinkHtml = 'Like what you see? Visit the ' +\n",
              "          '<a target=\"_blank\" href=https://colab.research.google.com/notebooks/data_table.ipynb>data table notebook</a>'\n",
              "          + ' to learn more about interactive tables.';\n",
              "        element.innerHTML = '';\n",
              "        dataTable['output_type'] = 'display_data';\n",
              "        await google.colab.output.renderOutput(dataTable, element);\n",
              "        const docLink = document.createElement('div');\n",
              "        docLink.innerHTML = docLinkHtml;\n",
              "        element.appendChild(docLink);\n",
              "      }\n",
              "    </script>\n",
              "  </div>\n",
              "\n",
              "\n",
              "<div id=\"df-d8e146d1-4533-4226-aea3-a95f697d4c19\">\n",
              "  <button class=\"colab-df-quickchart\" onclick=\"quickchart('df-d8e146d1-4533-4226-aea3-a95f697d4c19')\"\n",
              "            title=\"Suggest charts\"\n",
              "            style=\"display:none;\">\n",
              "\n",
              "<svg xmlns=\"http://www.w3.org/2000/svg\" height=\"24px\"viewBox=\"0 0 24 24\"\n",
              "     width=\"24px\">\n",
              "    <g>\n",
              "        <path d=\"M19 3H5c-1.1 0-2 .9-2 2v14c0 1.1.9 2 2 2h14c1.1 0 2-.9 2-2V5c0-1.1-.9-2-2-2zM9 17H7v-7h2v7zm4 0h-2V7h2v10zm4 0h-2v-4h2v4z\"/>\n",
              "    </g>\n",
              "</svg>\n",
              "  </button>\n",
              "\n",
              "<style>\n",
              "  .colab-df-quickchart {\n",
              "      --bg-color: #E8F0FE;\n",
              "      --fill-color: #1967D2;\n",
              "      --hover-bg-color: #E2EBFA;\n",
              "      --hover-fill-color: #174EA6;\n",
              "      --disabled-fill-color: #AAA;\n",
              "      --disabled-bg-color: #DDD;\n",
              "  }\n",
              "\n",
              "  [theme=dark] .colab-df-quickchart {\n",
              "      --bg-color: #3B4455;\n",
              "      --fill-color: #D2E3FC;\n",
              "      --hover-bg-color: #434B5C;\n",
              "      --hover-fill-color: #FFFFFF;\n",
              "      --disabled-bg-color: #3B4455;\n",
              "      --disabled-fill-color: #666;\n",
              "  }\n",
              "\n",
              "  .colab-df-quickchart {\n",
              "    background-color: var(--bg-color);\n",
              "    border: none;\n",
              "    border-radius: 50%;\n",
              "    cursor: pointer;\n",
              "    display: none;\n",
              "    fill: var(--fill-color);\n",
              "    height: 32px;\n",
              "    padding: 0;\n",
              "    width: 32px;\n",
              "  }\n",
              "\n",
              "  .colab-df-quickchart:hover {\n",
              "    background-color: var(--hover-bg-color);\n",
              "    box-shadow: 0 1px 2px rgba(60, 64, 67, 0.3), 0 1px 3px 1px rgba(60, 64, 67, 0.15);\n",
              "    fill: var(--button-hover-fill-color);\n",
              "  }\n",
              "\n",
              "  .colab-df-quickchart-complete:disabled,\n",
              "  .colab-df-quickchart-complete:disabled:hover {\n",
              "    background-color: var(--disabled-bg-color);\n",
              "    fill: var(--disabled-fill-color);\n",
              "    box-shadow: none;\n",
              "  }\n",
              "\n",
              "  .colab-df-spinner {\n",
              "    border: 2px solid var(--fill-color);\n",
              "    border-color: transparent;\n",
              "    border-bottom-color: var(--fill-color);\n",
              "    animation:\n",
              "      spin 1s steps(1) infinite;\n",
              "  }\n",
              "\n",
              "  @keyframes spin {\n",
              "    0% {\n",
              "      border-color: transparent;\n",
              "      border-bottom-color: var(--fill-color);\n",
              "      border-left-color: var(--fill-color);\n",
              "    }\n",
              "    20% {\n",
              "      border-color: transparent;\n",
              "      border-left-color: var(--fill-color);\n",
              "      border-top-color: var(--fill-color);\n",
              "    }\n",
              "    30% {\n",
              "      border-color: transparent;\n",
              "      border-left-color: var(--fill-color);\n",
              "      border-top-color: var(--fill-color);\n",
              "      border-right-color: var(--fill-color);\n",
              "    }\n",
              "    40% {\n",
              "      border-color: transparent;\n",
              "      border-right-color: var(--fill-color);\n",
              "      border-top-color: var(--fill-color);\n",
              "    }\n",
              "    60% {\n",
              "      border-color: transparent;\n",
              "      border-right-color: var(--fill-color);\n",
              "    }\n",
              "    80% {\n",
              "      border-color: transparent;\n",
              "      border-right-color: var(--fill-color);\n",
              "      border-bottom-color: var(--fill-color);\n",
              "    }\n",
              "    90% {\n",
              "      border-color: transparent;\n",
              "      border-bottom-color: var(--fill-color);\n",
              "    }\n",
              "  }\n",
              "</style>\n",
              "\n",
              "  <script>\n",
              "    async function quickchart(key) {\n",
              "      const quickchartButtonEl =\n",
              "        document.querySelector('#' + key + ' button');\n",
              "      quickchartButtonEl.disabled = true;  // To prevent multiple clicks.\n",
              "      quickchartButtonEl.classList.add('colab-df-spinner');\n",
              "      try {\n",
              "        const charts = await google.colab.kernel.invokeFunction(\n",
              "            'suggestCharts', [key], {});\n",
              "      } catch (error) {\n",
              "        console.error('Error during call to suggestCharts:', error);\n",
              "      }\n",
              "      quickchartButtonEl.classList.remove('colab-df-spinner');\n",
              "      quickchartButtonEl.classList.add('colab-df-quickchart-complete');\n",
              "    }\n",
              "    (() => {\n",
              "      let quickchartButtonEl =\n",
              "        document.querySelector('#df-d8e146d1-4533-4226-aea3-a95f697d4c19 button');\n",
              "      quickchartButtonEl.style.display =\n",
              "        google.colab.kernel.accessAllowed ? 'block' : 'none';\n",
              "    })();\n",
              "  </script>\n",
              "</div>\n",
              "\n",
              "    </div>\n",
              "  </div>\n"
            ],
            "application/vnd.google.colaboratory.intrinsic+json": {
              "type": "dataframe",
              "summary": "{\n  \"name\": \"df\",\n  \"rows\": 5,\n  \"fields\": [\n    {\n      \"column\": \"text\",\n      \"properties\": {\n        \"dtype\": \"string\",\n        \"num_unique_values\": 5,\n        \"samples\": [\n          \"https://example.com/resource/\\u0645\\u062a\\u0650\\u0627\\u0650\\u0628\\u0639\\u064c\\u0629\\u0652: \\u0650\\u0625\\u064c\\u064a\\u064c\\u0645\\u064b\\u0627\\u0646\\u064b \\u0639\\u0628\\u062f\\u064c \\u0627\\u064f\\u0644\\u064f\\u0644\\u0647 \\u064f\\u0639\\u0627\\u0644\\u064f\\u062c\\u062a \\u0627\\u064e\\u0644\\u062d\\u064b\\u0645\\u0644\\u0629 \\u0627\\u0651\\u0644\\u0651\\u0648\\u0652\\u0637\\u0646\\u064f\\u064a\\u0629 \\u0644\\u064d\\u0644\\u062a\\u062e\\u064b\\u0644\\u0635 \\u0645\\u0646\\u0652 \\u0627\\u064d\\u0644\\u0627\\u0644\\u0650\\u062a\\u064d\\u0647\\u0627\\u0628 \\u0652\\u0627\\u0650\\u0644\\u064d\\u0643\\u0628\\u062f\\u064a \\u064d\\u0627\\u064f\\u0644\\u0648\\u0628\\u0650\\u0627\\u0626\\u064a\\u064d \\u00ab\\u0652\\u0633\\u064e\\u064a\\u064f\\u00bb\\u0650 \\u062d\\u062a\\u064b\\u0649\\u064c \\u064b\\u0627\\u0651\\u0644\\u0652\\u0622\\u0646 \\u065136\\u06520 \\u0651\\u0645\\u0652\\u0648\\u0627\\u064b\\u0637\\u0646\\u064f\\u0627\\u064b\\u0651 \\u0650\\u064a\\u064c\\u0639\\u064b\\u0627\\u0646\\u064d\\u0648\\u064b\\u0646 \\u064d\\u0627\\u064d\\u0644\\u0643\\u0628\\u064b\\u062f \\u0627\\u0644\\u0650\\u0648\\u0628\\u0627\\u0626\\u064f\\u064a\\u060c\\u064e \\u064c\\u0648\\u0639\\u0651\\u062f\\u062f \\u0627\\u0644\\u064c\\u0630\\u0651\\u064a\\u0652\\u0646 \\u0627\\u0633\\u064e\\u062a\\u0645\\u064c\\u0631\\u064d\\u0648\\u0627\\u064f \\u064b\\u0641\\u064a \\u064c\\u0627\\u0644\\u0639\\u0644\\u064c\\u0627\\u062c \\u0644\\u0652\\u0645\\u0651\\u062f\\u0629\\u0651 3\\u0650 \\u0623\\u0651\\u0634\\u0647\\u064f\\u0631\\u064c \\u0643\\u0628\\u064a\\u0631\\u060c\\u064f \\u0648\\u064b\\u0628\\u064c\\u0627\\u0650\\u0646\\u064e\\u062a\\u0638\\u064d\\u0627\\u0631\\u0652 \\u0627\\u064e\\u0644\\u064d\\u0641\\u062d\\u0651\\u0648\\u064b\\u0635 \\u0650\\u0644\\u0644\\u062a\\u0623\\u0652\\u0643\\u0650\\u062f \\u0645\\u064f\\u0646\\u064d \\u064c\\u0634\\u064d\\u0641\\u064e\\u0627\\u0626\\u064c\\u0647\\u0645\\u064b \\u0651\\u062a\\u0652\\u0645\\u064d\\u0627\\u064e\\u0645\\u0627\\u064c \\u0645\\u0646\\u064f \\u064b\\u0627\\u0644\\u0645\\u0651\\u0631\\u0636\\u0651.\\u064b \\u064c\\u0648\\u062a\\u064d\\u0633\\u062a\\u0652\\u0642\\u064d\\u0628\\u064c\\u0644 \\u0627\\u0644\\u064e\\u062d\\u0627\\u0644\\u064e\\u0627\\u062a\\u064b \\u0645\\u0646\\u0650 \\u062c\\u0645\\u064a\\u0650\\u0639\\u0650 \\u064c\\u0625\\u0645\\u0627\\u0631\\u0627\\u062a \\u0627\\u0644\\u062f\\u064f\\u0648\\u064f\\u0644\\u0629 \\u0636\\u0645\\u064c\\u0646\\u0652 \\u0627\\u0644\\u0645\\u0634\\u0631\\u0648\\u0651\\u0639 \\u0650\\u0627\\u0644\\u064d\\u0642\\u064f\\u0627\\u0626\\u0645\\u060c\\u064b \\u0641\\u064a\\u0645\\u064d\\u0627\\u064d \\u0651\\u0623\\u064c\\u0643\\u062f \\u062f. \\u0652\\u0645\\u064e\\u062d\\u064d\\u0645\\u062f \\u0627\\u064c\\u0644\\u0632\\u0639\\u0627\\u0628\\u0651\\u064a\\u060c\\u064f \\u0627\\u0633\\u064d\\u062a\\u0634\\u064e\\u0627\\u064f\\u0631\\u064a\\u0650 \\u0650\\u0623\\u0645\\u064d\\u0631\\u064f\\u0627\\u064b\\u0636\\u0651 \\u0648\\u0632\\u0631\\u0627\\u064f\\u0639\\u0629\\u0651 \\u064b\\u0627\\u0644\\u0643\\u064f\\u0628\\u062f\\u0651 \\u0627\\u064e\\u0644\\u0648\\u0628\\u0652\\u0627\\u0626\\u064a\\u064e \\u0652\\u0648\\u064e\\u0627\\u064b\\u0644\\u062c\\u064d\\u0647\\u0651\\u0627\\u0651\\u0632 \\u0627\\u0644\\u0647\\u0636\\u064f\\u0645\\u064a\\u060c\\u0650 \\u0641\\u0651\\u064a\\u064e \\u0645\\u0633\\u062a\\u0634\\u0641\\u064c\\u0649\\u064f \\u064d\\u0632\\u0627\\u0651\\u064a\\u062f\\u0651 \\u0652\\u0627\\u064c\\u0644\\u064b\\u0639\\u064d\\u0633\\u0643\\u064c\\u0631\\u064c\\u064a\\u060c \\u0628\\u064e\\u0623\\u064b\\u0628\\u0650\\u0648\\u064d\\u0638\\u0650\\u0628\\u0652\\u064a \\u0648\\u064c\\u0645\\u064f\\u062f\\u064a\\u064d\\u0631 \\u0651\\u0645\\u064f\\u0634\\u0631\\u064f\\u0648\\u064e\\u0639\\u0652 \\u0627\\u064b\\u0644\\u064d\\u062d\\u0645\\u064e\\u0644\\u0629\\u064f \\u0627\\u064f\\u0644\\u064c\\u0648\\u0637\\u0646\\u064a\\u064b\\u0629 \\u064e\\u0644\\u0644\\u062a\\u064b\\u062e\\u0644\\u0635 \\u0645\\u0646\\u0652 \\u0627\\u0652\\u0644\\u0651\\u0627\\u0644\\u062a\\u064d\\u0647\\u0652\\u0627\\u064d\\u0628 \\u0627\\u0651\\u0644\\u0652\\u0643\\u0651\\u0628\\u064f\\u062f\\u064d\\u064a \\u0652\\u0627\\u064f\\u0644\\u0648\\u064c\\u0628\\u064b\\u0627\\u0626\\u0650\\u064a\\u064d \\u00ab\\u064b\\u0633\\u0652\\u064a\\u00bb \\u0623\\u0650\\u0646\\u0652 \\u0627\\u064d\\u0644\\u062f\\u0650\\u0648\\u064c\\u0644\\u0650\\u0629 \\u062e\\u064b\\u0635\\u0635\\u062a 1\\u064d5\\u06520\\u0650 \\u064d\\u0645\\u0644\\u064c\\u064a\\u0648\\u064f\\u0646\\u0650 \\u062f\\u0631\\u0647\\u0645 \\u0643\\u064f\\u0645\\u0631\\u062d\\u064b\\u0644\\u0629\\u064b \\u064e\\u0623\\u064e\\u0648\\u064c\\u0644\\u064a\\u0629\\u064e \\u0644\\u0634\\u0631\\u0652\\u0627\\u0621 \\u064e\\u0627\\u0644\\u064f\\u062f\\u064c\\u0648\\u0627\\u0621 \\u0651\\u0627\\u0644\\u062c\\u062f\\u064f\\u064a\\u062f \\u064fV\\u064cI\\u0650E\\u064dKIR\\u0651A\\u064dX\\u00ae \\u064e+ E\\u064fX\\u064eVIER\\u064fA \\u064e\\u0627\\u064e\\u0644\\u0651\\u0630\\u064a\\u0650 \\u064c\\u062a\\u064f\\u0646\\u062a\\u064c\\u062c\\u064d\\u0647\\u064f \\u0651\\u0634\\u0631\\u064f\\u0643\\u0629\\u064d \\u064f\\u0622\\u0628\\u0641\\u064a\\u064e \\u064e\\u0644\\u0651\\u0645\\u0650\\u0639\\u0650\\u0627\\u0651\\u0644\\u062c\\u0629 \\u0651\\u0627\\u064f\\u0644\\u062a\\u0647\\u0627\\u0650\\u0628 \\u064e\\u0627\\u064b\\u0644\\u0650\\u0643\\u0628\\u0650\\u062f \\u0651\\u0627\\u0644\\u0645\\u064c\\u0632\\u0645\\u0646\\u064c \\u0633\\u064e\\u064a \\u0645\\u0646\\u064d \\u064c\\u0627\\u0652\\u0644\\u0646\\u0651\\u0645\\u0637\\u064f \\u0652\\u0627\\u0644\\u062c\\u064f\\u064a\\u0646\\u064a 1 \\u064d\\u0648\\u06504 \\u064f\\u0641\\u064a\\u064e \\u0651\\u0627\\u064b\\u0644\\u064d\\u062f\\u064c\\u0648\\u0644\\u0652\\u0629\\u0650\\u060c \\u0645\\u0652\\u0646 \\u0623\\u062c\\u0644\\u0650 \\u064f\\u062a\\u064c\\u0648\\u0641\\u064c\\u064a\\u0631\\u064e \\u064f\\u0647\\u0630\\u0627 \\u0627\\u064e\\u0644\\u0639\\u0644\\u0627\\u064c\\u062c\\u0651 \\u0627\\u0650\\u0644\\u064d\\u062b\\u0648\\u064b\\u0631\\u064f\\u064a\\u0652 \\u064f\\u0627\\u0652\\u0644\\u064d\\u0630\\u064a \\u064e\\u064a\\u064d\\u0648\\u064b\\u0641\\u0631 \\u064f\\u0645\\u0639\\u0651\\u062f\\u0651\\u0644\\u0650\\u0627\\u062a \\u0634\\u0641\\u0627\\u064e\\u0621 \\u0651\\u0639\\u0627\\u0644\\u064a\\u0629 \\u064f\\u0644\\u064d\\u0644\\u0651\\u0645\\u0635\\u064b\\u0627\\u064c\\u0628\\u064a\\u0646 \\u0651\\u0628\\u064d\\u0627\\u0644\\u062a\\u0647\\u0627\\u064e\\u0628\\u064c \\u0627\\u0644\\u0643\\u064e\\u0628\\u062f\\u064f \\u0650\\u0633\\u064a\\u064d \\u0641\\u0650\\u064a\\u0650 \\u0650\\u0627\\u0644\\u0625\\u0650\\u0645\\u064c\\u0627\\u0652\\u0631\\u0627\\u064e\\u062a\\u0650.\\u064c \\u064f\\u0648\\u064f\\u0623\\u0636\\u0627\\u0641 \\u0623\\u0646 \\u0623\\u0639\\u062f\\u0627\\u0650\\u062f \\u0627\\u0644\\u0645\\u064c\\u0635\\u064f\\u0627\\u064d\\u0628\\u064a\\u0651\\u0646\\u064d \\u0628\\u0627\\u0644\\u064f\\u0643\\u0651\\u0628\\u062f \\u0627\\u0644\\u064d\\u0648\\u0650\\u0628\\u0627\\u0650\\u0626\\u064c\\u064a\\u0651 \\u0641\\u0650\\u064a \\u064f\\u0627\\u064d\\u0632\\u062f\\u064a\\u064e\\u0627\\u062f\\u060c\\u064c \\u0651\\u0648\\u0650\\u0648\\u0635\\u0644\\u062a \\u064e\\u0627\\u0644\\u0623\\u0639\\u0651\\u062f\\u0627\\u062f \\u0627\\u0652\\u0644\\u062a\\u064e\\u0642\\u0651\\u062f\\u064d\\u064a\\u0651\\u0631\\u064a\\u0629 \\u0644\\u0644\\u0645\\u064f\\u0635\\u0650\\u0627\\u064f\\u0628\\u064a\\u0646 \\u0650\\u0645\\u064f\\u0646 \\u0627\\u0644\\u0645\\u064f\\u0648\\u0627\\u0637\\u064d\\u0646\\u0650\\u064a\\u0651\\u0646 \\u0628\\u064f\\u064a\\u064e\\u0646 1\\u06510 \\u0622\\u0644\\u0652\\u0627\\u064c\\u0641 \\u064e\\u0625\\u064d\\u0644\\u0649\\u064c \\u064f20 \\u0623\\u0644\\u0650\\u0641\\u0627\\u0650\\u064b\\u060c \\u0648\\u0647\\u0646\\u0627\\u0643 \\u0623\\u0652\\u064a\\u0651\\u0636\\u0652\\u0627\\u0650 \\u0645\\u0650\\u0631\\u0636\\u0649 \\u0650\\u063a\\u064a\\u064b\\u0631 \\u0645\\u0634\\u064b\\u062e\\u064c\\u0635\\u064a\\u064b\\u0646\\u060c \\u0648\\u0627\\u064e\\u0644\\u064b\\u062d\\u0645\\u0644\\u0629\\u064b \\u0645\\u0652\\u0633\\u062a\\u0645\\u0652\\u0631\\u0629\\u0651 \\u0625\\u064f\\u0644\\u064d\\u0649 \\u064d\\u0623\\u0646 \\u0650\\u0646\\u0635\\u064c\\u0644\\u064e \\u0644\\u0645\\u064e\\u0631\\u064d\\u062d\\u0644\\u0629\\u0651 \\u0646\\u0650\\u062a\\u064e\\u062d\\u064e\\u0643\\u0645\\u064c \\u064f\\u0628\\u0627\\u0644\\u0645\\u0631\\u064f\\u0636 \\u0648\\u064e\\u064a\\u0651\\u0635\\u064c\\u0628\\u062d\\u0650 \\u0646\\u064b\\u0627\\u062f\\u064c\\u0631\\u0627\\u064b \\u0648\\u064e\\u062c\\u064c\\u0648\\u062f\\u0647 \\u064e\\u0641\\u064a\\u064d \\u0627\\u0644\\u062f\\u0648\\u0644\\u0650\\u0629. \\u064b\\u0648\\u064c\\u0623\\u0636\\u064f\\u0627\\u0641:\\u064c \\u0650\\u0644\\u0652\\u062f\\u064d\\u064a\\u0646\\u0627 \\u065115\\u064e \\u062d\\u064e\\u0627\\u0644\\u0629 \\u0646\\u064b\\u0639\\u064c\\u0627\\u0644\\u062c\\u0650 \\u064f\\u0641\\u064b\\u064a\\u0647\\u064d\\u0627\\u0651 \\u0627\\u064c\\u0644\\u0650\\u0623\\u0645 \\u064d\\u0645\\u0639\\u0651 \\u0623\\u062d\\u062f \\u0651\\u0645\\u0651\\u0646\\u064e \\u0623\\u064c\\u0628\\u0646\\u0650\\u0627\\u0650\\u0626\\u064b\\u0647\\u0651\\u0627\\u060c \\u0625\\u0652\\u0630 \\u0627\\u0646\\u064b\\u062a\\u0650\\u0642\\u064f\\u0644 \\u0627\\u0644\\u0645\\u064f\\u0631\\u0636 \\u0644\\u0652\\u0644\\u0627\\u0628\\u0646 \\u0639\\u0646 \\u0637\\u0631\\u064a\\u0642 \\u0627\\u0644\\u0623\\u064f\\u0645\\u060c \\u064b\\u0648\\u0652\\u0644\\u0652\\u062f\\u064a\\u064f\\u0646\\u0627\\u0652 \\u064e\\u062d\\u064b\\u0627\\u0652\\u0644\\u0629 \\u0644\\u064d\\u0623\\u0645\\u064c \\u0646\\u0642\\u0644\\u062a \\u0627\\u0651\\u0644\\u064f\\u0645\\u0631\\u0636\\u064f \\u0644\\u0627\\u062b\\u0646\\u064a\\u0646 \\u0645\\u0646\\u064b \\u0623\\u0651\\u0628\\u0646\\u0651\\u0627\\u0626\\u0647\\u0627\\u060c \\u0631\\u063a\\u064f\\u0645 \\u064d\\u0623\\u0650\\u0646\\u064f \\u0646\\u064e\\u0633\\u064d\\u0628\\u064b\\u0629 \\u0627\\u0650\\u0646\\u0650\\u062a\\u064b\\u0642\\u064c\\u0627\\u064c\\u0644\\u064f \\u064d\\u0627\\u0650\\u0644\\u0645\\u0651\\u0631\\u064f\\u0636 \\u0645\\u0646 \\u0650\\u0627\\u0644\\u0623\\u0645 \\u0644\\u064d\\u0623\\u0628\\u0646\\u0627\\u0626\\u0647\\u0627\\u064c \\u064e\\u0644\\u0627\\u064c \\u0650\\u064a\\u062a\\u0650\\u0639\\u0652\\u062f\\u064f\\u0649\\u0652 5%.\\u064f \\u0648\\u0623\\u064b\\u0634\\u064b\\u0627\\u064c\\u0631\\u0652 \\u0625\\u064d\\u0644\\u0650\\u0649\\u0650 \\u064f\\u0623\\u0646\\u0647 \\u0644\\u0650\\u0627\\u064c \\u064e\\u064a\\u0648\\u062c\\u062f\\u0650 \\u062a\\u064d\\u0637\\u0651\\u0639\\u064a\\u0645 \\u0650\\u0625\\u064e\\u0644\\u0649 \\u0627\\u064c\\u0644\\u0622\\u064b\\u0646\\u0650 \\u064d\\u0644\\u0650\\u0644\\u064e\\u0648\\u064b\\u0642\\u064c\\u0627\\u064a\\u0629 \\u0645\\u0646\\u064b \\u064c\\u0627\\u0644\\u064b\\u0643\\u0628\\u062f\\u064b \\u0627\\u0644\\u0652\\u0648\\u064c\\u0628\\u064f\\u0627\\u0651\\u0626\\u064a\\u0650. \\u0650\\u0648\\u0623\\u0636\\u0627\\u0641:\\u064e \\u0627\\u0644\\u0650\\u062d\\u064f\\u0627\\u0644\\u064e\\u0627\\u064b\\u062a\\u0652 \\u0627\\u0644\\u0645\\u062a\\u0642\\u062f\\u064e\\u0645\\u0629\\u0651 \\u0627\\u0644\\u062a\\u064a\\u064f \\u062a\\u0633\\u0650\\u062a\\u0652\\u062f\\u0652\\u0639\\u0651\\u064a\\u0652 \\u064b\\u0632\\u0650\\u0631\\u064f\\u0627\\u0639\\u0629\\u064e \\u064f\\u0627\\u0644\\u064c\\u0643\\u0650\\u0628\\u062f\\u0652 \\u064f\\u0623\\u0648\\u0650 \\u0648\\u0631\\u0645\\u064e \\u064d\\u0641\\u064f\\u064a \\u0652\\u0627\\u0644\\u0643\\u0628\\u062f\\u064d \\u064e\\u0623\\u0648 \\u064e\\u062a\\u064f\\u0644\\u064b\\u064a\\u064e\\u0641 \\u062a\\u064f\\u0634\\u064b\\u0643\\u0651\\u0644 \\u0645\\u0631\\u0651\\u062d\\u0644\\u0629 \\u0645\\u064f\\u0647\\u0645\\u064d\\u0629\\u0652 \\u0644\\u0644\\u062e\\u0636\\u0648\\u0639 \\u064d\\u0644\\u0644\\u064f\\u0639\\u064f\\u0644\\u0627\\u062c\\u064b \\u064c\\u0628\\u064b\\u0634\\u0643\\u0650\\u0644 \\u0641\\u0651\\u0648\\u0651\\u0631\\u064e\\u064a\\u0651\\u060c\\u064e \\u064d\\u0648\\u064d\\u0644\\u0650\\u062f\\u064f\\u064a\\u0646\\u0650\\u0627\\u0652 \\u06521\\u06512\\u0651 \\u064f\\u0645\\u0631\\u064c\\u064a\\u0651\\u0636\\u0627\\u064b\\u064b \\u0628\\u0652\\u062d\\u0627\\u062c\\u064d\\u0629 \\u064f\\u0625\\u064c\\u0644\\u0649 \\u0632\\u0627\\u064e\\u0631\\u0639\\u0629 \\u064f\\u0643\\u0628\\u062f\\u064c\\u060c\\u0651 \\u0648\\u0633\\u0646\\u0648\\u0651\\u064a\\u064d\\u0627\\u0652 \\u0652\\u0646\\u0631\\u0633\\u0644 \\u0623\\u0650\\u0634\\u062e\\u0652\\u0627\\u0635\\u0627\\u064d\\u064b\\u0652 \\u064b\\u0644\\u0651\\u0644\\u0650\\u062e\\u0627\\u0650\\u0631\\u064f\\u062c\\u064c \\u0644\\u0632\\u0631\\u064d\\u0627\\u0651\\u0639\\u0629\\u0650 \\u0627\\u064e\\u0644\\u0643\\u0628\\u064b\\u062f\\u064e\\u060c\\u064f \\u062d\\u064a\\u062b\\u0652 \\u0644\\u0627 \\u0651\\u064a\\u0648\\u0652\\u062c\\u064b\\u062f \\u0628\\u0631\\u064d\\u0646\\u0627\\u064d\\u0645\\u064b\\u062c \\u0650\\u0632\\u0631\\u0627\\u0639\\u0652\\u0629 \\u0652\\u0643\\u064d\\u0628\\u0652\\u062f \\u0641\\u064a \\u064b\\u0627\\u0644\\u064e\\u0625\\u0645\\u0627\\u0631\\u0650\\u0627\\u064d\\u062a\\u060c \\u0652\\u0648\\u064f\\u0627\\u064e\\u0646\\u062a\\u064e\\u0647\\u064a\\u064b\\u0646\\u0627 \\u062d\\u0627\\u0650\\u0644\\u064a\\u064c\\u0627\\u064f \\u0645\\u0652\\u0646\\u064f \\u0627\\u0644\\u0652\\u0623\\u0648\\u064f\\u0631\\u0627\\u0642\\u0652 \\u0648\\u0648\\u0636\\u0650\\u0639\\u0646\\u0627\\u0651 \\u0627\\u0650\\u0644\\u0642\\u064f\\u0648\\u0650\\u0627\\u0646\\u064c\\u064a\\u064e\\u0646 \\u0627\\u064f\\u0644\\u062e\\u064d\\u0627\\u0650\\u0635\\u064e\\u0629 \\u0628\\u064f\\u0628\\u064d\\u0631\\u0646\\u064d\\u0627\\u0645\\u062c \\u0632\\u0652\\u0631\\u064f\\u0627\\u0639\\u0629\\u064b \\u0627\\u0644\\u0643\\u0652\\u0628\\u064c\\u062f\\u0651 \\u064f\\u0641\\u064a \\u0650\\u0627\\u064e\\u0644\\u0650\\u0625\\u0650\\u0645\\u0627\\u0631\\u0627\\u062a \\u064d\\u0648\\u0627\\u0646\\u064e\\u0647\\u064a\\u064e\\u0646\\u0650\\u0627 \\u0627\\u064c\\u0644\\u064b\\u0625\\u062c\\u0631\\u0627\\u064f\\u0621\\u0627\\u064d\\u062a \\u0627\\u0644\\u0645\\u064e\\u0637\\u0644\\u064c\\u0648\\u0628\\u0629 \\u0645\\u064e\\u0646\\u0652\\u0627\\u0652 \\u0643\\u064f\\u0623\\u0637\\u0628\\u0627\\u0621\\u0650 \\u0648\\u0642\\u0627\\u0646\\u064b\\u0648\\u0646\\u064a\\u0651\\u064a\\u0646\\u0652 \\u0648\\u064e\\u0641\\u064f\\u0646\\u064a\\u064a\\u064b\\u0646 \\u0648\\u064d\\u0645\\u064b\\u0633\\u0652\\u062a\\u0634\\u064f\\u0627\\u064f\\u0631\\u064f\\u064a\\u0646\\u064f \\u0648\\u0628\\u0627\\u0646\\u0651\\u062a\\u0652\\u0638\\u0627\\u0651\\u0631\\u064f \\u064c\\u0627\\u0652\\u0639\\u062a\\u0645\\u0627\\u0651\\u062f \\u064d\\u0627\\u0652\\u0644\\u064e\\u0628\\u0650\\u0631\\u064e\\u0646\\u064c\\u0627\\u0652\\u0645\\u0652\\u062c\\u0650 \\u0645\\u064c\\u0646\\u064d \\u0627\\u0650\\u0644\\u064d\\u0645\\u064d\\u0639\\u064f\\u0646\\u0652\\u064a\\u0652\\u064a\\u0646 \\u064f\\u0641\\u0652\\u064a\\u064f \\u0627\\u0652\\u0644\\u062f\\u0648\\u064f\\u0644\\u0629\\u064f \\u064f\\u0644\\u0652\\u062a\\u064e\\u0641\\u0639\\u0651\\u064a\\u0650\\u0644\\u0647 \\u0641\\u064d\\u064a \\u064b\\u0627\\u0644\\u0651\\u0625\\u0650\\u0645\\u064c\\u0627\\u0631\\u0627\\u062a. \\u0648\\u0623\\u0643\\u064c\\u062f \\u064f\\u0623\\u0646 \\u064e\\u0647\\u064c\\u0630\\u0652\\u0627\\u064f \\u0650\\u0627\\u0644\\u0645\\u0633\\u0650\\u062a\\u064c\\u062d\\u0636\\u064e\\u0631 \\u064d\\u0627\\u064e\\u0644\\u062c\\u064f\\u062f\\u064a\\u062f \\u064a\\u064f\\u062e\\u064b\\u062a\\u064f\\u0635\\u064b\\u0631 \\u064e\\u0645\\u062f\\u0629 \\u0652\\u0627\\u0652\\u0644\\u0639\\u0652\\u0644\\u0627\\u062c \\u0645\\u0646 \\u0651\\u0633\\u0651\\u0646\\u064c\\u0629 \\u0650\\u0625\\u0652\\u0644\\u064b\\u0649 \\u064d3\\u064f \\u0623\\u0650\\u0634\\u064c\\u0647\\u0631\\u060c\\u064c \\u062e\\u0627\\u0635\\u0629 \\u0623\\u064b\\u0646 \\u064e\\u0623\\u0639\\u062f\\u0652\\u0627\\u0650\\u062f \\u0651\\u0627\\u064b\\u0644\\u0645\\u0635\\u064f\\u0627\\u0628\\u064d\\u064a\\u0650\\u0646\\u064f \\u064d\\u0641\\u064a\\u064e \\u0627\\u0632\\u064c\\u062f\\u064e\\u064a\\u064f\\u0627\\u064e\\u062f\\u060c \\u0652\\u0648\\u064a\\u0635\\u0650\\u0644\\u064f \\u0651\\u0639\\u062f\\u064f\\u062f\\u064d \\u064c\\u0627\\u0644\\u0630\\u064b\\u064a\\u064e\\u0646\\u064e \\u064e\\u064a\\u064f\\u0641\\u064b\\u0627\\u0650\\u0631\\u0642\\u0648\\u0646 \\u0627\\u0651\\u0644\\u064c\\u062d\\u064a\\u0627\\u064d\\u0629\\u064e \\u0633\\u064c\\u0646\\u0651\\u0648\\u0651\\u064a\\u064f\\u0627\\u0652\\u064b \\u0625\\u0644\\u0649\\u064d \\u0652400\\u064e \\u0623\\u0644\\u0641 \\u0651\\u0634\\u062e\\u0635\\u060c\\u064d \\u0648\\u064b\\u0627\\u0644\\u064c\\u062f\\u0648\\u0627\\u0621 \\u064b\\u0627\\u064e\\u0644\\u062c\\u064d\\u062f\\u064a\\u062f\\u064d \\u064d\\u064a\\u0624\\u064c\\u062f\\u064a\\u0652 \\u0651\\u0625\\u0644\\u0650\\u0649\\u064e \\u064e\\u0639\\u0644\\u0627\\u064f\\u062c\\u064d \\u064c\\u0627\\u0644\\u064c\\u0645\\u0635\\u0627\\u0628\\u064a\\u0646 \\u0645\\u064d\\u0627\\u0651 \\u064a\\u0642\\u0644\\u064b\\u0644\\u064d \\u0652\\u0645\\u064c\\u0646\\u064e \\u064f\\u0646\\u064d\\u0633\\u0628\\u0650\\u0629 \\u064d\\u0627\\u0646\\u0651\\u062a\\u0642\\u0651\\u0627\\u064d\\u0644 \\u064b\\u0627\\u0644\\u064b\\u0639\\u0650\\u062f\\u0648\\u0649\\u064f\\u060c \\u0650\\u0644\\u064f\\u062a\\u0642\\u064c\\u0644 \\u0652\\u0627\\u0644\\u0646\\u064b\\u0633\\u0628\\u0629\\u064e \\u062a\\u062f\\u0651\\u0631\\u0651\\u064a\\u062c\\u064a\\u0652\\u0627\\u064b\\u064d.\\u064c\",\n          \"https://example.com/resource/\\u0642\\u0627\\u0644 \\u064b\\u0631\\u0648\\u0628\\u0651\\u0631\\u064e\\u062a\\u0648\\u064d \\u0645\\u064d\\u0627\\u0631\\u064e\\u062a\\u064a\\u0646\\u064b\\u064a\\u064d\\u0632 \\u064c\\u0645\\u062f\\u0631\\u0628\\u0651 \\u0652\\u0625\\u064a\\u064c\\u0641\\u064f\\u0631\\u064f\\u062a\\u0648\\u0650\\u0646 \\u064c\\u0627\\u064f\\u0644\\u064e\\u0645\\u064f\\u0646\\u0652\\u0627\\u0641\\u0633\\u0652 \\u064c\\u0641\\u0652\\u064a\\u064f \\u0627\\u0644\\u064c\\u062f\\u064c\\u0648\\u0651\\u0631\\u064a\\u064c \\u0627\\u0644\\u064c\\u0625\\u064e\\u0646\\u062c\\u0652\\u0644\\u064a\\u0632\\u064f\\u064a\\u0652 \\u0627\\u0652\\u0644\\u064e\\u0645\\u0645\\u064d\\u062a\\u0627\\u064f\\u0632 \\u0644\\u0652\\u0643\\u0631\\u0629\\u064e \\u0627\\u0650\\u0644\\u0650\\u0642\\u064b\\u062f\\u0645\\u0651\\u060c \\u0625\\u0646 \\u064c\\u0644\\u0627\\u064e\\u0639\\u064e\\u0628\\u0647\\u0652 \\u0627\\u0644\\u0652\\u062c\\u062f\\u0652\\u064a\\u0652\\u062f\\u064e \\u0652\\u062a\\u064e\\u0648\\u0652\\u0645 \\u0643\\u0644\\u064d\\u064a\\u0652\\u0641\\u064c\\u0631\\u0644\\u064a \\u0652\\u0623\\u064b\\u0635\\u0651\\u064a\\u0628\\u064e \\u064b\\u0628\\u062a\\u064b\\u0645\\u0650\\u0632\\u064b\\u0642 \\u064d\\u0641\\u0650\\u064a\\u064c \\u0623\\u064e\\u0631\\u0628\\u064c\\u0637\\u0629 \\u0650\\u0627\\u0644\\u0650\\u0643\\u064f\\u0627\\u064d\\u062d\\u064d\\u0644 \\u0648\\u064e\\u0644\\u064a\\u0633\\u0651 \\u064c\\u0628\\u0643\\u0633\\u064d\\u0631\\u0652 \\u0651\\u0643\\u064e\\u0645\\u064e\\u0627 \\u064b\\u0643\\u0627\\u064c\\u0646 \\u064a\\u064d\\u062e\\u064b\\u0634\\u0649 \\u064f\\u0641\\u0652\\u064a\\u0650 \\u0627\\u0644\\u0628\\u064e\\u062f\\u0652\\u0627\\u064d\\u064a\\u0650\\u0629.\\u0650\\u0648\\u064e\\u062e\\u0631\\u062c \\u0643\\u0644\\u064a\\u0641\\u064f\\u0631\\u064e\\u0644\\u0650\\u064a\\u0652 \\u0651(\\u065226\\u064e \\u0639\\u064c\\u0627\\u064f\\u0645\\u0651\\u0627\\u0652\\u064b)\\u064d \\u064f\\u0627\\u0644\\u064d\\u0645\\u0642\\u0628\\u064b\\u0644 \\u0650\\u0645\\u064c\\u0646 \\u0645\\u0627\\u064b\\u0646\\u0634\\u064b\\u0633\\u062a\\u064f\\u0631\\u064e \\u064f\\u064a\\u0651\\u0648\\u064d\\u0646\\u0627\\u0652\\u064a\\u0651\\u062a\\u0651\\u062f\\u064f \\u0641\\u064a\\u064e \\u0635\\u0641\\u0651\\u0642\\u064e\\u0629 \\u0627\\u064b\\u0646\\u064e\\u062a\\u064b\\u0642\\u064e\\u0627\\u0644\\u064e \\u0650\\u062d\\u064b\\u0631\\u064f\\u060c \\u0652\\u0645\\u062d\\u0650\\u0645\\u0648\\u0644\\u0627\\u064b \\u0639\\u0644\\u0651\\u0649\\u0651 \\u064e\\u0645\\u064c\\u062d\\u064d\\u0641\\u0629 \\u0651\\u0642\\u0651\\u0631\\u064b\\u0628 \\u0646\\u0647\\u0627\\u064b\\u064a\\u0629 \\u064c\\u0627\\u064d\\u0644\\u064f\\u0634\\u064b\\u0648\\u0637 \\u064e\\u0627\\u0644\\u0623\\u0651\\u0648\\u0644\\u0652 \\u0645\\u0651\\u0646 \\u064c\\u0645\\u0650\\u0628\\u0627\\u0631\\u064d\\u0627\\u064b\\u0629\\u064e \\u0652\\u0623\\u064d\\u0645\\u064e\\u0627\\u064e\\u0645 \\u062a\\u0648\\u064f\\u062a\\u0646\\u0647\\u064d\\u0627\\u0645\\u064b \\u0647\\u0651\\u0648\\u062a\\u064d\\u0633\\u064c\\u0628\\u0652\\u064a\\u0652\\u0631\\u064c \\u064b\\u0627\\u0646\\u064f\\u062a\\u0647\\u0650\\u062a \\u0628\\u0627\\u0651\\u0644\\u0652\\u062a\\u0639\\u064b\\u0627\\u062f\\u0644\\u0650 \\u0627\\u064c\\u0644\\u0633\\u0644\\u064e\\u0628\\u0650\\u064a \\u0628\\u0651\\u0639\\u062f\\u0651 \\u064d\\u062a\\u062f\\u064f\\u062e\\u0644\\u064b \\u0645\\u0646\\u064b \\u064e\\u0625\\u0631\\u064a\\u0643\\u064c \\u062f\\u064e\\u064a\\u0631.\\u064d\\u0648\\u0650\\u0642\\u0627\\u0652\\u0644 \\u064b\\u0645\\u0651\\u0627\\u0631\\u062a\\u064a\\u064b\\u0646\\u064a\\u0632 \\u0650(\\u064b4\\u064f2\\u064f \\u0652\\u0639\\u0627\\u0645\\u0627\\u0651\\u064b\\u064c)\\u0652 \\u0644\\u064f\\u0645\\u0648\\u064d\\u0642\\u0639\\u0650 \\u0627\\u0652\\u0644\\u0646\\u0627\\u062f\\u064a \\u0639\\u0644\\u0649 \\u0627\\u0644\\u0625\\u0646\\u064b\\u062a\\u0650\\u0631\\u064c\\u0646\\u062a\\u064f \\u0651\\u00ab\\u0650\\u0643\\u0650\\u0646\\u0627\\u064b \\u0646\\u0639\\u0650\\u062a\\u0642\\u064e\\u062f\\u0652 \\u064c\\u0623\\u064c\\u0646\\u0651\\u0647 \\u0623\\u064e\\u0635\\u064a\\u0628 \\u0628\\u0651\\u0643\\u0651\\u0633\\u064d\\u0631\\u060c\\u064f \\u0650\\u0648\\u0625\\u0650\\u0630\\u0650\\u0627 \\u0651\\u0643\\u0627\\u0646\\u062a \\u064b\\u0627\\u064f\\u0644\\u0652\\u0625\\u064b\\u0635\\u0652\\u0627\\u0628\\u0651\\u0629 \\u0651\\u0643\\u0630\\u064f\\u0644\\u0643 \\u0652\\u0641\\u064a\\u064b \\u064d\\u0647\\u0630\\u064f\\u0627\\u0650 \\u0627\\u0652\\u0644\\u062a\\u0651\\u0648\\u0642\\u0650\\u064a\\u062a \\u0650\\u0645\\u064b\\u0646 \\u0650\\u0627\\u0652\\u0644\\u0645\\u0650\\u0648\\u0633\\u064e\\u0645\\u0652 \\u064c\\u0644\\u0628\\u064b\\u0627\\u062a\\u062a\\u064b \\u064e\\u0623\\u064f\\u0645\\u0631\\u0652\\u0627\\u064f\\u064b \\u064f\\u0633\\u0650\\u064a\\u064f\\u0626\\u0627\\u064b\\u0650 \\u0644\\u062a\\u064d\\u0648\\u064e\\u0645 \\u0644\\u0623\\u0646\\u0647 \\u0651\\u064a\\u0652\\u0642\\u062f\\u064c\\u0645 \\u0623\\u064b\\u062f\\u0651\\u0627\\u0621\\u064b \\u0631\\u0650\\u0627\\u064b\\u0626\\u0639\\u0650\\u0627\\u064f\\u064b\\u00bb.\\u0651\\u0648\\u0623\\u064e\\u0636\\u0651\\u0627\\u0650\\u0641\\u064e \\u00ab\\u064d\\u0627\\u0644\\u064b\\u0625\\u0635\\u0627\\u0628\\u064d\\u0629 \\u0652\\u062a\\u0645\\u0632\\u0650\\u0642\\u064d \\u0641\\u064a\\u064b \\u0651\\u0623\\u0631\\u0628\\u0637\\u0629 \\u064f\\u0627\\u0644\\u0652\\u0643\\u0652\\u0627\\u0650\\u062d\\u0644\\u064e \\u064c\\u0648\\u0627\\u064c\\u0644\\u062e\\u0637\\u0648\\u0629\\u064d \\u0652\\u0627\\u0644\\u0651\\u0645\\u0642\\u0628\\u064f\\u0644\\u0652\\u0629\\u064f \\u0650\\u0647\\u0652\\u064a\\u064e \\u0650\\u0645\\u0639\\u064e\\u0631\\u0641\\u0650\\u0629 \\u064c\\u0645\\u064e\\u062f\\u0629 \\u0651\\u063a\\u0650\\u064a\\u0650\\u0627\\u0628\\u064f\\u0647\\u00bb\\u064c.\",\n          \"https://example.com/resource/\\u062d\\u064b\\u0633\\u064b\\u0645\\u064d\\u062a \\u0627\\u064a\\u0651\\u0637\\u064d\\u0627\\u064e\\u0644\\u0651\\u064a\\u0627 \\u0627\\u0644\\u0645\\u0648\\u064e\\u0627\\u064d\\u062c\\u0647\\u0629\\u064e \\u0645\\u0651\\u0639\\u0650 \\u0627\\u0650\\u0644\\u064d\\u064a\\u0648\\u0652\\u0646\\u064d\\u0627\\u0646 \\u0650\\u0628\\u0650\\u0641\\u064e\\u0648\\u0632\\u064b\\u0647\\u0627\\u064f \\u0650\\u0639\\u0644\\u0652\\u064a\\u0647\\u0627\\u064c 3\\u064f-\\u064b1 \\u0648\\u0652\\u062a\\u0623\\u0647\\u0644\\u064c\\u062a\\u064e \\u064e\\u0628\\u0652\\u0627\\u0644\\u062a\\u0627\\u0644\\u064b\\u064a\\u0651 \\u0627\\u0644\\u0652\\u0649 \\u0646\\u0635\\u064c\\u0641 \\u064f\\u0646\\u0647\\u064d\\u0627\\u0626\\u0651\\u064a\\u064d \\u0645\\u0633\\u0627\\u0628\\u0651\\u0642\\u0629 \\u0643\\u0631\\u0629 \\u0627\\u064d\\u0644\\u0642\\u0650\\u062f\\u0645\\u0652 \\u0636\\u0645\\u0650\\u0646 \\u062f\\u0648\\u064c\\u0631\\u064f\\u0629\\u0650 \\u064d\\u0623\\u0644\\u064e\\u0639\\u064f\\u0627\\u0628\\u0650 \\u0651\\u0627\\u0644\\u0650\\u0628\\u0652\\u062d\\u0631\\u064f \\u0627\\u0644\\u0645\\u0651\\u062a\\u064f\\u0648\\u064c\\u0633\\u0637 \\u0650\\u0648\\u064f\\u0633\\u062c\\u0644\\u0651 \\u0645\\u064d\\u0627\\u064b\\u062a\\u064d\\u064a\\u064d\\u0648 \\u064f\\u0645\\u064b\\u0648\\u0633\\u064b\\u062a\\u0650\\u0627\\u0643\\u064a\\u064d\\u0648\\u064e \\u0650(2\\u06508 \\u0650\\u064854) \\u064f\\u0648\\u0651\\u0641\\u064b\\u0631\\u0627\\u0646\\u064f\\u0634\\u064f\\u064a\\u0633\\u0643\\u0648 \\u064b\\u0641\\u064c\\u0627\\u064e\\u0628\\u064a\\u0629\\u064e \\u064b\\u062a\\u064e\\u0634\\u064e\\u0627\\u064d\\u0643\\u0651\\u0627 \\u064e(7\\u06512)\\u064b \\u0627\\u0647\\u064f\\u062f\\u0627\\u0641\\u0651 \\u0627\\u064e\\u064a\\u0637\\u0627\\u0644\\u064d\\u064a\\u0651\\u0627\\u064e\\u060c\\u064c \\u0648\\u064c\\u0645\\u0651\\u0627\\u064a\\u064d\\u0643\\u064e\\u0644 \\u064b\\u0628\\u0627\\u0652\\u0641\\u064f\\u0644\\u064a\\u0633 \\u0652(\\u064f34) \\u0647\\u062f\\u064b\\u0641 \\u064b\\u0627\\u0644\\u064a\\u0648\\u0652\\u0646\\u0627\\u064f\\u0646 .\\u0650\\u0648\\u064e\\u0643\\u064f\\u0627\\u0651\\u0646\\u064d\\u062a \\u0652\\u0627\\u064a\\u0637\\u0651\\u0627\\u064b\\u0644\\u064d\\u064a\\u0627\\u0652 \\u064d\\u062a\\u0639\\u0627\\u0651\\u062f\\u0644\\u0652\\u062a\\u0652 \\u0645\\u0639\\u0650 \\u0633\\u0648\\u064f\\u0631\\u064a\\u0627 1\\u0652-1\\u064d \\u0641\\u0652\\u064a\\u064d \\u0627\\u0650\\u0641\\u064d\\u062a\\u064d\\u062a\\u064d\\u0627\\u062d\\u064e \\u0650\\u0645\\u0646\\u0627\\u064e\\u0641\\u0633\\u0627\\u064b\\u062a \\u064f\\u0627\\u0644\\u0645\\u062c\\u0645\\u064e\\u0648\\u064b\\u0639\\u0650\\u0629 \\u064b\\u0627\\u064d\\u0644\\u0650\\u0627\\u0650\\u0648\\u064d\\u0644\\u0649\\u064b\\u060c \\u064e\\u062b\\u064c\\u0645\\u064c \\u0641\\u0652\\u0627\\u064c\\u0632\\u064b \\u064b\\u0627\\u064b\\u0644\\u0645\\u064d\\u0646\\u064e\\u062a\\u062e\\u0628\\u064e \\u0627\\u0644\\u064a\\u064e\\u0648\\u0651\\u0646\\u0627\\u0646\\u064a\\u0652 \\u0639\\u0644\\u064c\\u0649\\u0650 \\u064f\\u0646\\u064d\\u0638\\u064a\\u0631\\u064d\\u0647\\u0651 \\u064f\\u0627\\u0652\\u0644\\u064c\\u0633\\u064e\\u0648\\u0650\\u0631\\u064f\\u064a\\u064e \\u064e4\\u0650-\\u0652\\u0635\\u0650\\u0641\\u064c\\u0631\\u064b \\u064d\\u0641\\u064a \\u0652\\u0627\\u0644\\u062c\\u0648\\u0644\\u0629\\u064f \\u0627\\u064e\\u0644\\u064c\\u062b\\u064d\\u0627\\u0652\\u0646\\u064d\\u064a\\u0629 \\u0651\\u0642\\u064c\\u0628\\u064c\\u0644\\u064f \\u0627\\u0652\\u0646\\u064c \\u064a\\u062e\\u064b\\u0633\\u0631\\u0627\\u0644\\u0625\\u062b\\u064e\\u0646\\u0652\\u064a\\u064e\\u0646 \\u064e\\u0648\\u064a\\u064c\\u062e\\u0652\\u0631\\u062c\\u064c \\u062e\\u064d\\u0627\\u0644\\u064a \\u064c\\u0627\\u064c\\u0644\\u0648\\u0641\\u064f\\u0627\\u064e\\u0636\\u064f \\u0652.\\u0648\\u0651\\u062a\\u0644\\u064e\\u062a\\u0642\\u0652\\u064a \\u064d\\u0627\\u064a\\u0651\\u0637\\u064c\\u0627\\u064b\\u0644\\u064d\\u064a\\u0627 \\u064e\\u0645\\u0651\\u0639\\u0650 \\u064f\\u0644\\u064a\\u0628\\u064f\\u064a\\u064b\\u0627\\u064c \\u0628\\u064c\\u0637\\u0644\\u064c\\u0629 \\u064b\\u0627\\u0644\\u064b\\u0645\\u062c\\u064e\\u0645\\u064c\\u0648\\u0639\\u064b\\u0629 \\u0650\\u0627\\u0644\\u062b\\u064f\\u0627\\u064f\\u0644\\u062b\\u0629 \\u0627\\u064c\\u0644\\u064f\\u062a\\u064a\\u064d \\u062a\\u063a\\u0651\\u0644\\u0628\\u0652\\u062a\\u064c \\u0639\\u0644\\u064f\\u0649 \\u064c\\u0645\\u0648\\u064d\\u0646\\u0651\\u062a\\u064a\\u064d\\u0646\\u0652\\u064a\\u064b\\u063a\\u064b\\u0631\\u0648\\u064b \\u0628\\u064b\\u0631\\u0643\\u0652\\u0644\\u0627\\u064e\\u062a \\u0627\\u0644\\u062a\\u0631\\u064e\\u062c\\u064a\\u0652\\u062d \\u064c4-2\\u064c \\u064e(\\u0627\\u0644\\u0651\\u0648\\u0642\\u064d\\u062a\\u064c\\u0627\\u0646 \\u064b\\u0627\\u064f\\u0644\\u0627\\u0635\\u064b\\u0644\\u064c\\u064a\\u0652 \\u0648\\u0627\\u0644\\u0652\\u0627\\u0650\\u0636\\u064c\\u0627\\u064d\\u0641\\u064c\\u064a\\u064c \\u064e\\u0635\\u0641\\u0651\\u0631\\u064e-\\u0635\\u0652\\u0641\\u0631\\u064f)\\u0652 \\u0651.\\u064f\\u0648\\u0650\\u0643\\u0627\\u0646\\u062a\\u064e \\u0644\\u064a\\u064f\\u0628\\u064a\\u0650\\u0627 \\u062a\\u064b\\u0639\\u0627\\u064b\\u062f\\u064e\\u0644\\u064b\\u062a \\u0633\\u064d\\u0644\\u064f\\u0628\\u0652\\u0627\\u064e \\u0627\\u064b\\u064a\\u0636\\u0627\\u064e \\u064b\\u0645\\u0651\\u0639\\u064c \\u0645\\u0651\\u0648\\u064f\\u0646\\u064d\\u062a\\u064c\\u064a\\u064d\\u0646\\u0652\\u064a\\u064d\\u063a\\u0652\\u0631\\u064f\\u0648 \\u0627\\u064c\\u0644\\u064c\\u062e\\u0645\\u064e\\u064a\\u0651\\u0633 \\u0627\\u064c\\u0644\\u0645\\u0651\\u0627\\u064f\\u0636\\u064a\\u0650 \\u064e\\u0641\\u064e\\u064a\\u064e \\u0650\\u0627\\u0641\\u064c\\u062a\\u0650\\u062a\\u064c\\u0627\\u0651\\u062d \\u0645\\u064f\\u0646\\u0627\\u0641\\u064b\\u0633\\u0627\\u064d\\u062a \\u0652\\u0627\\u0652\\u0644\\u064d\\u0645\\u064c\\u062c\\u0645\\u0648\\u064e\\u0639\\u0629\\u064e \\u0651\\u0627\\u0644\\u062a\\u064d\\u064a \\u0650\\u0644\\u064f\\u0627 \\u062a\\u0652\\u0636\\u064e\\u0645\\u0650 \\u0650\\u0633\\u0648\\u0649 \\u0652\\u0645\\u064c\\u0646\\u062a\\u064d\\u062e\\u0628\\u064a\\u064b\\u0646\\u064c \\u0650.\\u0650\\u0648\\u0652\\u0641\\u064a \\u0627\\u0644\\u0645\\u062c\\u0645\\u0648\\u0639\\u0629\\u064b \\u0627\\u0644\\u062b\\u0650\\u0627\\u0646\\u0650\\u064a\\u0629\\u064b\\u060c\\u064c \\u064e\\u062d\\u0642\\u064c\\u0642\\u062a \\u0650\\u0641\\u064d\\u0631\\u0646\\u0633\\u0627 \\u0650\\u0641\\u0648\\u0651\\u0632\\u0650\\u0647\\u0627 \\u0627\\u064f\\u0644\\u0652\\u062b\\u064d\\u0627\\u0646\\u064e\\u064a \\u0639\\u0650\\u0644\\u064f\\u0649\\u064d \\u0652\\u062d\\u0633\\u0627\\u064f\\u0628\\u064c \\u064e\\u0645\\u0627\\u064b\\u0644\\u0637\\u0627\\u064e \\u0628\\u064c\\u0647\\u062f\\u0641\\u064f \\u064a\\u062a\\u064a\\u0650\\u0645 \\u064d\\u0633\\u064d\\u062c\\u064e\\u0644\\u0647\\u064e \\u0651\\u064a\\u064d\\u0648\\u064d\\u0647\\u0627\\u0646 \\u064e\\u0644\\u064e\\u0627\\u0633\\u064a\\u0645\\u0627\\u0646 \\u064f(\\u064d7) \\u0652\\u0628\\u0652\\u0639\\u062f\\u0652 \\u0650\\u0627\\u0652\\u0646 \\u0650\\u0643\\u0627\\u0646\\u062a\\u064e \\u0647\\u0632\\u0645\\u064b\\u062a \\u062a\\u0631\\u0643\\u064d\\u064a\\u0652\\u0627\\u064f \\u06502-\\u064e\\u0635\\u064c\\u0641\\u0631 \\u064c\\u0641\\u064a\\u064d \\u064e\\u0627\\u064f\\u0644\\u0627\\u0641\\u064e\\u062a\\u062a\\u0650\\u0627\\u062d .\\u064d\\u0648\\u0641\\u064b\\u064a\\u064f \\u064c\\u0627\\u0644\\u0645\\u064c\\u062c\\u0645\\u0648\\u0639\\u0629\\u064b \\u064e\\u0627\\u064c\\u0644\\u0651\\u0631\\u0627\\u0650\\u0628\\u0639\\u0629 \\u062d\\u062c\\u0632\\u0652\\u062a \\u064d\\u0627\\u0633\\u064e\\u0628\\u064e\\u0627\\u0651\\u0646\\u064a\\u0627\\u064f \\u064f\\u0628\\u0637\\u064f\\u0627\\u0651\\u0642\\u0629\\u064b \\u064c\\u0627\\u0644\\u064e\\u062a\\u0650\\u0623\\u0647\\u064e\\u0644\\u0651 \\u0650\\u0627\\u0644\\u0650\\u0649 \\u064b\\u0646\\u0651\\u0635\\u0641 \\u0627\\u064b\\u0644\\u0646\\u064d\\u0647\\u0627\\u064f\\u0626\\u064a\\u064c \\u064c\\u0644\\u0644\\u0642\\u0627\\u0652\\u0621 \\u0641\\u0631\\u064f\\u0646\\u064c\\u0633\\u064d\\u0627\\u064d \\u0650\\u0628\\u0639\\u064d\\u062f \\u064f\\u0641\\u0648\\u0632\\u0652\\u0647\\u064e\\u0627 \\u0639\\u0644\\u0652\\u0649\\u0651 \\u064d\\u0627\\u0644\\u0652\\u0628\\u0627\\u064e\\u0646\\u064a\\u0627 \\u064f3-\\u0635\\u0641\\u0631 \\u0633\\u062c\\u0644\\u0647\\u0627\\u064d \\u0639\\u0650\\u0644\\u0649 \\u0627\\u064c\\u0644\\u064f\\u062a\\u0648\\u0627\\u0644\\u064d\\u064a \\u0627\\u064f\\u0646\\u0631\\u064c\\u064a\\u0643\\u064f\\u0647 \\u0651\\u063a\\u0651\\u0627\\u0631\\u064b\\u0633\\u064a\\u0627\\u0651 \\u0645\\u0627\\u0631\\u0651\\u062a\\u0652\\u064a\\u064f\\u0646\\u064b\\u064a\\u0632\\u064e (\\u064c1\\u06511\\u064c) \\u064f\\u0648\\u0627\\u0652\\u0631\\u0648\\u0646 \\u0646\\u0650\\u064a\\u064b\\u063a\\u064a\\u064d\\u0632 \\u0627\\u0650\\u0633\\u0643\\u0652\\u0644\\u064e\\u0627\\u064f\\u0628\\u0650\\u064a\\u0651\\u0632 \\u0650(12) \\u064b\\u0648\\u064d\\u0627\\u0644\\u0628\\u0631\\u062a\\u0648\\u064f \\u0628\\u0648\\u064a\\u062a\\u064b\\u064a\\u0627\\u064b \\u0631\\u064c\\u0627\\u0628\\u064c\\u0627\\u064b\\u0634\\u0643\\u0648\\u0650 (7\\u06527)\\u064c \\u064d.\\u0651\\u0648\\u064c\\u0643\\u0627\\u064f\\u0646\\u064c\\u062a\\u064f \\u0627\\u0633\\u0628\\u0627\\u0650\\u0646\\u064b\\u064a\\u0651\\u0627\\u0652 \\u062a\\u0652\\u0639\\u0650\\u0627\\u0652\\u062f\\u064e\\u0644\\u062a \\u064e\\u0645\\u064e\\u0639\\u0651 \\u0651\\u062a\\u064e\\u0648\\u0646\\u0633\\u0652 \\u0641\\u0651\\u064a\\u064b \\u0627\\u0650\\u0644\\u064b\\u0627\\u0641\\u0650\\u062a\\u064e\\u062a\\u064e\\u0627\\u062d\\u0651 2\\u0651-\\u064c\\u060c\\u064d2 \\u0641\\u0652\\u064a\\u064f\\u0645\\u0627\\u064c \\u0641\\u0627\\u0632\\u062a \\u064f\\u0627\\u064d\\u0644\\u064c\\u0627\\u0652\\u062e\\u064a\\u0652\\u0631\\u0629\\u0652 \\u0639\\u0644\\u064b\\u0649 \\u064c\\u0627\\u0650\\u0644\\u0628\\u0627\\u0646\\u064a\\u0650\\u0627\\u0650 2-\\u064f1 \\u0641\\u0650\\u064a \\u0627\\u0644\\u062c\\u064f\\u0648\\u0651\\u0644\\u064c\\u0629 \\u0627\\u0644\\u062b\\u0627\\u0646\\u0651\\u064a\\u0629\\u064c .\"\n        ],\n        \"semantic_type\": \"\",\n        \"description\": \"\"\n      }\n    },\n    {\n      \"column\": \"label\",\n      \"properties\": {\n        \"dtype\": \"string\",\n        \"num_unique_values\": 3,\n        \"samples\": [\n          \"Politics\",\n          \"Medical\",\n          \"Sports\"\n        ],\n        \"semantic_type\": \"\",\n        \"description\": \"\"\n      }\n    },\n    {\n      \"column\": \"word_count\",\n      \"properties\": {\n        \"dtype\": \"number\",\n        \"std\": 96,\n        \"min\": 77,\n        \"max\": 322,\n        \"num_unique_values\": 5,\n        \"samples\": [\n          322,\n          100,\n          175\n        ],\n        \"semantic_type\": \"\",\n        \"description\": \"\"\n      }\n    },\n    {\n      \"column\": \"char_count\",\n      \"properties\": {\n        \"dtype\": \"number\",\n        \"std\": 802,\n        \"min\": 799,\n        \"max\": 2818,\n        \"num_unique_values\": 5,\n        \"samples\": [\n          2818,\n          941,\n          1656\n        ],\n        \"semantic_type\": \"\",\n        \"description\": \"\"\n      }\n    },\n    {\n      \"column\": \"clean_text\",\n      \"properties\": {\n        \"dtype\": \"string\",\n        \"num_unique_values\": 5,\n        \"samples\": [\n          \"\\u0627\\u064a\\u0645 \\u0639\\u0628\\u062f \\u0627\\u0644\\u0644 \\u0639\\u0644\\u062c \\u062d\\u0645\\u0644 \\u0648\\u0637\\u0646 \\u062e\\u0644\\u0635 \\u0644\\u0647\\u0628 \\u0643\\u0628\\u062f \\u0648\\u0628\\u064a \\u0633\\u064a 360 \\u0648\\u0627\\u0637 \\u064a\\u0639\\u0646 \\u0643\\u0628\\u062f \\u0648\\u0628\\u064a \\u0639\\u062f\\u062f \\u0633\\u0645\\u0631 \\u0639\\u0644\\u062c \\u0644\\u0645\\u062f 3 \\u0634\\u0647\\u0631 \\u0643\\u0628\\u0631 \\u0648\\u0628\\u0627\\u0646\\u062a\\u0638\\u0627\\u0631 \\u0641\\u062d\\u0635 \\u0623\\u0643\\u062f \\u0634\\u0641\\u0626 \\u062a\\u0645\\u0627 \\u0645\\u0631\\u0636 \\u0642\\u0628\\u0644 \\u062d\\u0627\\u0644 \\u0627\\u0645\\u0631 \\u062f\\u0648\\u0644 \\u0636\\u0645\\u0646 \\u0634\\u0631\\u0639 \\u0642\\u0626\\u0645 \\u0627\\u0643\\u062f \\u062d\\u0645\\u062f \\u0632\\u0639\\u0628 \\u0634\\u0627\\u0631 \\u0645\\u0631\\u0636 \\u0632\\u0631\\u0639 \\u0643\\u0628\\u062f \\u0648\\u0628\\u064a \\u062c\\u0647\\u0632 \\u0647\\u0636\\u0645 \\u0634\\u0641\\u0649 \\u0632\\u064a\\u062f \\u0639\\u0633\\u0643\\u0631 \\u0623\\u0628\\u0648\\u0638\\u0628 \\u062f\\u064a\\u0631 \\u0634\\u0631\\u0639 \\u062d\\u0645\\u0644 \\u0648\\u0637\\u0646 \\u062e\\u0644\\u0635 \\u0644\\u0647\\u0628 \\u0643\\u0628\\u062f \\u0648\\u0628\\u064a \\u0633\\u064a \\u062f\\u0648\\u0644 \\u062e\\u0635\\u0635 150 \\u0645\\u0644\\u064a \\u0643\\u0645\\u0631\\u062d\\u0644 \\u0648\\u0644\\u064a \\u0634\\u0631\\u0621 \\u062f\\u0648\\u0621 \\u062c\\u062f\\u062f VIEKIRAX EXVIERA \\u0646\\u062c\\u0647 \\u0634\\u0631\\u0643 \\u0627\\u0628\\u0641 \\u0639\\u0644\\u062c \\u062a\\u0647\\u0628 \\u0643\\u0628\\u062f \\u0632\\u0645\\u0646 \\u0633\\u064a \\u0646\\u0645\\u0637 \\u062c\\u064a\\u0646 1 \\u06484 \\u062f\\u0648\\u0644 \\u0648\\u0641\\u0631 \\u0639\\u0644\\u062c \\u062b\\u0648\\u0631 \\u0648\\u0641\\u0631 \\u0639\\u062f\\u0644 \\u0634\\u0641\\u0621 \\u0639\\u0644\\u064a \\u0635\\u0627\\u0628 \\u062a\\u0647\\u0628 \\u0643\\u0628\\u062f \\u0633\\u064a \\u0627\\u0645\\u0631 \\u0623\\u0636\\u0641 \\u0639\\u062f\\u062f \\u0635\\u0627\\u0628 \\u0643\\u0628\\u062f \\u0648\\u0628\\u064a \\u0632\\u062f\\u064a\\u0627\\u062f \\u0648\\u0635\\u0644 \\u0639\\u062f\\u062f \\u0642\\u062f\\u0631 \\u0635\\u0627\\u0628 \\u0648\\u0637\\u0646 10 \\u0627\\u0644\\u0641 20 \\u0627\\u0644\\u0641 \\u0648\\u0647\\u0646 \\u0631\\u0636\\u0649 \\u0634\\u062e\\u0635 \\u062d\\u0645\\u0644 \\u0645\\u0631\\u0629 \\u0646\\u0635\\u0644 \\u0631\\u062d\\u0644 \\u0646\\u062a\\u062d \\u0645\\u0631\\u0636 \\u0635\\u0628\\u062d \\u0646\\u062f\\u0631 \\u0648\\u062c\\u062f \\u062f\\u0648\\u0644 \\u0623\\u0636\\u0641 \\u0644\\u062f\\u064a 15 \\u062d\\u0644\\u0629 \\u0639\\u0644\\u062c \\u0644\\u0623\\u0645 \\u0628\\u0646\\u0626 \\u0646\\u0642\\u0644 \\u0645\\u0631\\u0636 \\u0627\\u0628\\u0646 \\u0637\\u0631\\u0642 \\u0644\\u0623\\u0645 \\u0648\\u0644\\u062f \\u062d\\u0644\\u0629 \\u0644\\u0623\\u0645 \\u0646\\u0642\\u0644 \\u0645\\u0631\\u0636 \\u0644\\u062b\\u0646 \\u0628\\u0646\\u0626 \\u0631\\u063a\\u0645 \\u0646\\u0633\\u0628 \\u0646\\u0642\\u0644 \\u0645\\u0631\\u0636 \\u0644\\u0623\\u0645 \\u0623\\u0628\\u0646\\u0627\\u0626 \\u0639\\u062f\\u0649 5 \\u0623\\u0634\\u0631 \\u0627\\u0646\\u0647 \\u0648\\u062c\\u062f \\u0637\\u0639\\u0645 \\u0648\\u0642\\u064a \\u0643\\u0628\\u062f \\u0648\\u0628\\u064a \\u0623\\u0636\\u0641 \\u062d\\u0627\\u0644 \\u062a\\u0642\\u062f\\u0645 \\u0633\\u062f\\u0639 \\u0632\\u0631\\u0639 \\u0643\\u0628\\u062f \\u0648\\u0631\\u0645 \\u0643\\u0628\\u062f \\u062a\\u0644\\u0641 \\u0634\\u0643\\u0644 \\u0631\\u062d\\u0644 \\u0647\\u0645\\u0629 \\u062e\\u0636\\u0639 \\u0639\\u0644\\u062c \\u0634\\u0643\\u0644 \\u0641\\u0648\\u0631 \\u0648\\u0644\\u062f 12 \\u0631\\u064a\\u0636 \\u0628\\u062d\\u062c \\u0632\\u0631\\u0639 \\u0643\\u0628\\u062f \\u0633\\u0646\\u0648 \\u0631\\u0633\\u0644 \\u0634\\u062e\\u0635 \\u062e\\u0631\\u062c \\u0632\\u0631\\u0639 \\u0643\\u0628\\u062f \\u0648\\u062c\\u062f \\u0631\\u0646\\u0645\\u062c \\u0632\\u0631\\u0639 \\u0643\\u0628\\u062f \\u0627\\u0645\\u0631 \\u0648\\u0646\\u062a \\u062d\\u0627\\u0644 \\u0648\\u0631\\u0642 \\u0648\\u0636\\u0639 \\u0642\\u0648\\u0646 \\u062e\\u0635\\u0629 \\u0631\\u0646\\u0645\\u062c \\u0632\\u0631\\u0639 \\u0643\\u0628\\u062f \\u0627\\u0645\\u0631 \\u0648\\u0646\\u0647 \\u062c\\u0631\\u0621 \\u0637\\u0644\\u0628 \\u0645\\u0646\\u0627 \\u0643\\u0623\\u0637\\u0628\\u0627\\u0621 \\u0642\\u0646\\u0648 \\u0648\\u0641\\u0646 \\u0634\\u0627\\u0631 \\u0648\\u0628\\u0627\\u0646\\u062a\\u0638\\u0627\\u0631 \\u0639\\u0645\\u062f \\u0631\\u0646\\u0645\\u062c \\u0639\\u0646\\u064a \\u062f\\u0648\\u0644 \\u0641\\u0639\\u0644 \\u0627\\u0645\\u0631 \\u0623\\u0643\\u062f \\u062d\\u0636\\u0631 \\u062c\\u062f\\u062f \\u062e\\u0635\\u0631 \\u0645\\u062f\\u0629 \\u0639\\u0644\\u062c \\u0633\\u0646\\u0629 3 \\u0634\\u0647\\u0631 \\u0639\\u062f\\u062f \\u0635\\u0627\\u0628 \\u0632\\u062f\\u064a\\u0627\\u062f \\u064a\\u0635\\u0644 \\u0639\\u062f\\u062f \\u0641\\u0631\\u0642 \\u062d\\u064a\\u0629 \\u0633\\u0646\\u0648 400 \\u0634\\u062e\\u0635 \\u062f\\u0648\\u0621 \\u062c\\u062f\\u062f \\u064a\\u0624\\u062f \\u0639\\u0644\\u062c \\u0635\\u0627\\u0628 \\u0642\\u0644\\u0644 \\u0646\\u0633\\u0628 \\u0646\\u0642\\u0644 \\u0639\\u062f\\u0649 \\u062a\\u0642\\u0644 \\u0646\\u0633\\u0628 \\u062f\\u0631\\u062c\",\n          \"\\u0631\\u0648\\u0628\\u0631\\u062a\\u0648 \\u0645\\u0627\\u0631\\u062a\\u064a\\u0646\\u064a\\u0632 \\u062f\\u0631\\u0628 \\u064a\\u0641\\u0631 \\u0646\\u0641\\u0633 \\u062f\\u0648\\u0631 \\u062c\\u0644\\u0632 \\u0645\\u062a\\u0632 \\u0644\\u0643\\u0631 \\u0642\\u062f\\u0645 \\u0644\\u0639\\u0628 \\u062c\\u062f\\u062f \\u062a\\u0648\\u0645 \\u0643\\u0644\\u064a\\u0641\\u0631\\u0644 \\u0627\\u0635\\u0628 \\u0645\\u0632\\u0642 \\u0631\\u0628\\u0637 \\u0643\\u062d\\u0644 \\u0648\\u0644\\u064a\\u0633 \\u0643\\u0633\\u0631 \\u062e\\u0634\\u0649 \\u0628\\u062f\\u0627\\u064a\\u0629\\u0648\\u062e\\u0631\\u062c \\u0643\\u0644\\u064a\\u0641\\u0631\\u0644 26 \\u0639\\u0645\\u0627 \\u0642\\u0628\\u0644 \\u0645\\u0627\\u0646\\u0634\\u0633\\u062a\\u0631 \\u064a\\u062a\\u062f \\u0635\\u0641\\u0642 \\u0646\\u0642\\u0644 \\u062d\\u0631 \\u062d\\u0645\\u0644 \\u062d\\u0641\\u0629 \\u0642\\u0631\\u0628 \\u0646\\u0647\\u064a \\u0634\\u0648\\u0637 \\u0627\\u0648\\u0644 \\u0628\\u0631\\u0627 \\u0646\\u0647\\u0645 \\u0647\\u0648\\u062a\\u0633\\u0628\\u064a\\u0631 \\u0646\\u0647\\u062a \\u0639\\u062f\\u0644 \\u0633\\u0644\\u0628 \\u062f\\u062e\\u0644 \\u0627\\u0631\\u0643 \\u062f\\u064a\\u0631\\u0648\\u0642\\u0627\\u0644 \\u0645\\u0627\\u0631\\u062a\\u064a\\u0646\\u064a\\u0632 42 \\u0639\\u0645\\u0627 \\u0648\\u0642\\u0639 \\u0646\\u062f\\u064a \\u0646\\u0631\\u0646 \\u0643\\u0646\\u0627 \\u0639\\u062a\\u0642\\u062f \\u0627\\u0646\\u0647 \\u0627\\u0635\\u0628 \\u0643\\u0633\\u0631 \\u0643\\u0627\\u0646\\u062a \\u0635\\u0628\\u0629 \\u0648\\u0642\\u062a \\u0648\\u0633\\u0645 \\u0644\\u0628\\u062a \\u0627\\u0645\\u0631 \\u0633\\u064a\\u0626 \\u0644\\u062a\\u0645 \\u0644\\u0623\\u0646 \\u0642\\u062f\\u0645 \\u0627\\u062f\\u0621 \\u0631\\u0627\\u0626\\u0639\\u0627\\u0648\\u0623\\u0636\\u0627\\u0641 \\u0635\\u0628\\u0629 \\u0645\\u0632\\u0642 \\u0631\\u0628\\u0637 \\u0643\\u062d\\u0644 \\u062e\\u0637\\u0629 \\u0642\\u0628\\u0644 \\u0639\\u0631\\u0641 \\u0645\\u062f\\u0629 \\u063a\\u064a\\u0628\",\n          \"\\u064a\\u0637\\u0644 \\u0648\\u062c\\u0647 \\u064a\\u0648\\u0646 \\u0628\\u0641\\u0632 \\u0639\\u0644\\u064a\\u0647\\u0627 31 \\u0623\\u0647\\u0644 \\u062a\\u0644\\u064a \\u0627\\u0644\\u0649 \\u0646\\u0635\\u0641 \\u0646\\u0647\\u064a \\u0633\\u0628\\u0642 \\u0643\\u0631\\u0629 \\u0642\\u062f\\u0645 \\u0636\\u0645\\u0646 \\u062f\\u0648\\u0631 \\u0644\\u0639\\u0628 \\u0628\\u062d\\u0631 \\u062a\\u0648\\u0633\\u0637 \\u0633\\u062c\\u0644 \\u0627\\u062a\\u0648 \\u0645\\u0648\\u0633\\u062a\\u0627\\u0643\\u064a\\u0648 28 \\u064854 \\u0648\\u0641\\u0631\\u0627\\u0646\\u0634\\u064a\\u0633\\u0643\\u0648 \\u0641\\u0628\\u064a \\u0634\\u0643\\u0627 72 \\u0647\\u062f\\u0641 \\u064a\\u0637\\u0644 \\u0627\\u064a\\u0643\\u0644 \\u0641\\u0644\\u0633 34 \\u0647\\u062f\\u0641 \\u064a\\u0648\\u0646 \\u0648\\u0643\\u0627\\u0646\\u062a \\u064a\\u0637\\u0644 \\u0639\\u062f\\u0644 \\u0633\\u0648\\u0631 11 \\u0641\\u062a\\u062d \\u0646\\u0641\\u0633 \\u062c\\u0645\\u0639 \\u0648\\u0644\\u0649 \\u0641\\u0627\\u0632 \\u0646\\u062e\\u0628 \\u064a\\u0648\\u0646 \\u0646\\u0638\\u0631 \\u0633\\u0648\\u0631 4\\u0635\\u0641\\u0631 \\u062c\\u0648\\u0644 \\u062b\\u0646\\u064a \\u0627\\u0646 \\u064a\\u062e\\u0633\\u0631\\u0627\\u0644\\u0625\\u062b\\u0646 \\u062e\\u0631\\u062c \\u062e\\u0644\\u064a \\u0648\\u0641\\u0636 \\u0644\\u062a\\u0642 \\u064a\\u0637\\u0644 \\u0644\\u064a\\u0628 \\u0628\\u0637\\u0644 \\u062c\\u0645\\u0639 \\u062b\\u0644\\u062b \\u063a\\u0644\\u0628 \\u0645\\u0648\\u0646\\u062a\\u064a\\u0646\\u064a\\u063a\\u0631\\u0648 \\u0631\\u0643\\u0644 \\u0631\\u062c\\u062d 42 \\u0648\\u0642\\u062a \\u0627\\u0635\\u0644 \\u0636\\u0641\\u064a \\u0635\\u0641\\u0631\\u0635\\u0641\\u0631 \\u0648\\u0643\\u0627\\u0646\\u062a \\u0644\\u064a\\u0628 \\u0639\\u062f\\u0644 \\u0633\\u0644\\u0628 \\u0627\\u064a\\u0636 \\u0645\\u0648\\u0646\\u062a\\u064a\\u0646\\u064a\\u063a\\u0631\\u0648 \\u062e\\u0645\\u0633 \\u0627\\u0636\\u064a \\u0641\\u062a\\u062d \\u0646\\u0641\\u0633 \\u062c\\u0645\\u0639 \\u062a\\u0636\\u0645 \\u0646\\u062e\\u0628 \\u0648\\u0641\\u064a \\u062c\\u0645\\u0639 \\u062b\\u0646\\u064a \\u062d\\u0642\\u0642 \\u0631\\u0646\\u0633 \\u0641\\u0648\\u0632 \\u062b\\u0646\\u064a \\u062d\\u0633\\u0628 \\u0627\\u0644\\u0637 \\u0647\\u062f\\u0641 \\u064a\\u062a\\u0645 \\u0633\\u062c\\u0644 \\u064a\\u0648\\u0647 \\u0627\\u0633\\u0645 7 \\u0627\\u0646 \\u0643\\u0627\\u0646\\u062a \\u0647\\u0632\\u0645 \\u062a\\u0631\\u0643 2\\u0635\\u0641\\u0631 \\u0641\\u062a\\u062d \\u0648\\u0641\\u064a \\u062c\\u0645\\u0639 \\u0631\\u0628\\u0639 \\u062d\\u062c\\u0632 \\u0633\\u0628\\u0646 \\u0628\\u0637\\u0642 \\u0623\\u0647\\u0644 \\u0627\\u0644\\u0649 \\u0646\\u0635\\u0641 \\u0646\\u0647\\u064a \\u0642\\u0627\\u0621 \\u0631\\u0646\\u0633 \\u0641\\u0648\\u0632 \\u0628\\u0627\\u0646 3\\u0635\\u0641\\u0631 \\u0633\\u062c\\u0644 \\u0648\\u0644\\u064a \\u0631\\u064a\\u0643 \\u063a\\u0631\\u0633 \\u0645\\u0627\\u0631\\u062a\\u064a\\u0646\\u064a\\u0632 11 \\u0648\\u0627\\u0631 \\u064a\\u063a\\u0632 \\u0627\\u0633\\u0643\\u0644\\u0627\\u0628\\u064a\\u0632 12 \\u0631\\u062a\\u0648 \\u0628\\u0648\\u062a \\u0631\\u0627\\u0628\\u0627\\u0634\\u0643\\u0648 77 \\u0648\\u0643\\u0627\\u0646\\u062a \\u0633\\u0628\\u0646 \\u0639\\u062f\\u0644 \\u0648\\u0646\\u0633 \\u0641\\u062a\\u062d 22 \\u0641\\u0632\\u062a \\u062e\\u064a\\u0631 \\u0628\\u0627\\u0646 21 \\u062c\\u0648\\u0644 \\u062b\\u0646\\u064a\"\n        ],\n        \"semantic_type\": \"\",\n        \"description\": \"\"\n      }\n    }\n  ]\n}"
            }
          },
          "metadata": {},
          "execution_count": 22
        }
      ]
    },
    {
      "cell_type": "markdown",
      "metadata": {
        "id": "VF45GS_ZSEix"
      },
      "source": [
        "# Tokenization, Padding, and Data Splitting"
      ]
    },
    {
      "cell_type": "markdown",
      "metadata": {
        "id": "YmsL3S-5SIbl"
      },
      "source": [
        "In this step, we will prepare the text data for input into a model by converting the text into numerical sequences, padding them to a uniform length, and splitting the dataset into training and testing sets. Here's an overview of the steps involved:\n",
        "\n",
        "1. **Tokenization**:\n",
        "   We use a tokenizer to convert the cleaned text into numerical sequences. You can use `Tokenizer` tokenizer from `tensorflow.keras.preprocessing.text` package or any other tokenizer you like.\n",
        "\n",
        "2. **Text to sequences**:\n",
        "   After fitting the tokenizer on the cleaned text, we transform each text into a sequence of numbers, where each number corresponds to a token (word) in the text.\n",
        "\n",
        "3. **Padding the sequences**:\n",
        "   Since different texts may vary in length, we pad the sequences to ensure they all have the same length.\n",
        "\n",
        "4. **Label encoding**:\n",
        "   The labels (target values) also need to be converted into numerical form if they are not encoded.\n",
        "\n",
        "5. **Train-test split**:\n",
        "   The dataset is divided into training and testing sets. We allocate 80% of the data for training the model and reserve 20% for testing its performance.\n",
        "   \n",
        "   - The **training data** consists of the padded sequences used to train the model.\n",
        "   - The **training labels** are the encoded labels corresponding to the training data.\n",
        "   - The **testing data** is used to assess the model’s performance after training.\n",
        "   - The **testing labels** are the encoded labels corresponding to the testing data.\n",
        "\n",
        "6. **Data shape confirmation**:\n",
        "   After splitting the data, we print the shape (dimensions) of both the training and testing sets to confirm that the data is properly divided and formatted.\n",
        "\n",
        "By the end of this step, the text data will be transformed into padded numerical sequences, the labels will be encoded, and the data will be split into training and testing sets for model development and evaluation."
      ]
    },
    {
      "cell_type": "code",
      "execution_count": 23,
      "metadata": {
        "id": "z401Re0VfI1f"
      },
      "outputs": [],
      "source": [
        "#Tokenization\n",
        "tokenizer = Tokenizer()\n",
        "tokenizer.fit_on_texts(df['clean_text'])"
      ]
    },
    {
      "cell_type": "code",
      "source": [
        "sequences = tokenizer.texts_to_sequences(df['clean_text'])"
      ],
      "metadata": {
        "id": "nYGBI90tRvgX"
      },
      "execution_count": 24,
      "outputs": []
    },
    {
      "cell_type": "code",
      "source": [
        "padded_sequences = pad_sequences(sequences, maxlen=max_length, padding='post')"
      ],
      "metadata": {
        "id": "OLiTVZERR2dv"
      },
      "execution_count": 25,
      "outputs": []
    },
    {
      "cell_type": "code",
      "source": [
        "from sklearn.preprocessing import LabelEncoder\n",
        "label_encoder = LabelEncoder()\n",
        "labels = label_encoder.fit_transform(df['label'])"
      ],
      "metadata": {
        "id": "G5IuBYMMlWPN"
      },
      "execution_count": 26,
      "outputs": []
    },
    {
      "cell_type": "code",
      "source": [
        "from sklearn.model_selection import train_test_split\n",
        "X_train, X_test, y_train, y_test = train_test_split(padded_sequences, labels, test_size=0.2, random_state=42)"
      ],
      "metadata": {
        "id": "JWcZmBqlk9p4"
      },
      "execution_count": 27,
      "outputs": []
    },
    {
      "cell_type": "code",
      "source": [
        "X_test.shape, y_test.shape, X_train.shape, y_train.shape"
      ],
      "metadata": {
        "colab": {
          "base_uri": "https://localhost:8080/"
        },
        "id": "dfbuPs4kk_5k",
        "outputId": "a2cc70ed-54f0-4c94-d294-793901407a9e"
      },
      "execution_count": 28,
      "outputs": [
        {
          "output_type": "execute_result",
          "data": {
            "text/plain": [
              "((7550, 600), (7550,), (30198, 600), (30198,))"
            ]
          },
          "metadata": {},
          "execution_count": 28
        }
      ]
    },
    {
      "cell_type": "markdown",
      "metadata": {
        "id": "qd5Ek4NLTgVN"
      },
      "source": [
        "# Building the Classifier"
      ]
    },
    {
      "cell_type": "markdown",
      "metadata": {
        "id": "HpLEoTaITEGx"
      },
      "source": [
        "In this step, you will design and build a NLP Classifier model to classify text data. Below is a breakdown of the key components you'll implement, but it's up to you to decide how to configure them based on your understanding and experimentation:\n",
        "\n",
        "1. **Model Type**:\n",
        "   You will use a Sequential model, which allows you to stack layers in a linear sequence.\n",
        "\n",
        "2. **Input Layer**:\n",
        "   Define the shape of the input data. Consider the dimensions of your padded sequences and set the input shape accordingly.\n",
        "\n",
        "3. **Embedding Layer**:\n",
        "   The embedding layer will convert input tokens (integers) into dense vector representations. You will need to determine the size of the input dimension (based on your vocabulary) and the output dimension (embedding size).\n",
        "\n",
        "4. **Bidirectional Simple RNN/LSTM Layers**:\n",
        "   You can add one or more recurrent layers. Consider using Bidirectional layers to capture contextual information from both directions (forward and backward). You can chose SimpleRNN/GRU/LSTM to perform this step.\n",
        "\n",
        "5. **Dense Layers**:\n",
        "   Add one or more fully connected (Dense) layers to process the output from the RNN/GRU/LSTM layers.\n",
        "\n",
        "6. **Output Layer**:\n",
        "   The output layer should match the type of classification task you're working on. Consider using appropriate activation function with appropriate number of units.\n",
        "\n",
        "7. **Model Summary**:\n",
        "   After defining your model architecture, print a summary to review the number of layers, types of layers, and total parameters.\n",
        "\n",
        "8. **Model Compilation**:\n",
        "   Finally, compile the model by selecting an optimizer, a loss function, and metrics."
      ]
    },
    {
      "cell_type": "code",
      "source": [
        "from tensorflow.keras.models import Sequential\n",
        "from tensorflow.keras.layers import Embedding, LSTM, Dense, Dropout, Input, Bidirectional, SimpleRNN, LSTM"
      ],
      "metadata": {
        "id": "RlUqBxGEV18Y"
      },
      "execution_count": 29,
      "outputs": []
    },
    {
      "cell_type": "code",
      "execution_count": 30,
      "metadata": {
        "id": "D-EYYIUpfK_F",
        "colab": {
          "base_uri": "https://localhost:8080/",
          "height": 375
        },
        "outputId": "260282c1-8638-492f-d662-5728527eda21"
      },
      "outputs": [
        {
          "output_type": "stream",
          "name": "stderr",
          "text": [
            "/usr/local/lib/python3.10/dist-packages/keras/src/layers/core/embedding.py:90: UserWarning: Argument `input_length` is deprecated. Just remove it.\n",
            "  warnings.warn(\n"
          ]
        },
        {
          "output_type": "display_data",
          "data": {
            "text/plain": [
              "\u001b[1mModel: \"sequential\"\u001b[0m\n"
            ],
            "text/html": [
              "<pre style=\"white-space:pre;overflow-x:auto;line-height:normal;font-family:Menlo,'DejaVu Sans Mono',consolas,'Courier New',monospace\"><span style=\"font-weight: bold\">Model: \"sequential\"</span>\n",
              "</pre>\n"
            ]
          },
          "metadata": {}
        },
        {
          "output_type": "display_data",
          "data": {
            "text/plain": [
              "┏━━━━━━━━━━━━━━━━━━━━━━━━━━━━━━━━━━━━━━┳━━━━━━━━━━━━━━━━━━━━━━━━━━━━━┳━━━━━━━━━━━━━━━━━┓\n",
              "┃\u001b[1m \u001b[0m\u001b[1mLayer (type)                        \u001b[0m\u001b[1m \u001b[0m┃\u001b[1m \u001b[0m\u001b[1mOutput Shape               \u001b[0m\u001b[1m \u001b[0m┃\u001b[1m \u001b[0m\u001b[1m        Param #\u001b[0m\u001b[1m \u001b[0m┃\n",
              "┡━━━━━━━━━━━━━━━━━━━━━━━━━━━━━━━━━━━━━━╇━━━━━━━━━━━━━━━━━━━━━━━━━━━━━╇━━━━━━━━━━━━━━━━━┩\n",
              "│ embedding (\u001b[38;5;33mEmbedding\u001b[0m)                │ (\u001b[38;5;45mNone\u001b[0m, \u001b[38;5;34m600\u001b[0m, \u001b[38;5;34m512\u001b[0m)            │      \u001b[38;5;34m66,675,712\u001b[0m │\n",
              "├──────────────────────────────────────┼─────────────────────────────┼─────────────────┤\n",
              "│ bidirectional (\u001b[38;5;33mBidirectional\u001b[0m)        │ (\u001b[38;5;45mNone\u001b[0m, \u001b[38;5;34m600\u001b[0m, \u001b[38;5;34m256\u001b[0m)            │         \u001b[38;5;34m164,096\u001b[0m │\n",
              "├──────────────────────────────────────┼─────────────────────────────┼─────────────────┤\n",
              "│ bidirectional_1 (\u001b[38;5;33mBidirectional\u001b[0m)      │ (\u001b[38;5;45mNone\u001b[0m, \u001b[38;5;34m128\u001b[0m)                 │          \u001b[38;5;34m41,088\u001b[0m │\n",
              "├──────────────────────────────────────┼─────────────────────────────┼─────────────────┤\n",
              "│ dense (\u001b[38;5;33mDense\u001b[0m)                        │ (\u001b[38;5;45mNone\u001b[0m, \u001b[38;5;34m64\u001b[0m)                  │           \u001b[38;5;34m8,256\u001b[0m │\n",
              "├──────────────────────────────────────┼─────────────────────────────┼─────────────────┤\n",
              "│ dropout (\u001b[38;5;33mDropout\u001b[0m)                    │ (\u001b[38;5;45mNone\u001b[0m, \u001b[38;5;34m64\u001b[0m)                  │               \u001b[38;5;34m0\u001b[0m │\n",
              "├──────────────────────────────────────┼─────────────────────────────┼─────────────────┤\n",
              "│ dense_1 (\u001b[38;5;33mDense\u001b[0m)                      │ (\u001b[38;5;45mNone\u001b[0m, \u001b[38;5;34m1\u001b[0m)                   │              \u001b[38;5;34m65\u001b[0m │\n",
              "└──────────────────────────────────────┴─────────────────────────────┴─────────────────┘\n"
            ],
            "text/html": [
              "<pre style=\"white-space:pre;overflow-x:auto;line-height:normal;font-family:Menlo,'DejaVu Sans Mono',consolas,'Courier New',monospace\">┏━━━━━━━━━━━━━━━━━━━━━━━━━━━━━━━━━━━━━━┳━━━━━━━━━━━━━━━━━━━━━━━━━━━━━┳━━━━━━━━━━━━━━━━━┓\n",
              "┃<span style=\"font-weight: bold\"> Layer (type)                         </span>┃<span style=\"font-weight: bold\"> Output Shape                </span>┃<span style=\"font-weight: bold\">         Param # </span>┃\n",
              "┡━━━━━━━━━━━━━━━━━━━━━━━━━━━━━━━━━━━━━━╇━━━━━━━━━━━━━━━━━━━━━━━━━━━━━╇━━━━━━━━━━━━━━━━━┩\n",
              "│ embedding (<span style=\"color: #0087ff; text-decoration-color: #0087ff\">Embedding</span>)                │ (<span style=\"color: #00d7ff; text-decoration-color: #00d7ff\">None</span>, <span style=\"color: #00af00; text-decoration-color: #00af00\">600</span>, <span style=\"color: #00af00; text-decoration-color: #00af00\">512</span>)            │      <span style=\"color: #00af00; text-decoration-color: #00af00\">66,675,712</span> │\n",
              "├──────────────────────────────────────┼─────────────────────────────┼─────────────────┤\n",
              "│ bidirectional (<span style=\"color: #0087ff; text-decoration-color: #0087ff\">Bidirectional</span>)        │ (<span style=\"color: #00d7ff; text-decoration-color: #00d7ff\">None</span>, <span style=\"color: #00af00; text-decoration-color: #00af00\">600</span>, <span style=\"color: #00af00; text-decoration-color: #00af00\">256</span>)            │         <span style=\"color: #00af00; text-decoration-color: #00af00\">164,096</span> │\n",
              "├──────────────────────────────────────┼─────────────────────────────┼─────────────────┤\n",
              "│ bidirectional_1 (<span style=\"color: #0087ff; text-decoration-color: #0087ff\">Bidirectional</span>)      │ (<span style=\"color: #00d7ff; text-decoration-color: #00d7ff\">None</span>, <span style=\"color: #00af00; text-decoration-color: #00af00\">128</span>)                 │          <span style=\"color: #00af00; text-decoration-color: #00af00\">41,088</span> │\n",
              "├──────────────────────────────────────┼─────────────────────────────┼─────────────────┤\n",
              "│ dense (<span style=\"color: #0087ff; text-decoration-color: #0087ff\">Dense</span>)                        │ (<span style=\"color: #00d7ff; text-decoration-color: #00d7ff\">None</span>, <span style=\"color: #00af00; text-decoration-color: #00af00\">64</span>)                  │           <span style=\"color: #00af00; text-decoration-color: #00af00\">8,256</span> │\n",
              "├──────────────────────────────────────┼─────────────────────────────┼─────────────────┤\n",
              "│ dropout (<span style=\"color: #0087ff; text-decoration-color: #0087ff\">Dropout</span>)                    │ (<span style=\"color: #00d7ff; text-decoration-color: #00d7ff\">None</span>, <span style=\"color: #00af00; text-decoration-color: #00af00\">64</span>)                  │               <span style=\"color: #00af00; text-decoration-color: #00af00\">0</span> │\n",
              "├──────────────────────────────────────┼─────────────────────────────┼─────────────────┤\n",
              "│ dense_1 (<span style=\"color: #0087ff; text-decoration-color: #0087ff\">Dense</span>)                      │ (<span style=\"color: #00d7ff; text-decoration-color: #00d7ff\">None</span>, <span style=\"color: #00af00; text-decoration-color: #00af00\">1</span>)                   │              <span style=\"color: #00af00; text-decoration-color: #00af00\">65</span> │\n",
              "└──────────────────────────────────────┴─────────────────────────────┴─────────────────┘\n",
              "</pre>\n"
            ]
          },
          "metadata": {}
        },
        {
          "output_type": "display_data",
          "data": {
            "text/plain": [
              "\u001b[1m Total params: \u001b[0m\u001b[38;5;34m66,889,217\u001b[0m (255.16 MB)\n"
            ],
            "text/html": [
              "<pre style=\"white-space:pre;overflow-x:auto;line-height:normal;font-family:Menlo,'DejaVu Sans Mono',consolas,'Courier New',monospace\"><span style=\"font-weight: bold\"> Total params: </span><span style=\"color: #00af00; text-decoration-color: #00af00\">66,889,217</span> (255.16 MB)\n",
              "</pre>\n"
            ]
          },
          "metadata": {}
        },
        {
          "output_type": "display_data",
          "data": {
            "text/plain": [
              "\u001b[1m Trainable params: \u001b[0m\u001b[38;5;34m66,889,217\u001b[0m (255.16 MB)\n"
            ],
            "text/html": [
              "<pre style=\"white-space:pre;overflow-x:auto;line-height:normal;font-family:Menlo,'DejaVu Sans Mono',consolas,'Courier New',monospace\"><span style=\"font-weight: bold\"> Trainable params: </span><span style=\"color: #00af00; text-decoration-color: #00af00\">66,889,217</span> (255.16 MB)\n",
              "</pre>\n"
            ]
          },
          "metadata": {}
        },
        {
          "output_type": "display_data",
          "data": {
            "text/plain": [
              "\u001b[1m Non-trainable params: \u001b[0m\u001b[38;5;34m0\u001b[0m (0.00 B)\n"
            ],
            "text/html": [
              "<pre style=\"white-space:pre;overflow-x:auto;line-height:normal;font-family:Menlo,'DejaVu Sans Mono',consolas,'Courier New',monospace\"><span style=\"font-weight: bold\"> Non-trainable params: </span><span style=\"color: #00af00; text-decoration-color: #00af00\">0</span> (0.00 B)\n",
              "</pre>\n"
            ]
          },
          "metadata": {}
        }
      ],
      "source": [
        "model=Sequential()\n",
        "model.add(Input(shape=(max_length,)))\n",
        "model.add(Embedding(input_dim=len(tokenizer.word_index)+1,output_dim=512,input_length=max_length))\n",
        "model.add(Bidirectional(SimpleRNN(128,return_sequences=True)))\n",
        "model.add(Bidirectional(SimpleRNN(64)))\n",
        "model.add(Dense(64,activation='relu'))\n",
        "model.add(Dropout(0.5))\n",
        "model.add(Dense(1,activation='sigmoid'))\n",
        "model.summary()"
      ]
    },
    {
      "cell_type": "markdown",
      "metadata": {
        "id": "57DXwqqQTloy"
      },
      "source": [
        "# Defining Batch Size, Creating Datasets, and Training the Model"
      ]
    },
    {
      "cell_type": "code",
      "execution_count": 31,
      "metadata": {
        "id": "o6unhJgFfQbM"
      },
      "outputs": [],
      "source": [
        "model.compile(optimizer='adam', loss='binary_crossentropy', metrics=['accuracy'])"
      ]
    },
    {
      "cell_type": "markdown",
      "metadata": {
        "id": "LEOvs_dETmQp"
      },
      "source": [
        "In this step, you will define the batch size, create TensorFlow Datasets for both training and testing, and train the model. The key elements to consider are outlined below, and it is up to you to choose the specific configurations based on your preferences and experimentation:\n",
        "\n",
        "1. **Batch Size**:\n",
        "   Select a batch size for training and testing. The batch size determines how many samples will be processed together in one forward and backward pass during training.\n",
        "\n",
        "2. **Creating Datasets**:\n",
        "   Use TensorFlow’s `Dataset.from_tensor_slices()` to create datasets from the training and testing data.\n",
        "\n",
        "3. **Batching the Datasets**:\n",
        "   Batch the datasets by grouping the data into batches of the specified size.\n",
        "\n",
        "4. **Training the Model**:\n",
        "   Train the model by fitting it on the training dataset for a specified number of epochs. You will also need to provide the validation data to monitor the model’s performance on unseen data during training.\n",
        "\n",
        "5. **Tracking Training History**:\n",
        "   During training, the model’s performance metrics (such as loss and accuracy) will be tracked over the epochs, and the results will be stored in the `history` object."
      ]
    },
    {
      "cell_type": "code",
      "source": [
        "batch_size = 64"
      ],
      "metadata": {
        "id": "Mbg2S0dOXFJ2"
      },
      "execution_count": 32,
      "outputs": []
    },
    {
      "cell_type": "code",
      "source": [
        "train_dataset = tensorflow.data.Dataset.from_tensor_slices((X_train, y_train))\n",
        "test_dataset = tensorflow.data.Dataset.from_tensor_slices((X_test, y_test))"
      ],
      "metadata": {
        "id": "2eAQbxMdo089"
      },
      "execution_count": 33,
      "outputs": []
    },
    {
      "cell_type": "code",
      "source": [
        "train_dataset = train_dataset.batch(batch_size)\n",
        "test_dataset = test_dataset.batch(batch_size)"
      ],
      "metadata": {
        "id": "HcxJ61WjoxX-"
      },
      "execution_count": 34,
      "outputs": []
    },
    {
      "cell_type": "code",
      "source": [
        "#history\n",
        "history = model.fit(train_dataset, epochs=5, validation_data=test_dataset)"
      ],
      "metadata": {
        "id": "Js7UaQ-PouWD",
        "colab": {
          "base_uri": "https://localhost:8080/"
        },
        "outputId": "9ddb8f47-ac39-439a-cbcb-a1c3fdf1b88b"
      },
      "execution_count": 35,
      "outputs": [
        {
          "output_type": "stream",
          "name": "stdout",
          "text": [
            "Epoch 1/5\n",
            "\u001b[1m472/472\u001b[0m \u001b[32m━━━━━━━━━━━━━━━━━━━━\u001b[0m\u001b[37m\u001b[0m \u001b[1m148s\u001b[0m 298ms/step - accuracy: 0.1550 - loss: -491.1127 - val_accuracy: 0.1522 - val_loss: -4152.3730\n",
            "Epoch 2/5\n",
            "\u001b[1m472/472\u001b[0m \u001b[32m━━━━━━━━━━━━━━━━━━━━\u001b[0m\u001b[37m\u001b[0m \u001b[1m136s\u001b[0m 287ms/step - accuracy: 0.1550 - loss: -6909.9780 - val_accuracy: 0.1522 - val_loss: -17052.0020\n",
            "Epoch 3/5\n",
            "\u001b[1m472/472\u001b[0m \u001b[32m━━━━━━━━━━━━━━━━━━━━\u001b[0m\u001b[37m\u001b[0m \u001b[1m141s\u001b[0m 285ms/step - accuracy: 0.1550 - loss: -21840.4355 - val_accuracy: 0.1522 - val_loss: -37076.3281\n",
            "Epoch 4/5\n",
            "\u001b[1m472/472\u001b[0m \u001b[32m━━━━━━━━━━━━━━━━━━━━\u001b[0m\u001b[37m\u001b[0m \u001b[1m144s\u001b[0m 305ms/step - accuracy: 0.1550 - loss: -43527.1914 - val_accuracy: 0.1522 - val_loss: -64053.3789\n",
            "Epoch 5/5\n",
            "\u001b[1m472/472\u001b[0m \u001b[32m━━━━━━━━━━━━━━━━━━━━\u001b[0m\u001b[37m\u001b[0m \u001b[1m192s\u001b[0m 283ms/step - accuracy: 0.1550 - loss: -72941.6953 - val_accuracy: 0.1522 - val_loss: -97854.1641\n"
          ]
        }
      ]
    },
    {
      "cell_type": "markdown",
      "metadata": {
        "id": "XmoJfr3nfP-n"
      },
      "source": [
        "# Model Evaluation"
      ]
    },
    {
      "cell_type": "markdown",
      "metadata": {
        "id": "2Gb8G9XiT-ec"
      },
      "source": [
        "Once the model is trained, the next step is to evaluate its performance on the testing dataset.\n",
        "\n",
        "1. **Evaluate the Model**:\n",
        "   You will use the `evaluate()` method to assess the model’s performance on the test dataset.\n",
        "\n",
        "2. **Testing Dataset**:\n",
        "   Ensure that the testing dataset is properly prepared and batched, just like the training dataset.\n",
        "\n",
        "4. **Loss Curve**:\n",
        "   A loss curve plots the loss values for both the training and validation datasets over the epochs."
      ]
    },
    {
      "cell_type": "code",
      "execution_count": 36,
      "metadata": {
        "id": "SdECXvQGUQae",
        "colab": {
          "base_uri": "https://localhost:8080/",
          "height": 877
        },
        "outputId": "0116e6bb-2fd6-451e-c537-d3d75d0620ef"
      },
      "outputs": [
        {
          "output_type": "stream",
          "name": "stdout",
          "text": [
            "\u001b[1m118/118\u001b[0m \u001b[32m━━━━━━━━━━━━━━━━━━━━\u001b[0m\u001b[37m\u001b[0m \u001b[1m12s\u001b[0m 103ms/step - accuracy: 0.1503 - loss: -99453.5078\n",
            "Test Loss: -97854.1640625, Test Accuracy: 0.15218542516231537\n"
          ]
        },
        {
          "output_type": "display_data",
          "data": {
            "text/plain": [
              "<Figure size 640x480 with 1 Axes>"
            ],
            "image/png": "[encoded data removed]"
          },
          "metadata": {}
        },
        {
          "output_type": "display_data",
          "data": {
            "text/plain": [
              "<Figure size 640x480 with 1 Axes>"
            ],
            "image/png": "[encoded data removed]"
          },
          "metadata": {}
        }
      ],
      "source": [
        "import matplotlib.pyplot as plt\n",
        "\n",
        "#Evaluate the Model:\n",
        "loss, accuracy = model.evaluate(test_dataset)\n",
        "print(f\"Test Loss: {loss}, Test Accuracy: {accuracy}\")\n",
        "\n",
        "#plot the evaluation\n",
        "plt.plot(history.history['loss'], label='Train Loss')\n",
        "plt.plot(history.history['val_loss'], label='Test Loss')\n",
        "plt.legend(loc='upper right')\n",
        "plt.show()\n",
        "\n",
        "plt.plot(history.history['accuracy'], label='Train Acc')\n",
        "plt.plot(history.history['val_accuracy'], label='Test Acc')\n",
        "plt.legend(loc='upper right')\n",
        "plt.show()"
      ]
    },
    {
      "cell_type": "markdown",
      "metadata": {
        "id": "ifx5RFxnUQqc"
      },
      "source": [
        "# Model Inference"
      ]
    },
    {
      "cell_type": "markdown",
      "metadata": {
        "id": "sVh0WCBoUSlP"
      },
      "source": [
        "In this step, you will use the trained model to make predictions on new, unseen data (inference). Here’s an outline of the key points:\n",
        "\n",
        "1. **Create Test Sample**:\n",
        "   Create a string to test your modelm the goal here is to give the model Before making predictions, ensure that the new data is preprocessed in the same way as the training data. This includes tokenization, padding, and any other transformations you applied during the data preprocessing step. The data can be single text to see the result of the prediction.\n",
        "\n",
        "2. **Model Prediction**:\n",
        "   Use the `predict()` method to feed new samples into the trained model and obtain predictions. The model will output probabilities or predicted class labels based on the type of classification task (binary or multi-class).\n",
        "\n",
        "3. **Interpreting Predictions**:\n",
        "   The model will return probabilities for each class."
      ]
    },
    {
      "cell_type": "code",
      "execution_count": 37,
      "metadata": {
        "id": "2XiahrhffR0J",
        "colab": {
          "base_uri": "https://localhost:8080/"
        },
        "outputId": "f336851b-404f-4d62-d737-6e5753d2bce3"
      },
      "outputs": [
        {
          "output_type": "stream",
          "name": "stdout",
          "text": [
            "\u001b[1m1/1\u001b[0m \u001b[32m━━━━━━━━━━━━━━━━━━━━\u001b[0m\u001b[37m\u001b[0m \u001b[1m1s\u001b[0m 800ms/step\n",
            "Predicted Label: ['Culture']\n"
          ]
        }
      ],
      "source": [
        "#Prepare New Data:\n",
        "sample_text = [\"الازدحام في الرياض غير طبيعي\"]\n",
        "sample_sequences = tokenizer.texts_to_sequences(sample_text)\n",
        "sample_padded_sequences = pad_sequences(sample_sequences, maxlen=max_length, padding='post')\n",
        "\n",
        "#Model Prediction:\n",
        "predictions = model.predict(sample_padded_sequences)\n",
        "\n",
        "#Interpreting Predictions:\n",
        "pred = label_encoder.inverse_transform([predictions.argmax()])\n",
        "print(f\"Predicted Label: {pred}\")"
      ]
    },
    {
      "cell_type": "markdown",
      "metadata": {
        "id": "fHbgQVrt43DQ"
      },
      "source": [
        "# Notebook Question:\n",
        "- How did you handle text preprocessing? Why did you choose this approach?\n",
        "\n",
        "- Why did you choose this model design?\n",
        "\n",
        "- Why did you pick this number of layers or units for the model?\n",
        "\n",
        "- Why did you select these evaluation methods?\n",
        "\n",
        "- Does your model show signs of overfitting or underfitting? How do you know?\n",
        "\n",
        "- What changes could you make to improve the model and fix overfitting or underfitting?"
      ]
    },
    {
      "cell_type": "markdown",
      "metadata": {
        "id": "x7vOe0JZ43DQ"
      },
      "source": [
        "Answer Here:"
      ]
    }
  ],
  "metadata": {
    "accelerator": "GPU",
    "colab": {
      "gpuType": "T4",
      "provenance": [],
      "toc_visible": true
    },
    "kernelspec": {
      "display_name": "Python 3",
      "name": "python3"
    },
    "language_info": {
      "name": "python"
    }
  },
  "nbformat": 4,
  "nbformat_minor": 0
}